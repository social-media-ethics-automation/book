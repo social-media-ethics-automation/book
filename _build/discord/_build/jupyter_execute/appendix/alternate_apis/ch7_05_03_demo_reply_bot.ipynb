{
 "cells": [
  {
   "cell_type": "markdown",
   "id": "67655e14-ea22-4ff1-9b83-2735028b6dd8",
   "metadata": {},
   "source": [
    "# Demo: Trolling a Reply Bot\n",
    "\n",
    "We are later going to build a bot that, if you tweet at it: \n",
    "- \"Hi @mybotname, please ___\" (where the ___ is some action)\n",
    "- then the bot will reply, \"I will now ____\" (where the ___ is that same action).\n",
    "\n",
    "Then we will try trolling it, and fixing it, and trolling it again.\n",
    "\n",
    "First though we need to do our tweepy setup:\n",
    "## Tweepy set-up"
   ]
  },
  {
   "cell_type": "code",
   "execution_count": 1,
   "id": "ed4d794b-94dc-48bc-bd59-557d2251a135",
   "metadata": {
    "tags": []
   },
   "outputs": [],
   "source": [
    "import tweepy"
   ]
  },
  {
   "cell_type": "markdown",
   "id": "fe7ff131-e8a4-4423-ab35-0c3818c6abd7",
   "metadata": {},
   "source": [
    "(optional) make a fake twitter connection with the fake_tweepy library\n",
    "\n",
    "For testing purposes, we’ve added this line of code, which loads a fake version of tweepy, so it wont actually connect to twitter. If you want to try to actually connect to twitter, don’t run this line of code."
   ]
  },
  {
   "cell_type": "code",
   "execution_count": 2,
   "id": "1cc9e058-bd45-44e4-a93e-4daa302e45bc",
   "metadata": {},
   "outputs": [
    {
     "data": {
      "text/html": [
       "<strong style='color:darkred'>Fake tweepy is replacing the tweepy library. Fake Tweepy doesn&#x27;t need real passwords, and prevents you from accessing real twitter</strong>"
      ],
      "text/plain": [
       "<IPython.core.display.HTML object>"
      ]
     },
     "metadata": {},
     "output_type": "display_data"
    }
   ],
   "source": [
    "%run ../../fake_tweepy/fake_tweepy.ipynb"
   ]
  },
  {
   "cell_type": "code",
   "execution_count": 3,
   "id": "92e97170-80c2-42b7-b661-2eb909b71f14",
   "metadata": {},
   "outputs": [],
   "source": [
    "# Load all your developer access passwords into Python\n",
    "# TODO: Put your twitter account's special developer access passwords below:\n",
    "bearer_token = \"n4tossfgsafs_fake_bearer_token_isa53#$%$\"\n",
    "consumer_key = \"sa@#4@fdfdsa_fake_consumer_key_$%DSG#%DG\"\n",
    "consumer_secret = \"45adf$T$A_fake_consumer_secret_JESdsg\"\n",
    "access_token = \"56sd5Ss4tsea_fake_access_token_%YE%hDsdr\"\n",
    "access_token_secret = \"j^$dr_fake_consumer_key_^A5s#DR5s\""
   ]
  },
  {
   "cell_type": "code",
   "execution_count": 4,
   "id": "a4670d0f-d404-49ae-ad88-5234a60254ff",
   "metadata": {},
   "outputs": [
    {
     "data": {
      "text/html": [
       "<strong style='color:darkred'>Fake Tweepy is pretending to log in to twitter</strong>"
      ],
      "text/plain": [
       "<IPython.core.display.HTML object>"
      ]
     },
     "metadata": {},
     "output_type": "display_data"
    }
   ],
   "source": [
    "# Give the tweepy code your developer access passwords so\n",
    "# it can perform twitter actions\n",
    "client = tweepy.Client(\n",
    "   bearer_token=bearer_token,\n",
    "   consumer_key=consumer_key, consumer_secret=consumer_secret,\n",
    "   access_token=access_token, access_token_secret=access_token_secret\n",
    ")"
   ]
  },
  {
   "cell_type": "markdown",
   "id": "f409cd56-bc92-45d3-9b4c-bb21990c5e9f",
   "metadata": {},
   "source": [
    "## Finding my twitter bot name\n",
    "We are going to be looking for people tweeting at us \"Hi @mybotname, please ___\", except we will need to get our actual twitter handle instead of \"@mybotname\". We'll need our twitter id number as well to find tweets that mention us.\n",
    "\n",
    "We do this by asking twitter for our user info, then getting the id and username from it:"
   ]
  },
  {
   "cell_type": "code",
   "execution_count": 5,
   "id": "1ecda86c-9491-46d2-9353-26908a61b073",
   "metadata": {},
   "outputs": [
    {
     "data": {
      "text/plain": [
       "'my user id number is: 123456789'"
      ]
     },
     "metadata": {},
     "output_type": "display_data"
    },
    {
     "data": {
      "text/plain": [
       "'my username is: fake_user'"
      ]
     },
     "metadata": {},
     "output_type": "display_data"
    }
   ],
   "source": [
    "# Ask twitter for my user info\n",
    "my_user_info = client.get_user(id=\"me\", user_auth=True)\n",
    "\n",
    "# Get my id number and username from the user info\n",
    "my_id = my_user_info.data.id\n",
    "my_username = my_user_info.data.username\n",
    "\n",
    "display(\"my user id number is: \" + str(my_id))\n",
    "display(\"my username is: \" + my_username)"
   ]
  },
  {
   "cell_type": "markdown",
   "id": "0198af1c-b595-486a-aedc-755ab20b680a",
   "metadata": {},
   "source": [
    "## Bot 1: do whatever we are told\n",
    "our first bot will find our latest mention, and then do whatever it is told"
   ]
  },
  {
   "cell_type": "markdown",
   "id": "a4d463f2-c04f-4ae4-975e-662ec38cfe3a",
   "metadata": {
    "tags": []
   },
   "source": [
    "### find my latest mention\n",
    "Next we need to find the latest tweet that mentioned us. \n",
    "\n",
    "We do this by asking twitter for tweets that mention our user id, then pulling the first thing out of the list (index 0).\n",
    "\n",
    "Then we get the tweet id and the text of the tweet.\n",
    "\n",
    "_Note: This code will crash, showing error messages if there are no recent tweets mentioning us_"
   ]
  },
  {
   "cell_type": "code",
   "execution_count": 6,
   "id": "3c3ff0f8-d311-4362-bd4e-7dd4e307c624",
   "metadata": {},
   "outputs": [
    {
     "data": {
      "text/plain": [
       "'the latest mention of us is tweet id: 232434'"
      ]
     },
     "metadata": {},
     "output_type": "display_data"
    },
    {
     "data": {
      "text/plain": [
       "'the text of latest mention of us is: Hi @fake_user, please jump'"
      ]
     },
     "metadata": {},
     "output_type": "display_data"
    }
   ],
   "source": [
    "# Ask twitter for tweets that mention my id\n",
    "my_mentions = client.get_users_mentions(id=my_id)\n",
    "\n",
    "# Get the first tweet from the list (latest tweet)\n",
    "latest_mention = my_mentions.data[0]\n",
    "\n",
    "latest_mention_id = latest_mention.id\n",
    "latest_mention_text = latest_mention.text\n",
    "\n",
    "display(\"the latest mention of us is tweet id: \" + str(latest_mention_id))\n",
    "display(\"the text of latest mention of us is: \" + latest_mention_text)"
   ]
  },
  {
   "cell_type": "markdown",
   "id": "98c79380-fdd8-476f-98e4-53142f950443",
   "metadata": {},
   "source": [
    "### If tweet matches our pattern, reply\n",
    "\n",
    "We will now see if our tweet matches our pattern of \"Hi @mybotname, please ___\" and then we will reply.\n",
    "\n",
    "First we will create a string with the correct pattern, but with our actual bot name"
   ]
  },
  {
   "cell_type": "code",
   "execution_count": 7,
   "id": "3be9514a-0fb2-4edd-b759-da362f078913",
   "metadata": {},
   "outputs": [],
   "source": [
    "expected_pattern = \"Hi @\" + my_username + \", please \""
   ]
  },
  {
   "cell_type": "markdown",
   "id": "b1f0bdfd-37af-4556-b983-c8bdb1c1cdcd",
   "metadata": {},
   "source": [
    "Now, if the mention text starts with that expected pattern, then we will find the action from the end of the mention text (based on the expected_pattern length), and reply using that action:"
   ]
  },
  {
   "cell_type": "code",
   "execution_count": 8,
   "id": "7be517a7-c73e-4d7e-b0a5-5ebd6a5c4d71",
   "metadata": {},
   "outputs": [
    {
     "data": {
      "text/html": [
       "<strong style='color:darkred'>Fake Tweepy is pretending to post this tweet (note: real tweepy shows no output here when a tweet is posted): </strong>"
      ],
      "text/plain": [
       "<IPython.core.display.HTML object>"
      ]
     },
     "metadata": {},
     "output_type": "display_data"
    },
    {
     "name": "stdout",
     "output_type": "stream",
     "text": [
      "I will now jump\n",
      "Tweet in reply to: 232434\n"
     ]
    }
   ],
   "source": [
    "# check if the mention text starts with our set phrase\n",
    "if latest_mention_text.startswith(expected_pattern):\n",
    "    # get the action, which should be the end of the string after the expected pattern\n",
    "    action = latest_mention_text[len(expected_pattern) :]\n",
    "    \n",
    "    # make a new tweet message which says we will do the action\n",
    "    message = \"I will now \" + action\n",
    "    \n",
    "    # tweet our message in reply to the mention tweet\n",
    "    client.create_tweet(\n",
    "        text=message, \n",
    "        in_reply_to_tweet_id=latest_mention_id\n",
    "    )"
   ]
  },
  {
   "cell_type": "markdown",
   "id": "9780cad7-78d5-4fbd-8332-f1841165484b",
   "metadata": {},
   "source": [
    "Yay! It worked! But there is a problem!"
   ]
  },
  {
   "cell_type": "markdown",
   "id": "c290af8d-bcbc-4d0b-a29b-f2c01ad91961",
   "metadata": {},
   "source": [
    "## Trolling bot 1\n",
    "This bot is really easy to troll, so if I repeat my steps and get a new mention:"
   ]
  },
  {
   "cell_type": "code",
   "execution_count": 9,
   "id": "87bdc703-5377-4188-b2b8-aae5bb0c170b",
   "metadata": {},
   "outputs": [
    {
     "data": {
      "text/plain": [
       "'the latest mention of us is tweet id: 234356'"
      ]
     },
     "metadata": {},
     "output_type": "display_data"
    },
    {
     "data": {
      "text/plain": [
       "'the thext of latest mention of us is: Hi @fake_user, please do something horrible!'"
      ]
     },
     "metadata": {},
     "output_type": "display_data"
    },
    {
     "data": {
      "text/html": [
       "<strong style='color:darkred'>Fake Tweepy is pretending to post this tweet (note: real tweepy shows no output here when a tweet is posted): </strong>"
      ],
      "text/plain": [
       "<IPython.core.display.HTML object>"
      ]
     },
     "metadata": {},
     "output_type": "display_data"
    },
    {
     "name": "stdout",
     "output_type": "stream",
     "text": [
      "I will now do something horrible!\n",
      "Tweet in reply to: 234356\n"
     ]
    }
   ],
   "source": [
    "# Ask twitter for tweets that mention my id\n",
    "my_mentions = client.get_users_mentions(id=my_id)\n",
    "\n",
    "# Get the first tweet from the list (latest tweet)\n",
    "latest_mention = my_mentions.data[0]\n",
    "\n",
    "latest_mention_id = latest_mention.id\n",
    "latest_mention_text = latest_mention.text\n",
    "\n",
    "display(\"the latest mention of us is tweet id: \" + str(latest_mention_id))\n",
    "display(\"the thext of latest mention of us is: \" + latest_mention_text)\n",
    "\n",
    "expected_pattern = \"Hi @\" + my_username + \", please \"\n",
    "\n",
    "# check if the mention text starts with our set phrase\n",
    "if latest_mention_text.startswith(expected_pattern):\n",
    "    # get the action, which should be the end of the string after the expected pattern\n",
    "    action = latest_mention_text[len(expected_pattern) :]\n",
    "    \n",
    "    # make a new tweet message which says we will do the action\n",
    "    message = \"I will now \" + action\n",
    "    \n",
    "    # tweet our message in reply to the mention tweet\n",
    "    client.create_tweet(\n",
    "        text=message, \n",
    "        in_reply_to_tweet_id=latest_mention_id\n",
    "    )"
   ]
  },
  {
   "cell_type": "markdown",
   "id": "0c9d4a4b-146e-49bf-bf52-0f9824d2623f",
   "metadata": {},
   "source": [
    "Someone tweeted at us: `Hi @fake_user, please do something horrible!`, and we replied `I will now do something horrible!`. \n",
    "\n",
    "They could have made us tweet much worse!"
   ]
  },
  {
   "cell_type": "markdown",
   "id": "c015a29f-d259-41c1-a83b-b82574f1a5fb",
   "metadata": {},
   "source": [
    "## Bot 2: Trying to limit actions\n",
    "Let's try this again, but limit the actions we will do.\n",
    "- If someone asks us to \"run\", \"jump\", or \"fly\", we will do it\n",
    "- If someone asks us to do something else we will say:\n",
    "  - \"I do not recognize the command ___\" (with __ being whatever they said)\n",
    "  \n",
    "So, to go back through our steps:\n",
    "### find my latest mention"
   ]
  },
  {
   "cell_type": "code",
   "execution_count": 10,
   "id": "b71aa672-1134-472b-8aae-3acf7ae4ae4e",
   "metadata": {},
   "outputs": [
    {
     "data": {
      "text/plain": [
       "'the latest mention of us is tweet id: 245454'"
      ]
     },
     "metadata": {},
     "output_type": "display_data"
    },
    {
     "data": {
      "text/plain": [
       "'the text of latest mention of us is: Hi @fake_user, please fly'"
      ]
     },
     "metadata": {},
     "output_type": "display_data"
    }
   ],
   "source": [
    "# Ask twitter for tweets that mention my id\n",
    "my_mentions = client.get_users_mentions(id=my_id)\n",
    "\n",
    "# Get the first tweet from the list (latest tweet)\n",
    "latest_mention = my_mentions.data[0]\n",
    "\n",
    "latest_mention_id = latest_mention.id\n",
    "latest_mention_text = latest_mention.text\n",
    "\n",
    "display(\"the latest mention of us is tweet id: \" + str(latest_mention_id))\n",
    "display(\"the text of latest mention of us is: \" + latest_mention_text)"
   ]
  },
  {
   "cell_type": "markdown",
   "id": "99499d3f-f70d-46b6-9ec6-14665ab699a6",
   "metadata": {},
   "source": [
    "### If tweet matches our pattern, reply\n",
    "We do the same code for this as before, but after we get the action, we have another `if`/`else` to tweet back our two options.\n",
    "\n",
    "We will use `in` to see if the action is in our list of allowed actions (called an allow_list)"
   ]
  },
  {
   "cell_type": "code",
   "execution_count": 11,
   "id": "2115a5e1-01d4-4f9f-8670-aa623c26df20",
   "metadata": {},
   "outputs": [
    {
     "data": {
      "text/html": [
       "<strong style='color:darkred'>Fake Tweepy is pretending to post this tweet (note: real tweepy shows no output here when a tweet is posted): </strong>"
      ],
      "text/plain": [
       "<IPython.core.display.HTML object>"
      ]
     },
     "metadata": {},
     "output_type": "display_data"
    },
    {
     "name": "stdout",
     "output_type": "stream",
     "text": [
      "I will now fly\n",
      "Tweet in reply to: 245454\n"
     ]
    }
   ],
   "source": [
    "expected_pattern = \"Hi @\" + my_username + \", please \"\n",
    "\n",
    "actions_allow_list = [\"run\", \"jump\", \"fly\"]\n",
    "\n",
    "# check if the mention text starts with our set phrase\n",
    "if latest_mention_text.startswith(expected_pattern):\n",
    "    # get the action, which should be the end of the string after the expected pattern\n",
    "    action = latest_mention_text[len(expected_pattern) :]\n",
    "    \n",
    "    # See if it is one of our recognized actions\n",
    "    if(action in actions_allow_list):\n",
    "        # make a new tweet message which says we will do the action\n",
    "        message = \"I will now \" + action\n",
    "\n",
    "        # tweet our message in reply to the mention tweet\n",
    "        client.create_tweet(\n",
    "            text=message, \n",
    "            in_reply_to_tweet_id=latest_mention_id\n",
    "        )\n",
    "    else: # we didn't recognize the action\n",
    "        # make a new tweet message which says we will do the action\n",
    "        message = \"I do not recognize the command \" + action\n",
    "\n",
    "        # tweet our message in reply to the mention tweet\n",
    "        client.create_tweet(\n",
    "            text=message, \n",
    "            in_reply_to_tweet_id=latest_mention_id\n",
    "        )\n",
    "        "
   ]
  },
  {
   "cell_type": "markdown",
   "id": "ed81d85f-8ae2-474d-b48e-5c187b1be78b",
   "metadata": {},
   "source": [
    "That one was in our allow list so it worked. Let's do it all again, with the tweet that caused us problems last time\n",
    "\n",
    "_Note: the code below is just copied from the code sections above_"
   ]
  },
  {
   "cell_type": "code",
   "execution_count": 12,
   "id": "324b0d40-7407-49bd-a951-12c0101742c0",
   "metadata": {},
   "outputs": [
    {
     "data": {
      "text/plain": [
       "'the latest mention of us is tweet id: 245454'"
      ]
     },
     "metadata": {},
     "output_type": "display_data"
    },
    {
     "data": {
      "text/plain": [
       "'the text of latest mention of us is: Hi @fake_user, please do something horrible!'"
      ]
     },
     "metadata": {},
     "output_type": "display_data"
    },
    {
     "data": {
      "text/html": [
       "<strong style='color:darkred'>Fake Tweepy is pretending to post this tweet (note: real tweepy shows no output here when a tweet is posted): </strong>"
      ],
      "text/plain": [
       "<IPython.core.display.HTML object>"
      ]
     },
     "metadata": {},
     "output_type": "display_data"
    },
    {
     "name": "stdout",
     "output_type": "stream",
     "text": [
      "I do not recognize the command do something horrible!\n",
      "Tweet in reply to: 245454\n"
     ]
    }
   ],
   "source": [
    "# Ask twitter for tweets that mention my id\n",
    "my_mentions = client.get_users_mentions(id=my_id)\n",
    "\n",
    "# Get the first tweet from the list (latest tweet)\n",
    "latest_mention = my_mentions.data[0]\n",
    "\n",
    "latest_mention_id = latest_mention.id\n",
    "latest_mention_text = latest_mention.text\n",
    "\n",
    "display(\"the latest mention of us is tweet id: \" + str(latest_mention_id))\n",
    "display(\"the text of latest mention of us is: \" + latest_mention_text)\n",
    "\n",
    "expected_pattern = \"Hi @\" + my_username + \", please \"\n",
    "\n",
    "actions_allow_list = [\"run\", \"jump\", \"fly\"]\n",
    "\n",
    "# check if the mention text starts with our set phrase\n",
    "if latest_mention_text.startswith(expected_pattern):\n",
    "    # get the action, which should be the end of the string after the expected pattern\n",
    "    action = latest_mention_text[len(expected_pattern) :]\n",
    "    \n",
    "    # See if it is one of our recognized actions\n",
    "    if(action in actions_allow_list):\n",
    "        # make a new tweet message which says we will do the action\n",
    "        message = \"I will now \" + action\n",
    "\n",
    "        # tweet our message in reply to the mention tweet\n",
    "        client.create_tweet(\n",
    "            text=message, \n",
    "            in_reply_to_tweet_id=latest_mention_id\n",
    "        )\n",
    "    else: # we didn't recognize the action\n",
    "        # make a new tweet message which says we will do the action\n",
    "        message = \"I do not recognize the command \" + action\n",
    "\n",
    "        # tweet our message in reply to the mention tweet\n",
    "        client.create_tweet(\n",
    "            text=message, \n",
    "            in_reply_to_tweet_id=latest_mention_id\n",
    "        )"
   ]
  },
  {
   "cell_type": "markdown",
   "id": "afc64a17-31df-4d18-b56c-407fb2a5bfef",
   "metadata": {},
   "source": [
    "Ok, this time we said `I do not recognize the command do something horrible!`. \n",
    "\n",
    "That looks a little better! Are we safe now?"
   ]
  },
  {
   "cell_type": "markdown",
   "id": "3d46cfe7-52c7-4394-87d3-90aa97af1a17",
   "metadata": {},
   "source": [
    "## Trolling bot 2\n",
    "No, it turns out we are not safe.\n",
    "\n",
    "Let's find the latest mention again and see what happens"
   ]
  },
  {
   "cell_type": "code",
   "execution_count": 13,
   "id": "86eb891b-dd4f-40e0-985d-bf9cd6594c42",
   "metadata": {},
   "outputs": [
    {
     "data": {
      "text/plain": [
       "'the latest mention of us is tweet id: 245454'"
      ]
     },
     "metadata": {},
     "output_type": "display_data"
    },
    {
     "data": {
      "text/plain": [
       "\"the text of latest mention of us is: Hi @fake_user, please stop talking. But that doesn't mean I won't say horrible things like: I hate everybody!\""
      ]
     },
     "metadata": {},
     "output_type": "display_data"
    },
    {
     "data": {
      "text/html": [
       "<strong style='color:darkred'>Fake Tweepy is pretending to post this tweet (note: real tweepy shows no output here when a tweet is posted): </strong>"
      ],
      "text/plain": [
       "<IPython.core.display.HTML object>"
      ]
     },
     "metadata": {},
     "output_type": "display_data"
    },
    {
     "name": "stdout",
     "output_type": "stream",
     "text": [
      "I do not recognize the command stop talking. But that doesn't mean I won't say horrible things like: I hate everybody!\n",
      "Tweet in reply to: 245454\n"
     ]
    }
   ],
   "source": [
    "# Ask twitter for tweets that mention my id\n",
    "my_mentions = client.get_users_mentions(id=my_id)\n",
    "\n",
    "# Get the first tweet from the list (latest tweet)\n",
    "latest_mention = my_mentions.data[0]\n",
    "\n",
    "latest_mention_id = latest_mention.id\n",
    "latest_mention_text = latest_mention.text\n",
    "\n",
    "display(\"the latest mention of us is tweet id: \" + str(latest_mention_id))\n",
    "display(\"the text of latest mention of us is: \" + latest_mention_text)\n",
    "\n",
    "expected_pattern = \"Hi @\" + my_username + \", please \"\n",
    "\n",
    "actions_allow_list = [\"run\", \"jump\", \"fly\"]\n",
    "\n",
    "# check if the mention text starts with our set phrase\n",
    "if latest_mention_text.startswith(expected_pattern):\n",
    "    # get the action, which should be the end of the string after the expected pattern\n",
    "    action = latest_mention_text[len(expected_pattern) :]\n",
    "    \n",
    "    # See if it is one of our recognized actions\n",
    "    if(action in actions_allow_list):\n",
    "        # make a new tweet message which says we will do the action\n",
    "        message = \"I will now \" + action\n",
    "\n",
    "        # tweet our message in reply to the mention tweet\n",
    "        client.create_tweet(\n",
    "            text=message, \n",
    "            in_reply_to_tweet_id=latest_mention_id\n",
    "        )\n",
    "    else: # we didn't recognize the action\n",
    "        # make a new tweet message which says we will do the action\n",
    "        message = \"I do not recognize the command \" + action\n",
    "\n",
    "        # tweet our message in reply to the mention tweet\n",
    "        client.create_tweet(\n",
    "            text=message, \n",
    "            in_reply_to_tweet_id=latest_mention_id\n",
    "        )"
   ]
  },
  {
   "cell_type": "markdown",
   "id": "67cefd22-c2fa-456e-b4ac-7be335ce9920",
   "metadata": {},
   "source": [
    "Oh no! Someone tweeted at us:\n",
    "- `Hi @fake_user, please stop talking. But that doesn't mean I won't say horrible things like: I hate everybody!`\n",
    "\n",
    "And we replied:\n",
    "- `I do not recognize the command stop talking. But that doesn't mean I won't say horrible things like: I hate everybody!`\n",
    "\n",
    "Making a bot that is troll proof is very difficult! You either need to severely limit how your bot engages with people, or do a ton of work trying to prevent trolling and fix problems when people find a new way of trolling you.\n",
    "\n",
    "If you want to learn more, you can revisit the story of what went wrong with the Microsoft Tay bot: [How to Make a Bot That Isn't Racist](https://www.vice.com/en_us/article/mg7g3y/how-to-make-a-not-racist-bot)"
   ]
  }
 ],
 "metadata": {
  "kernelspec": {
   "display_name": "Python 3 (ipykernel)",
   "language": "python",
   "name": "python3"
  },
  "language_info": {
   "codemirror_mode": {
    "name": "ipython",
    "version": 3
   },
   "file_extension": ".py",
   "mimetype": "text/x-python",
   "name": "python",
   "nbconvert_exporter": "python",
   "pygments_lexer": "ipython3",
   "version": "3.10.4"
  }
 },
 "nbformat": 4,
 "nbformat_minor": 5
}