{
 "cells": [
  {
   "cell_type": "markdown",
   "id": "8e8b04f7-3262-427e-b125-ec9e4284d0d9",
   "metadata": {
    "tags": []
   },
   "source": [
    "# Demo: Try Running the Discord Bot!"
   ]
  },
  {
   "cell_type": "markdown",
   "id": "144e173b-2a04-44b4-a45d-7b335e40f918",
   "metadata": {},
   "source": [
    "## Running this Jupyter Notebook\n",
    "This page is called a \"Jupyter Notebook\" which it is a text page that has runnable Python code in it.\n",
    "\n",
    "In order to run the code, you can look for the rocket button at the top which will give you an option to \"launch binder\"\n",
    "\n",
    "![screenshot of this page in the online textbook, with the launch binder link highlighted under the rocket button at the top.](binder_link.png)\n",
    "\n",
    "If you launch binder, it will take a while to load, but eventually show you a version of this page Jupyter Notebook in a code editor called Jupyter Lab\n",
    "\n",
    "![a screenshot of this page viewed in jupyter_lab, with menus and options above the editable page](jupyter_lab.png)\n",
    "\n",
    "In Jupyter Lab you can double click any section to edit it, and you can press the triangle \"run\" button to run the code (or display the text).\n",
    "\n",
    "![a screenshot of this page viewed in jupyter_lab,with the triangle \"run\" button circled. Next to it are a square \"interrupt the kernal\" button and other options](jupyter_run_code.png)\n",
    "\n",
    "When the code runs, the little number to the left of the code block should change. There might also be some output from your action displyed below the code block.\n",
    "\n",
    "So now you can go through the rest of this page and select and run each section of code.\n"
   ]
  },
  {
   "cell_type": "markdown",
   "id": "13f89d63-a8e7-48e2-b744-ecfdf8bdad87",
   "metadata": {},
   "source": [
    "## Here is the bot code you can run!\n",
    "Our demo Discord bot code is below, broken up into different sections. \n",
    "\n",
    "You can select each section of the code below and run it to see what it does.\n",
    "\n",
    "By default this code uses a fake version of our Discord connection so it doesn't connect to a real Discord account.\n",
    "\n",
    "If you want to actually connect to your Discord account, you can put your discord token in the right code section below, and then when you run the code make sure to skip the code section that makes a fake discord connection with \"fake_discord\"."
   ]
  },
  {
   "cell_type": "markdown",
   "id": "71630ecc-59b1-421a-94b8-7c973e0a3c12",
   "metadata": {},
   "source": [
    "### Step 1: Load praw code"
   ]
  },
  {
   "cell_type": "code",
   "execution_count": 1,
   "id": "d93d5346-7256-48dd-9687-5919aabf6f74",
   "metadata": {},
   "outputs": [],
   "source": [
    "# Load some code called \"discord\" that will help us work with Discord\n",
    "import discord"
   ]
  },
  {
   "cell_type": "markdown",
   "id": "bc6fe80b-f477-481e-8b82-3981b8cf75a4",
   "metadata": {},
   "source": [
    "### (Optional) Step 1b: Make a fake praw connection with the fake_praw library\n",
    "For testing purposes, we've added this line of code, which loads a fake version of praw, so it wont actually connect to reddit. __If you want to try to actually connect to reddit, don't run this line of code.__"
   ]
  },
  {
   "cell_type": "code",
   "execution_count": 2,
   "id": "ec45f3fb-204c-4948-a822-1608972f54bb",
   "metadata": {},
   "outputs": [
    {
     "ename": "Exception",
     "evalue": "File `'../../fake_apis/fake_discord.ipynb.py'` not found.",
     "output_type": "error",
     "traceback": [
      "\u001b[1;31m---------------------------------------------------------------------------\u001b[0m",
      "\u001b[1;31mOSError\u001b[0m                                   Traceback (most recent call last)",
      "File \u001b[1;32mC:\\Python310\\lib\\site-packages\\IPython\\core\\magics\\execution.py:696\u001b[0m, in \u001b[0;36mExecutionMagics.run\u001b[1;34m(self, parameter_s, runner, file_finder)\u001b[0m\n\u001b[0;32m    695\u001b[0m     fpath \u001b[38;5;241m=\u001b[39m arg_lst[\u001b[38;5;241m0\u001b[39m]\n\u001b[1;32m--> 696\u001b[0m     filename \u001b[38;5;241m=\u001b[39m \u001b[43mfile_finder\u001b[49m\u001b[43m(\u001b[49m\u001b[43mfpath\u001b[49m\u001b[43m)\u001b[49m\n\u001b[0;32m    697\u001b[0m \u001b[38;5;28;01mexcept\u001b[39;00m \u001b[38;5;167;01mIndexError\u001b[39;00m \u001b[38;5;28;01mas\u001b[39;00m e:\n",
      "File \u001b[1;32mC:\\Python310\\lib\\site-packages\\IPython\\utils\\path.py:91\u001b[0m, in \u001b[0;36mget_py_filename\u001b[1;34m(name)\u001b[0m\n\u001b[0;32m     90\u001b[0m \u001b[38;5;28;01melse\u001b[39;00m:\n\u001b[1;32m---> 91\u001b[0m     \u001b[38;5;28;01mraise\u001b[39;00m \u001b[38;5;167;01mIOError\u001b[39;00m(\u001b[38;5;124m'\u001b[39m\u001b[38;5;124mFile `\u001b[39m\u001b[38;5;132;01m%r\u001b[39;00m\u001b[38;5;124m` not found.\u001b[39m\u001b[38;5;124m'\u001b[39m \u001b[38;5;241m%\u001b[39m name)\n",
      "\u001b[1;31mOSError\u001b[0m: File `'../../fake_apis/fake_discord.ipynb.py'` not found.",
      "\nThe above exception was the direct cause of the following exception:\n",
      "\u001b[1;31mException\u001b[0m                                 Traceback (most recent call last)",
      "Input \u001b[1;32mIn [2]\u001b[0m, in \u001b[0;36m<cell line: 1>\u001b[1;34m()\u001b[0m\n\u001b[1;32m----> 1\u001b[0m \u001b[43mget_ipython\u001b[49m\u001b[43m(\u001b[49m\u001b[43m)\u001b[49m\u001b[38;5;241;43m.\u001b[39;49m\u001b[43mrun_line_magic\u001b[49m\u001b[43m(\u001b[49m\u001b[38;5;124;43m'\u001b[39;49m\u001b[38;5;124;43mrun\u001b[39;49m\u001b[38;5;124;43m'\u001b[39;49m\u001b[43m,\u001b[49m\u001b[43m \u001b[49m\u001b[38;5;124;43m'\u001b[39;49m\u001b[38;5;124;43m../../fake_apis/fake_discord.ipynb\u001b[39;49m\u001b[38;5;124;43m'\u001b[39;49m\u001b[43m)\u001b[49m\n",
      "File \u001b[1;32mC:\\Python310\\lib\\site-packages\\IPython\\core\\interactiveshell.py:2305\u001b[0m, in \u001b[0;36mInteractiveShell.run_line_magic\u001b[1;34m(self, magic_name, line, _stack_depth)\u001b[0m\n\u001b[0;32m   2303\u001b[0m     kwargs[\u001b[38;5;124m'\u001b[39m\u001b[38;5;124mlocal_ns\u001b[39m\u001b[38;5;124m'\u001b[39m] \u001b[38;5;241m=\u001b[39m \u001b[38;5;28mself\u001b[39m\u001b[38;5;241m.\u001b[39mget_local_scope(stack_depth)\n\u001b[0;32m   2304\u001b[0m \u001b[38;5;28;01mwith\u001b[39;00m \u001b[38;5;28mself\u001b[39m\u001b[38;5;241m.\u001b[39mbuiltin_trap:\n\u001b[1;32m-> 2305\u001b[0m     result \u001b[38;5;241m=\u001b[39m fn(\u001b[38;5;241m*\u001b[39margs, \u001b[38;5;241m*\u001b[39m\u001b[38;5;241m*\u001b[39mkwargs)\n\u001b[0;32m   2306\u001b[0m \u001b[38;5;28;01mreturn\u001b[39;00m result\n",
      "File \u001b[1;32mC:\\Python310\\lib\\site-packages\\IPython\\core\\magics\\execution.py:707\u001b[0m, in \u001b[0;36mExecutionMagics.run\u001b[1;34m(self, parameter_s, runner, file_finder)\u001b[0m\n\u001b[0;32m    705\u001b[0m     \u001b[38;5;28;01mif\u001b[39;00m os\u001b[38;5;241m.\u001b[39mname \u001b[38;5;241m==\u001b[39m \u001b[38;5;124m'\u001b[39m\u001b[38;5;124mnt\u001b[39m\u001b[38;5;124m'\u001b[39m \u001b[38;5;129;01mand\u001b[39;00m re\u001b[38;5;241m.\u001b[39mmatch(\u001b[38;5;124mr\u001b[39m\u001b[38;5;124m\"\u001b[39m\u001b[38;5;124m^\u001b[39m\u001b[38;5;124m'\u001b[39m\u001b[38;5;124m.*\u001b[39m\u001b[38;5;124m'\u001b[39m\u001b[38;5;124m$\u001b[39m\u001b[38;5;124m\"\u001b[39m,fpath):\n\u001b[0;32m    706\u001b[0m         warn(\u001b[38;5;124m'\u001b[39m\u001b[38;5;124mFor Windows, use double quotes to wrap a filename: \u001b[39m\u001b[38;5;132;01m%r\u001b[39;00m\u001b[38;5;124mun \u001b[39m\u001b[38;5;124m\"\u001b[39m\u001b[38;5;124mmypath\u001b[39m\u001b[38;5;130;01m\\\\\u001b[39;00m\u001b[38;5;124mmyfile.py\u001b[39m\u001b[38;5;124m\"\u001b[39m\u001b[38;5;124m'\u001b[39m)\n\u001b[1;32m--> 707\u001b[0m     \u001b[38;5;28;01mraise\u001b[39;00m \u001b[38;5;167;01mException\u001b[39;00m(msg) \u001b[38;5;28;01mfrom\u001b[39;00m \u001b[38;5;21;01me\u001b[39;00m\n\u001b[0;32m    708\u001b[0m \u001b[38;5;28;01mexcept\u001b[39;00m \u001b[38;5;167;01mTypeError\u001b[39;00m:\n\u001b[0;32m    709\u001b[0m     \u001b[38;5;28;01mif\u001b[39;00m fpath \u001b[38;5;129;01min\u001b[39;00m sys\u001b[38;5;241m.\u001b[39mmeta_path:\n",
      "\u001b[1;31mException\u001b[0m: File `'../../fake_apis/fake_discord.ipynb.py'` not found."
     ]
    }
   ],
   "source": [
    "%run ../../fake_apis/fake_discord.ipynb"
   ]
  },
  {
   "cell_type": "markdown",
   "id": "17ab3bf1-b204-41dd-806c-4b923beb4079",
   "metadata": {},
   "source": [
    "### Step 2: Load your developer access passwords\n",
    "To use this on your real Reddot account, copy your [developer access passwords](../../appendix/bot_set_ups/making_reddit_account.md) into the code below, replacing our fake passwords."
   ]
  },
  {
   "cell_type": "code",
   "execution_count": 23,
   "id": "6c17ccfc-269d-4d21-80f8-d7dbe0576423",
   "metadata": {},
   "outputs": [],
   "source": [
    "# Load all your discord token into Python\n",
    "# TODO: Put your discord token below:\n",
    "discord_token = \"m#5@_fake_discord_token_$%Ds\""
   ]
  },
  {
   "cell_type": "markdown",
   "id": "42779d83-d829-41e5-9b05-cf9c68cd3ca4",
   "metadata": {},
   "source": [
    "### Step 4: ????"
   ]
  },
  {
   "cell_type": "code",
   "execution_count": 28,
   "id": "f2bcdc6b-b6e7-4348-9b9a-231aed259ed1",
   "metadata": {},
   "outputs": [
    {
     "data": {
      "text/html": [
       "<strong style='color:darkred'>Fake Tweepy is pretending to log in to twitter</strong>"
      ],
      "text/plain": [
       "<IPython.core.display.HTML object>"
      ]
     },
     "metadata": {},
     "output_type": "display_data"
    }
   ],
   "source": [
    "# Give the praw code your reddit account info so\n",
    "# it can perform reddit actions\n",
    "client = discord.Client(intents=discord.Intents.default())\n"
   ]
  },
  {
   "cell_type": "markdown",
   "id": "006459cb-1a07-4a60-91b0-031174339753",
   "metadata": {},
   "source": [
    "### Step 5: Submit a post to Reddit"
   ]
  },
  {
   "cell_type": "code",
   "execution_count": 29,
   "id": "b44dafab-9d25-4620-b6bd-bd4149400eca",
   "metadata": {},
   "outputs": [
    {
     "data": {
      "text/html": [
       "<strong style='color:darkred'>Fake Tweepy is pretending to post this tweet (note: real tweepy shows no output here when a tweet is posted): </strong>"
      ],
      "text/plain": [
       "<IPython.core.display.HTML object>"
      ]
     },
     "metadata": {},
     "output_type": "display_data"
    },
    {
     "name": "stdout",
     "output_type": "stream",
     "text": [
      "This tweet was posted by a computer program!\n"
     ]
    }
   ],
   "source": [
    "# Post a reddit post\n",
    "# TODO: modify the text in the quotes below to change what and where this bot posts to reddit:\n",
    "reddit.subreddit(\n",
    "   \"soc_media_ethics_auto\"\n",
    ").submit(\n",
    "   \"A bot post\", \n",
    "   selftext = \"This post was made by a computer program!\"\n",
    ")"
   ]
  },
  {
   "cell_type": "markdown",
   "id": "262d3a68-2d60-4d3a-b413-28d50dce2726",
   "metadata": {},
   "source": [
    "### Step 6: Modify the code above to create a different reddit post\n"
   ]
  },
  {
   "cell_type": "code",
   "execution_count": null,
   "id": "1ce1b13a-50ca-46f5-8495-1e06fe060279",
   "metadata": {},
   "outputs": [],
   "source": []
  }
 ],
 "metadata": {
  "kernelspec": {
   "display_name": "Python 3 (ipykernel)",
   "language": "python",
   "name": "python3"
  },
  "language_info": {
   "codemirror_mode": {
    "name": "ipython",
    "version": 3
   },
   "file_extension": ".py",
   "mimetype": "text/x-python",
   "name": "python",
   "nbconvert_exporter": "python",
   "pygments_lexer": "ipython3",
   "version": "3.10.4"
  },
  "vscode": {
   "interpreter": {
    "hash": "369f2c481f4da34e4445cda3fffd2e751bd1c4d706f27375911949ba6bb62e1c"
   }
  }
 },
 "nbformat": 4,
 "nbformat_minor": 5
}