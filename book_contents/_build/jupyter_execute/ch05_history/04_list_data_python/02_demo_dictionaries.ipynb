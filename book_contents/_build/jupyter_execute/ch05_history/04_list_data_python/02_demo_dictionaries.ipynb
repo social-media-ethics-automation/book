{
 "cells": [
  {
   "cell_type": "markdown",
   "id": "faf79779-95ad-498f-8c19-9a6766d205a4",
   "metadata": {},
   "source": [
    "# Demo: Dictionaries\n",
    "\n",
    "We've talked about lists, but the other data organization we need to work with social media data is `dictionaries`.\n",
    "\n",
    "As we mentioned in chapter 4, dictionaries allow us to combine pieces of information by naming them (sort of like variables).\n",
    "\n",
    "So for example, the information about a user might have the following pieces of data:\n",
    "- Username\n",
    "- Twitter handle\n",
    "- Profile Picture:\n",
    "- Follows\n",
    "\n",
    "Python has two ways of doing these types of dictionaries: `dict` and objects"
   ]
  },
  {
   "cell_type": "markdown",
   "id": "faf353f9-9945-46c3-b0f7-9938ac6c89dc",
   "metadata": {},
   "source": [
    "## Dictionaries (`dict`)\n",
    "We can create dictionaries in Python by storing values into `key`s inside of curly braces `{` `}`, like this:"
   ]
  },
  {
   "cell_type": "code",
   "execution_count": 1,
   "id": "aaeacf5c-1831-447f-b3db-374f12934d81",
   "metadata": {},
   "outputs": [],
   "source": [
    "user_1 = {\n",
    "    \"username\": \"kylethayer\",\n",
    "    \"twitter_handle\": \"@kylemthayer\",\n",
    "    \"profile_picture\": \"kylethayer.jpg\",\n",
    "    \"follows\": [\"@SusanNotess\", \"@UW\", \"@UW_iSchool\", \"@ajlunited\"]\n",
    "}"
   ]
  },
  {
   "cell_type": "markdown",
   "id": "b19c94d0-294a-4f4a-a73d-4651a3d0d96f",
   "metadata": {},
   "source": [
    "In the code above, inside of the curly braces are a set of lines. Each line has a string (the `key`, or name of the value), followed by a colon (`:`), followed by a value that is to be saved for the key. At the end of all but the last line is a comma (`,`) which indicates that another `key` and value will come next.\n",
    "\n",
    "Now that we've saved some values for some keys in the dictionary now saved in user_1, we can look up the values by using square brackets (`[`, `]`) with the key name inside, like this:"
   ]
  },
  {
   "cell_type": "code",
   "execution_count": 2,
   "id": "99bb8716-2b5f-4e0e-9188-11ba38dc5e21",
   "metadata": {},
   "outputs": [
    {
     "data": {
      "text/plain": [
       "'kylethayer'"
      ]
     },
     "metadata": {},
     "output_type": "display_data"
    }
   ],
   "source": [
    "user_1_username = user_1[\"username\"]\n",
    "display(user_1_username)"
   ]
  },
  {
   "cell_type": "code",
   "execution_count": 3,
   "id": "8d96a9b3-c09e-4125-a664-d4dd77639d3a",
   "metadata": {},
   "outputs": [
    {
     "data": {
      "text/plain": [
       "'@kylemthayer'"
      ]
     },
     "metadata": {},
     "output_type": "display_data"
    }
   ],
   "source": [
    "user_1_handle = user_1[\"twitter_handle\"]\n",
    "display(user_1_handle)"
   ]
  },
  {
   "cell_type": "code",
   "execution_count": 4,
   "id": "4fa4f670-6657-41bc-8a77-557e0c35c987",
   "metadata": {},
   "outputs": [
    {
     "data": {
      "text/plain": [
       "'kylethayer.jpg'"
      ]
     },
     "metadata": {},
     "output_type": "display_data"
    }
   ],
   "source": [
    "user_1_picture = user_1[\"profile_picture\"]\n",
    "display(user_1_picture)"
   ]
  },
  {
   "cell_type": "code",
   "execution_count": 5,
   "id": "2fc90b1c-f626-4987-b275-ccbf1b5c36d5",
   "metadata": {},
   "outputs": [
    {
     "data": {
      "text/plain": [
       "['@SusanNotess', '@UW', '@UW_iSchool', '@ajlunited']"
      ]
     },
     "metadata": {},
     "output_type": "display_data"
    }
   ],
   "source": [
    "user_1_follows = user_1[\"follows\"]\n",
    "display(user_1_follows)"
   ]
  },
  {
   "cell_type": "markdown",
   "id": "f8075810-d7ee-4cff-abec-ec9103f4205f",
   "metadata": {},
   "source": [
    "## Objects\n",
    "The other way of saving information that works similarly in Python is through an object. We won't be creating any in this book, but we will have to get data from some.\n",
    "\n",
    "The main difference from what we will need is that while in dictionaries we use square brackets and put the key name in quotes as a string (e.g., `user_1[\"profile_picture\"]`), in an object you use a period (`.`) and don't put they key name (called a `field`) in quotes (e.g., `user_1.profile_picture`)\n",
    "\n",
    "We have already seen code that used this period to get something from an object a few times, specifically getting functions from them, like:\n",
    "- `client.create_tweet(...`\n",
    "- `normal_message.upper()`\n",
    "\n",
    "When we go through data from twitter, sometimes we will need to use `.` to get parts of the information out of objects, and sometimes we will need to use `[\" \"]` to get information out of dictionaries."
   ]
  },
  {
   "cell_type": "markdown",
   "id": "086be723-f3be-42bf-8ada-ba7f88718d5e",
   "metadata": {},
   "source": [
    "## Looping through lists of dictionaries\n",
    "Now that we've seen loops, lists, and dictionaries, we can go back to Twitter, run a search and look through multiple tweets:"
   ]
  },
  {
   "cell_type": "markdown",
   "id": "4cb96ef3-8f5e-420e-9273-9010e89dce0e",
   "metadata": {},
   "source": [
    "### load tweepy library"
   ]
  },
  {
   "cell_type": "code",
   "execution_count": 6,
   "id": "01b1b258-c3b7-48b5-9576-0b5012e2592f",
   "metadata": {},
   "outputs": [],
   "source": [
    "# Load some code called \"tweepy\" that will help us work with twitter\n",
    "import tweepy"
   ]
  },
  {
   "cell_type": "markdown",
   "id": "9cc3a006-f750-4636-b48b-49fcfed023d1",
   "metadata": {},
   "source": [
    "### (optional) make a fake twitter connection with the fake_tweepy library"
   ]
  },
  {
   "cell_type": "markdown",
   "id": "a1be3d73-29df-4576-aa0e-c6006deb5848",
   "metadata": {},
   "source": [
    "For testing purposes, we’ve added this line of code, which loads a fake version of tweepy, so it wont actually connect to twitter. __If you want to try to actually connect to twitter, don’t run this line of code.__"
   ]
  },
  {
   "cell_type": "code",
   "execution_count": 7,
   "id": "a42161a4-3102-4517-afba-3e64a02d85f0",
   "metadata": {},
   "outputs": [
    {
     "data": {
      "text/html": [
       "<strong style='color:darkred'>Fake tweepy is replacing the tweepy library. Fake Tweepy doesn&#x27;t need real passwords, and prevents you from accessing real twitter</strong>"
      ],
      "text/plain": [
       "<IPython.core.display.HTML object>"
      ]
     },
     "metadata": {},
     "output_type": "display_data"
    }
   ],
   "source": [
    "%run ../../fake_tweepy/fake_tweepy.ipynb"
   ]
  },
  {
   "cell_type": "markdown",
   "id": "adbe69cf-a3b0-43a7-acb6-19f7e7eb5945",
   "metadata": {},
   "source": [
    "### load your developer access passwords"
   ]
  },
  {
   "cell_type": "code",
   "execution_count": 8,
   "id": "46e18dcd-e58f-4083-b1c2-55ece3b0c3be",
   "metadata": {},
   "outputs": [],
   "source": [
    "# Load all your developer access passwords into Python\n",
    "# TODO: Put your twitter account's special developer access passwords below:\n",
    "bearer_token = \"n4tossfgsafs_fake_bearer_token_isa53#$%$\"\n",
    "consumer_key = \"sa@#4@fdfdsa_fake_consumer_key_$%DSG#%DG\"\n",
    "consumer_secret = \"45adf$T$A_fake_consumer_secret_JESdsg\"\n",
    "access_token = \"56sd5Ss4tsea_fake_access_token_%YE%hDsdr\"\n",
    "access_token_secret = \"j^$dr_fake_consumer_key_^A5s#DR5s\""
   ]
  },
  {
   "cell_type": "markdown",
   "id": "dafb7221-0c46-4499-8c63-db191d5163ef",
   "metadata": {},
   "source": [
    "### give tweepy (or fake_tweepy) your developer access passwords"
   ]
  },
  {
   "cell_type": "code",
   "execution_count": 9,
   "id": "cbe7a923-fc70-4b2e-a541-5dd5119309c2",
   "metadata": {},
   "outputs": [
    {
     "data": {
      "text/html": [
       "<strong style='color:darkred'>Fake Tweepy is pretending to log in to twitter</strong>"
      ],
      "text/plain": [
       "<IPython.core.display.HTML object>"
      ]
     },
     "metadata": {},
     "output_type": "display_data"
    }
   ],
   "source": [
    "# Give the tweepy code your developer access passwords so\n",
    "# it can perform twitter actions\n",
    "client = tweepy.Client(\n",
    "   bearer_token=bearer_token,\n",
    "   consumer_key=consumer_key, consumer_secret=consumer_secret,\n",
    "   access_token=access_token, access_token_secret=access_token_secret\n",
    ")"
   ]
  },
  {
   "cell_type": "markdown",
   "id": "80f48f9d-30f4-47e5-bf2f-ff4bb66b02a1",
   "metadata": {},
   "source": [
    "### find a list of tweets\n",
    "We can now do a search and find a list of tweets.\n",
    "\n",
    "_Note: If you run this on real twitter, we can’t gurantee anything about how offensive what you might find is. We don’t know of any word search we could guarantee would be safe._"
   ]
  },
  {
   "cell_type": "code",
   "execution_count": 10,
   "id": "9f945e19-4e7d-4626-a468-de8af347355f",
   "metadata": {},
   "outputs": [
    {
     "data": {
      "text/html": [
       "<strong style='color:darkred'>Fake Tweepy is pretending to search for &#x27;&quot;cute cat&quot;&#x27; and is returning some fake tweets.</strong>"
      ],
      "text/plain": [
       "<IPython.core.display.HTML object>"
      ]
     },
     "metadata": {},
     "output_type": "display_data"
    }
   ],
   "source": [
    "# Choose a search to run\n",
    "query = '\"cute cat\"'\n",
    "\n",
    "#Run the search and request some additional info\n",
    "tweets_info = client.search_recent_tweets(query=query, tweet_fields=[\"author_id\", \"created_at\", \"id\", \"lang\", \"public_metrics\", \"source\", \"text\"])\n",
    "\n",
    "# Get the actual list of tweets out of the data field (tweets_info also has metadata about our search)\n",
    "tweets_list = tweets_info.data"
   ]
  },
  {
   "cell_type": "markdown",
   "id": "7b487d9c-2741-4042-8756-702358f4db1c",
   "metadata": {},
   "source": [
    "## Loop through the list of tweets\n",
    "The variable `tweets_llist` now has a list of tweet. So we can use a for loop to go through each tweet, and then use `.` to access info from each tweet (other pieces of information would need `[\" \"]` to access).\n",
    "\n",
    "For each of the tweets, we will use `print` to display information about the tweet"
   ]
  },
  {
   "cell_type": "code",
   "execution_count": 11,
   "id": "f5817cce-16b5-48e6-8a40-c90c0ab4079c",
   "metadata": {},
   "outputs": [
    {
     "name": "stdout",
     "output_type": "stream",
     "text": [
      "Info for tweet with id: 129308937494\n",
      "  author_id: 239048094385\n",
      "  created_at: 2022-02-22 22:22:22+00:00\n",
      "  source: Twitter for Android\n",
      "  text: While trying to tweet right now, I am being attacked by my cute cat! It's so hard to tpye wihsaoae as fesadf asd fssasaf sa\n",
      "\n",
      "Info for tweet with id: 93298432\n",
      "  author_id: 23409023\n",
      "  created_at: 2022-02-22 02:02:02+00:00\n",
      "  source: Twitter for iPhone\n",
      "  text: I wish I could be sleeping now like my cute cat is!\n",
      "\n",
      "Info for tweet with id: 321923\n",
      "  author_id: 32892394\n",
      "  created_at: 2022-02-22 03:03:03+00:00\n",
      "  source: Twitter for iPhone\n",
      "  text: Why won't my cute cat stop scratching my face in the morning!\n",
      "\n"
     ]
    }
   ],
   "source": [
    "for tweet in tweets_list:\n",
    "    print(\"Info for tweet with id: \" + str(tweet.id))\n",
    "    print(\"  author_id: \" + str(tweet.author_id))\n",
    "    print(\"  created_at: \" + str(tweet.created_at))\n",
    "    print(\"  source: \" + str(tweet.source))\n",
    "    print(\"  text: \" + str(tweet.text))\n",
    "    print()"
   ]
  }
 ],
 "metadata": {
  "kernelspec": {
   "display_name": "Python 3 (ipykernel)",
   "language": "python",
   "name": "python3"
  },
  "language_info": {
   "codemirror_mode": {
    "name": "ipython",
    "version": 3
   },
   "file_extension": ".py",
   "mimetype": "text/x-python",
   "name": "python",
   "nbconvert_exporter": "python",
   "pygments_lexer": "ipython3",
   "version": "3.10.4"
  }
 },
 "nbformat": 4,
 "nbformat_minor": 5
}