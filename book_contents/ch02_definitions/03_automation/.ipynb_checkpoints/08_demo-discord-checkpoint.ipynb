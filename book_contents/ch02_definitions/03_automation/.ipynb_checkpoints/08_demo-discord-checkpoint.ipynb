{
 "cells": [
  {
   "cell_type": "markdown",
   "id": "8e8b04f7-3262-427e-b125-ec9e4284d0d9",
   "metadata": {
    "tags": []
   },
   "source": [
    "# Demo: Try Running the Reddit Bot!"
   ]
  },
  {
   "cell_type": "markdown",
   "id": "144e173b-2a04-44b4-a45d-7b335e40f918",
   "metadata": {},
   "source": [
    "## Running this Jupyter Notebook\n",
    "This page is called a \"Jupyter Notebook\" which it is a text page that has runnable Python code in it.\n",
    "\n",
    "In order to run the code, you can look for the rocket button at the top which will give you an option to \"launch binder\"\n",
    "\n",
    "![screenshot of this page in the online textbook, with the launch binder link highlighted under the rocket button at the top.](binder_link.png)\n",
    "\n",
    "If you launch binder, it will take a while to load, but eventually show you a version of this page Jupyter Notebook in a code editor called Jupyter Lab\n",
    "\n",
    "![a screenshot of this page viewed in jupyter_lab, with menus and options above the editable page](jupyter_lab.png)\n",
    "\n",
    "In Jupyter Lab you can double click any section to edit it, and you can press the triangle \"run\" button to run the code (or display the text).\n",
    "\n",
    "![a screenshot of this page viewed in jupyter_lab,with the triangle \"run\" button circled. Next to it are a square \"interrupt the kernal\" button and other options](jupyter_run_code.png)\n",
    "\n",
    "When the code runs, the little number to the left of the code block should change. There might also be some output from your action displyed below the code block.\n",
    "\n",
    "So now you can go through the rest of this page and select and run each section of code.\n"
   ]
  },
  {
   "cell_type": "markdown",
   "id": "13f89d63-a8e7-48e2-b744-ecfdf8bdad87",
   "metadata": {},
   "source": [
    "## Here is the bot code you can run!\n",
    "Our demo Reddit bot code is below, broken up into different sections. \n",
    "\n",
    "You can select each section of the code below and run it to see what it does.\n",
    "\n",
    "By default this code uses a fake version of our reddit connection so it doesn't connect to a real reddit account.\n",
    "\n",
    "If you want to actually connect to your reddit account, you can put your special developer access passwords in the right code section below, and then when you run the code make sure to skip the code section that makes a fake twitter connection with \"fake_praw\"."
   ]
  },
  {
   "cell_type": "code",
   "execution_count": 2,
   "id": "0c002aeb-1fce-42ff-8f9e-7c62d2c60cc4",
   "metadata": {},
   "outputs": [
    {
     "ename": "RuntimeError",
     "evalue": "asyncio.run() cannot be called from a running event loop",
     "output_type": "error",
     "traceback": [
      "\u001b[1;31m---------------------------------------------------------------------------\u001b[0m",
      "\u001b[1;31mRuntimeError\u001b[0m                              Traceback (most recent call last)",
      "Input \u001b[1;32mIn [2]\u001b[0m, in \u001b[0;36m<cell line: 20>\u001b[1;34m()\u001b[0m\n\u001b[0;32m     17\u001b[0m     \u001b[38;5;28;01mif\u001b[39;00m message\u001b[38;5;241m.\u001b[39mcontent\u001b[38;5;241m.\u001b[39mstartswith(\u001b[38;5;124m'\u001b[39m\u001b[38;5;124m$hello\u001b[39m\u001b[38;5;124m'\u001b[39m):\n\u001b[0;32m     18\u001b[0m         \u001b[38;5;28;01mawait\u001b[39;00m message\u001b[38;5;241m.\u001b[39mchannel\u001b[38;5;241m.\u001b[39msend(\u001b[38;5;124m'\u001b[39m\u001b[38;5;124mHello!\u001b[39m\u001b[38;5;124m'\u001b[39m)\n\u001b[1;32m---> 20\u001b[0m \u001b[43mclient\u001b[49m\u001b[38;5;241;43m.\u001b[39;49m\u001b[43mrun\u001b[49m\u001b[43m(\u001b[49m\u001b[38;5;124;43m'\u001b[39;49m\u001b[38;5;124;43mMTE1MTI2OTYxMzgyNTQzNzg3Ng.GATNya.8pg3-Ry8YWsOquuYCoIA-HGfYzkXXjOjOHLlDo\u001b[39;49m\u001b[38;5;124;43m'\u001b[39;49m\u001b[43m)\u001b[49m\n",
      "File \u001b[1;32mC:\\Python310\\lib\\site-packages\\discord\\client.py:860\u001b[0m, in \u001b[0;36mClient.run\u001b[1;34m(self, token, reconnect, log_handler, log_formatter, log_level, root_logger)\u001b[0m\n\u001b[0;32m    852\u001b[0m     utils\u001b[38;5;241m.\u001b[39msetup_logging(\n\u001b[0;32m    853\u001b[0m         handler\u001b[38;5;241m=\u001b[39mlog_handler,\n\u001b[0;32m    854\u001b[0m         formatter\u001b[38;5;241m=\u001b[39mlog_formatter,\n\u001b[0;32m    855\u001b[0m         level\u001b[38;5;241m=\u001b[39mlog_level,\n\u001b[0;32m    856\u001b[0m         root\u001b[38;5;241m=\u001b[39mroot_logger,\n\u001b[0;32m    857\u001b[0m     )\n\u001b[0;32m    859\u001b[0m \u001b[38;5;28;01mtry\u001b[39;00m:\n\u001b[1;32m--> 860\u001b[0m     \u001b[43masyncio\u001b[49m\u001b[38;5;241;43m.\u001b[39;49m\u001b[43mrun\u001b[49m\u001b[43m(\u001b[49m\u001b[43mrunner\u001b[49m\u001b[43m(\u001b[49m\u001b[43m)\u001b[49m\u001b[43m)\u001b[49m\n\u001b[0;32m    861\u001b[0m \u001b[38;5;28;01mexcept\u001b[39;00m \u001b[38;5;167;01mKeyboardInterrupt\u001b[39;00m:\n\u001b[0;32m    862\u001b[0m     \u001b[38;5;66;03m# nothing to do here\u001b[39;00m\n\u001b[0;32m    863\u001b[0m     \u001b[38;5;66;03m# `asyncio.run` handles the loop cleanup\u001b[39;00m\n\u001b[0;32m    864\u001b[0m     \u001b[38;5;66;03m# and `self.start` closes all sockets and the HTTPClient instance.\u001b[39;00m\n\u001b[0;32m    865\u001b[0m     \u001b[38;5;28;01mreturn\u001b[39;00m\n",
      "File \u001b[1;32mC:\\Python310\\lib\\asyncio\\runners.py:33\u001b[0m, in \u001b[0;36mrun\u001b[1;34m(main, debug)\u001b[0m\n\u001b[0;32m      9\u001b[0m \u001b[38;5;124;03m\"\"\"Execute the coroutine and return the result.\u001b[39;00m\n\u001b[0;32m     10\u001b[0m \n\u001b[0;32m     11\u001b[0m \u001b[38;5;124;03mThis function runs the passed coroutine, taking care of\u001b[39;00m\n\u001b[1;32m   (...)\u001b[0m\n\u001b[0;32m     30\u001b[0m \u001b[38;5;124;03m    asyncio.run(main())\u001b[39;00m\n\u001b[0;32m     31\u001b[0m \u001b[38;5;124;03m\"\"\"\u001b[39;00m\n\u001b[0;32m     32\u001b[0m \u001b[38;5;28;01mif\u001b[39;00m events\u001b[38;5;241m.\u001b[39m_get_running_loop() \u001b[38;5;129;01mis\u001b[39;00m \u001b[38;5;129;01mnot\u001b[39;00m \u001b[38;5;28;01mNone\u001b[39;00m:\n\u001b[1;32m---> 33\u001b[0m     \u001b[38;5;28;01mraise\u001b[39;00m \u001b[38;5;167;01mRuntimeError\u001b[39;00m(\n\u001b[0;32m     34\u001b[0m         \u001b[38;5;124m\"\u001b[39m\u001b[38;5;124masyncio.run() cannot be called from a running event loop\u001b[39m\u001b[38;5;124m\"\u001b[39m)\n\u001b[0;32m     36\u001b[0m \u001b[38;5;28;01mif\u001b[39;00m \u001b[38;5;129;01mnot\u001b[39;00m coroutines\u001b[38;5;241m.\u001b[39miscoroutine(main):\n\u001b[0;32m     37\u001b[0m     \u001b[38;5;28;01mraise\u001b[39;00m \u001b[38;5;167;01mValueError\u001b[39;00m(\u001b[38;5;124m\"\u001b[39m\u001b[38;5;124ma coroutine was expected, got \u001b[39m\u001b[38;5;132;01m{!r}\u001b[39;00m\u001b[38;5;124m\"\u001b[39m\u001b[38;5;241m.\u001b[39mformat(main))\n",
      "\u001b[1;31mRuntimeError\u001b[0m: asyncio.run() cannot be called from a running event loop"
     ]
    }
   ],
   "source": [
    "import discord\n",
    "\n",
    "intents = discord.Intents.default()\n",
    "intents.message_content = True\n",
    "\n",
    "client = discord.Client(intents=intents)\n",
    "\n",
    "@client.event\n",
    "async def on_ready():\n",
    "    print(f'We have logged in as {client.user}')\n",
    "\n",
    "@client.event\n",
    "async def on_message(message):\n",
    "    if message.author == client.user:\n",
    "        return\n",
    "\n",
    "    if message.content.startswith('$hello'):\n",
    "        await message.channel.send('Hello!')\n",
    "\n",
    "client.run('MTE1MTI2OTYxMzgyNTQzNzg3Ng.GATNya.8pg3-Ry8YWsOquuYCoIA-HGfYzkXXjOjOHLlDo')"
   ]
  },
  {
   "cell_type": "markdown",
   "id": "71630ecc-59b1-421a-94b8-7c973e0a3c12",
   "metadata": {},
   "source": [
    "### Step 1: Load praw code"
   ]
  },
  {
   "cell_type": "code",
   "execution_count": 2,
   "id": "d93d5346-7256-48dd-9687-5919aabf6f74",
   "metadata": {},
   "outputs": [],
   "source": [
    "# Load some code called \"praw\" that will help us work with reddit\n",
    "import praw"
   ]
  },
  {
   "cell_type": "markdown",
   "id": "bc6fe80b-f477-481e-8b82-3981b8cf75a4",
   "metadata": {},
   "source": [
    "### (Optional) Step 1b: Make a fake praw connection with the fake_praw library\n",
    "For testing purposes, we've added this line of code, which loads a fake version of praw, so it wont actually connect to reddit. __If you want to try to actually connect to reddit, don't run this line of code.__"
   ]
  },
  {
   "cell_type": "code",
   "execution_count": 27,
   "id": "ec45f3fb-204c-4948-a822-1608972f54bb",
   "metadata": {},
   "outputs": [
    {
     "data": {
      "text/html": [
       "<strong style='color:darkred'>Fake tweepy is replacing the tweepy library. Fake Tweepy doesn&#x27;t need real passwords, and prevents you from accessing real twitter</strong>"
      ],
      "text/plain": [
       "<IPython.core.display.HTML object>"
      ]
     },
     "metadata": {},
     "output_type": "display_data"
    }
   ],
   "source": [
    "%run ../../fake_apis/fake_praw.ipynb"
   ]
  },
  {
   "cell_type": "markdown",
   "id": "17ab3bf1-b204-41dd-806c-4b923beb4079",
   "metadata": {},
   "source": [
    "### Step 2: Load your developer access passwords\n",
    "To use this on your real Reddot account, copy your [developer access passwords](../../appendix/bot_set_ups/making_reddit_account.md) into the code below, replacing our fake passwords."
   ]
  },
  {
   "cell_type": "code",
   "execution_count": 23,
   "id": "6c17ccfc-269d-4d21-80f8-d7dbe0576423",
   "metadata": {},
   "outputs": [],
   "source": [
    "# Load all your developer access passwords into Python\n",
    "# TODO: Put your reddit username, password, and special developer access passwords below:\n",
    "username=\"fake_reddit_username\"\n",
    "password=\"sa@#4*fdf_fake_password_$%DSG#%DG\"\n",
    "client_id=\"45adf$TW_fake_client_id_JESdsg1O\"\n",
    "client_secret=\"56sd_fake_client_secret_%Yh%\""
   ]
  },
  {
   "cell_type": "markdown",
   "id": "42779d83-d829-41e5-9b05-cf9c68cd3ca4",
   "metadata": {},
   "source": [
    "### Step 4: Give praw (or fake_praw) your developer access passwords"
   ]
  },
  {
   "cell_type": "code",
   "execution_count": 28,
   "id": "f2bcdc6b-b6e7-4348-9b9a-231aed259ed1",
   "metadata": {},
   "outputs": [
    {
     "data": {
      "text/html": [
       "<strong style='color:darkred'>Fake Tweepy is pretending to log in to twitter</strong>"
      ],
      "text/plain": [
       "<IPython.core.display.HTML object>"
      ]
     },
     "metadata": {},
     "output_type": "display_data"
    }
   ],
   "source": [
    "# Give the praw code your reddit account info so\n",
    "# it can perform reddit actions\n",
    "reddit = praw.Reddit(\n",
    "    username=username, password=password,\n",
    "    client_id=client_id, client_secret=client_secret,\n",
    "    user_agent=\"a custom python script\"\n",
    ")"
   ]
  },
  {
   "cell_type": "markdown",
   "id": "006459cb-1a07-4a60-91b0-031174339753",
   "metadata": {},
   "source": [
    "### Step 5: Submit a post to Reddit"
   ]
  },
  {
   "cell_type": "code",
   "execution_count": 29,
   "id": "b44dafab-9d25-4620-b6bd-bd4149400eca",
   "metadata": {},
   "outputs": [
    {
     "data": {
      "text/html": [
       "<strong style='color:darkred'>Fake Tweepy is pretending to post this tweet (note: real tweepy shows no output here when a tweet is posted): </strong>"
      ],
      "text/plain": [
       "<IPython.core.display.HTML object>"
      ]
     },
     "metadata": {},
     "output_type": "display_data"
    },
    {
     "name": "stdout",
     "output_type": "stream",
     "text": [
      "This tweet was posted by a computer program!\n"
     ]
    }
   ],
   "source": [
    "# Post a reddit post\n",
    "# TODO: modify the text in the quotes below to change what and where this bot posts to reddit:\n",
    "reddit.subreddit(\n",
    "   \"soc_media_ethics_auto\"\n",
    ").submit(\n",
    "   \"A bot post\", \n",
    "   selftext = \"This post was made by a computer program!\"\n",
    ")"
   ]
  },
  {
   "cell_type": "markdown",
   "id": "262d3a68-2d60-4d3a-b413-28d50dce2726",
   "metadata": {},
   "source": [
    "### Step 6: Modify the code above to create a different reddit post\n"
   ]
  },
  {
   "cell_type": "code",
   "execution_count": null,
   "id": "1ce1b13a-50ca-46f5-8495-1e06fe060279",
   "metadata": {},
   "outputs": [],
   "source": []
  }
 ],
 "metadata": {
  "kernelspec": {
   "display_name": "Python 3 (ipykernel)",
   "language": "python",
   "name": "python3"
  },
  "language_info": {
   "codemirror_mode": {
    "name": "ipython",
    "version": 3
   },
   "file_extension": ".py",
   "mimetype": "text/x-python",
   "name": "python",
   "nbconvert_exporter": "python",
   "pygments_lexer": "ipython3",
   "version": "3.10.4"
  },
  "vscode": {
   "interpreter": {
    "hash": "369f2c481f4da34e4445cda3fffd2e751bd1c4d706f27375911949ba6bb62e1c"
   }
  }
 },
 "nbformat": 4,
 "nbformat_minor": 5
}
