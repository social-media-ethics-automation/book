{
 "cells": [
  {
   "cell_type": "markdown",
   "id": "a779ca3a-c174-4e88-93ac-2124c7ea049a",
   "metadata": {},
   "source": [
    "# Demo: Writing Functions\n",
    "\n",
    "Before we can do our demo of tracking tweepy use, we need to learn how to create functions in Python.\n",
    "\n",
    "Functions allow us to run another computer program. In our recipe analogy earlier, we said it was like:\n",
    "\n",
    "`- Make the dumpling dough (see recipe on page 42).`\n",
    "\n",
    "Or\n",
    "\n",
    "`- to make dumplings vegan, make the dumpling dough (see recipe on page 42), but instead of using the egg, subsititute 2 teaspoons olive oil and 2 tablespoons hot water.`\n",
    "\n",
    "## Benefits of Functions\n",
    "There are several advantages to creating and using functions in computer programs, such as:\n",
    "\n",
    "__Reusing code instead of repeating code__: When we find ourselves repeating a set of actions in our program, we end up writing (or copying) the same code multiple times. If we put that repeated code in a function, then we only have to write it once and then use that function in all the places we were repeating the code. \n",
    "\n",
    "__Single, standardized definitions__: Let's say we made code that takes a name and tries to split it into a first name and last name, and we have that code copied in several places in our program. Then we realize that our code isn't handling some last names correctly, like \"O'Reilly\" and \"Del Toro.\" If we fix this bug in one of the places the code is copied in our program it still will be broken elsewhere, so we have to find all the places and fix it there. If, on the other hand we had the code to split names in a function, and used that function everywhere else, then we only have to fix the bug inside that one function and our code everywhere is fixed.\n",
    "\n",
    "__Code organization__: Making functions also can help us organize our code. It lets us give a name to a block of code, and when we use it, those function names can help make the code more understandable. Making code as functions also helps in letting us put those pieces of code in other files or in code libraries, so the file we are working on is smaller and easier to manage.\n",
    "\n",
    "\n",
    "## Using Functions\n",
    "\n",
    "We have been using many functions so far in this book, such as:\n",
    "- `display(2 + 2)`\n",
    "- `sleep(3)`\n",
    "- `client.create_tweet(text=\"This is a tweet\")`\n",
    "- `sentence.upper()`\n",
    "\n",
    "Now we will be defining our own functions, which we can then use later in our code."
   ]
  },
  {
   "cell_type": "markdown",
   "id": "d4052f85-d832-4348-b9c3-acd48b3199e2",
   "metadata": {},
   "source": [
    "## Defining Functions \n",
    "\n",
    "In Python a function is defined using the 'def' keyword.\n",
    "\n",
    "Creating a Function:\n",
    "\n",
    "```\n",
    "def function_name(argument1, argument2):\n",
    "    STATEMENT\n",
    "    STATEMENT\n",
    "    STATEMENT\n",
    "```\n",
    "\n",
    "Using a Function that you previously made:\n",
    "\n",
    "```\n",
    "function_name(argument1, argument2)\n",
    "```\n",
    "\n",
    "\n",
    "Let's start with an example function that doesn't use any arguments:"
   ]
  },
  {
   "cell_type": "code",
   "execution_count": 1,
   "id": "610c116c-c028-42a5-a0bc-8d3f910c4d71",
   "metadata": {},
   "outputs": [],
   "source": [
    "def say_hi():\n",
    "    print(\"Hi!\")"
   ]
  },
  {
   "cell_type": "markdown",
   "id": "eac4731c-7042-4bd0-a5aa-aaabc5ff81d9",
   "metadata": {},
   "source": [
    "In the code above, `def` tells Python we want to define a funciton, `say_hi` is the name we chose for our function, and the empty parentheses `()` mean that it doesn't take any parameters. There is then a colon (`:`) to say what follows is a code block that will be what happens when the function is called.\n",
    "\n",
    "When we run the code above that defines our function, we don't see any output, but now the function `say_hi` exists and is ready for us to try using it:"
   ]
  },
  {
   "cell_type": "code",
   "execution_count": 2,
   "id": "5ce06293-1652-431d-949a-19e8f7810c22",
   "metadata": {},
   "outputs": [
    {
     "data": {
      "text/plain": [
       "'Hi!'"
      ]
     },
     "metadata": {},
     "output_type": "display_data"
    }
   ],
   "source": [
    "say_hi()"
   ]
  },
  {
   "cell_type": "markdown",
   "id": "4aadd130-dc56-413a-b912-37bdb82a2ced",
   "metadata": {},
   "source": [
    "We can now call this function many times, for example in a `for` loop"
   ]
  },
  {
   "cell_type": "code",
   "execution_count": 4,
   "id": "d473fc4c-e428-4556-b6d2-eaa89ae82b5d",
   "metadata": {},
   "outputs": [
    {
     "data": {
      "text/plain": [
       "'Hi!'"
      ]
     },
     "metadata": {},
     "output_type": "display_data"
    },
    {
     "data": {
      "text/plain": [
       "'Hi!'"
      ]
     },
     "metadata": {},
     "output_type": "display_data"
    },
    {
     "data": {
      "text/plain": [
       "'Hi!'"
      ]
     },
     "metadata": {},
     "output_type": "display_data"
    },
    {
     "data": {
      "text/plain": [
       "'Hi!'"
      ]
     },
     "metadata": {},
     "output_type": "display_data"
    },
    {
     "data": {
      "text/plain": [
       "'Hi!'"
      ]
     },
     "metadata": {},
     "output_type": "display_data"
    }
   ],
   "source": [
    "for i in range(5):\n",
    "    say_hi()"
   ]
  },
  {
   "cell_type": "markdown",
   "id": "94bfcad5-90e8-41c1-a7e9-9edc42ebd26f",
   "metadata": {},
   "source": [
    "We can also re-define our functions by doing a new `def` statement. It will just replace the old functions definition with the new one:"
   ]
  },
  {
   "cell_type": "code",
   "execution_count": 6,
   "id": "c50b26d2-83c0-4028-9211-9ed0e6632d47",
   "metadata": {},
   "outputs": [],
   "source": [
    "def say_hi():\n",
    "    print(\"Hi there!\")"
   ]
  },
  {
   "cell_type": "code",
   "execution_count": 7,
   "id": "4843b123-fd3f-42db-a827-8224f9ebc306",
   "metadata": {},
   "outputs": [
    {
     "data": {
      "text/plain": [
       "'Hi there!'"
      ]
     },
     "metadata": {},
     "output_type": "display_data"
    },
    {
     "data": {
      "text/plain": [
       "'Hi there!'"
      ]
     },
     "metadata": {},
     "output_type": "display_data"
    },
    {
     "data": {
      "text/plain": [
       "'Hi there!'"
      ]
     },
     "metadata": {},
     "output_type": "display_data"
    },
    {
     "data": {
      "text/plain": [
       "'Hi there!'"
      ]
     },
     "metadata": {},
     "output_type": "display_data"
    },
    {
     "data": {
      "text/plain": [
       "'Hi there!'"
      ]
     },
     "metadata": {},
     "output_type": "display_data"
    }
   ],
   "source": [
    "for i in range(5):\n",
    "    say_hi()"
   ]
  },
  {
   "cell_type": "markdown",
   "id": "9a2d7ebb-19c6-4827-9daf-ad44cdcd1790",
   "metadata": {},
   "source": [
    "## Parameters\n",
    "Parameters (also called \"arguments\") are like variables for a function.\n",
    "\n",
    "In the definition of the function, you can list inside the parentheses the parameters you want to be given for you to use in your function code.\n",
    "\n",
    "Let's redefine our `say_hi` function so it takes a paratemeter for the name of a person to say hi to:"
   ]
  },
  {
   "cell_type": "code",
   "execution_count": 11,
   "id": "23d82260-6dd5-4781-bc6e-00cf8b8acb87",
   "metadata": {},
   "outputs": [],
   "source": [
    "def say_hi(name):\n",
    "    print(\"Hi \" + name + \"!\")"
   ]
  },
  {
   "cell_type": "markdown",
   "id": "ea93ac8c-afd2-4fb6-b639-46d4bfae258c",
   "metadata": {},
   "source": [
    "Now when we call the function `say_hi` we need to give it a value in the parentheses (or it gives us an error: `missing required positional argument`)"
   ]
  },
  {
   "cell_type": "code",
   "execution_count": 17,
   "id": "6aae5fed-64c6-45bf-96ba-e2b875aabc0c",
   "metadata": {},
   "outputs": [
    {
     "name": "stdout",
     "output_type": "stream",
     "text": [
      "Hi Kyle!\n"
     ]
    }
   ],
   "source": [
    "say_hi(\"Kyle\")"
   ]
  },
  {
   "cell_type": "markdown",
   "id": "a3590a8d-efd6-4fa3-86a5-2ee4986520bd",
   "metadata": {},
   "source": [
    "We can again use a loop to call our function multiple times, but this time we will loop over a list of names and send a different name each time the function runs:"
   ]
  },
  {
   "cell_type": "code",
   "execution_count": 18,
   "id": "44b2b290-3e69-4d10-a653-94ed54f71596",
   "metadata": {},
   "outputs": [
    {
     "name": "stdout",
     "output_type": "stream",
     "text": [
      "Hi Kyle!\n",
      "Hi Susan!\n",
      "Hi Another Person!\n"
     ]
    }
   ],
   "source": [
    "names = [\"Kyle\", \"Susan\", \"Another Person\"]\n",
    "for name in names:\n",
    "    say_hi(name)"
   ]
  },
  {
   "cell_type": "markdown",
   "id": "c10f6de6-6e56-4503-9ccb-d7629ebb660b",
   "metadata": {},
   "source": [
    "We can make a function that takes multiple parameters. Let's redefined our function again to take first and last names:"
   ]
  },
  {
   "cell_type": "code",
   "execution_count": 22,
   "id": "42aa94ef-7a92-4d75-b060-ce69b3358c87",
   "metadata": {},
   "outputs": [],
   "source": [
    "def say_hi(first_name, last_name):\n",
    "    print(\"Hi \" + first_name + \" \" + last_name + \"!\")"
   ]
  },
  {
   "cell_type": "code",
   "execution_count": 23,
   "id": "b573341c-979b-4a39-a16e-bf2a26abe7a8",
   "metadata": {},
   "outputs": [
    {
     "name": "stdout",
     "output_type": "stream",
     "text": [
      "Hi Kyle Thayer!\n"
     ]
    }
   ],
   "source": [
    "say_hi(\"Kyle\", \"Thayer\")"
   ]
  },
  {
   "cell_type": "markdown",
   "id": "9f835e83-328b-4db0-8ec5-699dfb7bea13",
   "metadata": {},
   "source": [
    "## Returns\n",
    "\n",
    "In the above examples, our `say_hi` performs an action of displaying text (we used the `print` function).\n",
    "\n",
    "But if we try to save what comes back from running the function:"
   ]
  },
  {
   "cell_type": "code",
   "execution_count": 24,
   "id": "44e269ae-22c9-49ee-848a-817c1263621b",
   "metadata": {},
   "outputs": [
    {
     "name": "stdout",
     "output_type": "stream",
     "text": [
      "Hi Kyle Thayer!\n"
     ]
    }
   ],
   "source": [
    "say_hi_result = say_hi(\"Kyle\", \"Thayer\")"
   ]
  },
  {
   "cell_type": "code",
   "execution_count": 25,
   "id": "f78eacb3-b763-4676-b955-552b94c3bb74",
   "metadata": {},
   "outputs": [
    {
     "data": {
      "text/plain": [
       "None"
      ]
     },
     "metadata": {},
     "output_type": "display_data"
    }
   ],
   "source": [
    "display(say_hi_result)"
   ]
  },
  {
   "cell_type": "markdown",
   "id": "77e4a8c5-e72a-4d33-b061-a357a570c719",
   "metadata": {},
   "source": [
    "It says that nothing (`None`) came back out of the function.\n",
    "\n",
    "There are other functions that we've run that have had things come back that we can save in a variable, like counting the number of characters in a string with `len`."
   ]
  },
  {
   "cell_type": "code",
   "execution_count": null,
   "id": "58a7b56f-b009-4a3e-8641-2a3c57a8f48a",
   "metadata": {},
   "outputs": [],
   "source": [
    "num_letters = len(\"Ethics\")"
   ]
  },
  {
   "cell_type": "code",
   "execution_count": 26,
   "id": "2210af65-fd87-4b66-a6dd-6877d3c298d6",
   "metadata": {},
   "outputs": [
    {
     "data": {
      "text/plain": [
       "6"
      ]
     },
     "metadata": {},
     "output_type": "display_data"
    }
   ],
   "source": [
    "display(num_letters)"
   ]
  },
  {
   "cell_type": "markdown",
   "id": "1a96f8a4-fbdc-49c3-8a5a-bc8123dbf133",
   "metadata": {},
   "source": [
    "In Python, when we want to send something back that can be saved in a variable, we use a `return` in our function definition, like this function which creates the hi message and doesn't display it:"
   ]
  },
  {
   "cell_type": "code",
   "execution_count": 31,
   "id": "b56ddf52-79d4-425f-bd0c-57968bf40c1b",
   "metadata": {},
   "outputs": [],
   "source": [
    "def create_hi_message(first_name, last_name):\n",
    "    hi_message = \"Hi \" + first_name + \" \" + last_name + \"!\"\n",
    "    return hi_message"
   ]
  },
  {
   "cell_type": "markdown",
   "id": "859ebc12-0ddf-4d04-982f-0ec7b69a21af",
   "metadata": {},
   "source": [
    "The return says what value to send back to wherever the function was called. In this case we are sending back what got saved in the `hi_message` variable. \n",
    "\n",
    "When we use this function, we can save the result in a variable:"
   ]
  },
  {
   "cell_type": "code",
   "execution_count": 35,
   "id": "8d113528-36f1-46dc-926a-879811d37d99",
   "metadata": {},
   "outputs": [],
   "source": [
    "tweet_to_make = create_hi_message(\"Kyle\", \"Thayer\")"
   ]
  },
  {
   "cell_type": "code",
   "execution_count": 36,
   "id": "7b7adf66-f25f-4353-bb69-7182c9b7f82a",
   "metadata": {},
   "outputs": [
    {
     "data": {
      "text/plain": [
       "'Hi Kyle Thayer!'"
      ]
     },
     "metadata": {},
     "output_type": "display_data"
    }
   ],
   "source": [
    "display(tweet_to_make)"
   ]
  },
  {
   "cell_type": "markdown",
   "id": "59acfce5-e471-4c06-b383-9a7adb889fe3",
   "metadata": {},
   "source": [
    "If we want, we can simplify the code by telling return to just send back whatever `\"Hi \" + first_name + \" \" + last_name + \"!\"` is instead of saving it in an `hi_message` variable first."
   ]
  },
  {
   "cell_type": "code",
   "execution_count": 37,
   "id": "90643ce3-1be1-4da1-8edf-261a8d17bdd3",
   "metadata": {},
   "outputs": [],
   "source": [
    "def create_hi_message(first_name, last_name):\n",
    "    return \"Hi \" + first_name + \" \" + last_name + \"!\""
   ]
  },
  {
   "cell_type": "code",
   "execution_count": 38,
   "id": "0f9fe273-0fb5-4deb-b83a-bf645f84491e",
   "metadata": {},
   "outputs": [],
   "source": [
    "tweet_to_make = create_hi_message(\"Susan\", \"Notess\")"
   ]
  },
  {
   "cell_type": "code",
   "execution_count": 39,
   "id": "e504cd82-863e-4b95-8fa5-e3f20cfd4979",
   "metadata": {},
   "outputs": [
    {
     "data": {
      "text/plain": [
       "'Hi Susan Notess!'"
      ]
     },
     "metadata": {},
     "output_type": "display_data"
    }
   ],
   "source": [
    "display(tweet_to_make)"
   ]
  },
  {
   "cell_type": "markdown",
   "id": "68537831-a9a8-454e-b742-6dac5d69eaa4",
   "metadata": {},
   "source": [
    "## Wrapping Functions\n",
    "One final trick we can do is wrap a function in another function. \n",
    "\n",
    "This is a bit of an unusual trick, so you generally don't have to worry 5oo much about it, but we are going to use it in the \"Track Tweepy Use\" demo shortly, so we want to explain it.\n",
    "\n",
    "Let's start with a function that adds two numbers together (and yes, this is an unneccesarily complicated replacement for just using `+`)"
   ]
  },
  {
   "cell_type": "code",
   "execution_count": 40,
   "id": "289bf115-d925-4c99-8aca-6e6e5d300e4d",
   "metadata": {},
   "outputs": [],
   "source": [
    "def add_numbers(num_1, num_2):\n",
    "    return num_1 + num_2"
   ]
  },
  {
   "cell_type": "markdown",
   "id": "efa723ee-cf03-4566-b585-fc7b9482b7af",
   "metadata": {},
   "source": [
    "We can use this function to calculate the current state of our money:"
   ]
  },
  {
   "cell_type": "code",
   "execution_count": 43,
   "id": "6f0f648a-2730-4f3b-8714-0bee606e60b8",
   "metadata": {},
   "outputs": [],
   "source": [
    "my_money = 4\n",
    "money_you_gave_me = 3\n",
    "\n",
    "my_current_money = add_numbers(my_money, money_you_gave_me)"
   ]
  },
  {
   "cell_type": "code",
   "execution_count": 44,
   "id": "8c513724-f374-4e66-9abc-04a7baeda685",
   "metadata": {},
   "outputs": [
    {
     "data": {
      "text/plain": [
       "7"
      ]
     },
     "metadata": {},
     "output_type": "display_data"
    }
   ],
   "source": [
    "display(my_current_money)"
   ]
  },
  {
   "cell_type": "markdown",
   "id": "f14c95af-40b0-4462-93d3-5bd7f1138bd8",
   "metadata": {},
   "source": [
    "Now, we can take this function that already exists `add_numbers` and make a `new_add_numbers` function that works the same (it takes the same parameters and then calls the old `add_numbers` function with them), but it also displays what numbers it was called with."
   ]
  },
  {
   "cell_type": "code",
   "execution_count": 42,
   "id": "dac51d80-2956-4cad-b119-8ea5c46df35d",
   "metadata": {},
   "outputs": [],
   "source": [
    "def new_add_numbers(num_1, num_2):\n",
    "    display(\"--add_numbers was called with \" + str(num_1) + \" and \" + str(num_2))\n",
    "    return add_numbers(num_1, num_2)"
   ]
  },
  {
   "cell_type": "markdown",
   "id": "176f781a-d49b-4a87-98e7-e202ec3ba69d",
   "metadata": {},
   "source": [
    "We've now \"wrapped\" a new function (`new_add_numbers`) around the old `add_numbers` function. \n",
    "\n",
    "When we use this new_add_numbers function, we see the output display when the function is called, but we still get the same result back."
   ]
  },
  {
   "cell_type": "code",
   "execution_count": 45,
   "id": "530ca31e-c51e-4f83-bbd5-af41602674f9",
   "metadata": {},
   "outputs": [
    {
     "data": {
      "text/plain": [
       "'--add_numbers was called with 4 and 3'"
      ]
     },
     "metadata": {},
     "output_type": "display_data"
    }
   ],
   "source": [
    "my_money = 4\n",
    "money_you_gave_me = 3\n",
    "\n",
    "my_current_money = new_add_numbers(my_money, money_you_gave_me)"
   ]
  },
  {
   "cell_type": "code",
   "execution_count": 46,
   "id": "b0b16d0e-40c7-4d81-8b36-853fcf5f6451",
   "metadata": {},
   "outputs": [
    {
     "data": {
      "text/plain": [
       "7"
      ]
     },
     "metadata": {},
     "output_type": "display_data"
    }
   ],
   "source": [
    "display(my_current_money)"
   ]
  },
  {
   "cell_type": "markdown",
   "id": "b359e551-a56c-4bb2-a206-665bd40d1ffe",
   "metadata": {},
   "source": [
    "Now, we can take this one step further and _replace_ the original add_numbers function with the wrapped version. To do this, we need to save the old `add_number`s function in a variable which we will call `old_add_numbers` (and yes, we can save functions themselves into variables just like they were any other value)"
   ]
  },
  {
   "cell_type": "code",
   "execution_count": 49,
   "id": "b7961662-2adc-4ea1-8d02-176b9caee5d6",
   "metadata": {},
   "outputs": [],
   "source": [
    "# save the original add_numbers function\n",
    "old_add_numbers = add_numbers\n",
    "\n",
    "# wrap a new add numbers function around the original one\n",
    "# and have it display the arguments it was called with\n",
    "def new_add_numbers(num_1, num_2):\n",
    "    display(\"--add_numbers was called with \" + str(num_1) + \" and \" + str(num_2))\n",
    "    return old_add_numbers(num_1, num_2)\n",
    "\n",
    "# replace the original add_numbers function with the new wrapped one\n",
    "add_numbers = new_add_numbers"
   ]
  },
  {
   "cell_type": "markdown",
   "id": "433778ae-fe3c-4720-84a4-d0cd28ca930d",
   "metadata": {},
   "source": [
    "Now, we can go back to our code that used the original `add_numbers` function, but now it will get the wrapped version."
   ]
  },
  {
   "cell_type": "code",
   "execution_count": 50,
   "id": "4b5cf4c5-29d8-4827-bffb-14f7bd66f2dc",
   "metadata": {},
   "outputs": [
    {
     "data": {
      "text/plain": [
       "'--add_numbers was called with 4 and 3'"
      ]
     },
     "metadata": {},
     "output_type": "display_data"
    }
   ],
   "source": [
    "my_money = 4\n",
    "money_you_gave_me = 3\n",
    "\n",
    "my_current_money = add_numbers(my_money, money_you_gave_me)"
   ]
  },
  {
   "cell_type": "code",
   "execution_count": 51,
   "id": "522dc416-d7b9-4d55-a5e7-2f2bf521da0f",
   "metadata": {},
   "outputs": [
    {
     "data": {
      "text/plain": [
       "7"
      ]
     },
     "metadata": {},
     "output_type": "display_data"
    }
   ],
   "source": [
    "display(my_current_money)"
   ]
  },
  {
   "cell_type": "markdown",
   "id": "6d8f2d75-be85-460d-975c-55fc83d77a05",
   "metadata": {},
   "source": [
    "If wrapping functions was a confusing process, don't worry. We are only using it in the \"Track Tweepy Use\" demo in this chapter, and won't be using it again."
   ]
  }
 ],
 "metadata": {
  "kernelspec": {
   "display_name": "Python 3 (ipykernel)",
   "language": "python",
   "name": "python3"
  },
  "language_info": {
   "codemirror_mode": {
    "name": "ipython",
    "version": 3
   },
   "file_extension": ".py",
   "mimetype": "text/x-python",
   "name": "python",
   "nbconvert_exporter": "python",
   "pygments_lexer": "ipython3",
   "version": "3.10.4"
  }
 },
 "nbformat": 4,
 "nbformat_minor": 5
}
