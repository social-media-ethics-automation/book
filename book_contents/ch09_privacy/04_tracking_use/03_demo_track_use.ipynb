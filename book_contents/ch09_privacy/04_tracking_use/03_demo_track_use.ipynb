{
 "cells": [
  {
   "cell_type": "markdown",
   "id": "a779ca3a-c174-4e88-93ac-2124c7ea049a",
   "metadata": {},
   "source": [
    "# Demo: Track Tweepy Use\n",
    "In this code demo, we will take the `create_tweet` function that we've used several times earlier in this book, but now we will use the \"wrapping function\" trick from \"Demo: Writing Functions\" and track the uses of `create_tweet`. \n",
    "\n",
    "If we were being malicious we could track all the other Tweepy functions, hide the code we are using to wrap `create_tweet`, and send the results to some other account. In doing this we would violate the privacy of anyone who used tweepy with our malicious code."
   ]
  },
  {
   "cell_type": "markdown",
   "id": "7d500d2c-21ca-4a38-96de-703857a7d7e6",
   "metadata": {},
   "source": [
    "## Normal Tweepy Set-Up"
   ]
  },
  {
   "cell_type": "code",
   "execution_count": 51,
   "id": "3d3b3c2d-3500-448a-a9f4-9d500977b792",
   "metadata": {},
   "outputs": [],
   "source": [
    "import tweepy"
   ]
  },
  {
   "cell_type": "markdown",
   "id": "fcae7037-b587-4649-afec-4271d0fbca28",
   "metadata": {},
   "source": [
    " (optional) use the fake version of tweepy, so you don't have to use real twitter developer access passwords"
   ]
  },
  {
   "cell_type": "code",
   "execution_count": 52,
   "id": "5360c90a-3a63-426d-ba79-d34bac9be03b",
   "metadata": {},
   "outputs": [
    {
     "data": {
      "text/html": [
       "<strong style='color:darkred'>Fake tweepy is replacing the tweepy library. Fake Tweepy doesn&#x27;t need real passwords, and prevents you from accessing real twitter</strong>"
      ],
      "text/plain": [
       "<IPython.core.display.HTML object>"
      ]
     },
     "metadata": {},
     "output_type": "display_data"
    }
   ],
   "source": [
    "%run ../../fake_tweepy/fake_tweepy.ipynb"
   ]
  },
  {
   "cell_type": "code",
   "execution_count": 53,
   "id": "4652addb-023c-45e5-bb0c-2d27cf3c8564",
   "metadata": {},
   "outputs": [],
   "source": [
    "# Load all your developer access passwords into Python\n",
    "# TODO: Put your twitter account's special developer access passwords below:\n",
    "bearer_token = \"n4tossfgsafs_fake_bearer_token_isa53#$%$\"\n",
    "consumer_key = \"sa@#4@fdfdsa_fake_consumer_key_$%DSG#%DG\"\n",
    "consumer_secret = \"45adf$T$A_fake_consumer_secret_JESdsg\"\n",
    "access_token = \"56sd5Ss4tsea_fake_access_token_%YE%hDsdr\"\n",
    "access_token_secret = \"j^$dr_fake_consumer_key_^A5s#DR5s\""
   ]
  },
  {
   "cell_type": "code",
   "execution_count": 54,
   "id": "722134dc-4578-438e-8e90-2f6135d7e440",
   "metadata": {},
   "outputs": [
    {
     "data": {
      "text/html": [
       "<strong style='color:darkred'>Fake Tweepy is pretending to log in to twitter</strong>"
      ],
      "text/plain": [
       "<IPython.core.display.HTML object>"
      ]
     },
     "metadata": {},
     "output_type": "display_data"
    }
   ],
   "source": [
    "# Give the tweepy code your developer access passwords so\n",
    "# it can perform twitter actions\n",
    "client = tweepy.Client(\n",
    "   bearer_token=bearer_token,\n",
    "   consumer_key=consumer_key, consumer_secret=consumer_secret,\n",
    "   access_token=access_token, access_token_secret=access_token_secret\n",
    ")"
   ]
  },
  {
   "cell_type": "markdown",
   "id": "e49b6c70-1945-4bfe-ac72-4cef1092bfbb",
   "metadata": {},
   "source": [
    "## Tracking the create_tweet function use"
   ]
  },
  {
   "cell_type": "code",
   "execution_count": 55,
   "id": "8e6d1df0-2e07-409a-8df0-df34cf5767e2",
   "metadata": {},
   "outputs": [],
   "source": [
    "# list to hold the information we are tracking\n",
    "tweets_created = []\n",
    "\n",
    "# save the original create_tweet function\n",
    "old_create_tweet = client.create_tweet\n",
    "\n",
    "# make a new create tweet function that will track information,\n",
    "# then call the original create_tweet function\n",
    "def new_create_tweet(text=\"\"):\n",
    "    tweets_created.append(text)\n",
    "    \n",
    "    old_create_tweet(text=text) \n",
    "    \n",
    "# replace client.create_tweet with our new version, which also is tracking use\n",
    "client.create_tweet = new_create_tweet"
   ]
  },
  {
   "cell_type": "code",
   "execution_count": 56,
   "id": "79ce290f-15b2-47bf-9cad-6391a884aac8",
   "metadata": {},
   "outputs": [
    {
     "data": {
      "text/html": [
       "<strong style='color:darkred'>Fake Tweepy is pretending to post this tweet (note: real tweepy shows no output here when a tweet is posted): </strong>"
      ],
      "text/plain": [
       "<IPython.core.display.HTML object>"
      ]
     },
     "metadata": {},
     "output_type": "display_data"
    },
    {
     "name": "stdout",
     "output_type": "stream",
     "text": [
      "I am using the tweepy library like normal\n"
     ]
    },
    {
     "data": {
      "text/html": [
       "<strong style='color:darkred'>Fake Tweepy is pretending to post this tweet (note: real tweepy shows no output here when a tweet is posted): </strong>"
      ],
      "text/plain": [
       "<IPython.core.display.HTML object>"
      ]
     },
     "metadata": {},
     "output_type": "display_data"
    },
    {
     "name": "stdout",
     "output_type": "stream",
     "text": [
      "There is no indication that anything is working differntly\n"
     ]
    },
    {
     "data": {
      "text/html": [
       "<strong style='color:darkred'>Fake Tweepy is pretending to post this tweet (note: real tweepy shows no output here when a tweet is posted): </strong>"
      ],
      "text/plain": [
       "<IPython.core.display.HTML object>"
      ]
     },
     "metadata": {},
     "output_type": "display_data"
    },
    {
     "name": "stdout",
     "output_type": "stream",
     "text": [
      "I might not realize these tweets are being tracked\n"
     ]
    }
   ],
   "source": [
    "client.create_tweet(text=\"I am using the tweepy library like normal\")\n",
    "client.create_tweet(text=\"There is no indication that anything is working differntly\")\n",
    "client.create_tweet(text=\"I might not realize these tweets are being tracked\")"
   ]
  },
  {
   "cell_type": "markdown",
   "id": "f356eb40-868e-46fa-b619-cb55b8057431",
   "metadata": {},
   "source": [
    "So, our calls to `client.create_tweet` worked like normal.\n",
    "\n",
    "But if I look at the `tweets_created` variable I can see all the tweets there"
   ]
  },
  {
   "cell_type": "code",
   "execution_count": 57,
   "id": "ca972610-be59-4102-83e8-93473fb817f3",
   "metadata": {},
   "outputs": [
    {
     "data": {
      "text/plain": [
       "['I am using the tweepy library like normal',\n",
       " 'There is no indication that anything is working differntly',\n",
       " 'I might not realize these tweets are being tracked']"
      ]
     },
     "metadata": {},
     "output_type": "display_data"
    }
   ],
   "source": [
    "display(tweets_created)"
   ]
  },
  {
   "cell_type": "markdown",
   "id": "6fc79799-f2c4-45d9-a132-fe4ef7967582",
   "metadata": {},
   "source": [
    "Now, if we were being malicious, we would hide this code in some other code library we would try to convince you to use, that way you wouldn't notice the code. And instead of just saving those tweets to a variable, we would send it to ourselves, perhaps by putting code into our new_create_tweet to log into a different twitter account and private messaged that info to ourselves."
   ]
  },
  {
   "cell_type": "markdown",
   "id": "d7fb9326-86bd-43f1-9367-4944c941e9de",
   "metadata": {},
   "source": [
    "## How can we trust code libraries?\n",
    "If people can make code libraries track us and violate our privacy, how can we trust them? We could try looking at the [source code for tweepy](https://github.com/tweepy/tweepy/blob/ad5e31be58965d67e353128f711857a47f8d45d0/tweepy/client.py#L714) to try and make sure the library we are using isn't doing anything bad, but no programmer can be expected to read through all the libraries they use. There is unfortunately no simple answer to this.\n",
    "\n",
    "In fact, there are cases where people have messed with code libraries:\n",
    "- The United States National Security Agency \"[paid massive computer security firm RSA $10 million to promote a flawed encryption system so that the surveillance organization could wiggle its way around security.](https://gizmodo.com/nsa-paid-security-firm-10-million-bribe-to-keep-encryp-1487442397)\"\n",
    "  - Does US national security outweigh global computer security? \n",
    "- Shortly after the Russian invasion of Ukraine in 2022, someone modified a popular NodeJS code library so that it would [automatically destroy files if it was run on a computer in Russia or Belarus](https://arstechnica.com/information-technology/2022/03/sabotage-code-added-to-popular-npm-package-wiped-files-in-russia-and-belarus/).\n",
    "  - Does opposing a military invasion justify sabatoging a code library? \n",
    "  \n",
    "And those are just the intentional problems with code libraries. All sorts of code libraries and computer programs are full of security flaws, which are regularly discovered and fixed (though who knows how much the flaws were exploited first).\n"
   ]
  }
 ],
 "metadata": {
  "kernelspec": {
   "display_name": "Python 3 (ipykernel)",
   "language": "python",
   "name": "python3"
  },
  "language_info": {
   "codemirror_mode": {
    "name": "ipython",
    "version": 3
   },
   "file_extension": ".py",
   "mimetype": "text/x-python",
   "name": "python",
   "nbconvert_exporter": "python",
   "pygments_lexer": "ipython3",
   "version": "3.10.4"
  }
 },
 "nbformat": 4,
 "nbformat_minor": 5
}
