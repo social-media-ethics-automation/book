{
 "cells": [
  {
   "cell_type": "markdown",
   "id": "574eeeee-eb48-4af0-9815-6b10faa827a9",
   "metadata": {},
   "source": [
    "# Demo: Extra Data From Twitter\n",
    "\n",
    "In order to get alt-text data from images in Tweets, we're going to have to look at how to get extra data from Twitter.\n",
    "\n",
    "_Note: You don't really need to undestand this whole process, you can just take the final code pieces and copy/paste them to use them yourself. We are including this explanation in case you want to know how it is working._\n",
    "\n",
    "The examples here are based on examples from [this website](https://dev.to/twitterdev/a-comprehensive-guide-for-using-the-twitter-api-v2-using-tweepy-in-python-15d9)\n",
    "\n",
    "But first let's do our normal tweepy set-up"
   ]
  },
  {
   "cell_type": "markdown",
   "id": "531731d4-1e44-4348-aade-d096aac4d0e1",
   "metadata": {},
   "source": [
    "## Normal Tweepy Set-Up"
   ]
  },
  {
   "cell_type": "code",
   "execution_count": 106,
   "id": "9f4e03b6-67ee-4dc8-9b3a-15e7ba244759",
   "metadata": {
    "tags": []
   },
   "outputs": [],
   "source": [
    "import tweepy"
   ]
  },
  {
   "cell_type": "markdown",
   "id": "20cc9403-ece9-4c2f-af5f-a3d340a63af7",
   "metadata": {},
   "source": [
    "(optional) use the fake version of tweepy, so you don’t have to use real twitter developer access passwords"
   ]
  },
  {
   "cell_type": "code",
   "execution_count": 107,
   "id": "ba325538-2d95-4cfa-a636-c114b8a07998",
   "metadata": {},
   "outputs": [
    {
     "data": {
      "text/html": [
       "<strong style='color:darkred'>Fake tweepy is replacing the tweepy library. Fake Tweepy doesn&#x27;t need real passwords, and prevents you from accessing real twitter</strong>"
      ],
      "text/plain": [
       "<IPython.core.display.HTML object>"
      ]
     },
     "metadata": {},
     "output_type": "display_data"
    }
   ],
   "source": [
    "%run ../../fake_tweepy/fake_tweepy.ipynb"
   ]
  },
  {
   "cell_type": "code",
   "execution_count": 108,
   "id": "3752869c-95bc-4965-a4f8-db380c867419",
   "metadata": {},
   "outputs": [],
   "source": [
    "# Load all your developer access passwords into Python\n",
    "# TODO: Put your twitter account's special developer access passwords below:\n",
    "bearer_token = \"n4tossfgsafs_fake_bearer_token_isa53#$%$\"\n",
    "consumer_key = \"sa@#4@fdfdsa_fake_consumer_key_$%DSG#%DG\"\n",
    "consumer_secret = \"45adf$T$A_fake_consumer_secret_JESdsg\"\n",
    "access_token = \"56sd5Ss4tsea_fake_access_token_%YE%hDsdr\"\n",
    "access_token_secret = \"j^$dr_fake_consumer_key_^A5s#DR5s\""
   ]
  },
  {
   "cell_type": "code",
   "execution_count": 109,
   "id": "b0935b9f-a97f-4175-a940-dd54709ed641",
   "metadata": {},
   "outputs": [
    {
     "data": {
      "text/html": [
       "<strong style='color:darkred'>Fake Tweepy is pretending to log in to twitter</strong>"
      ],
      "text/plain": [
       "<IPython.core.display.HTML object>"
      ]
     },
     "metadata": {},
     "output_type": "display_data"
    }
   ],
   "source": [
    "# Give the tweepy code your developer access passwords so\n",
    "# it can perform twitter actions\n",
    "client = tweepy.Client(\n",
    "   bearer_token=bearer_token,\n",
    "   consumer_key=consumer_key, consumer_secret=consumer_secret,\n",
    "   access_token=access_token, access_token_secret=access_token_secret\n",
    ")"
   ]
  },
  {
   "cell_type": "markdown",
   "id": "e4da52a3-e48b-49ca-8814-4dc523c8047c",
   "metadata": {},
   "source": [
    "## Get media (including image) data\n",
    "\n",
    "If we want to get media (including image) data from tweets, when we are using search_recent_tweets, then we have to include:\n",
    "- `expansions='attachments.media_keys'` which tells Tweepy to get the media information for the tweet\n",
    "- `media_fields=['preview_image_url', 'height', 'width']` which tells Tweepy which information to get for each piece of media.\n",
    "\n",
    "Let's do a search for tweets that include the word dog, and have an image, and are not retweets (so we don't just get the same tweet for all the times it was retweeted):"
   ]
  },
  {
   "cell_type": "code",
   "execution_count": 110,
   "id": "dda787a9-361c-4b8d-ac73-c0ef34221019",
   "metadata": {},
   "outputs": [
    {
     "data": {
      "text/html": [
       "<strong style='color:darkred'>Fake Tweepy is pretending to search for &#x27;dog -is:retweet has:images&#x27; and is returning some fake tweets.</strong>"
      ],
      "text/plain": [
       "<IPython.core.display.HTML object>"
      ]
     },
     "metadata": {},
     "output_type": "display_data"
    }
   ],
   "source": [
    "query = \"dog -is:retweet has:images\"\n",
    "\n",
    "tweet_search_results = client.search_recent_tweets(\n",
    "                                    query=query,\n",
    "                                    expansions='attachments.media_keys', #tell twitter to download the media related to this tweet\n",
    "                                    media_fields=['preview_image_url', 'height', 'width']  # when getting the media, make sure to include this info\n",
    "                                    )\n"
   ]
  },
  {
   "cell_type": "markdown",
   "id": "bb8f55e0-3c31-4334-8df9-150a24517968",
   "metadata": {},
   "source": [
    "Now, when our search comes back, it has both the Tweet information and the information about media (including images) in those Tweets. \n",
    "\n",
    "Unfortunately the Tweet info and the media info come back in two separate parts of the tweet_search_results:\n",
    "- `tweet_search_results.data` has the list of tweets\n",
    "- `tweet_search_results.includes['media']` has a list of the pieces of media in the tweets\n",
    "\n"
   ]
  },
  {
   "cell_type": "code",
   "execution_count": 111,
   "id": "891a84b2-1a49-48f5-8e4f-aaa1f009ae32",
   "metadata": {},
   "outputs": [
    {
     "data": {
      "text/plain": [
       "[namespace(text='Look at my cute dog!',\n",
       "           id=2342352355,\n",
       "           author_id=213412413,\n",
       "           data={'attachments': {'media_keys': ['7_4353463']}}),\n",
       " namespace(text='check out these dog photos',\n",
       "           id=93298432,\n",
       "           author_id=309453565,\n",
       "           data={'attachments': {'media_keys': ['4_354354', '4_324654']}}),\n",
       " namespace(text='lol silly dog!',\n",
       "           id=43954354,\n",
       "           author_id=309453565,\n",
       "           data={'attachments': {'media_keys': ['5_45353']}})]"
      ]
     },
     "metadata": {},
     "output_type": "display_data"
    }
   ],
   "source": [
    "display(tweet_search_results.data)"
   ]
  },
  {
   "cell_type": "code",
   "execution_count": 112,
   "id": "25ff0e40-d144-4a6b-b256-1678eb43fbed",
   "metadata": {},
   "outputs": [
    {
     "data": {
      "text/plain": [
       "[namespace(media_key='7_4353463',\n",
       "           type='photo',\n",
       "           height=600,\n",
       "           width=800,\n",
       "           alt_text='Photo of a small dog lying flat on floor, looking exhausted',\n",
       "           url='fake_website_photo1.jpg'),\n",
       " namespace(media_key='4_354354',\n",
       "           type='photo',\n",
       "           height=300,\n",
       "           width=400,\n",
       "           alt_text=None,\n",
       "           url='fake_website_photo2.jpg'),\n",
       " namespace(media_key='4_324654',\n",
       "           type='photo',\n",
       "           height=300,\n",
       "           width=400,\n",
       "           alt_text=None,\n",
       "           url='fake_website_photo3.jpg'),\n",
       " namespace(media_key='5_45353',\n",
       "           type='photo',\n",
       "           height=1200,\n",
       "           width=1024,\n",
       "           alt_text='photo taken by fake user 2',\n",
       "           url='fake_website_photo4.jpg')]"
      ]
     },
     "metadata": {},
     "output_type": "display_data"
    }
   ],
   "source": [
    "display(tweet_search_results.includes['media'])"
   ]
  },
  {
   "cell_type": "markdown",
   "id": "f720ef7c-9592-428f-b92a-aec67a720bf4",
   "metadata": {},
   "source": [
    "The way this comes back doesn't directly tell us which piece of media is part of which tweet. Instead, for each piece of media, there is a special id number called the `media_key`, and for each tweet there is a list of `media_key`s that are part of the tweet. \n",
    "- for a `tweet` in `tweets.data`, the media_keys are in `tweet.data['attachments']['media_keys']`\n",
    "- for a piece of `media` in the `tweets.includes['media']`, the media_id is in `media['media_key']`\n",
    "\n",
    "So, if we are looking at a tweet, and look at the media keys, we will want to look up the media information that goes with that key. Looking up something based on a key is easiest to do with a dictionary in Python. So, what we will do is make a dictionary where the keys are media_keys, and the values are the media information. It will look something like this:\n",
    "\n",
    "Below is the code to do this (using several Python short hand tricks at once):"
   ]
  },
  {
   "cell_type": "code",
   "execution_count": 113,
   "id": "eae06fae-a7cc-409e-aa76-9051b8e1999e",
   "metadata": {},
   "outputs": [
    {
     "data": {
      "text/plain": [
       "{'7_4353463': namespace(media_key='7_4353463',\n",
       "           type='photo',\n",
       "           height=600,\n",
       "           width=800,\n",
       "           alt_text='Photo of a small dog lying flat on floor, looking exhausted',\n",
       "           url='fake_website_photo1.jpg'),\n",
       " '4_354354': namespace(media_key='4_354354',\n",
       "           type='photo',\n",
       "           height=300,\n",
       "           width=400,\n",
       "           alt_text=None,\n",
       "           url='fake_website_photo2.jpg'),\n",
       " '4_324654': namespace(media_key='4_324654',\n",
       "           type='photo',\n",
       "           height=300,\n",
       "           width=400,\n",
       "           alt_text=None,\n",
       "           url='fake_website_photo3.jpg'),\n",
       " '5_45353': namespace(media_key='5_45353',\n",
       "           type='photo',\n",
       "           height=1200,\n",
       "           width=1024,\n",
       "           alt_text='photo taken by fake user 2',\n",
       "           url='fake_website_photo4.jpg')}"
      ]
     },
     "metadata": {},
     "output_type": "display_data"
    }
   ],
   "source": [
    "media_lookup = {m.media_key: m for m in tweet_search_results.includes['media']}\n",
    "\n",
    "display(media_lookup)"
   ]
  },
  {
   "cell_type": "markdown",
   "id": "c33af17f-b350-4fe6-9bec-c8de84e6c470",
   "metadata": {},
   "source": [
    "Now we can choose a tweet, find the media_keys for that tweet, and then look up the media information on each of those tweets"
   ]
  },
  {
   "cell_type": "code",
   "execution_count": 114,
   "id": "c3a0a565-a43e-4031-9f69-477c3c012857",
   "metadata": {},
   "outputs": [
    {
     "name": "stdout",
     "output_type": "stream",
     "text": [
      "displaying info for tweet: Look at my cute dog!\n",
      "  type: photo\n",
      "  height: 600\n",
      "  width: 800\n",
      "\n"
     ]
    }
   ],
   "source": [
    "# get the first tweet\n",
    "first_tweet = tweet_search_results.data[0]\n",
    "\n",
    "print(\"displaying info for tweet: \" + first_tweet.text)\n",
    "\n",
    "# get the media keys for the first tweet\n",
    "first_tweet_media_keys = first_tweet.data['attachments']['media_keys']\n",
    "\n",
    "# loop through the media keys\n",
    "for media_key in first_tweet_media_keys:\n",
    "    # lookup the info about this particular media_key\n",
    "    media_info = media_lookup[media_key]\n",
    "    \n",
    "    # print out some info about this piece of media\n",
    "    print(\"  type: \" + media_info.type)\n",
    "    print(\"  height: \" + str(media_info.height))\n",
    "    print(\"  width: \" + str(media_info.width))\n",
    "    print()"
   ]
  },
  {
   "cell_type": "markdown",
   "id": "d5825f23-3859-45ac-92d2-a30002912063",
   "metadata": {},
   "source": [
    "## Get user information\n",
    "User information works the same way that media information did, though there will only be one author per tweet. We have to set an expansion and tell what user fields to download:"
   ]
  },
  {
   "cell_type": "code",
   "execution_count": 115,
   "id": "f7a1f9de-036b-463d-8e51-e4c520ca8497",
   "metadata": {},
   "outputs": [
    {
     "data": {
      "text/html": [
       "<strong style='color:darkred'>Fake Tweepy is pretending to search for &#x27;dog -is:retweet has:images&#x27; and is returning some fake tweets.</strong>"
      ],
      "text/plain": [
       "<IPython.core.display.HTML object>"
      ]
     },
     "metadata": {},
     "output_type": "display_data"
    }
   ],
   "source": [
    "query = \"dog -is:retweet has:images\"\n",
    "\n",
    "tweet_search_results = client.search_recent_tweets(\n",
    "                                    query=query,\n",
    "                                    expansions='author_id', #tell twitter to download the author related to this tweet\n",
    "                                    user_fields=['profile_image_url']  # when getting the author, make sure to include this info\n",
    "                                    )"
   ]
  },
  {
   "cell_type": "markdown",
   "id": "52e7a8d5-fb1f-476f-a9d4-86d30495d3a8",
   "metadata": {},
   "source": [
    "Then we make a lookup dictionary for the user information"
   ]
  },
  {
   "cell_type": "code",
   "execution_count": 116,
   "id": "d7b40dfa-1185-41b9-88ef-051c96e493ce",
   "metadata": {},
   "outputs": [
    {
     "data": {
      "text/plain": [
       "{213412413: namespace(id=213412413,\n",
       "           name='Fake User 1',\n",
       "           username='fakeuser1',\n",
       "           profile_image_url='fake_profile_image1.jpg'),\n",
       " 309453565: namespace(id=309453565,\n",
       "           name='Fake User 2',\n",
       "           username='fakeuser2',\n",
       "           profile_image_url='fake_profile_image2.jpg')}"
      ]
     },
     "metadata": {},
     "output_type": "display_data"
    }
   ],
   "source": [
    "user_lookup = {u.id: u for u in tweet_search_results.includes['users']}\n",
    "\n",
    "display(user_lookup)"
   ]
  },
  {
   "cell_type": "markdown",
   "id": "6fdf249f-277f-4cca-b8ee-5b79cf0ea4a4",
   "metadata": {},
   "source": [
    "Then we can find the `author_id` of a tweet in tweet.author_id, and look it up in the `user_lookup` dictionary"
   ]
  },
  {
   "cell_type": "code",
   "execution_count": 117,
   "id": "327969c2-5d40-44e3-b9fb-3671b651394c",
   "metadata": {},
   "outputs": [
    {
     "name": "stdout",
     "output_type": "stream",
     "text": [
      "displaying info for tweet: Look at my cute dog!\n",
      "  author name: Fake User 1\n",
      "  author username: fakeuser1\n",
      "  author profile image: fake_profile_image1.jpg\n"
     ]
    }
   ],
   "source": [
    "first_tweet = tweet_search_results.data[0]\n",
    "\n",
    "print(\"displaying info for tweet: \" + first_tweet.text)\n",
    "\n",
    "# get the author id for the first tweet\n",
    "first_tweet_author_id = first_tweet.author_id\n",
    "\n",
    "author = user_lookup[first_tweet_author_id]\n",
    "\n",
    "# look up info about the author:\n",
    "print(\"  author name: \" + author.name)\n",
    "print(\"  author username: \" + author.username)\n",
    "print(\"  author profile image: \" + author.profile_image_url)\n",
    "\n"
   ]
  },
  {
   "cell_type": "code",
   "execution_count": null,
   "id": "29afd220-ab6e-47c2-89e0-27308015482f",
   "metadata": {},
   "outputs": [],
   "source": []
  }
 ],
 "metadata": {
  "kernelspec": {
   "display_name": "Python 3 (ipykernel)",
   "language": "python",
   "name": "python3"
  },
  "language_info": {
   "codemirror_mode": {
    "name": "ipython",
    "version": 3
   },
   "file_extension": ".py",
   "mimetype": "text/x-python",
   "name": "python",
   "nbconvert_exporter": "python",
   "pygments_lexer": "ipython3",
   "version": "3.10.4"
  }
 },
 "nbformat": 4,
 "nbformat_minor": 5
}
