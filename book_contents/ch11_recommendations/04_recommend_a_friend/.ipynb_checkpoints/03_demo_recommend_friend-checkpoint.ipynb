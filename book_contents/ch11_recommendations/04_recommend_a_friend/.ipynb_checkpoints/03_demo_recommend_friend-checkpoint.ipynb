{
 "cells": [
  {
   "cell_type": "markdown",
   "id": "f2446309-25e4-4582-a537-b8292885dcad",
   "metadata": {},
   "source": [
    "# Demo: Recommend a User to Follow\n",
    "\n",
    "Now let's look at a recommendation algorithm for a new person to friend or follow. Our algorithm will be\n",
    "\n",
    "For a given user:\n",
    "1. Look at the people this user follows\n",
    "2. For each of those follows, look at who they follow\n",
    "3. While doing this, keep track of what accounts showed up most \n",
    "4. Recommend the accounts that showed up the most (the users most followed by people followed by our given user)"
   ]
  },
  {
   "cell_type": "markdown",
   "id": "ae27cd44-3897-4154-b7a1-a5a807bf92c7",
   "metadata": {},
   "source": [
    "## Normal Tweepy Set-Up"
   ]
  },
  {
   "cell_type": "code",
   "execution_count": 1,
   "id": "0d45a981-86cd-41f0-bc0a-066afdc985b4",
   "metadata": {
    "tags": []
   },
   "outputs": [],
   "source": [
    "# make sure tweepy library is installed\n",
    "import tweepy"
   ]
  },
  {
   "cell_type": "markdown",
   "id": "c699f603-a604-43b9-af9e-27e3ca60f542",
   "metadata": {},
   "source": [
    "(optional) use the fake version of tweepy, so you don’t have to use real twitter developer access passwords"
   ]
  },
  {
   "cell_type": "code",
   "execution_count": 6,
   "id": "24a8ae3d-bc92-4628-b348-75d1ffcf1bfe",
   "metadata": {},
   "outputs": [
    {
     "data": {
      "text/html": [
       "<strong style='color:darkred'>Fake tweepy is replacing the tweepy library. Fake Tweepy doesn&#x27;t need real passwords, and prevents you from accessing real twitter</strong>"
      ],
      "text/plain": [
       "<IPython.core.display.HTML object>"
      ]
     },
     "metadata": {},
     "output_type": "display_data"
    }
   ],
   "source": [
    "%run ../../fake_tweepy/fake_tweepy.ipynb"
   ]
  },
  {
   "cell_type": "code",
   "execution_count": 7,
   "id": "72567e4d-e517-43f1-a949-49fb29120ddf",
   "metadata": {},
   "outputs": [],
   "source": [
    "# Load all your developer access passwords into Python\n",
    "# TODO: Put your twitter account's special developer access passwords below:\n",
    "bearer_token = \"n4tossfgsafs_fake_bearer_token_isa53#$%$\"\n",
    "consumer_key = \"sa@#4@fdfdsa_fake_consumer_key_$%DSG#%DG\"\n",
    "consumer_secret = \"45adf$T$A_fake_consumer_secret_JESdsg\"\n",
    "access_token = \"56sd5Ss4tsea_fake_access_token_%YE%hDsdr\"\n",
    "access_token_secret = \"j^$dr_fake_consumer_key_^A5s#DR5s\""
   ]
  },
  {
   "cell_type": "code",
   "execution_count": 8,
   "id": "94c2d5da-d971-454a-aebf-3ed64e286b01",
   "metadata": {},
   "outputs": [
    {
     "data": {
      "text/html": [
       "<strong style='color:darkred'>Fake Tweepy is pretending to log in to twitter</strong>"
      ],
      "text/plain": [
       "<IPython.core.display.HTML object>"
      ]
     },
     "metadata": {},
     "output_type": "display_data"
    }
   ],
   "source": [
    "# Give the tweepy code your developer access passwords so\n",
    "# it can perform twitter actions\n",
    "client = tweepy.Client(\n",
    "   bearer_token=bearer_token,\n",
    "   consumer_key=consumer_key, consumer_secret=consumer_secret,\n",
    "   access_token=access_token, access_token_secret=access_token_secret\n",
    ")"
   ]
  },
  {
   "cell_type": "markdown",
   "id": "f1bee274-d39f-401c-944f-f37678cf5134",
   "metadata": {},
   "source": [
    "## Make a helper function (id_from_username\n",
    "Now that we've learned functions, we will be putting much of our code in functions. \n",
    "\n",
    "So in order to simplify our code later, we will make a function that, when given a username, looks up the user and gets their id number (since we'll need to use that id later)"
   ]
  },
  {
   "cell_type": "code",
   "execution_count": 9,
   "id": "a476b639-df99-4737-83f8-a37fb3654b50",
   "metadata": {},
   "outputs": [],
   "source": [
    "def id_from_username(username):\n",
    "    user_info = client.get_user(username=username)\n",
    "    user_id = user_info.data.id\n",
    "    return user_id"
   ]
  },
  {
   "cell_type": "markdown",
   "id": "21e1b71b-b881-4227-82f4-76df85e47df0",
   "metadata": {},
   "source": [
    "## Make a function to get follow suggestions\n",
    "Now we make a function that will generate follow suggestions.\n",
    "\n",
    "The function takes a username (who we are making suggestions for), and a num_followers_to_check, which limits how many follows of our user we check (since Twitter limits how many requests we can make)\n",
    "\n",
    "We then get a list of the follows for our user, and we create a dictionary counter (`possible_suggestion_counts`).\n",
    "\n",
    "For each of our user's follows, we get a list of who they follow (the follow-follows). Then for each of the follow_follows, we see if that user is in the `possible_suggestion_counts` dictionary, and add it if it wasn't there (starting with 1), or add 1 to it if it was already there.\n",
    "\n",
    "After the for loop we have counts for our possible suggestions (how often the follow-follows appeared). So we sort the list to put the most common ones at the top, and we return the results."
   ]
  },
  {
   "cell_type": "code",
   "execution_count": 24,
   "id": "a8297615-bb0f-4728-8ff1-c891336335a9",
   "metadata": {},
   "outputs": [],
   "source": [
    "def get_follow_suggestions(username, num_followers_to_check=3):\n",
    "    # for a given user, I need to user id\n",
    "    user_id = id_from_username(username)\n",
    "\n",
    "    # find the people that user currently follows\n",
    "    follow_users = client.get_users_following(id=user_id, max_results=num_followers_to_check)\n",
    "\n",
    "    # dictionary to track who my follow follows are, as possible suggestions\n",
    "    # The keys will be the username, and the values will be how often they\n",
    "    # appeared as follow follows\n",
    "    possible_suggestion_counts = {}\n",
    "\n",
    "    # for each of those people, see who they follow\n",
    "    for follow_user in follow_users.data:\n",
    "        print(\"looking for followings of user: \" + follow_user.username)\n",
    "        follow_follow_users = client.get_users_following(id=follow_user.id)\n",
    "        \n",
    "        # print out the follow-follows (using some python tricks to make it display nicer)\n",
    "        print(\"  the follow-follows are: \" + str(list(map(lambda x: x.username, follow_follow_users.data))))\n",
    "\n",
    "        for follow_follow_user in follow_follow_users.data:\n",
    "            possible_suggestion = follow_follow_user.username\n",
    "\n",
    "            # If this possible suggestion is not yet in the dictionary,\n",
    "            # add it with a count of one\n",
    "            if possible_suggestion not in possible_suggestion_counts:\n",
    "                possible_suggestion_counts[possible_suggestion] = 1\n",
    "            else: #otherwise, update the count in the dictionary\n",
    "                possible_suggestion_counts[possible_suggestion] += 1\n",
    "\n",
    "        print()\n",
    "\n",
    "    # sort the suggestions by who appeared the most\n",
    "    ordered_suggestions = sorted(possible_suggestion_counts.items(), key=lambda x: -x[1])\n",
    "    # recommend that I follow the people who those people follow most\n",
    "    return ordered_suggestions"
   ]
  },
  {
   "cell_type": "markdown",
   "id": "e55421ee-bda1-44fc-b7eb-1afa3ae4aed7",
   "metadata": {},
   "source": [
    "## Test our function (suggest follows)\n",
    "Now that our function is ready, we can test it out and see who we suggest our \"fake_user\" should follow (if you skip fake_tweepy and log into real twitter, you can do this for real users)"
   ]
  },
  {
   "cell_type": "code",
   "execution_count": 25,
   "id": "1c0e2227-1f1e-4e54-8035-36107b6c7318",
   "metadata": {},
   "outputs": [
    {
     "name": "stdout",
     "output_type": "stream",
     "text": [
      "looking for followings of user: unreal_user\n",
      "  the follow-follows are: ['great_user', 'awesome_user']\n",
      "looking for followings of user: imaginary_user\n",
      "  the follow-follows are: ['ok_user', 'awesome_user']\n",
      "looking for followings of user: false_user\n",
      "  the follow-follows are: ['great_user', 'awesome_user', 'mediocre_user', 'another_user']\n"
     ]
    },
    {
     "data": {
      "text/plain": [
       "[('awesome_user', 3),\n",
       " ('great_user', 2),\n",
       " ('ok_user', 1),\n",
       " ('mediocre_user', 1),\n",
       " ('another_user', 1)]"
      ]
     },
     "metadata": {},
     "output_type": "display_data"
    }
   ],
   "source": [
    "suggestions = get_follow_suggestions(\"fake_user\", num_followers_to_check=5)\n",
    "\n",
    "display(suggestions)"
   ]
  },
  {
   "cell_type": "markdown",
   "id": "94f52813-14a2-4371-92db-c3d742f97a53",
   "metadata": {},
   "source": [
    "If you skip the fake_tweepy step and run this on real Twitter, you might see some issues with the suggestions that we haven't accounted for, such as:\n",
    "- it might suggest the user follow themself, or someone they already follow\n",
    "- the follow lists can be very long and you might not be getting the whole list in the `client.get_users_following()` function call (you could use [pagination](https://docs.tweepy.org/en/stable/v2_pagination.html) to get more)\n",
    "\n",
    "We could of course add more code to deal with those issues, but hopefully you can at least get the idea of how this recommendation algorithm works :)"
   ]
  }
 ],
 "metadata": {
  "kernelspec": {
   "display_name": "Python 3 (ipykernel)",
   "language": "python",
   "name": "python3"
  },
  "language_info": {
   "codemirror_mode": {
    "name": "ipython",
    "version": 3
   },
   "file_extension": ".py",
   "mimetype": "text/x-python",
   "name": "python",
   "nbconvert_exporter": "python",
   "pygments_lexer": "ipython3",
   "version": "3.10.4"
  }
 },
 "nbformat": 4,
 "nbformat_minor": 5
}
