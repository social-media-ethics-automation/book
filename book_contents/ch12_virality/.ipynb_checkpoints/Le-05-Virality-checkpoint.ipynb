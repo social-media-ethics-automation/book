{
 "cells": [
  {
   "cell_type": "markdown",
   "id": "574eeeee-eb48-4af0-9815-6b10faa827a9",
   "metadata": {},
   "source": [
    "# Demo of getting image data"
   ]
  },
  {
   "cell_type": "markdown",
   "id": "531731d4-1e44-4348-aade-d096aac4d0e1",
   "metadata": {},
   "source": [
    "## Set up"
   ]
  },
  {
   "cell_type": "code",
   "execution_count": null,
   "id": "bc8fbdbf-4a15-4265-a803-f40854444361",
   "metadata": {
    "tags": []
   },
   "outputs": [],
   "source": [
    "# Install variable inspector (then reload browser tab)\n",
    "!pip install lckr-jupyterlab-variableinspector"
   ]
  },
  {
   "cell_type": "code",
   "execution_count": null,
   "id": "9f4e03b6-67ee-4dc8-9b3a-15e7ba244759",
   "metadata": {
    "tags": []
   },
   "outputs": [],
   "source": [
    "# make sure tweepy library is installed\n",
    "!pip install tweepy \n",
    "import tweepy"
   ]
  },
  {
   "cell_type": "code",
   "execution_count": 2,
   "id": "3752869c-95bc-4965-a4f8-db380c867419",
   "metadata": {},
   "outputs": [],
   "source": [
    "# load my twitter keys\n",
    "import my_bot_keys"
   ]
  },
  {
   "cell_type": "code",
   "execution_count": 3,
   "id": "b0935b9f-a97f-4175-a940-dd54709ed641",
   "metadata": {},
   "outputs": [],
   "source": [
    "# log into tweepy\n",
    "client = tweepy.Client(\n",
    "    bearer_token=my_bot_keys.bearer_token,\n",
    "    consumer_key=my_bot_keys.consumer_key, consumer_secret=my_bot_keys.consumer_secret,                   \n",
    "    access_token=my_bot_keys.access_token, access_token_secret=my_bot_keys.access_token_secret\n",
    ")"
   ]
  },
  {
   "cell_type": "markdown",
   "id": "e4da52a3-e48b-49ca-8814-4dc523c8047c",
   "metadata": {},
   "source": [
    "## Find tweets with images\n",
    "Resources: \n",
    "* Tweepy documentation (for Twitter API v2): https://docs.tweepy.org/en/stable/client.html\n",
    "* Some examples of how to use Tweepy: https://dev.to/twitterdev/a-comprehensive-guide-for-using-the-twitter-api-v2-using-tweepy-in-python-15d9 "
   ]
  },
  {
   "cell_type": "code",
   "execution_count": 15,
   "id": "1b213c67-5df8-4346-9689-bdf6cb902b7d",
   "metadata": {},
   "outputs": [
    {
     "name": "stdout",
     "output_type": "stream",
     "text": [
      "[<Media media_key=3_1484694615018000386 type=photo>, <Media media_key=3_1484651913274482690 type=photo>, <Media media_key=3_1484383514128642048 type=photo>]\n",
      "<Media media_key=3_1484694615018000386 type=photo>\n",
      "None\n",
      "1512\n",
      "2016\n",
      "\n",
      "<Media media_key=3_1484651913274482690 type=photo>\n",
      "None\n",
      "1102\n",
      "828\n",
      "\n",
      "<Media media_key=3_1484383514128642048 type=photo>\n",
      "None\n",
      "920\n",
      "828\n",
      "\n",
      "https://twitter.com/twitter/statuses/1484694623859535875\n",
      "What an (almost 5 pm) sunset over Puget Sound tonight! Thx to ⁦@HallieTerrell88⁩ for the photo https://t.co/jYGrvntknZ\n",
      "{'media_keys': ['3_1484694615018000386']}\n",
      "1512\n",
      "2016\n",
      "\n",
      "https://twitter.com/twitter/statuses/1484651917519118337\n",
      "Welcome to dullsville, folks. \n",
      "\n",
      "No complaints … as long as it snows in February! https://t.co/8jUA18hTwV\n",
      "{'media_keys': ['3_1484651913274482690']}\n",
      "1102\n",
      "828\n",
      "\n",
      "https://twitter.com/twitter/statuses/1484383517643399172\n",
      "Don’t look now, but a late-January miracle might be in the making https://t.co/DAMqOLYoY6\n",
      "{'media_keys': ['3_1484383514128642048']}\n",
      "920\n",
      "828\n",
      "\n"
     ]
    }
   ],
   "source": [
    "query = \"from:KSeattleWeather -is:retweet has:images\"\n",
    "\n",
    "tweets = client.search_recent_tweets(query=query,\n",
    "                                    expansions='attachments.media_keys', #tell twitter to download the media related to this tweet\n",
    "                                    media_fields=['preview_image_url', 'height', 'width']  # when getting the media, make sure to include this info\n",
    "                                    )\n",
    "\n",
    "# print the infromation from the \"media\" includes \n",
    "# Note: the media information is stored separately in the results\n",
    "print(tweets.includes['media'])\n",
    "for media in tweets.includes['media']:\n",
    "    print(media)\n",
    "    print(media.preview_image_url)\n",
    "    print(media.height)\n",
    "    print(media.width)\n",
    "    print()\n",
    "    \n",
    "\n",
    "# clever trick to make lookup table for media_keys saved in the variable \"media\"\n",
    "media = {m[\"media_key\"]: m for m in tweets.includes['media']}\n",
    "\n",
    "# go through each tweet\n",
    "for tweet in tweets.data:\n",
    "    # use the tweet id to make a link to this specific tweet\n",
    "    print('https://twitter.com/twitter/statuses/' + str(tweet.id))\n",
    "    \n",
    "    # print the contents of the tweet\n",
    "    print(tweet)\n",
    "    \n",
    "    # print the info on \"attachments\" for this tweet\n",
    "    #  in this case, it will be the media_keys\n",
    "    print(tweet.data.get('attachments'))\n",
    "    \n",
    "    #get the media keys for this tweet\n",
    "    attachments = tweet.data['attachments']\n",
    "    media_keys = attachments['media_keys']\n",
    "    \n",
    "    #look up first piece of media\n",
    "    first_photo = media[media_keys[0]]\n",
    "    \n",
    "    #print the height and width of that first photo\n",
    "    print(first_photo.height)\n",
    "    print(first_photo.width)\n",
    "    print()"
   ]
  }
 ],
 "metadata": {
  "kernelspec": {
   "display_name": "Python 3 (ipykernel)",
   "language": "python",
   "name": "python3"
  },
  "language_info": {
   "codemirror_mode": {
    "name": "ipython",
    "version": 3
   },
   "file_extension": ".py",
   "mimetype": "text/x-python",
   "name": "python",
   "nbconvert_exporter": "python",
   "pygments_lexer": "ipython3",
   "version": "3.9.7"
  }
 },
 "nbformat": 4,
 "nbformat_minor": 5
}
