{
 "cells": [
  {
   "cell_type": "markdown",
   "id": "d3e7c20d-b299-4362-83de-72c7f85e73a1",
   "metadata": {},
   "source": [
    "# Demo: Statements, Variables, and Sleep"
   ]
  },
  {
   "cell_type": "markdown",
   "id": "491104c0-adbd-4838-8461-7712f682a855",
   "metadata": {},
   "source": [
    "## Statements\n",
    "As we said before, a computer program in a programming language like Python is often composed of a list of statements, that is steps to be run in order:\n",
    "```text\n",
    "- statement 1\n",
    "- statement 2\n",
    "- statement 3\n",
    "```\n",
    "\n",
    "In Python, generally each new line of code is a new statement, to be run after the previous statement.\n",
    "\n",
    "We will start writing statements using a line of code that looks like this:\n",
    "\n",
    "```display(\"Ethics might be relevant!\")```\n",
    "\n",
    "This line of code will display the text in the quotes (\"Ethics might be relevant!\") below the code, as you can see below, in a program that has one statement:"
   ]
  },
  {
   "cell_type": "code",
   "execution_count": 1,
   "id": "37b02677-d2de-4b04-8363-f4197e2ad289",
   "metadata": {},
   "outputs": [
    {
     "data": {
      "text/plain": [
       "'Ethics might be relevant!'"
      ]
     },
     "metadata": {},
     "output_type": "display_data"
    }
   ],
   "source": [
    "display(\"Ethics might be relevant!\")"
   ]
  },
  {
   "cell_type": "markdown",
   "id": "6c755bce-be52-4634-9d3e-e6dee35f09d4",
   "metadata": {},
   "source": [
    "Now let's try several statements in a row, with mulitple lines of code that display text:"
   ]
  },
  {
   "cell_type": "code",
   "execution_count": 3,
   "id": "ee237683-988d-4092-9b2c-23c95185e6c7",
   "metadata": {},
   "outputs": [
    {
     "data": {
      "text/plain": [
       "'This book is about:'"
      ]
     },
     "metadata": {},
     "output_type": "display_data"
    },
    {
     "data": {
      "text/plain": [
       "'  - Social Media'"
      ]
     },
     "metadata": {},
     "output_type": "display_data"
    },
    {
     "data": {
      "text/plain": [
       "'  - Ethics'"
      ]
     },
     "metadata": {},
     "output_type": "display_data"
    },
    {
     "data": {
      "text/plain": [
       "'  - Automation'"
      ]
     },
     "metadata": {},
     "output_type": "display_data"
    }
   ],
   "source": [
    "display(\"This book is about:\")\n",
    "display(\"  - Social Media\")\n",
    "display(\"  - Ethics\")\n",
    "display(\"  - Automation\")"
   ]
  },
  {
   "cell_type": "markdown",
   "id": "5faa75dc-79cf-4c12-94dc-e534c423cd05",
   "metadata": {},
   "source": [
    "Now that we've made multple statements in a row, let's do something a little more complicated than just displaying text by using variables."
   ]
  },
  {
   "cell_type": "markdown",
   "id": "ecbc77ca-26bc-46e3-84a9-84c4bb114fe1",
   "metadata": {},
   "source": [
    "## Variables and assignment (single \"=\")\n",
    "Variables are a place in the computer where a piece of information is saved with a particular name.\n",
    "\n",
    "To store something in a variable, put it on the left of a single \"=\" symbol, with the right side of the symbol being the thing (or formula) whose value you want to save in it. For example:\n",
    "\n",
    "```\n",
    "num_days = 3\n",
    "```\n",
    "\n",
    "The code above saves the number 3 into the variable called \"num_days\"\n",
    "\n",
    "Variables can then be referred to by just typing their name. You can even make a formula with their name\n",
    "\n",
    "```\n",
    "num_days * 3\n",
    "```\n",
    "\n",
    "The code above will give the number 9 (3 times the number of days, which was 3)\n",
    "\n",
    "Note: Variable names can't have spaces in them, and can't start with a number"
   ]
  },
  {
   "cell_type": "code",
   "execution_count": null,
   "id": "411c00d7-f69c-44c7-a9e5-6a4eba17d99d",
   "metadata": {},
   "outputs": [],
   "source": [
    "num_days = 3\n",
    "num_days * 3"
   ]
  },
  {
   "cell_type": "code",
   "execution_count": null,
   "id": "071ae828-8ad3-4bdc-9dd9-b9f7ae89ec8b",
   "metadata": {},
   "outputs": [],
   "source": [
    "# TODO: More demos: (saving, seeing result, using to save new variable)\n",
    "years = 3\n",
    "days = years * 365\n",
    "hours = days * 24\n",
    "minutes = hours * 60"
   ]
  },
  {
   "cell_type": "code",
   "execution_count": null,
   "id": "60579d28-0580-4343-97d1-2df9a8d6e111",
   "metadata": {},
   "outputs": [],
   "source": [
    "# try updating years\n",
    "years = 4\n",
    "# it doesn't update previous variables \n",
    "# that were made based on years"
   ]
  },
  {
   "cell_type": "code",
   "execution_count": null,
   "id": "aa173dc6-25d4-4f8d-96f9-fc4f587444bc",
   "metadata": {},
   "outputs": [],
   "source": [
    "years = years + 1"
   ]
  },
  {
   "cell_type": "code",
   "execution_count": null,
   "id": "a86dc15a-9d57-4ced-ae7e-0eae719b6e30",
   "metadata": {},
   "outputs": [],
   "source": [
    "minutes"
   ]
  },
  {
   "cell_type": "markdown",
   "id": "a0a6cbfb-f8e8-4818-a716-38d9f08919a8",
   "metadata": {},
   "source": [
    "## Sleep\n",
    "\n",
    "A function is a named section of pre-written code. \n",
    "\n",
    "Functions can take inputs\n",
    "* Inputs go in parenthese after the function name\n",
    "* These inputs are called \"parameters\" or \"arguments\"\n",
    "* If there are multiple inputs, they are separated by commas\n",
    "* You can also specify which input you are giving within the parenthesis by putting parameter_name=value\n",
    "\n",
    "Functions can also make outputs. \n",
    "* Also called \"returns\" or \"results\"\n",
    "* When the code intepreter sees the function call, it runs the code in the function wiht the inputs, and then puts the output in the place where that function call was\n",
    "* The results of the function can be stored in a variable, used in a formula, or used as an argument for another function"
   ]
  },
  {
   "cell_type": "code",
   "execution_count": 2,
   "id": "210867bc-4dbf-45cd-8cc1-aee060665325",
   "metadata": {},
   "outputs": [
    {
     "data": {
      "text/plain": [
       "'Hello World!'"
      ]
     },
     "metadata": {},
     "output_type": "display_data"
    },
    {
     "data": {
      "text/plain": [
       "3"
      ]
     },
     "metadata": {},
     "output_type": "display_data"
    },
    {
     "ename": "NameError",
     "evalue": "name 'pi' is not defined",
     "output_type": "error",
     "traceback": [
      "\u001b[1;31m---------------------------------------------------------------------------\u001b[0m",
      "\u001b[1;31mNameError\u001b[0m                                 Traceback (most recent call last)",
      "Input \u001b[1;32mIn [2]\u001b[0m, in \u001b[0;36m<cell line: 14>\u001b[1;34m()\u001b[0m\n\u001b[0;32m     10\u001b[0m display(\u001b[38;5;241m3\u001b[39m)\n\u001b[0;32m     12\u001b[0m time\u001b[38;5;241m.\u001b[39msleep(\u001b[38;5;241m5\u001b[39m)\n\u001b[1;32m---> 14\u001b[0m display(\u001b[43mpi\u001b[49m \u001b[38;5;241m*\u001b[39m \u001b[38;5;241m2\u001b[39m)\n\u001b[0;32m     15\u001b[0m \u001b[38;5;28mprint\u001b[39m(message)\n",
      "\u001b[1;31mNameError\u001b[0m: name 'pi' is not defined"
     ]
    }
   ],
   "source": [
    "# I need to load the time library in order to use sleep\n",
    "import time\n",
    "\n",
    "# TODO: Demo functions with no returns (display, print, sleep)\n",
    "message = \"Hello World!\"\n",
    "display(message)\n",
    "\n",
    "time.sleep(2)\n",
    "\n",
    "display(3)\n",
    "\n",
    "time.sleep(5)\n",
    "\n",
    "display(pi * 2)\n",
    "print(message)"
   ]
  },
  {
   "cell_type": "code",
   "execution_count": null,
   "id": "dc7feaf8-13c0-4fcd-976c-9064b7c38fd0",
   "metadata": {},
   "outputs": [],
   "source": [
    "import string\n",
    "import math\n",
    "\n",
    "# TODO: Demo functions with returns (upper, isupper, sqrt, range, type)\n",
    "message2 = message.upper()\n",
    "message3 = message.lower()\n",
    "\n",
    "sqrt_years = math.sqrt(years)\n",
    "\n",
    "example_range = range(10)\n",
    "\n",
    "print( type(message2) )\n",
    "\n",
    "# TODO: Demo a useful trick with functions (str)\n",
    "first_name = \"Kyle\"\n",
    "last_name = \"Thayer\"\n",
    "\n",
    "combined_name = first_name + \" \" + last_name\n",
    "\n",
    "kyle_age = first_name + \" is \" + str(38) + \" years old\"\n"
   ]
  },
  {
   "cell_type": "markdown",
   "id": "e0ba5540-5133-416e-a052-b3619d4a6a41",
   "metadata": {
    "tags": []
   },
   "source": [
    "## for loops\n",
    "For loops allow you to repeat an action multiple times.\n",
    "\n",
    "```\n",
    "for loop_value in thing_to_loop_over:\n",
    "    # Put actions to repeat here\n",
    "```\n",
    "\n",
    "For loops have to have something to loop over, which goes after \"in\".\n",
    "* You can use it with the function range to repeat an action a given number of times.\n",
    "* You can use it on a list, though we'll cover that more later.\n",
    "\n",
    "As the loop goes, it saves the current thing it is looking at in the temporary variable you list before the in.\n",
    "\n",
    "The commands you want to repeat need to be tabbed in one more level than the for statement to indicate they go inside the for loop."
   ]
  },
  {
   "cell_type": "code",
   "execution_count": null,
   "id": "782cba83-46f2-4b48-99b9-1c3de9c86e9e",
   "metadata": {
    "tags": []
   },
   "outputs": [],
   "source": [
    "# TODO: Demo some for loops, including the one below\n",
    "\n",
    "for x in range(10):\n",
    "    print(\"<<<<< \" + str(x*4 + 1) + \"/40\")\n",
    "    print(\"^^^^^ \" + str(x*4 + 2) + \"/40\")\n",
    "    print(\">>>>> \" + str(x*4 + 3) + \"/40\")\n",
    "    print(\"vvvvv \" + str(x*4 + 4) + \"/40\")"
   ]
  },
  {
   "cell_type": "code",
   "execution_count": 5,
   "id": "3cd72de2-508a-4110-864a-b09f435c9eea",
   "metadata": {},
   "outputs": [],
   "source": [
    "#TODO: For loop \"are we there yet?\""
   ]
  },
  {
   "cell_type": "markdown",
   "id": "933f2d55-1789-407a-ac60-18527856b495",
   "metadata": {},
   "source": [
    "## Error demos\n"
   ]
  },
  {
   "cell_type": "code",
   "execution_count": 3,
   "id": "613caa58-fe27-4b31-a0ec-e0b7f1ee3b6c",
   "metadata": {},
   "outputs": [
    {
     "ename": "ZeroDivisionError",
     "evalue": "division by zero",
     "output_type": "error",
     "traceback": [
      "\u001b[1;31m---------------------------------------------------------------------------\u001b[0m",
      "\u001b[1;31mZeroDivisionError\u001b[0m                         Traceback (most recent call last)",
      "Input \u001b[1;32mIn [3]\u001b[0m, in \u001b[0;36m<cell line: 1>\u001b[1;34m()\u001b[0m\n\u001b[1;32m----> 1\u001b[0m my_num \u001b[38;5;241m=\u001b[39m \u001b[38;5;241;43m5\u001b[39;49m\u001b[43m \u001b[49m\u001b[38;5;241;43m/\u001b[39;49m\u001b[43m \u001b[49m\u001b[38;5;241;43m0\u001b[39;49m\n",
      "\u001b[1;31mZeroDivisionError\u001b[0m: division by zero"
     ]
    }
   ],
   "source": [
    "my_num = 5 / 0"
   ]
  },
  {
   "cell_type": "code",
   "execution_count": 4,
   "id": "0eefe0cb-6c85-4e63-9b24-8f597250db6b",
   "metadata": {},
   "outputs": [],
   "source": [
    "#TODO Make code run out of order"
   ]
  },
  {
   "cell_type": "markdown",
   "id": "6d4c7bf9-bf77-4f9e-8eb0-00088d4b9934",
   "metadata": {},
   "source": [
    "## Last lecture's code\n",
    "Now let's look at some of the code from last lecture and see if we understand it better"
   ]
  },
  {
   "cell_type": "code",
   "execution_count": null,
   "id": "0ea89fdc-a383-46c6-b7e3-7b58594d233f",
   "metadata": {},
   "outputs": [],
   "source": []
  },
  {
   "cell_type": "code",
   "execution_count": null,
   "id": "0ea3f58f-679f-4a42-8d39-7733dc75f949",
   "metadata": {},
   "outputs": [],
   "source": []
  }
 ],
 "metadata": {
  "kernelspec": {
   "display_name": "Python 3 (ipykernel)",
   "language": "python",
   "name": "python3"
  },
  "language_info": {
   "codemirror_mode": {
    "name": "ipython",
    "version": 3
   },
   "file_extension": ".py",
   "mimetype": "text/x-python",
   "name": "python",
   "nbconvert_exporter": "python",
   "pygments_lexer": "ipython3",
   "version": "3.10.4"
  }
 },
 "nbformat": 4,
 "nbformat_minor": 5
}
