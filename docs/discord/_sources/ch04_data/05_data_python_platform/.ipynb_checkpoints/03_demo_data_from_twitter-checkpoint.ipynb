{
 "cells": [
  {
   "cell_type": "markdown",
   "id": "62d9cd26-13e3-4df0-99e5-bcfa7fbfad4a",
   "metadata": {},
   "source": [
    "# Demo: Data from a Tweet\n",
    "Let's see what the data actually looks like from a Tweet!\n",
    "\n",
    "First we need to do our normal twitter login steps (and optional fake tweepy step)\n",
    "## Log into tweepy (or fake tweepy)\n",
    "### "
   ]
  },
  {
   "cell_type": "code",
   "execution_count": 12,
   "id": "1a3df841-d3c4-4c0c-8790-1e5224c351f1",
   "metadata": {},
   "outputs": [],
   "source": [
    "# Load some code called \"tweepy\" that will help us work with twitter\n",
    "import tweepy"
   ]
  },
  {
   "cell_type": "markdown",
   "id": "d644c195-845e-412f-93b4-dcd8e058e504",
   "metadata": {},
   "source": [
    "### (optional) make a fake twitter connection with the fake_tweepy library\n",
    "For testing purposes, we've added this line of code, which loads a fake version of tweepy, so it wont actually connect to twitter. __If you want to try to actually connect to twitter, don't run this line of code.__"
   ]
  },
  {
   "cell_type": "code",
   "execution_count": 13,
   "id": "6d977d90-5091-470d-ab5c-8814d6b0072f",
   "metadata": {},
   "outputs": [
    {
     "data": {
      "text/html": [
       "<strong style='color:darkred'>Fake tweepy is replacing the tweepy library. Fake Tweepy doesn&#x27;t need real passwords, and prevents you from accessing real twitter</strong>"
      ],
      "text/plain": [
       "<IPython.core.display.HTML object>"
      ]
     },
     "metadata": {},
     "output_type": "display_data"
    }
   ],
   "source": [
    "%run ../../fake_tweepy/fake_tweepy.ipynb"
   ]
  },
  {
   "cell_type": "markdown",
   "id": "a204fa9d-613e-4dfe-849c-d2f053a2f012",
   "metadata": {},
   "source": [
    "### load your developer access passwords\n",
    "To use this on your real twitter account, copy your [developer access passwords](../../prefaces/making_twitter_account.md) into the code below, replacing our fake passwords."
   ]
  },
  {
   "cell_type": "code",
   "execution_count": 14,
   "id": "199ccb44-f8f1-4d23-b9f6-e06a499b2c73",
   "metadata": {},
   "outputs": [],
   "source": [
    "# Load all your developer access passwords into Python\n",
    "# TODO: Put your twitter account's special developer access passwords below:\n",
    "bearer_token = \"n4tossfgsafs_fake_bearer_token_isa53#$%$\"\n",
    "consumer_key = \"sa@#4@fdfdsa_fake_consumer_key_$%DSG#%DG\"\n",
    "consumer_secret = \"45adf$T$A_fake_consumer_secret_JESdsg\"\n",
    "access_token = \"56sd5Ss4tsea_fake_access_token_%YE%hDsdr\"\n",
    "access_token_secret = \"j^$dr_fake_consumer_key_^A5s#DR5s\""
   ]
  },
  {
   "cell_type": "markdown",
   "id": "1e89b2ac-f84f-4307-8b2d-e609fd17185c",
   "metadata": {},
   "source": [
    "### give tweepy (or fake_tweepy) your developer access passwords"
   ]
  },
  {
   "cell_type": "code",
   "execution_count": 15,
   "id": "c6de9bfe-fb20-4a79-9f52-dd02c558f542",
   "metadata": {},
   "outputs": [
    {
     "data": {
      "text/html": [
       "<strong style='color:darkred'>Fake Tweepy is pretending to log in to twitter</strong>"
      ],
      "text/plain": [
       "<IPython.core.display.HTML object>"
      ]
     },
     "metadata": {},
     "output_type": "display_data"
    }
   ],
   "source": [
    "# Give the tweepy code your developer access passwords so\n",
    "# it can perform twitter actions\n",
    "client = tweepy.Client(\n",
    "   bearer_token=bearer_token,\n",
    "   consumer_key=consumer_key, consumer_secret=consumer_secret,\n",
    "   access_token=access_token, access_token_secret=access_token_secret\n",
    ")"
   ]
  },
  {
   "cell_type": "markdown",
   "id": "b69feda2-7122-4487-b924-c7a98a2dea4d",
   "metadata": {},
   "source": [
    "## Find a tweet\n",
    "Below I have the code to find a recent tweet that has the phrase \"cute cat\". \n",
    "\n",
    "Don't worry if you don't understand this part yet, We are\n",
    "just doing this, so we can get to the point of seeing what tweet data looks like.\n",
    "\n",
    "_Note: If you run this on real twitter, we can't gurantee anything about how offensive what you might find is. We don't know of any word search We could guarantee would be safe._"
   ]
  },
  {
   "cell_type": "code",
   "execution_count": 16,
   "id": "2f2616c7-4c67-45c8-9788-9cf9b8ea2ace",
   "metadata": {},
   "outputs": [],
   "source": [
    "# Choose a search to run\n",
    "query = '\"cute cat\"'\n",
    "\n",
    "#Run the search and request some additional info\n",
    "tweets = client.search_recent_tweets(query=query, tweet_fields=[\"author_id\", \"created_at\", \"id\", \"lang\", \"public_metrics\", \"source\", \"text\"])\n",
    "\n",
    "# Find the first tweet returned\n",
    "recent_tweet = tweets.data[0]"
   ]
  },
  {
   "cell_type": "markdown",
   "id": "b1fbe575-1e06-4af5-8b25-ff0d90f1339e",
   "metadata": {},
   "source": [
    "## Look at data in tweet\n",
    "\n",
    "Now we will look at some of the data that came back!\n",
    "\n",
    "Again, don't worry too much about the code, we want to look at the data and data types.\n",
    "\n",
    "### tweet text:"
   ]
  },
  {
   "cell_type": "code",
   "execution_count": 17,
   "id": "6a47156c-496a-41b1-9696-0d04f428e3da",
   "metadata": {},
   "outputs": [
    {
     "data": {
      "text/plain": [
       "'The data type of the tweet text is: str'"
      ]
     },
     "metadata": {},
     "output_type": "display_data"
    },
    {
     "data": {
      "text/plain": [
       "\"The tweet text is: While trying to tweet right now, I am being attacked by my cute cat! It's so hard to tpye wihsaoae as fesadf asd fssasaf sa\""
      ]
     },
     "metadata": {},
     "output_type": "display_data"
    }
   ],
   "source": [
    "display(\"The data type of the tweet text is: \" + type(recent_tweet.text).__name__)\n",
    "display(\"The tweet text is: \" + recent_tweet.text)"
   ]
  },
  {
   "cell_type": "markdown",
   "id": "b4099352-6e07-4575-b98e-e86cd3597bac",
   "metadata": {},
   "source": [
    "As you can see above, the tweet text is a string (`str`) data type. And while we can't see any indication here, we know from elsewhere that tweet text is limited to 280 characters in length."
   ]
  },
  {
   "cell_type": "markdown",
   "id": "9186f642-bec8-41d1-a4e5-71e914767507",
   "metadata": {},
   "source": [
    "### tweet id"
   ]
  },
  {
   "cell_type": "code",
   "execution_count": 18,
   "id": "eed12635-a6c5-4403-ba5f-2fc4bdd58665",
   "metadata": {},
   "outputs": [
    {
     "data": {
      "text/plain": [
       "'The data type of the tweet id is: int'"
      ]
     },
     "metadata": {},
     "output_type": "display_data"
    },
    {
     "data": {
      "text/plain": [
       "'The tweet tweet id is: 129308937494'"
      ]
     },
     "metadata": {},
     "output_type": "display_data"
    }
   ],
   "source": [
    "display(\"The data type of the tweet id is: \" + type(recent_tweet.id).__name__)\n",
    "display(\"The tweet tweet id is: \" + str(recent_tweet.id))"
   ]
  },
  {
   "cell_type": "markdown",
   "id": "7f4ac8f6-c3af-4d75-be03-291e3d1e0339",
   "metadata": {},
   "source": [
    "The tweet id is an integer number (`int`). This is how the tweet is referred to inside Twitter's computers. So if someone is replying to a tweet, Twitter just puts which tweet ID they were replying to, and then can look up that tweet if needed."
   ]
  },
  {
   "cell_type": "markdown",
   "id": "ff21d864-0014-44e0-b9bd-6c7f87ba8712",
   "metadata": {},
   "source": [
    "### tweet author id"
   ]
  },
  {
   "cell_type": "code",
   "execution_count": 19,
   "id": "a16bcfcf-6ebe-49ae-a84a-8ad53655ea26",
   "metadata": {},
   "outputs": [
    {
     "data": {
      "text/plain": [
       "'The data type of the author id is: int'"
      ]
     },
     "metadata": {},
     "output_type": "display_data"
    },
    {
     "data": {
      "text/plain": [
       "'The tweet author id is: 239048094385'"
      ]
     },
     "metadata": {},
     "output_type": "display_data"
    }
   ],
   "source": [
    "display(\"The data type of the author id is: \" + type(recent_tweet.author_id).__name__)\n",
    "display(\"The tweet author id is: \" + str(recent_tweet.author_id))"
   ]
  },
  {
   "cell_type": "markdown",
   "id": "2341e4cf-4347-42fa-8f51-4aabbdc39fdb",
   "metadata": {},
   "source": [
    "The author id is an integer number (int). This is how the user who posted the tweet is referred to inside Twitter's computers. So when twitter wants to display the tweet with the user info, it uses this number to look up the information on that user."
   ]
  },
  {
   "cell_type": "markdown",
   "id": "e7df5f55-a70d-4219-a95e-bc0dc0db9d1f",
   "metadata": {},
   "source": [
    "### tweet created at"
   ]
  },
  {
   "cell_type": "code",
   "execution_count": 20,
   "id": "f66d41c7-d0b2-4b8d-bb30-7d5b61fee40e",
   "metadata": {},
   "outputs": [
    {
     "data": {
      "text/plain": [
       "'The data type of the tweet created at is: datetime'"
      ]
     },
     "metadata": {},
     "output_type": "display_data"
    },
    {
     "data": {
      "text/plain": [
       "'The tweet tweet created at is: 2022-02-22 22:22:22+00:00'"
      ]
     },
     "metadata": {},
     "output_type": "display_data"
    }
   ],
   "source": [
    "display(\"The data type of the tweet created at is: \" + type(recent_tweet.created_at).__name__)\n",
    "display(\"The tweet tweet created at is: \" + str(recent_tweet.created_at))"
   ]
  },
  {
   "cell_type": "markdown",
   "id": "f9307638-8889-4932-b376-432ef82ca4c9",
   "metadata": {},
   "source": [
    "The created at time for the tweet is a special python datetime data type (`datetime`). As you can see, it has the year, month, and day, and then the time in hours, minutes and seconds. It then shows the timezone it is in, in this case: 00:00, which is in [Coordinated Universal Time](https://en.wikipedia.org/wiki/Coordinated_Universal_Time)."
   ]
  },
  {
   "cell_type": "markdown",
   "id": "bf914fbb-2db3-456a-8bae-0102f1e63e7b",
   "metadata": {},
   "source": [
    "### tweet lang (language)"
   ]
  },
  {
   "cell_type": "code",
   "execution_count": 21,
   "id": "44d28832-6d2a-4aa2-a22d-07f9c0e3a6e6",
   "metadata": {},
   "outputs": [
    {
     "data": {
      "text/plain": [
       "'The data type of the tweet lang is: str'"
      ]
     },
     "metadata": {},
     "output_type": "display_data"
    },
    {
     "data": {
      "text/plain": [
       "'The tweet tweet lang is: en'"
      ]
     },
     "metadata": {},
     "output_type": "display_data"
    }
   ],
   "source": [
    "display(\"The data type of the tweet lang is: \" + type(recent_tweet.lang).__name__)\n",
    "display(\"The tweet tweet lang is: \" + str(recent_tweet.lang))"
   ]
  },
  {
   "cell_type": "markdown",
   "id": "50282b56-cb8e-462a-994d-adf7e373bdda",
   "metadata": {},
   "source": [
    "The language the tweet is made in is a string (`str`). It comes from a set of [standard language abbreviations](https://en.wikipedia.org/wiki/IETF_language_tag#List_of_common_primary_language_subtags) and in this case it is \"en\" which is short for \"English\"."
   ]
  },
  {
   "cell_type": "markdown",
   "id": "8e6df18e-0327-449a-9717-13d5bb9ed6c9",
   "metadata": {},
   "source": [
    "### tweet source (device that made the tweet)"
   ]
  },
  {
   "cell_type": "code",
   "execution_count": 22,
   "id": "1d4342f5-588e-4b88-9ecf-2a9b51847f8b",
   "metadata": {},
   "outputs": [
    {
     "data": {
      "text/plain": [
       "'The data type of the tweet source is: str'"
      ]
     },
     "metadata": {},
     "output_type": "display_data"
    },
    {
     "data": {
      "text/plain": [
       "'The tweet tweet source is: Twitter for Android'"
      ]
     },
     "metadata": {},
     "output_type": "display_data"
    }
   ],
   "source": [
    "display(\"The data type of the tweet source is: \" + type(recent_tweet.source).__name__)\n",
    "display(\"The tweet tweet source is: \" + str(recent_tweet.source))"
   ]
  },
  {
   "cell_type": "markdown",
   "id": "12bc5c4f-7087-4791-99e2-08e48a2927da",
   "metadata": {},
   "source": [
    "The tweet source is a string (`str`). In this case it is \"Twitter for Android\" meaning someone posted this tweet from the Twitter App on their Android phone."
   ]
  },
  {
   "cell_type": "markdown",
   "id": "1ddc0fc0-3d63-44c6-81c3-73d97554b763",
   "metadata": {},
   "source": [
    "### public metrics"
   ]
  },
  {
   "cell_type": "code",
   "execution_count": 23,
   "id": "15d683fc-50ea-4603-b332-0e90487a4fa7",
   "metadata": {},
   "outputs": [
    {
     "data": {
      "text/plain": [
       "'The data type of the tweet source is: dict'"
      ]
     },
     "metadata": {},
     "output_type": "display_data"
    },
    {
     "data": {
      "text/plain": [
       "\"The tweet tweet source is: {'retweet_count': 7, 'reply_count': 3, 'like_count': 6, 'quote_count': 2}\""
      ]
     },
     "metadata": {},
     "output_type": "display_data"
    }
   ],
   "source": [
    "display(\"The data type of the tweet source is: \" + type(recent_tweet.public_metrics).__name__)\n",
    "display(\"The tweet tweet source is: \" + str(recent_tweet.public_metrics))"
   ]
  },
  {
   "cell_type": "markdown",
   "id": "5d7db748-dde7-4e37-9979-a02faae9373a",
   "metadata": {},
   "source": [
    "The public metrics of a tweet are saved in a dictionary (`dict`), which holds a group of values. So let's look at each of those:"
   ]
  },
  {
   "cell_type": "code",
   "execution_count": 24,
   "id": "d1da69d1-fc64-4c44-9259-8ad6b1a8889c",
   "metadata": {},
   "outputs": [
    {
     "data": {
      "text/plain": [
       "'The data type of the retweet count is: int'"
      ]
     },
     "metadata": {},
     "output_type": "display_data"
    },
    {
     "data": {
      "text/plain": [
       "'The retweet count is: 7'"
      ]
     },
     "metadata": {},
     "output_type": "display_data"
    },
    {
     "data": {
      "text/plain": [
       "'The data type of the reply count is: int'"
      ]
     },
     "metadata": {},
     "output_type": "display_data"
    },
    {
     "data": {
      "text/plain": [
       "'The reply count is: 3'"
      ]
     },
     "metadata": {},
     "output_type": "display_data"
    },
    {
     "data": {
      "text/plain": [
       "'The data type of the like count is: int'"
      ]
     },
     "metadata": {},
     "output_type": "display_data"
    },
    {
     "data": {
      "text/plain": [
       "'The like count is: 6'"
      ]
     },
     "metadata": {},
     "output_type": "display_data"
    },
    {
     "data": {
      "text/plain": [
       "'The data type of the quote count is: int'"
      ]
     },
     "metadata": {},
     "output_type": "display_data"
    },
    {
     "data": {
      "text/plain": [
       "'The quote count is: 2'"
      ]
     },
     "metadata": {},
     "output_type": "display_data"
    }
   ],
   "source": [
    "display(\"The data type of the retweet count is: \" + type(recent_tweet.public_metrics['retweet_count']).__name__)\n",
    "display(\"The retweet count is: \" + str(recent_tweet.public_metrics['retweet_count']))\n",
    "\n",
    "display(\"The data type of the reply count is: \" + type(recent_tweet.public_metrics['reply_count']).__name__)\n",
    "display(\"The reply count is: \" + str(recent_tweet.public_metrics['reply_count']))\n",
    "\n",
    "display(\"The data type of the like count is: \" + type(recent_tweet.public_metrics['like_count']).__name__)\n",
    "display(\"The like count is: \" + str(recent_tweet.public_metrics['like_count']))\n",
    "\n",
    "display(\"The data type of the quote count is: \" + type(recent_tweet.public_metrics['quote_count']).__name__)\n",
    "display(\"The quote count is: \" + str(recent_tweet.public_metrics['quote_count']))"
   ]
  },
  {
   "cell_type": "markdown",
   "id": "abc5f1e5-7579-40a7-9c8f-af7c81548aa8",
   "metadata": {},
   "source": [
    "The counts for retweets, replies, likes, and quotes are each integer numbers (`int`), indicating how many times the tweet has been retweeted, replied to, liked, or quoted."
   ]
  },
  {
   "cell_type": "markdown",
   "id": "4ed35a69-2487-4555-b117-845e0863ee77",
   "metadata": {},
   "source": [
    "## Still more!\n",
    "In addition to the data we looked at above, there are even more options for tweets such as:\n",
    "- conversation_id: For tracking which tweets are in the same conversation, like replies and threads)\n",
    "- geo: For the location where a tweet was posted (I think default privacy settings now leave this blank)\n",
    "- organic_metrics: For the account that made the tweet, they can see how many people looked at it, or clicked on the user profile\n",
    "\n",
    "You can read more about all this data and more in the [official twitter API documentation](https://developer.twitter.com/en/docs/twitter-api/data-dictionary/object-model/tweet) (which is admittedly, a little hard to read and make sense of)."
   ]
  }
 ],
 "metadata": {
  "kernelspec": {
   "display_name": "Python 3 (ipykernel)",
   "language": "python",
   "name": "python3"
  },
  "language_info": {
   "codemirror_mode": {
    "name": "ipython",
    "version": 3
   },
   "file_extension": ".py",
   "mimetype": "text/x-python",
   "name": "python",
   "nbconvert_exporter": "python",
   "pygments_lexer": "ipython3",
   "version": "3.10.4"
  }
 },
 "nbformat": 4,
 "nbformat_minor": 5
}
