{
 "cells": [
  {
   "cell_type": "markdown",
   "id": "67655e14-ea22-4ff1-9b83-2735028b6dd8",
   "metadata": {},
   "source": [
    "# Demo: tweet source\n",
    "### Set-up steps\n",
    "* Install the variable inspector!pip install lckr-jupyterlab-variableinspector\n",
    "* Install and import tweepy\n",
    "* Load login keys\n",
    "* Log in"
   ]
  },
  {
   "cell_type": "code",
   "execution_count": null,
   "id": "730e2bf3-4ef2-4997-9be5-9a2ecfcfcf88",
   "metadata": {
    "tags": []
   },
   "outputs": [],
   "source": [
    "!pip install lckr-jupyterlab-variableinspector"
   ]
  },
  {
   "cell_type": "code",
   "execution_count": null,
   "id": "ed4d794b-94dc-48bc-bd59-557d2251a135",
   "metadata": {
    "tags": []
   },
   "outputs": [],
   "source": [
    "!pip install tweepy \n",
    "import tweepy"
   ]
  },
  {
   "cell_type": "code",
   "execution_count": null,
   "id": "a4670d0f-d404-49ae-ad88-5234a60254ff",
   "metadata": {},
   "outputs": [],
   "source": [
    "import my_bot_keys"
   ]
  },
  {
   "cell_type": "code",
   "execution_count": null,
   "id": "81c60ab0-c6b8-46c0-9e7c-3c022eaa8350",
   "metadata": {},
   "outputs": [],
   "source": [
    "client = tweepy.Client(\n",
    "    bearer_token=my_bot_keys.bearer_token,\n",
    "    consumer_key=my_bot_keys.consumer_key, consumer_secret=my_bot_keys.consumer_secret,                   \n",
    "    access_token=my_bot_keys.access_token, access_token_secret=my_bot_keys.access_token_secret\n",
    ")"
   ]
  },
  {
   "cell_type": "markdown",
   "id": "e5caed17-960d-4a53-9410-1fd5ef3932ae",
   "metadata": {},
   "source": [
    "## Load tweets with the source (what device they were posted on)\n",
    "Try different accounts, like: BarackObama, JoeBiden, MarkRuffalo, selenagomez, cnn"
   ]
  },
  {
   "cell_type": "code",
   "execution_count": null,
   "id": "977aaa34-59da-4e73-aacb-fe031b6dc50f",
   "metadata": {},
   "outputs": [],
   "source": [
    "# choose account to search from (save in query variable)\n",
    "query = 'from:cnn'\n",
    "\n",
    "# search tweets with the query, also include the \"source\" info, and allow up to 20 results\n",
    "# note: \"search_recent_tweets\" searches tweets from the last 7 days\n",
    "tweets = client.search_recent_tweets(query=query, tweet_fields=[\"source\"], max_results=20)\n",
    "\n",
    "# loop through each of the tweets (saved in tweets.data)\n",
    "for tweet in tweets.data:\n",
    "    print(tweet.source) # print the source publishing the tweet\n",
    "    print(\"   \" + tweet.text) # print the text of the tweet\n",
    "    print() # print a blank line"
   ]
  }
 ],
 "metadata": {
  "kernelspec": {
   "display_name": "Python 3 (ipykernel)",
   "language": "python",
   "name": "python3"
  },
  "language_info": {
   "codemirror_mode": {
    "name": "ipython",
    "version": 3
   },
   "file_extension": ".py",
   "mimetype": "text/x-python",
   "name": "python",
   "nbconvert_exporter": "python",
   "pygments_lexer": "ipython3",
   "version": "3.10.4"
  }
 },
 "nbformat": 4,
 "nbformat_minor": 5
}
