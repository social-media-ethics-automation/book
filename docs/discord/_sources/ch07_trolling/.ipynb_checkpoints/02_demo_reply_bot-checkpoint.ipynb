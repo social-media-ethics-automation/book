{
 "cells": [
  {
   "cell_type": "markdown",
   "id": "67655e14-ea22-4ff1-9b83-2735028b6dd8",
   "metadata": {},
   "source": [
    "# Demo: reply bot\n",
    "### Set-up steps\n",
    "* Install the variable inspector!pip install lckr-jupyterlab-variableinspector\n",
    "* Install and import tweepy\n",
    "* Load login keys\n",
    "* Log in"
   ]
  },
  {
   "cell_type": "code",
   "execution_count": null,
   "id": "730e2bf3-4ef2-4997-9be5-9a2ecfcfcf88",
   "metadata": {
    "tags": []
   },
   "outputs": [],
   "source": [
    "!pip install lckr-jupyterlab-variableinspector"
   ]
  },
  {
   "cell_type": "code",
   "execution_count": null,
   "id": "ed4d794b-94dc-48bc-bd59-557d2251a135",
   "metadata": {
    "tags": []
   },
   "outputs": [],
   "source": [
    "!pip install tweepy \n",
    "import tweepy"
   ]
  },
  {
   "cell_type": "code",
   "execution_count": null,
   "id": "a4670d0f-d404-49ae-ad88-5234a60254ff",
   "metadata": {},
   "outputs": [],
   "source": [
    "import my_bot_keys"
   ]
  },
  {
   "cell_type": "code",
   "execution_count": null,
   "id": "81c60ab0-c6b8-46c0-9e7c-3c022eaa8350",
   "metadata": {},
   "outputs": [],
   "source": [
    "client = tweepy.Client(\n",
    "    bearer_token=my_bot_keys.bearer_token,\n",
    "    consumer_key=my_bot_keys.consumer_key, consumer_secret=my_bot_keys.consumer_secret,                   \n",
    "    access_token=my_bot_keys.access_token, access_token_secret=my_bot_keys.access_token_secret\n",
    ")"
   ]
  },
  {
   "cell_type": "markdown",
   "id": "71b6c84a-7f49-430b-bd5a-25ec2dab194c",
   "metadata": {},
   "source": [
    "## A twitter bot that says hi back\n",
    "* The bot will first find my account and my twitter name.\n",
    "* The bot will then find the latest tweet that mentions me.\n",
    "* Then the bot will see if the tweet starts with \"`Hi @mybotname, my name is `\", and the bot will assume the rest of the tweet is their name.\n",
    "* Finally the bot will tweet back \"`Hi [their name]! Nice to meet you!`\""
   ]
  },
  {
   "cell_type": "markdown",
   "id": "df1072bd-9d6e-4b44-8c5d-440c2952f899",
   "metadata": {},
   "source": [
    "### Find my twitter info"
   ]
  },
  {
   "cell_type": "code",
   "execution_count": null,
   "id": "4963102b-d572-4a3b-be0f-35cdfa8cb9f3",
   "metadata": {},
   "outputs": [],
   "source": [
    "my_user_info = client.get_user(id=\"me\", user_auth=True)\n",
    "\n",
    "my_id = my_user_info.data.id\n",
    "my_username = my_user_info.data.username"
   ]
  },
  {
   "cell_type": "markdown",
   "id": "096cb3f7-59ff-4deb-a1ee-06797e6a6bc7",
   "metadata": {},
   "source": [
    "### Find the latest tweet that mentions me"
   ]
  },
  {
   "cell_type": "code",
   "execution_count": null,
   "id": "c3f2714b-977d-4b2e-863b-4426a43ac6ab",
   "metadata": {},
   "outputs": [],
   "source": [
    "my_mentions = client.get_users_mentions(id=my_id)\n",
    "\n",
    "latest_mention = my_mentions.data[0]\n",
    "\n",
    "latest_mention_id = latest_mention.id\n",
    "latest_mention_text = latest_mention.text"
   ]
  },
  {
   "cell_type": "markdown",
   "id": "83222521-11af-4a45-850a-248be9e8e54e",
   "metadata": {},
   "source": [
    "### See if the mention matches our pattern"
   ]
  },
  {
   "cell_type": "code",
   "execution_count": null,
   "id": "f668a292-f83e-4676-a524-e0b212b0195f",
   "metadata": {},
   "outputs": [],
   "source": [
    "expected_pattern = \"Hi @\" + my_username + \", my name is \"\n",
    "\n",
    "does_match_pattern = latest_mention_text.startswith(expected_pattern)"
   ]
  },
  {
   "cell_type": "markdown",
   "id": "3c780501-472d-43df-807a-a1a7483a261c",
   "metadata": {},
   "source": [
    "### if it matched the pattern, get the name and send reply"
   ]
  },
  {
   "cell_type": "code",
   "execution_count": null,
   "id": "918e092a-1f7e-4f46-9f57-fad1e3b8508f",
   "metadata": {},
   "outputs": [],
   "source": [
    "if does_match_pattern:\n",
    "    their_name = latest_mention_text[len(expected_pattern):]\n",
    "    message = \"Hi \" + their_name + \"! Nice to meet you!\"\n",
    "    client.create_tweet(\n",
    "        text=message, \n",
    "        in_reply_to_tweet_id=latest_mention_id\n",
    "    )"
   ]
  },
  {
   "cell_type": "code",
   "execution_count": null,
   "id": "3e9cf395-31e9-4ee6-be8f-becacdd316e0",
   "metadata": {},
   "outputs": [],
   "source": []
  }
 ],
 "metadata": {
  "kernelspec": {
   "display_name": "Python 3 (ipykernel)",
   "language": "python",
   "name": "python3"
  },
  "language_info": {
   "codemirror_mode": {
    "name": "ipython",
    "version": 3
   },
   "file_extension": ".py",
   "mimetype": "text/x-python",
   "name": "python",
   "nbconvert_exporter": "python",
   "pygments_lexer": "ipython3",
   "version": "3.10.4"
  }
 },
 "nbformat": 4,
 "nbformat_minor": 5
}
