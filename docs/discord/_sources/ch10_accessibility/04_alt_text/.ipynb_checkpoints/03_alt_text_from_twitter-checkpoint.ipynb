{
 "cells": [
  {
   "cell_type": "markdown",
   "id": "574eeeee-eb48-4af0-9815-6b10faa827a9",
   "metadata": {},
   "source": [
    "# Demo: Alt-text From Twitter\n",
    "Now that we've seen how to select additional information about Tweet images and data, let's search for images and look up some alt-text:"
   ]
  },
  {
   "cell_type": "markdown",
   "id": "51a91b5c-fb40-4c0a-a2f7-6bae46a95f63",
   "metadata": {},
   "source": [
    "## Normal Tweepy Set-Up"
   ]
  },
  {
   "cell_type": "code",
   "execution_count": 30,
   "id": "9f4e03b6-67ee-4dc8-9b3a-15e7ba244759",
   "metadata": {
    "tags": []
   },
   "outputs": [],
   "source": [
    "import tweepy"
   ]
  },
  {
   "cell_type": "markdown",
   "id": "ac48afb4-c3fe-4f47-b7ac-5e168b3b008d",
   "metadata": {},
   "source": [
    "(optional) use the fake version of tweepy, so you don’t have to use real twitter developer access passwords"
   ]
  },
  {
   "cell_type": "code",
   "execution_count": 31,
   "id": "010edbde-9413-4944-a91a-e0713923b58f",
   "metadata": {},
   "outputs": [
    {
     "data": {
      "text/html": [
       "<strong style='color:darkred'>Fake tweepy is replacing the tweepy library. Fake Tweepy doesn&#x27;t need real passwords, and prevents you from accessing real twitter</strong>"
      ],
      "text/plain": [
       "<IPython.core.display.HTML object>"
      ]
     },
     "metadata": {},
     "output_type": "display_data"
    }
   ],
   "source": [
    "%run ../../fake_tweepy/fake_tweepy.ipynb"
   ]
  },
  {
   "cell_type": "code",
   "execution_count": 32,
   "id": "3752869c-95bc-4965-a4f8-db380c867419",
   "metadata": {},
   "outputs": [],
   "source": [
    "# Load all your developer access passwords into Python\n",
    "# TODO: Put your twitter account's special developer access passwords below:\n",
    "bearer_token = \"n4tossfgsafs_fake_bearer_token_isa53#$%$\"\n",
    "consumer_key = \"sa@#4@fdfdsa_fake_consumer_key_$%DSG#%DG\"\n",
    "consumer_secret = \"45adf$T$A_fake_consumer_secret_JESdsg\"\n",
    "access_token = \"56sd5Ss4tsea_fake_access_token_%YE%hDsdr\"\n",
    "access_token_secret = \"j^$dr_fake_consumer_key_^A5s#DR5s\""
   ]
  },
  {
   "cell_type": "code",
   "execution_count": 33,
   "id": "b0935b9f-a97f-4175-a940-dd54709ed641",
   "metadata": {},
   "outputs": [
    {
     "data": {
      "text/html": [
       "<strong style='color:darkred'>Fake Tweepy is pretending to log in to twitter</strong>"
      ],
      "text/plain": [
       "<IPython.core.display.HTML object>"
      ]
     },
     "metadata": {},
     "output_type": "display_data"
    }
   ],
   "source": [
    "# Give the tweepy code your developer access passwords so\n",
    "# it can perform twitter actions\n",
    "client = tweepy.Client(\n",
    "   bearer_token=bearer_token,\n",
    "   consumer_key=consumer_key, consumer_secret=consumer_secret,\n",
    "   access_token=access_token, access_token_secret=access_token_secret\n",
    ")"
   ]
  },
  {
   "cell_type": "markdown",
   "id": "8d20f3ee-3673-4ebd-ab2c-3a3f3f840e96",
   "metadata": {},
   "source": [
    "## Do a search for tweets, loop through the tweets and display the alt-text information"
   ]
  },
  {
   "cell_type": "code",
   "execution_count": 34,
   "id": "1b213c67-5df8-4346-9689-bdf6cb902b7d",
   "metadata": {},
   "outputs": [
    {
     "data": {
      "text/html": [
       "<strong style='color:darkred'>Fake Tweepy is pretending to search for &#x27;dog -is:retweet has:images&#x27; and is returning some fake tweets.</strong>"
      ],
      "text/plain": [
       "<IPython.core.display.HTML object>"
      ]
     },
     "metadata": {},
     "output_type": "display_data"
    },
    {
     "name": "stdout",
     "output_type": "stream",
     "text": [
      "https://twitter.com/twitter/statuses/2342352355\n",
      "Look at my cute dog!\n",
      "  type: photo\n",
      "  alt_text: Photo of a small dog lying flat on floor, looking exhausted\n",
      "  url: fake_website_photo1.jpg\n",
      "\n",
      "------------------------\n",
      "\n",
      "https://twitter.com/twitter/statuses/93298432\n",
      "check out these dog photos\n",
      "  type: photo\n",
      "  alt_text: None\n",
      "  url: fake_website_photo2.jpg\n",
      "\n",
      "  type: photo\n",
      "  alt_text: None\n",
      "  url: fake_website_photo3.jpg\n",
      "\n",
      "------------------------\n",
      "\n",
      "https://twitter.com/twitter/statuses/43954354\n",
      "lol silly dog!\n",
      "  type: photo\n",
      "  alt_text: photo taken by fake user 2\n",
      "  url: fake_website_photo4.jpg\n",
      "\n",
      "------------------------\n",
      "\n"
     ]
    }
   ],
   "source": [
    "query = \"dog -is:retweet has:images\"\n",
    "\n",
    "tweet_search_results = client.search_recent_tweets(\n",
    "                                    query=query,\n",
    "                                    expansions='attachments.media_keys', #tell twitter to download the media related to this tweet\n",
    "                                    media_fields=['alt_text', 'url'],  # when getting the media, make sure to include this info\n",
    "                                    max_results=100\n",
    "                                    )\n",
    "\n",
    "\n",
    "# make media_lookup dictionary\n",
    "media_lookup = {m.media_key: m for m in tweet_search_results.includes['media']}\n",
    "\n",
    "# go through each tweet\n",
    "for tweet in tweet_search_results.data:\n",
    "    \n",
    "    # use the tweet id to make a link to this specific tweet\n",
    "    print('https://twitter.com/twitter/statuses/' + str(tweet.id))\n",
    "    \n",
    "    # print the text content of the tweet\n",
    "    print(tweet.text)\n",
    "    \n",
    "    # print the info on \"attachments\" for this tweet\n",
    "    #  in this case, it will be the media_keys\n",
    "    \n",
    "    #get the media keys for this tweet\n",
    "    media_keys = tweet.data['attachments']['media_keys']\n",
    "    \n",
    "    for media_key in media_keys:\n",
    "        # lookup the info about this particular media_key\n",
    "        media_info = media_lookup[media_key]\n",
    "\n",
    "        # print out some info about this piece of media\n",
    "        print(\"  type: \" + media_info.type)\n",
    "        print(\"  alt_text: \" + str(media_info.alt_text))\n",
    "        print(\"  url: \" + str(media_info.url))\n",
    "        print()\n",
    "       \n",
    "    # display a clear divider so we can more easily see each tweet\n",
    "    print(\"------------------------\")\n",
    "    print()\n"
   ]
  },
  {
   "cell_type": "markdown",
   "id": "79f0bd43-28c8-42e8-9ace-380f43bfd504",
   "metadata": {},
   "source": [
    "## What alt-texts do you find helpful?\n",
    "In the above output, you are in a position where you can read the alt-text of the image, but you can't see the image (unless you open up the actual tweets, which if you are looking at the fake_tweepy output, there are no actual tweets).\n",
    "\n",
    "Without seeing the images you can hopefully see what makes alt-text useful or not. Posts without alt-text will be hard to make sense of, and some alt text on photos might tell you information about the photo, but not the information you need."
   ]
  }
 ],
 "metadata": {
  "kernelspec": {
   "display_name": "Python 3 (ipykernel)",
   "language": "python",
   "name": "python3"
  },
  "language_info": {
   "codemirror_mode": {
    "name": "ipython",
    "version": 3
   },
   "file_extension": ".py",
   "mimetype": "text/x-python",
   "name": "python",
   "nbconvert_exporter": "python",
   "pygments_lexer": "ipython3",
   "version": "3.10.4"
  }
 },
 "nbformat": 4,
 "nbformat_minor": 5
}
