{
 "cells": [
  {
   "cell_type": "markdown",
   "id": "0cd4388e-b71c-4bd1-a60e-d2ef3933f3de",
   "metadata": {},
   "source": [
    "# Demo: recursion with real tweets"
   ]
  },
  {
   "cell_type": "markdown",
   "id": "cb900b5a-c199-47b8-95a9-417d44a786ab",
   "metadata": {
    "tags": []
   },
   "source": [
    "### tweepy set-up"
   ]
  },
  {
   "cell_type": "code",
   "execution_count": 5,
   "id": "883641dc-a5a4-47d7-ba9c-3532e9df58d8",
   "metadata": {},
   "outputs": [
    {
     "name": "stdout",
     "output_type": "stream",
     "text": [
      "Collecting tweepy\n",
      "  Downloading tweepy-4.6.0-py2.py3-none-any.whl (69 kB)\n",
      "     |████████████████████████████████| 69 kB 2.2 MB/s             \n",
      "\u001b[?25hCollecting requests<3,>=2.27.0\n",
      "  Using cached requests-2.27.1-py2.py3-none-any.whl (63 kB)\n",
      "Collecting oauthlib<4,>=3.2.0\n",
      "  Downloading oauthlib-3.2.0-py3-none-any.whl (151 kB)\n",
      "     |████████████████████████████████| 151 kB 13.0 MB/s            \n",
      "\u001b[?25hCollecting requests-oauthlib<2,>=1.2.0\n",
      "  Using cached requests_oauthlib-1.3.1-py2.py3-none-any.whl (23 kB)\n",
      "Requirement already satisfied: urllib3<1.27,>=1.21.1 in /opt/conda/lib/python3.9/site-packages (from requests<3,>=2.27.0->tweepy) (1.26.7)\n",
      "Requirement already satisfied: certifi>=2017.4.17 in /opt/conda/lib/python3.9/site-packages (from requests<3,>=2.27.0->tweepy) (2021.10.8)\n",
      "Requirement already satisfied: idna<4,>=2.5 in /opt/conda/lib/python3.9/site-packages (from requests<3,>=2.27.0->tweepy) (3.1)\n",
      "Requirement already satisfied: charset-normalizer~=2.0.0 in /opt/conda/lib/python3.9/site-packages (from requests<3,>=2.27.0->tweepy) (2.0.0)\n",
      "Installing collected packages: requests, oauthlib, requests-oauthlib, tweepy\n",
      "  Attempting uninstall: requests\n",
      "    Found existing installation: requests 2.26.0\n",
      "    Uninstalling requests-2.26.0:\n",
      "      Successfully uninstalled requests-2.26.0\n",
      "  Attempting uninstall: oauthlib\n",
      "    Found existing installation: oauthlib 3.1.1\n",
      "    Uninstalling oauthlib-3.1.1:\n",
      "      Successfully uninstalled oauthlib-3.1.1\n",
      "Successfully installed oauthlib-3.2.0 requests-2.27.1 requests-oauthlib-1.3.1 tweepy-4.6.0\n"
     ]
    }
   ],
   "source": [
    "# make sure tweepy library is installed\n",
    "!pip install tweepy \n",
    "import tweepy"
   ]
  },
  {
   "cell_type": "code",
   "execution_count": 6,
   "id": "d42b7010-2690-4efb-b404-02682e39b559",
   "metadata": {},
   "outputs": [],
   "source": [
    "# load my twitter keys\n",
    "import my_bot_keys"
   ]
  },
  {
   "cell_type": "code",
   "execution_count": 7,
   "id": "9c7a1f06-fb4d-4ce6-bd0b-de421420a198",
   "metadata": {},
   "outputs": [],
   "source": [
    "# log into tweepy\n",
    "client = tweepy.Client(\n",
    "    bearer_token=my_bot_keys.bearer_token,\n",
    "    consumer_key=my_bot_keys.consumer_key, consumer_secret=my_bot_keys.consumer_secret,                   \n",
    "    access_token=my_bot_keys.access_token, access_token_secret=my_bot_keys.access_token_secret\n",
    ")"
   ]
  },
  {
   "cell_type": "markdown",
   "id": "da45bc67-b72b-45ef-8f70-7eedf9261945",
   "metadata": {},
   "source": [
    "### Helper function to display text in an indented box"
   ]
  },
  {
   "cell_type": "code",
   "execution_count": 8,
   "id": "98574fd2-9380-4653-8b42-d5f00fd634c3",
   "metadata": {},
   "outputs": [],
   "source": [
    "from IPython.display import HTML, Image, display\n",
    "import html\n",
    "def display_indented(text, left_margin=0):\n",
    "    display(\n",
    "        HTML(\n",
    "            \"<pre style='border:solid 1px;padding:3px;margin-left:\"+ str(left_margin) + \"px'>\" + \n",
    "            html.escape(text) + \n",
    "            \"</pre>\"\n",
    "        )\n",
    "    )"
   ]
  },
  {
   "cell_type": "markdown",
   "id": "7e240033-1a67-4f5e-a2cb-eaa7aea96d45",
   "metadata": {},
   "source": [
    "### Demo of using the display_with_left_margin function"
   ]
  },
  {
   "cell_type": "code",
   "execution_count": 9,
   "id": "2388f9e7-2d19-44e1-8ed4-6403c7b3cdf8",
   "metadata": {},
   "outputs": [
    {
     "data": {
      "text/html": [
       "<pre style='border:solid 1px;padding:3px;margin-left:0px'>A no indent text</pre>"
      ],
      "text/plain": [
       "<IPython.core.display.HTML object>"
      ]
     },
     "metadata": {},
     "output_type": "display_data"
    },
    {
     "data": {
      "text/html": [
       "<pre style='border:solid 1px;padding:3px;margin-left:10px'>A 10px indent text</pre>"
      ],
      "text/plain": [
       "<IPython.core.display.HTML object>"
      ]
     },
     "metadata": {},
     "output_type": "display_data"
    },
    {
     "data": {
      "text/html": [
       "<pre style='border:solid 1px;padding:3px;margin-left:20px'>A 20px indent text \n",
       " with a newline!</pre>"
      ],
      "text/plain": [
       "<IPython.core.display.HTML object>"
      ]
     },
     "metadata": {},
     "output_type": "display_data"
    }
   ],
   "source": [
    "display_indented(\"A no indent text\")\n",
    "display_indented(\"A 10px indent text\", left_margin=10)\n",
    "display_indented(\"A 20px indent text \\n with a newline!\", left_margin=20)"
   ]
  },
  {
   "cell_type": "markdown",
   "id": "d37b46e5-c941-4ac9-a95f-a16061ecf7cf",
   "metadata": {},
   "source": [
    "### Helper code for getting a twitter conversation (that is a tweet and a bunch of its replies)\n",
    "You don't need to know how this code works, but you can look through it if you want.\n",
    "\n",
    "Also, if you want to use more includes or something, you can add them to the client.get_tweet() call and the client.search_recent_tweets() call. You might also need to do extra work to include them like I did with the author/users info"
   ]
  },
  {
   "cell_type": "code",
   "execution_count": 11,
   "id": "b4305e18-f3ec-4ab9-8fff-d5f8da43dbfd",
   "metadata": {},
   "outputs": [],
   "source": [
    "# Given a tweetId, create a datastructure with the tweet and replies\n",
    "# Each \"tweet\" is dictionary with keys for:\n",
    "#    \"tweet_info\" (from the tweet.data), \"author\", and \"replies\"\n",
    "#\n",
    "# When searching for tweets in the conversation, it looks for groups of 100\n",
    "# tweets at a time. You can set how many groups of 100 tweets it looks for with\n",
    "# max_conversation_searches\n",
    "def get_tweets_with_replies(tweetId, max_conversation_searches=1):\n",
    "    (starting_tweet, all_conversation_tweets, users_lookup) = get_tweet_and_conversation(tweetId, max_conversation_searches)\n",
    "    tweets_by_referenced_tweet = organize_tweets_by_referenced_tweets(all_conversation_tweets)\n",
    "    tweet_with_replies = organize_tweets_with_replies(starting_tweet, tweets_by_referenced_tweet, users_lookup)\n",
    "    return tweet_with_replies\n",
    "\n",
    "# the function above uses the helper functions below\n",
    "\n",
    "# Given a tweet id, find the tweet and other tweets in the same conversation\n",
    "def get_tweet_and_conversation(tweetId, max_conversation_searches=1):\n",
    "    starting_tweet = client.get_tweet(tweetId, tweet_fields=['conversation_id', 'public_metrics'], expansions=['author_id'])\n",
    "    conversation_id = starting_tweet.data.conversation_id\n",
    "    \n",
    "    all_conversation_tweets = get_conversation_tweets(conversation_id, max_conversation_searches)\n",
    "    all_users = starting_tweet.includes['users']\n",
    "    for conversation_tweets in all_conversation_tweets:\n",
    "        all_users += conversation_tweets.includes['users']\n",
    "    users_lookup = {str(u[\"id\"]): u for u in all_users}\n",
    "    return (starting_tweet, all_conversation_tweets, users_lookup)\n",
    "\n",
    "# Get tweets in a conversation (given the conversation id)\n",
    "def get_conversation_tweets(conversation_id, max_conversation_searches):\n",
    "    query = \"conversation_id:\" + str(conversation_id)\n",
    "    all_conversation_tweets = []\n",
    "    num_searches=0\n",
    "    is_done = False\n",
    "    next_token = None\n",
    "    while not is_done and num_searches < max_conversation_searches:\n",
    "        conversation_tweets = client.search_recent_tweets(query=query, next_token=next_token, tweet_fields = 'public_metrics', expansions=['referenced_tweets.id','author_id'], max_results=100)\n",
    "        num_searches += 1\n",
    "        all_conversation_tweets.append(conversation_tweets)\n",
    "        print(\"loaded a set of tweets: \" + str(conversation_tweets.meta))\n",
    "        if 'next_token' in conversation_tweets.meta:\n",
    "            next_token = conversation_tweets.meta['next_token']\n",
    "        else:\n",
    "            is_done = True\n",
    "    return all_conversation_tweets\n",
    "\n",
    "# Given a list of tweets, group them all based on what tweet they are replying to\n",
    "def organize_tweets_by_referenced_tweets(list_of_tweet_results):\n",
    "    tweets_by_referenced_tweet = {}\n",
    "    for tweets in list_of_tweet_results:\n",
    "        for tweet in tweets.data:\n",
    "            for referenced_tweet in tweet.referenced_tweets:\n",
    "                if(referenced_tweet.type == \"replied_to\"):\n",
    "                    referenced_tweet_id = str(referenced_tweet.id)\n",
    "                    if(referenced_tweet_id not in tweets_by_referenced_tweet):\n",
    "                        tweets_by_referenced_tweet[referenced_tweet_id] = []\n",
    "                    tweets_by_referenced_tweet[referenced_tweet_id].append(tweet)\n",
    "                    break\n",
    "\n",
    "    return tweets_by_referenced_tweet\n",
    "\n",
    "# organize the tweets so that author info and replies to tweets are included\n",
    "# with it in a convenient data structure\n",
    "def organize_tweets_with_replies(tweet, tweets_by_referenced_tweet, users_lookup):\n",
    "    tweet_with_replies = {\n",
    "        \"tweet_info\": tweet.data,\n",
    "        \"author\": users_lookup[str(tweet.data[\"author_id\"])].data,\n",
    "        \"replies\": []\n",
    "    }\n",
    "\n",
    "    tweet_id = str(tweet.data[\"id\"])\n",
    "    if tweet_id in tweets_by_referenced_tweet:\n",
    "        reply_tweets = tweets_by_referenced_tweet[tweet_id]\n",
    "        for reply_tweet in reply_tweets:\n",
    "            tweet_with_replies[\"replies\"].append(\n",
    "                organize_tweets_with_replies(reply_tweet, tweets_by_referenced_tweet, users_lookup)\n",
    "            )\n",
    "    return tweet_with_replies\n",
    "\n"
   ]
  },
  {
   "cell_type": "code",
   "execution_count": 12,
   "id": "f593592a-de21-44bc-9d00-451880036a15",
   "metadata": {
    "collapsed": true,
    "jupyter": {
     "outputs_hidden": true
    },
    "tags": []
   },
   "outputs": [
    {
     "name": "stdout",
     "output_type": "stream",
     "text": [
      "loaded a set of tweets: {'newest_id': '1496901276373688353', 'oldest_id': '1496561211391242240', 'result_count': 16}\n"
     ]
    },
    {
     "data": {
      "text/plain": [
       "{'tweet_info': <Tweet id=1496559168702099456 text='Another very chilly late February day on tap, with highs staying in the 30s. Normal at this point is the low 50s! \\n\\nSnow flurries are possible late tonight, but accumulations beyond a dusting aren’t expected. (😡)'>,\n",
       " 'author': {'id': '34379755',\n",
       "  'name': 'Seattle Weather Blog',\n",
       "  'username': 'KSeattleWeather'},\n",
       " 'replies': [{'tweet_info': {'referenced_tweets': [{'type': 'replied_to',\n",
       "      'id': '1496559168702099456'}],\n",
       "    'public_metrics': {'retweet_count': 0,\n",
       "     'reply_count': 0,\n",
       "     'like_count': 0,\n",
       "     'quote_count': 0},\n",
       "    'text': '@KSeattleWeather Do You Want To Make a 3d Animated Logo Intro Video?\\nMore Info/Order Here: https://t.co/SYQ3KaGMG6\\n\\nBusiness Logo Intro\\nLogo Animation\\nYoutube Intro\\n3d logo intro',\n",
       "    'author_id': '1493638795216195584',\n",
       "    'id': '1496901276373688353'},\n",
       "   'author': {'id': '1493638795216195584',\n",
       "    'name': 'Vfx Studio',\n",
       "    'username': 'VfxStudio9'},\n",
       "   'replies': []},\n",
       "  {'tweet_info': {'referenced_tweets': [{'type': 'replied_to',\n",
       "      'id': '1496559168702099456'}],\n",
       "    'public_metrics': {'retweet_count': 0,\n",
       "     'reply_count': 0,\n",
       "     'like_count': 0,\n",
       "     'quote_count': 0},\n",
       "    'text': '@KSeattleWeather That’s what I thought and woke up to almost 2” of snow!',\n",
       "    'author_id': '1199527209653792768',\n",
       "    'id': '1496875236679032839'},\n",
       "   'author': {'id': '1199527209653792768',\n",
       "    'name': 'jen-eration x',\n",
       "    'username': 'jenjensquared2'},\n",
       "   'replies': []},\n",
       "  {'tweet_info': {'referenced_tweets': [{'type': 'replied_to',\n",
       "      'id': '1496559168702099456'}],\n",
       "    'public_metrics': {'retweet_count': 0,\n",
       "     'reply_count': 0,\n",
       "     'like_count': 0,\n",
       "     'quote_count': 0},\n",
       "    'text': '@KSeattleWeather Dusting in lakehills Bellevue https://t.co/kZs9i28xn4',\n",
       "    'author_id': '818680509790232576',\n",
       "    'id': '1496868034547712000'},\n",
       "   'author': {'id': '818680509790232576',\n",
       "    'name': 'alice',\n",
       "    'username': 'alicetse2'},\n",
       "   'replies': []},\n",
       "  {'tweet_info': {'referenced_tweets': [{'type': 'replied_to',\n",
       "      'id': '1496559168702099456'}],\n",
       "    'public_metrics': {'retweet_count': 0,\n",
       "     'reply_count': 0,\n",
       "     'like_count': 1,\n",
       "     'quote_count': 0},\n",
       "    'text': '@KSeattleWeather Define “a dusting” 🤣😭 https://t.co/o1iFMrhUCY',\n",
       "    'author_id': '1320298718931808257',\n",
       "    'id': '1496847350249132035'},\n",
       "   'author': {'id': '1320298718931808257',\n",
       "    'name': 'E (she/they)',\n",
       "    'username': 'Eri_cack'},\n",
       "   'replies': []},\n",
       "  {'tweet_info': {'referenced_tweets': [{'type': 'replied_to',\n",
       "      'id': '1496559168702099456'}],\n",
       "    'public_metrics': {'retweet_count': 0,\n",
       "     'reply_count': 0,\n",
       "     'like_count': 0,\n",
       "     'quote_count': 0},\n",
       "    'text': '@KSeattleWeather ?  2-3cm!?!?! 🥳🥶🤣 https://t.co/064TYm2x7L',\n",
       "    'author_id': '208173590',\n",
       "    'id': '1496749678938902528'},\n",
       "   'author': {'id': '208173590',\n",
       "    'name': 'Jonathan Lickiss',\n",
       "    'username': 'jonlickiss'},\n",
       "   'replies': []},\n",
       "  {'tweet_info': {'referenced_tweets': [{'type': 'replied_to',\n",
       "      'id': '1496559168702099456'}],\n",
       "    'public_metrics': {'retweet_count': 0,\n",
       "     'reply_count': 0,\n",
       "     'like_count': 3,\n",
       "     'quote_count': 0},\n",
       "    'text': '@KSeattleWeather This weather is sickening and repulsive. Need more sunshine and heat.',\n",
       "    'author_id': '1374166629722984448',\n",
       "    'id': '1496749636958109697'},\n",
       "   'author': {'id': '1374166629722984448',\n",
       "    'name': 'Rock⭐',\n",
       "    'username': 'Rock061193'},\n",
       "   'replies': []},\n",
       "  {'tweet_info': {'referenced_tweets': [{'type': 'replied_to',\n",
       "      'id': '1496559168702099456'}],\n",
       "    'public_metrics': {'retweet_count': 0,\n",
       "     'reply_count': 0,\n",
       "     'like_count': 0,\n",
       "     'quote_count': 0},\n",
       "    'text': '@KSeattleWeather But…. I didn’t get enough snow this winter!!',\n",
       "    'author_id': '91261382',\n",
       "    'id': '1496617566688534531'},\n",
       "   'author': {'id': '91261382', 'name': 'Ica Rewitz', 'username': 'IcaRewitz'},\n",
       "   'replies': []},\n",
       "  {'tweet_info': {'referenced_tweets': [{'type': 'replied_to',\n",
       "      'id': '1496559168702099456'}],\n",
       "    'public_metrics': {'retweet_count': 0,\n",
       "     'reply_count': 0,\n",
       "     'like_count': 0,\n",
       "     'quote_count': 0},\n",
       "    'text': \"@KSeattleWeather Welp, at least it's super sunny!\",\n",
       "    'author_id': '291685926',\n",
       "    'id': '1496587665705037826'},\n",
       "   'author': {'id': '291685926',\n",
       "    'name': 'Briana Ryan',\n",
       "    'username': '_brianaryan'},\n",
       "   'replies': []},\n",
       "  {'tweet_info': {'referenced_tweets': [{'type': 'replied_to',\n",
       "      'id': '1496559168702099456'}],\n",
       "    'public_metrics': {'retweet_count': 0,\n",
       "     'reply_count': 0,\n",
       "     'like_count': 1,\n",
       "     'quote_count': 0},\n",
       "    'text': '@KSeattleWeather #Seattle #snow #wawx https://t.co/zBP8FSrbmB',\n",
       "    'author_id': '20422796',\n",
       "    'id': '1496576654398865414'},\n",
       "   'author': {'id': '20422796',\n",
       "    'name': 'playmaker',\n",
       "    'username': 'playmaker09'},\n",
       "   'replies': []},\n",
       "  {'tweet_info': {'referenced_tweets': [{'type': 'replied_to',\n",
       "      'id': '1496559168702099456'}],\n",
       "    'public_metrics': {'retweet_count': 0,\n",
       "     'reply_count': 0,\n",
       "     'like_count': 1,\n",
       "     'quote_count': 0},\n",
       "    'text': '@KSeattleWeather https://t.co/ewapi9BTN3',\n",
       "    'author_id': '2984836088',\n",
       "    'id': '1496570062366461956'},\n",
       "   'author': {'id': '2984836088',\n",
       "    'name': 'Tina Shepard (she/her) 🏔',\n",
       "    'username': 'shepard_tina'},\n",
       "   'replies': []},\n",
       "  {'tweet_info': {'referenced_tweets': [{'type': 'replied_to',\n",
       "      'id': '1496559168702099456'}],\n",
       "    'public_metrics': {'retweet_count': 0,\n",
       "     'reply_count': 0,\n",
       "     'like_count': 0,\n",
       "     'quote_count': 0},\n",
       "    'text': '@KSeattleWeather Salty much? 😂😂',\n",
       "    'author_id': '59189998',\n",
       "    'id': '1496567602956873728'},\n",
       "   'author': {'id': '59189998',\n",
       "    'name': 'Jamsheed Motafram',\n",
       "    'username': 'sheed92'},\n",
       "   'replies': []},\n",
       "  {'tweet_info': {'referenced_tweets': [{'type': 'replied_to',\n",
       "      'id': '1496559168702099456'}],\n",
       "    'public_metrics': {'retweet_count': 0,\n",
       "     'reply_count': 2,\n",
       "     'like_count': 2,\n",
       "     'quote_count': 0},\n",
       "    'text': \"@KSeattleWeather Any early indications of next week's weather patterns? Any early March snow?!\",\n",
       "    'author_id': '3172510483',\n",
       "    'id': '1496562719461359621'},\n",
       "   'author': {'id': '3172510483',\n",
       "    'name': 'Benjamin',\n",
       "    'username': 'BrainsRefried'},\n",
       "   'replies': [{'tweet_info': {'referenced_tweets': [{'type': 'replied_to',\n",
       "        'id': '1496562719461359621'}],\n",
       "      'public_metrics': {'retweet_count': 0,\n",
       "       'reply_count': 0,\n",
       "       'like_count': 1,\n",
       "       'quote_count': 0},\n",
       "      'text': '@BrainsRefried @KSeattleWeather I love snow but the words \"snow\" and \"March\" do not need to be in the same sentence. Please don\\'t jinx it',\n",
       "      'author_id': '3249154315',\n",
       "      'id': '1496623879443259396'},\n",
       "     'author': {'id': '3249154315',\n",
       "      'name': 'bee movie enthusiast',\n",
       "      'username': 'UnloneWanderer'},\n",
       "     'replies': []},\n",
       "    {'tweet_info': {'referenced_tweets': [{'type': 'replied_to',\n",
       "        'id': '1496562719461359621'}],\n",
       "      'public_metrics': {'retweet_count': 0,\n",
       "       'reply_count': 0,\n",
       "       'like_count': 0,\n",
       "       'quote_count': 0},\n",
       "      'text': '@BrainsRefried @KSeattleWeather Next 10 days? I see return of regular rain and temps in the 40s.',\n",
       "      'author_id': '26638250',\n",
       "      'id': '1496586829482450946'},\n",
       "     'author': {'id': '26638250',\n",
       "      'name': 'olives on pizza',\n",
       "      'username': 'Katie300'},\n",
       "     'replies': []}]},\n",
       "  {'tweet_info': {'referenced_tweets': [{'type': 'replied_to',\n",
       "      'id': '1496559168702099456'}],\n",
       "    'public_metrics': {'retweet_count': 0,\n",
       "     'reply_count': 0,\n",
       "     'like_count': 1,\n",
       "     'quote_count': 0},\n",
       "    'text': '@KSeattleWeather https://t.co/6zViHi652m',\n",
       "    'author_id': '14386923',\n",
       "    'id': '1496561443151437833'},\n",
       "   'author': {'id': '14386923',\n",
       "    'name': '𝕞𝕚𝕤𝕤 𝕞𝕒𝕣𝕪 𝕞𝕠',\n",
       "    'username': 'ramdonomo'},\n",
       "   'replies': []},\n",
       "  {'tweet_info': {'referenced_tweets': [{'type': 'replied_to',\n",
       "      'id': '1496559168702099456'}],\n",
       "    'public_metrics': {'retweet_count': 0,\n",
       "     'reply_count': 0,\n",
       "     'like_count': 0,\n",
       "     'quote_count': 0},\n",
       "    'text': '@KSeattleWeather https://t.co/jk6NlsqQgI',\n",
       "    'author_id': '26552682',\n",
       "    'id': '1496561211391242240'},\n",
       "   'author': {'id': '26552682',\n",
       "    'name': 'Flippty Jibbit',\n",
       "    'username': 'FlipptyJibbit'},\n",
       "   'replies': []}]}"
      ]
     },
     "execution_count": 12,
     "metadata": {},
     "output_type": "execute_result"
    }
   ],
   "source": [
    "# Demo using get_tweets_with_replies(tweetId, max_conversation_searches=1)\n",
    "get_tweets_with_replies(1496559168702099456)"
   ]
  },
  {
   "cell_type": "markdown",
   "id": "6e9f250e-c023-44f4-8d40-7e67a5898e16",
   "metadata": {
    "tags": []
   },
   "source": [
    "### Recursively printing the tweets and replies (This is the part you will work on for homework 4)"
   ]
  },
  {
   "cell_type": "code",
   "execution_count": 14,
   "id": "c0a87574-0e75-43af-97ff-795653323e66",
   "metadata": {},
   "outputs": [],
   "source": [
    "def print_tweet_and_replies(tweet_with_replies, num_indents=0):\n",
    "    tweet_info = tweet_with_replies[\"tweet_info\"]\n",
    "    replies = tweet_with_replies[\"replies\"]\n",
    "\n",
    "    display_indented(tweet_info['text'], num_indents*20)\n",
    "    \n",
    "    #print replies (and the replies of those, etc.)\n",
    "    for reply in replies:\n",
    "        print_tweet_and_replies(reply, num_indents = num_indents + 1)"
   ]
  },
  {
   "cell_type": "code",
   "execution_count": 15,
   "id": "874fbd04-3c59-41c8-b21f-426a73071832",
   "metadata": {},
   "outputs": [
    {
     "name": "stdout",
     "output_type": "stream",
     "text": [
      "loaded a set of tweets: {'newest_id': '1496901276373688353', 'oldest_id': '1496561211391242240', 'result_count': 16}\n"
     ]
    }
   ],
   "source": [
    "weather_tweets_and_replies = get_tweets_with_replies(1496559168702099456)"
   ]
  },
  {
   "cell_type": "code",
   "execution_count": 16,
   "id": "34c94ffa-8255-4ffa-85a3-db03b4fa64c4",
   "metadata": {
    "collapsed": true,
    "jupyter": {
     "outputs_hidden": true
    },
    "tags": []
   },
   "outputs": [
    {
     "data": {
      "text/html": [
       "<pre style='border:solid 1px;padding:3px;margin-left:0px'>Another very chilly late February day on tap, with highs staying in the 30s. Normal at this point is the low 50s! \n",
       "\n",
       "Snow flurries are possible late tonight, but accumulations beyond a dusting aren’t expected. (😡)</pre>"
      ],
      "text/plain": [
       "<IPython.core.display.HTML object>"
      ]
     },
     "metadata": {},
     "output_type": "display_data"
    },
    {
     "data": {
      "text/html": [
       "<pre style='border:solid 1px;padding:3px;margin-left:20px'>@KSeattleWeather Do You Want To Make a 3d Animated Logo Intro Video?\n",
       "More Info/Order Here: https://t.co/SYQ3KaGMG6\n",
       "\n",
       "Business Logo Intro\n",
       "Logo Animation\n",
       "Youtube Intro\n",
       "3d logo intro</pre>"
      ],
      "text/plain": [
       "<IPython.core.display.HTML object>"
      ]
     },
     "metadata": {},
     "output_type": "display_data"
    },
    {
     "data": {
      "text/html": [
       "<pre style='border:solid 1px;padding:3px;margin-left:20px'>@KSeattleWeather That’s what I thought and woke up to almost 2” of snow!</pre>"
      ],
      "text/plain": [
       "<IPython.core.display.HTML object>"
      ]
     },
     "metadata": {},
     "output_type": "display_data"
    },
    {
     "data": {
      "text/html": [
       "<pre style='border:solid 1px;padding:3px;margin-left:20px'>@KSeattleWeather Dusting in lakehills Bellevue https://t.co/kZs9i28xn4</pre>"
      ],
      "text/plain": [
       "<IPython.core.display.HTML object>"
      ]
     },
     "metadata": {},
     "output_type": "display_data"
    },
    {
     "data": {
      "text/html": [
       "<pre style='border:solid 1px;padding:3px;margin-left:20px'>@KSeattleWeather Define “a dusting” 🤣😭 https://t.co/o1iFMrhUCY</pre>"
      ],
      "text/plain": [
       "<IPython.core.display.HTML object>"
      ]
     },
     "metadata": {},
     "output_type": "display_data"
    },
    {
     "data": {
      "text/html": [
       "<pre style='border:solid 1px;padding:3px;margin-left:20px'>@KSeattleWeather ?  2-3cm!?!?! 🥳🥶🤣 https://t.co/064TYm2x7L</pre>"
      ],
      "text/plain": [
       "<IPython.core.display.HTML object>"
      ]
     },
     "metadata": {},
     "output_type": "display_data"
    },
    {
     "data": {
      "text/html": [
       "<pre style='border:solid 1px;padding:3px;margin-left:20px'>@KSeattleWeather This weather is sickening and repulsive. Need more sunshine and heat.</pre>"
      ],
      "text/plain": [
       "<IPython.core.display.HTML object>"
      ]
     },
     "metadata": {},
     "output_type": "display_data"
    },
    {
     "data": {
      "text/html": [
       "<pre style='border:solid 1px;padding:3px;margin-left:20px'>@KSeattleWeather But…. I didn’t get enough snow this winter!!</pre>"
      ],
      "text/plain": [
       "<IPython.core.display.HTML object>"
      ]
     },
     "metadata": {},
     "output_type": "display_data"
    },
    {
     "data": {
      "text/html": [
       "<pre style='border:solid 1px;padding:3px;margin-left:20px'>@KSeattleWeather Welp, at least it&#x27;s super sunny!</pre>"
      ],
      "text/plain": [
       "<IPython.core.display.HTML object>"
      ]
     },
     "metadata": {},
     "output_type": "display_data"
    },
    {
     "data": {
      "text/html": [
       "<pre style='border:solid 1px;padding:3px;margin-left:20px'>@KSeattleWeather #Seattle #snow #wawx https://t.co/zBP8FSrbmB</pre>"
      ],
      "text/plain": [
       "<IPython.core.display.HTML object>"
      ]
     },
     "metadata": {},
     "output_type": "display_data"
    },
    {
     "data": {
      "text/html": [
       "<pre style='border:solid 1px;padding:3px;margin-left:20px'>@KSeattleWeather https://t.co/ewapi9BTN3</pre>"
      ],
      "text/plain": [
       "<IPython.core.display.HTML object>"
      ]
     },
     "metadata": {},
     "output_type": "display_data"
    },
    {
     "data": {
      "text/html": [
       "<pre style='border:solid 1px;padding:3px;margin-left:20px'>@KSeattleWeather Salty much? 😂😂</pre>"
      ],
      "text/plain": [
       "<IPython.core.display.HTML object>"
      ]
     },
     "metadata": {},
     "output_type": "display_data"
    },
    {
     "data": {
      "text/html": [
       "<pre style='border:solid 1px;padding:3px;margin-left:20px'>@KSeattleWeather Any early indications of next week&#x27;s weather patterns? Any early March snow?!</pre>"
      ],
      "text/plain": [
       "<IPython.core.display.HTML object>"
      ]
     },
     "metadata": {},
     "output_type": "display_data"
    },
    {
     "data": {
      "text/html": [
       "<pre style='border:solid 1px;padding:3px;margin-left:40px'>@BrainsRefried @KSeattleWeather I love snow but the words &quot;snow&quot; and &quot;March&quot; do not need to be in the same sentence. Please don&#x27;t jinx it</pre>"
      ],
      "text/plain": [
       "<IPython.core.display.HTML object>"
      ]
     },
     "metadata": {},
     "output_type": "display_data"
    },
    {
     "data": {
      "text/html": [
       "<pre style='border:solid 1px;padding:3px;margin-left:40px'>@BrainsRefried @KSeattleWeather Next 10 days? I see return of regular rain and temps in the 40s.</pre>"
      ],
      "text/plain": [
       "<IPython.core.display.HTML object>"
      ]
     },
     "metadata": {},
     "output_type": "display_data"
    },
    {
     "data": {
      "text/html": [
       "<pre style='border:solid 1px;padding:3px;margin-left:20px'>@KSeattleWeather https://t.co/6zViHi652m</pre>"
      ],
      "text/plain": [
       "<IPython.core.display.HTML object>"
      ]
     },
     "metadata": {},
     "output_type": "display_data"
    },
    {
     "data": {
      "text/html": [
       "<pre style='border:solid 1px;padding:3px;margin-left:20px'>@KSeattleWeather https://t.co/jk6NlsqQgI</pre>"
      ],
      "text/plain": [
       "<IPython.core.display.HTML object>"
      ]
     },
     "metadata": {},
     "output_type": "display_data"
    }
   ],
   "source": [
    "print_tweet_and_replies(weather_tweets_and_replies)"
   ]
  },
  {
   "cell_type": "markdown",
   "id": "af43539a-ec47-4b34-9ab5-a3c08d34c78b",
   "metadata": {},
   "source": [
    "### Improve the function to have it print more useful information"
   ]
  },
  {
   "cell_type": "code",
   "execution_count": 22,
   "id": "620cc54f-2bc9-4f6d-9d61-91a9e629b42a",
   "metadata": {},
   "outputs": [],
   "source": [
    "def print_tweet_and_replies(tweet_with_replies, num_indents=0):\n",
    "    tweet_info = tweet_with_replies[\"tweet_info\"]\n",
    "    replies = tweet_with_replies[\"replies\"]\n",
    "    author_info = tweet_with_replies[\"author\"]\n",
    "    public_metrics = tweet_info[\"public_metrics\"]\n",
    "\n",
    "    display_text = (\n",
    "        tweet_info['text'] + \"\\n\" +\n",
    "        \"-- \" + author_info[\"name\"] + \" (@\" + author_info[\"username\"] + \")\" + \"\\n\" +\n",
    "        str(public_metrics)\n",
    "    )\n",
    "    \n",
    "    display_indented(display_text, num_indents*20)\n",
    "    \n",
    "    #print replies (and the replies of those, etc.)\n",
    "    for reply in replies:\n",
    "        print_tweet_and_replies(reply, num_indents = num_indents + 1)"
   ]
  },
  {
   "cell_type": "code",
   "execution_count": 23,
   "id": "132e49b3-afa5-4ef1-bfb5-aef7b691170c",
   "metadata": {
    "collapsed": true,
    "jupyter": {
     "outputs_hidden": true
    },
    "tags": []
   },
   "outputs": [
    {
     "data": {
      "text/html": [
       "<pre style='border:solid 1px;padding:3px;margin-left:0px'>Another very chilly late February day on tap, with highs staying in the 30s. Normal at this point is the low 50s! \n",
       "\n",
       "Snow flurries are possible late tonight, but accumulations beyond a dusting aren’t expected. (😡)\n",
       "-- Seattle Weather Blog (@KSeattleWeather)\n",
       "{&#x27;retweet_count&#x27;: 15, &#x27;reply_count&#x27;: 14, &#x27;like_count&#x27;: 300, &#x27;quote_count&#x27;: 3}</pre>"
      ],
      "text/plain": [
       "<IPython.core.display.HTML object>"
      ]
     },
     "metadata": {},
     "output_type": "display_data"
    },
    {
     "data": {
      "text/html": [
       "<pre style='border:solid 1px;padding:3px;margin-left:20px'>@KSeattleWeather Do You Want To Make a 3d Animated Logo Intro Video?\n",
       "More Info/Order Here: https://t.co/SYQ3KaGMG6\n",
       "\n",
       "Business Logo Intro\n",
       "Logo Animation\n",
       "Youtube Intro\n",
       "3d logo intro\n",
       "-- Vfx Studio (@VfxStudio9)\n",
       "{&#x27;retweet_count&#x27;: 0, &#x27;reply_count&#x27;: 0, &#x27;like_count&#x27;: 0, &#x27;quote_count&#x27;: 0}</pre>"
      ],
      "text/plain": [
       "<IPython.core.display.HTML object>"
      ]
     },
     "metadata": {},
     "output_type": "display_data"
    },
    {
     "data": {
      "text/html": [
       "<pre style='border:solid 1px;padding:3px;margin-left:20px'>@KSeattleWeather That’s what I thought and woke up to almost 2” of snow!\n",
       "-- jen-eration x (@jenjensquared2)\n",
       "{&#x27;retweet_count&#x27;: 0, &#x27;reply_count&#x27;: 0, &#x27;like_count&#x27;: 0, &#x27;quote_count&#x27;: 0}</pre>"
      ],
      "text/plain": [
       "<IPython.core.display.HTML object>"
      ]
     },
     "metadata": {},
     "output_type": "display_data"
    },
    {
     "data": {
      "text/html": [
       "<pre style='border:solid 1px;padding:3px;margin-left:20px'>@KSeattleWeather Dusting in lakehills Bellevue https://t.co/kZs9i28xn4\n",
       "-- alice (@alicetse2)\n",
       "{&#x27;retweet_count&#x27;: 0, &#x27;reply_count&#x27;: 0, &#x27;like_count&#x27;: 0, &#x27;quote_count&#x27;: 0}</pre>"
      ],
      "text/plain": [
       "<IPython.core.display.HTML object>"
      ]
     },
     "metadata": {},
     "output_type": "display_data"
    },
    {
     "data": {
      "text/html": [
       "<pre style='border:solid 1px;padding:3px;margin-left:20px'>@KSeattleWeather Define “a dusting” 🤣😭 https://t.co/o1iFMrhUCY\n",
       "-- E (she/they) (@Eri_cack)\n",
       "{&#x27;retweet_count&#x27;: 0, &#x27;reply_count&#x27;: 0, &#x27;like_count&#x27;: 1, &#x27;quote_count&#x27;: 0}</pre>"
      ],
      "text/plain": [
       "<IPython.core.display.HTML object>"
      ]
     },
     "metadata": {},
     "output_type": "display_data"
    },
    {
     "data": {
      "text/html": [
       "<pre style='border:solid 1px;padding:3px;margin-left:20px'>@KSeattleWeather ?  2-3cm!?!?! 🥳🥶🤣 https://t.co/064TYm2x7L\n",
       "-- Jonathan Lickiss (@jonlickiss)\n",
       "{&#x27;retweet_count&#x27;: 0, &#x27;reply_count&#x27;: 0, &#x27;like_count&#x27;: 0, &#x27;quote_count&#x27;: 0}</pre>"
      ],
      "text/plain": [
       "<IPython.core.display.HTML object>"
      ]
     },
     "metadata": {},
     "output_type": "display_data"
    },
    {
     "data": {
      "text/html": [
       "<pre style='border:solid 1px;padding:3px;margin-left:20px'>@KSeattleWeather This weather is sickening and repulsive. Need more sunshine and heat.\n",
       "-- Rock⭐ (@Rock061193)\n",
       "{&#x27;retweet_count&#x27;: 0, &#x27;reply_count&#x27;: 0, &#x27;like_count&#x27;: 3, &#x27;quote_count&#x27;: 0}</pre>"
      ],
      "text/plain": [
       "<IPython.core.display.HTML object>"
      ]
     },
     "metadata": {},
     "output_type": "display_data"
    },
    {
     "data": {
      "text/html": [
       "<pre style='border:solid 1px;padding:3px;margin-left:20px'>@KSeattleWeather But…. I didn’t get enough snow this winter!!\n",
       "-- Ica Rewitz (@IcaRewitz)\n",
       "{&#x27;retweet_count&#x27;: 0, &#x27;reply_count&#x27;: 0, &#x27;like_count&#x27;: 0, &#x27;quote_count&#x27;: 0}</pre>"
      ],
      "text/plain": [
       "<IPython.core.display.HTML object>"
      ]
     },
     "metadata": {},
     "output_type": "display_data"
    },
    {
     "data": {
      "text/html": [
       "<pre style='border:solid 1px;padding:3px;margin-left:20px'>@KSeattleWeather Welp, at least it&#x27;s super sunny!\n",
       "-- Briana Ryan (@_brianaryan)\n",
       "{&#x27;retweet_count&#x27;: 0, &#x27;reply_count&#x27;: 0, &#x27;like_count&#x27;: 0, &#x27;quote_count&#x27;: 0}</pre>"
      ],
      "text/plain": [
       "<IPython.core.display.HTML object>"
      ]
     },
     "metadata": {},
     "output_type": "display_data"
    },
    {
     "data": {
      "text/html": [
       "<pre style='border:solid 1px;padding:3px;margin-left:20px'>@KSeattleWeather #Seattle #snow #wawx https://t.co/zBP8FSrbmB\n",
       "-- playmaker (@playmaker09)\n",
       "{&#x27;retweet_count&#x27;: 0, &#x27;reply_count&#x27;: 0, &#x27;like_count&#x27;: 1, &#x27;quote_count&#x27;: 0}</pre>"
      ],
      "text/plain": [
       "<IPython.core.display.HTML object>"
      ]
     },
     "metadata": {},
     "output_type": "display_data"
    },
    {
     "data": {
      "text/html": [
       "<pre style='border:solid 1px;padding:3px;margin-left:20px'>@KSeattleWeather https://t.co/ewapi9BTN3\n",
       "-- Tina Shepard (she/her) 🏔 (@shepard_tina)\n",
       "{&#x27;retweet_count&#x27;: 0, &#x27;reply_count&#x27;: 0, &#x27;like_count&#x27;: 1, &#x27;quote_count&#x27;: 0}</pre>"
      ],
      "text/plain": [
       "<IPython.core.display.HTML object>"
      ]
     },
     "metadata": {},
     "output_type": "display_data"
    },
    {
     "data": {
      "text/html": [
       "<pre style='border:solid 1px;padding:3px;margin-left:20px'>@KSeattleWeather Salty much? 😂😂\n",
       "-- Jamsheed Motafram (@sheed92)\n",
       "{&#x27;retweet_count&#x27;: 0, &#x27;reply_count&#x27;: 0, &#x27;like_count&#x27;: 0, &#x27;quote_count&#x27;: 0}</pre>"
      ],
      "text/plain": [
       "<IPython.core.display.HTML object>"
      ]
     },
     "metadata": {},
     "output_type": "display_data"
    },
    {
     "data": {
      "text/html": [
       "<pre style='border:solid 1px;padding:3px;margin-left:20px'>@KSeattleWeather Any early indications of next week&#x27;s weather patterns? Any early March snow?!\n",
       "-- Benjamin (@BrainsRefried)\n",
       "{&#x27;retweet_count&#x27;: 0, &#x27;reply_count&#x27;: 2, &#x27;like_count&#x27;: 2, &#x27;quote_count&#x27;: 0}</pre>"
      ],
      "text/plain": [
       "<IPython.core.display.HTML object>"
      ]
     },
     "metadata": {},
     "output_type": "display_data"
    },
    {
     "data": {
      "text/html": [
       "<pre style='border:solid 1px;padding:3px;margin-left:40px'>@BrainsRefried @KSeattleWeather I love snow but the words &quot;snow&quot; and &quot;March&quot; do not need to be in the same sentence. Please don&#x27;t jinx it\n",
       "-- bee movie enthusiast (@UnloneWanderer)\n",
       "{&#x27;retweet_count&#x27;: 0, &#x27;reply_count&#x27;: 0, &#x27;like_count&#x27;: 1, &#x27;quote_count&#x27;: 0}</pre>"
      ],
      "text/plain": [
       "<IPython.core.display.HTML object>"
      ]
     },
     "metadata": {},
     "output_type": "display_data"
    },
    {
     "data": {
      "text/html": [
       "<pre style='border:solid 1px;padding:3px;margin-left:40px'>@BrainsRefried @KSeattleWeather Next 10 days? I see return of regular rain and temps in the 40s.\n",
       "-- olives on pizza (@Katie300)\n",
       "{&#x27;retweet_count&#x27;: 0, &#x27;reply_count&#x27;: 0, &#x27;like_count&#x27;: 0, &#x27;quote_count&#x27;: 0}</pre>"
      ],
      "text/plain": [
       "<IPython.core.display.HTML object>"
      ]
     },
     "metadata": {},
     "output_type": "display_data"
    },
    {
     "data": {
      "text/html": [
       "<pre style='border:solid 1px;padding:3px;margin-left:20px'>@KSeattleWeather https://t.co/6zViHi652m\n",
       "-- 𝕞𝕚𝕤𝕤 𝕞𝕒𝕣𝕪 𝕞𝕠 (@ramdonomo)\n",
       "{&#x27;retweet_count&#x27;: 0, &#x27;reply_count&#x27;: 0, &#x27;like_count&#x27;: 1, &#x27;quote_count&#x27;: 0}</pre>"
      ],
      "text/plain": [
       "<IPython.core.display.HTML object>"
      ]
     },
     "metadata": {},
     "output_type": "display_data"
    },
    {
     "data": {
      "text/html": [
       "<pre style='border:solid 1px;padding:3px;margin-left:20px'>@KSeattleWeather https://t.co/jk6NlsqQgI\n",
       "-- Flippty Jibbit (@FlipptyJibbit)\n",
       "{&#x27;retweet_count&#x27;: 0, &#x27;reply_count&#x27;: 0, &#x27;like_count&#x27;: 0, &#x27;quote_count&#x27;: 0}</pre>"
      ],
      "text/plain": [
       "<IPython.core.display.HTML object>"
      ]
     },
     "metadata": {},
     "output_type": "display_data"
    }
   ],
   "source": [
    "print_tweet_and_replies(weather_tweets_and_replies)"
   ]
  },
  {
   "cell_type": "markdown",
   "id": "46c8f415-b653-4933-b75b-6b0c14bfa15f",
   "metadata": {},
   "source": [
    "### Try on a much larger thread"
   ]
  },
  {
   "cell_type": "code",
   "execution_count": 26,
   "id": "3de1ec85-99e5-4528-8b43-e321e21ed8b6",
   "metadata": {},
   "outputs": [
    {
     "name": "stdout",
     "output_type": "stream",
     "text": [
      "loaded a set of tweets: {'newest_id': '1496976544270540805', 'oldest_id': '1496717562729488389', 'result_count': 100, 'next_token': 'b26v89c19zqg8o3fpe77f6m6hvsxq3mi49k6bd4ijczgd'}\n",
      "loaded a set of tweets: {'newest_id': '1496717401651499009', 'oldest_id': '1496715157329768462', 'result_count': 6}\n"
     ]
    }
   ],
   "source": [
    "misinfo_tweet_with_replies = get_tweets_with_replies(1496714317651083266, max_conversation_searches = 10)"
   ]
  },
  {
   "cell_type": "code",
   "execution_count": 27,
   "id": "d5b80018-84bd-4782-a93b-b01a8eeecc4c",
   "metadata": {
    "collapsed": true,
    "jupyter": {
     "outputs_hidden": true
    },
    "tags": []
   },
   "outputs": [
    {
     "data": {
      "text/html": [
       "<pre style='border:solid 1px;padding:3px;margin-left:0px'>Horribly sad to see news of what’s unfolding in Ukraine. Standing in solidarity with Ukrainians here and there. As we turn to social media for information, let’s be extra careful that we don’t become unwitting agents in the spread of disinformation. Go slow. Vet your sources.\n",
       "-- Kate Starbird (@katestarbird)\n",
       "{&#x27;retweet_count&#x27;: 2444, &#x27;reply_count&#x27;: 45, &#x27;like_count&#x27;: 6200, &#x27;quote_count&#x27;: 235}</pre>"
      ],
      "text/plain": [
       "<IPython.core.display.HTML object>"
      ]
     },
     "metadata": {},
     "output_type": "display_data"
    },
    {
     "data": {
      "text/html": [
       "<pre style='border:solid 1px;padding:3px;margin-left:20px'>@katestarbird ty\n",
       "-- RR Riling (@RRRiling)\n",
       "{&#x27;retweet_count&#x27;: 0, &#x27;reply_count&#x27;: 0, &#x27;like_count&#x27;: 0, &#x27;quote_count&#x27;: 0}</pre>"
      ],
      "text/plain": [
       "<IPython.core.display.HTML object>"
      ]
     },
     "metadata": {},
     "output_type": "display_data"
    },
    {
     "data": {
      "text/html": [
       "<pre style='border:solid 1px;padding:3px;margin-left:20px'>@katestarbird Hi Kate. Long time. May I repackage your “Horribly sad to see…” string as a single narrative and republish on my FB feed? So many great tips and tactics for mitigating disinformation.\n",
       "-- Curt Simmons (@CKaySimmons)\n",
       "{&#x27;retweet_count&#x27;: 0, &#x27;reply_count&#x27;: 1, &#x27;like_count&#x27;: 0, &#x27;quote_count&#x27;: 0}</pre>"
      ],
      "text/plain": [
       "<IPython.core.display.HTML object>"
      ]
     },
     "metadata": {},
     "output_type": "display_data"
    },
    {
     "data": {
      "text/html": [
       "<pre style='border:solid 1px;padding:3px;margin-left:40px'>@CKaySimmons Sure. Just add my name and maybe &quot;UW Center for an Informed Public” to it?\n",
       "-- Kate Starbird (@katestarbird)\n",
       "{&#x27;retweet_count&#x27;: 0, &#x27;reply_count&#x27;: 1, &#x27;like_count&#x27;: 1, &#x27;quote_count&#x27;: 0}</pre>"
      ],
      "text/plain": [
       "<IPython.core.display.HTML object>"
      ]
     },
     "metadata": {},
     "output_type": "display_data"
    },
    {
     "data": {
      "text/html": [
       "<pre style='border:solid 1px;padding:3px;margin-left:60px'>@katestarbird Thanks. Will do. Planned to anyway. 😊\n",
       "-- Curt Simmons (@CKaySimmons)\n",
       "{&#x27;retweet_count&#x27;: 0, &#x27;reply_count&#x27;: 0, &#x27;like_count&#x27;: 1, &#x27;quote_count&#x27;: 0}</pre>"
      ],
      "text/plain": [
       "<IPython.core.display.HTML object>"
      ]
     },
     "metadata": {},
     "output_type": "display_data"
    },
    {
     "data": {
      "text/html": [
       "<pre style='border:solid 1px;padding:3px;margin-left:20px'>@katestarbird Thank you for this excellent advice regarding understanding what’s happening in Ukraine.\n",
       "-- Kathleen (Kit) Raney (@kitraney)\n",
       "{&#x27;retweet_count&#x27;: 0, &#x27;reply_count&#x27;: 0, &#x27;like_count&#x27;: 0, &#x27;quote_count&#x27;: 0}</pre>"
      ],
      "text/plain": [
       "<IPython.core.display.HTML object>"
      ]
     },
     "metadata": {},
     "output_type": "display_data"
    },
    {
     "data": {
      "text/html": [
       "<pre style='border:solid 1px;padding:3px;margin-left:20px'>@katestarbird Thank you kate\n",
       "-- padee mccrery (@PadeeMc)\n",
       "{&#x27;retweet_count&#x27;: 0, &#x27;reply_count&#x27;: 0, &#x27;like_count&#x27;: 0, &#x27;quote_count&#x27;: 0}</pre>"
      ],
      "text/plain": [
       "<IPython.core.display.HTML object>"
      ]
     },
     "metadata": {},
     "output_type": "display_data"
    },
    {
     "data": {
      "text/html": [
       "<pre style='border:solid 1px;padding:3px;margin-left:20px'>@katestarbird You would support nazis? See azov battalion\n",
       "-- imran khan (@MalhamaMan)\n",
       "{&#x27;retweet_count&#x27;: 0, &#x27;reply_count&#x27;: 0, &#x27;like_count&#x27;: 0, &#x27;quote_count&#x27;: 0}</pre>"
      ],
      "text/plain": [
       "<IPython.core.display.HTML object>"
      ]
     },
     "metadata": {},
     "output_type": "display_data"
    },
    {
     "data": {
      "text/html": [
       "<pre style='border:solid 1px;padding:3px;margin-left:20px'>@katestarbird @coker_UDub Here&#x27;s a thought, as part of the sanctions against Russia, cut off the countries internet access. Blocking Russian IP&#x27;s will drive Russian citizens crazy and put pressure on Putin to stop his aggression.\n",
       "-- Teroy West (@purpledawg40)\n",
       "{&#x27;retweet_count&#x27;: 0, &#x27;reply_count&#x27;: 0, &#x27;like_count&#x27;: 0, &#x27;quote_count&#x27;: 0}</pre>"
      ],
      "text/plain": [
       "<IPython.core.display.HTML object>"
      ]
     },
     "metadata": {},
     "output_type": "display_data"
    },
    {
     "data": {
      "text/html": [
       "<pre style='border:solid 1px;padding:3px;margin-left:20px'>@katestarbird @Crypte_Byleth Not being pro Ukraine is supporting Putin.\n",
       "-- Joseph’s Myth (@Plural_Prophet)\n",
       "{&#x27;retweet_count&#x27;: 0, &#x27;reply_count&#x27;: 0, &#x27;like_count&#x27;: 0, &#x27;quote_count&#x27;: 0}</pre>"
      ],
      "text/plain": [
       "<IPython.core.display.HTML object>"
      ]
     },
     "metadata": {},
     "output_type": "display_data"
    },
    {
     "data": {
      "text/html": [
       "<pre style='border:solid 1px;padding:3px;margin-left:20px'>@katestarbird https://t.co/9IUdCH44xH\n",
       "-- SHIBA INU ✨ATH ✨ (@SHIBAINUATH)\n",
       "{&#x27;retweet_count&#x27;: 0, &#x27;reply_count&#x27;: 0, &#x27;like_count&#x27;: 0, &#x27;quote_count&#x27;: 0}</pre>"
      ],
      "text/plain": [
       "<IPython.core.display.HTML object>"
      ]
     },
     "metadata": {},
     "output_type": "display_data"
    },
    {
     "data": {
      "text/html": [
       "<pre style='border:solid 1px;padding:3px;margin-left:20px'>@katestarbird Kate is a good follow to learn about misinformation\n",
       "\n",
       "And she gets buckets on the court!\n",
       "-- JD Klein (@jdklein33)\n",
       "{&#x27;retweet_count&#x27;: 0, &#x27;reply_count&#x27;: 0, &#x27;like_count&#x27;: 0, &#x27;quote_count&#x27;: 0}</pre>"
      ],
      "text/plain": [
       "<IPython.core.display.HTML object>"
      ]
     },
     "metadata": {},
     "output_type": "display_data"
    },
    {
     "data": {
      "text/html": [
       "<pre style='border:solid 1px;padding:3px;margin-left:20px'>@katestarbird Good reminder\n",
       "-- Marc Airhart (@marcairhart)\n",
       "{&#x27;retweet_count&#x27;: 0, &#x27;reply_count&#x27;: 0, &#x27;like_count&#x27;: 0, &#x27;quote_count&#x27;: 0}</pre>"
      ],
      "text/plain": [
       "<IPython.core.display.HTML object>"
      ]
     },
     "metadata": {},
     "output_type": "display_data"
    },
    {
     "data": {
      "text/html": [
       "<pre style='border:solid 1px;padding:3px;margin-left:20px'>@katestarbird Wonderful. Fact-checking laptop Beckys crucial in winning wars against imperial nuclear powers.\n",
       "-- anthropistms (@AnthropistMs)\n",
       "{&#x27;retweet_count&#x27;: 0, &#x27;reply_count&#x27;: 0, &#x27;like_count&#x27;: 0, &#x27;quote_count&#x27;: 0}</pre>"
      ],
      "text/plain": [
       "<IPython.core.display.HTML object>"
      ]
     },
     "metadata": {},
     "output_type": "display_data"
    },
    {
     "data": {
      "text/html": [
       "<pre style='border:solid 1px;padding:3px;margin-left:20px'>@katestarbird @sarahmccammon This will present a problem for @npr\n",
       "I’m not sure they’re into vetting anymore\n",
       "-- T_barf (@T_barf)\n",
       "{&#x27;retweet_count&#x27;: 0, &#x27;reply_count&#x27;: 0, &#x27;like_count&#x27;: 0, &#x27;quote_count&#x27;: 0}</pre>"
      ],
      "text/plain": [
       "<IPython.core.display.HTML object>"
      ]
     },
     "metadata": {},
     "output_type": "display_data"
    },
    {
     "data": {
      "text/html": [
       "<pre style='border:solid 1px;padding:3px;margin-left:20px'>@katestarbird @wheelahhh An always-helpful resource from @onthemedia: https://t.co/upoviZ147R\n",
       "-- Wayde Grinstead (@WaydeVoice)\n",
       "{&#x27;retweet_count&#x27;: 4, &#x27;reply_count&#x27;: 1, &#x27;like_count&#x27;: 10, &#x27;quote_count&#x27;: 0}</pre>"
      ],
      "text/plain": [
       "<IPython.core.display.HTML object>"
      ]
     },
     "metadata": {},
     "output_type": "display_data"
    },
    {
     "data": {
      "text/html": [
       "<pre style='border:solid 1px;padding:3px;margin-left:40px'>@WaydeVoice @katestarbird @wheelahhh @onthemedia NPR is biased. Not sure they can be trusted.\n",
       "-- Fake Meows 🇺🇸🇬🇧🇩🇪🏴󠁧󠁢󠁳󠁣󠁴󠁿🇳🇴🇸🇪🇨🇩 (@NewsOu812)\n",
       "{&#x27;retweet_count&#x27;: 0, &#x27;reply_count&#x27;: 0, &#x27;like_count&#x27;: 0, &#x27;quote_count&#x27;: 0}</pre>"
      ],
      "text/plain": [
       "<IPython.core.display.HTML object>"
      ]
     },
     "metadata": {},
     "output_type": "display_data"
    },
    {
     "data": {
      "text/html": [
       "<pre style='border:solid 1px;padding:3px;margin-left:20px'>@katestarbird https://t.co/UvouXUgduK\n",
       "-- Rhae Marie 🌸🌺🌏✌💙💙💙😰🚨🚑 (@ginou1010)\n",
       "{&#x27;retweet_count&#x27;: 0, &#x27;reply_count&#x27;: 0, &#x27;like_count&#x27;: 1, &#x27;quote_count&#x27;: 0}</pre>"
      ],
      "text/plain": [
       "<IPython.core.display.HTML object>"
      ]
     },
     "metadata": {},
     "output_type": "display_data"
    },
    {
     "data": {
      "text/html": [
       "<pre style='border:solid 1px;padding:3px;margin-left:20px'>@katestarbird @threadreaderapp unroll please\n",
       "-- Kath (@katwalk27)\n",
       "{&#x27;retweet_count&#x27;: 0, &#x27;reply_count&#x27;: 1, &#x27;like_count&#x27;: 0, &#x27;quote_count&#x27;: 0}</pre>"
      ],
      "text/plain": [
       "<IPython.core.display.HTML object>"
      ]
     },
     "metadata": {},
     "output_type": "display_data"
    },
    {
     "data": {
      "text/html": [
       "<pre style='border:solid 1px;padding:3px;margin-left:40px'>@katwalk27 Hi, the unroll you asked for: https://t.co/hfk3L6lys0 Share this if you think it&#x27;s interesting. 🤖\n",
       "-- Thread Reader App (@threadreaderapp)\n",
       "{&#x27;retweet_count&#x27;: 2, &#x27;reply_count&#x27;: 0, &#x27;like_count&#x27;: 1, &#x27;quote_count&#x27;: 0}</pre>"
      ],
      "text/plain": [
       "<IPython.core.display.HTML object>"
      ]
     },
     "metadata": {},
     "output_type": "display_data"
    },
    {
     "data": {
      "text/html": [
       "<pre style='border:solid 1px;padding:3px;margin-left:20px'>@katestarbird If I felt compelled to write this sanctimonious thread I would definitely check in about my own mental health, “Twitter is full of fake bad things,” lmao no shit\n",
       "-- Sick Sad World (@SMDamnH)\n",
       "{&#x27;retweet_count&#x27;: 0, &#x27;reply_count&#x27;: 0, &#x27;like_count&#x27;: 0, &#x27;quote_count&#x27;: 0}</pre>"
      ],
      "text/plain": [
       "<IPython.core.display.HTML object>"
      ]
     },
     "metadata": {},
     "output_type": "display_data"
    },
    {
     "data": {
      "text/html": [
       "<pre style='border:solid 1px;padding:3px;margin-left:20px'>@katestarbird Brilliant thread \n",
       "\n",
       "@threadreaderapp Unroll Please\n",
       "-- Anna (@No_NameBanBan)\n",
       "{&#x27;retweet_count&#x27;: 0, &#x27;reply_count&#x27;: 1, &#x27;like_count&#x27;: 0, &#x27;quote_count&#x27;: 0}</pre>"
      ],
      "text/plain": [
       "<IPython.core.display.HTML object>"
      ]
     },
     "metadata": {},
     "output_type": "display_data"
    },
    {
     "data": {
      "text/html": [
       "<pre style='border:solid 1px;padding:3px;margin-left:40px'>@No_NameBanBan Salam, here is your unroll: https://t.co/hLnYAAcP9Y Enjoy :) 🤖\n",
       "-- Thread Reader Unroll Helper (@UnrollHelper)\n",
       "{&#x27;retweet_count&#x27;: 0, &#x27;reply_count&#x27;: 0, &#x27;like_count&#x27;: 0, &#x27;quote_count&#x27;: 0}</pre>"
      ],
      "text/plain": [
       "<IPython.core.display.HTML object>"
      ]
     },
     "metadata": {},
     "output_type": "display_data"
    },
    {
     "data": {
      "text/html": [
       "<pre style='border:solid 1px;padding:3px;margin-left:20px'>@katestarbird Thank You Professor 💫  Phenomenal information and advice - \n",
       "\n",
       "This thread has actually comforted me a little- Hearing from someone who KNOWS of what she speaks calmly detail what to expect, look out for &amp;amp; act on (or not 😉) \n",
       "\n",
       "Thank You Kate 🙌\n",
       "-- Anna (@No_NameBanBan)\n",
       "{&#x27;retweet_count&#x27;: 0, &#x27;reply_count&#x27;: 0, &#x27;like_count&#x27;: 0, &#x27;quote_count&#x27;: 0}</pre>"
      ],
      "text/plain": [
       "<IPython.core.display.HTML object>"
      ]
     },
     "metadata": {},
     "output_type": "display_data"
    },
    {
     "data": {
      "text/html": [
       "<pre style='border:solid 1px;padding:3px;margin-left:20px'>@katestarbird You&#x27;re the propagandist here. Ukraine has been an insurgent fascist threat at Russia&#x27;s border for 8 long years, bombing and ethnically cleansing Russians. LDP and DPR claimed independence from the genocide, and Russia is helping them expunge the neo-Nazis at their request.\n",
       "-- Comrade Rocko ☭ (@Rockoman64)\n",
       "{&#x27;retweet_count&#x27;: 0, &#x27;reply_count&#x27;: 1, &#x27;like_count&#x27;: 0, &#x27;quote_count&#x27;: 0}</pre>"
      ],
      "text/plain": [
       "<IPython.core.display.HTML object>"
      ]
     },
     "metadata": {},
     "output_type": "display_data"
    },
    {
     "data": {
      "text/html": [
       "<pre style='border:solid 1px;padding:3px;margin-left:40px'>@Rockoman64 @katestarbird Such a Bullshit\n",
       "-- Christian Roth (@rougeontour)\n",
       "{&#x27;retweet_count&#x27;: 0, &#x27;reply_count&#x27;: 0, &#x27;like_count&#x27;: 0, &#x27;quote_count&#x27;: 0}</pre>"
      ],
      "text/plain": [
       "<IPython.core.display.HTML object>"
      ]
     },
     "metadata": {},
     "output_type": "display_data"
    },
    {
     "data": {
      "text/html": [
       "<pre style='border:solid 1px;padding:3px;margin-left:20px'>@katestarbird https://t.co/b8OZJV4ofK Been listening to him and he&#x27;s going to keep his streamup on his channel after it&#x27;s done but he is currently separating fake from real and educating his viewers on how to do it.\n",
       "-- tela (@telathenelf)\n",
       "{&#x27;retweet_count&#x27;: 1, &#x27;reply_count&#x27;: 0, &#x27;like_count&#x27;: 1, &#x27;quote_count&#x27;: 0}</pre>"
      ],
      "text/plain": [
       "<IPython.core.display.HTML object>"
      ]
     },
     "metadata": {},
     "output_type": "display_data"
    },
    {
     "data": {
      "text/html": [
       "<pre style='border:solid 1px;padding:3px;margin-left:20px'>@katestarbird oh... https://t.co/USYyFf9qWr\n",
       "-- Xhooter Doomer (@XhooterD)\n",
       "{&#x27;retweet_count&#x27;: 0, &#x27;reply_count&#x27;: 0, &#x27;like_count&#x27;: 0, &#x27;quote_count&#x27;: 0}</pre>"
      ],
      "text/plain": [
       "<IPython.core.display.HTML object>"
      ]
     },
     "metadata": {},
     "output_type": "display_data"
    },
    {
     "data": {
      "text/html": [
       "<pre style='border:solid 1px;padding:3px;margin-left:20px'>@katestarbird Putin was afraid of Trump.\n",
       "\n",
       "The world laughs at President Mushbrain\n",
       "-- Xhooter Doomer (@XhooterD)\n",
       "{&#x27;retweet_count&#x27;: 0, &#x27;reply_count&#x27;: 0, &#x27;like_count&#x27;: 0, &#x27;quote_count&#x27;: 0}</pre>"
      ],
      "text/plain": [
       "<IPython.core.display.HTML object>"
      ]
     },
     "metadata": {},
     "output_type": "display_data"
    },
    {
     "data": {
      "text/html": [
       "<pre style='border:solid 1px;padding:3px;margin-left:20px'>@katestarbird @Whatleydude This is a really good thread, thank you.\n",
       "-- Jamie Denham (@3djamie)\n",
       "{&#x27;retweet_count&#x27;: 0, &#x27;reply_count&#x27;: 0, &#x27;like_count&#x27;: 0, &#x27;quote_count&#x27;: 0}</pre>"
      ],
      "text/plain": [
       "<IPython.core.display.HTML object>"
      ]
     },
     "metadata": {},
     "output_type": "display_data"
    },
    {
     "data": {
      "text/html": [
       "<pre style='border:solid 1px;padding:3px;margin-left:20px'>@katestarbird President Shitpants fails again https://t.co/B3dT5xTys8\n",
       "-- Xhooter Doomer (@XhooterD)\n",
       "{&#x27;retweet_count&#x27;: 0, &#x27;reply_count&#x27;: 0, &#x27;like_count&#x27;: 0, &#x27;quote_count&#x27;: 0}</pre>"
      ],
      "text/plain": [
       "<IPython.core.display.HTML object>"
      ]
     },
     "metadata": {},
     "output_type": "display_data"
    },
    {
     "data": {
      "text/html": [
       "<pre style='border:solid 1px;padding:3px;margin-left:20px'>@katestarbird Thanks for reminding. Going slow is always recommended.\n",
       "-- Christine Bertlin (@PsykologBertlin)\n",
       "{&#x27;retweet_count&#x27;: 0, &#x27;reply_count&#x27;: 0, &#x27;like_count&#x27;: 0, &#x27;quote_count&#x27;: 0}</pre>"
      ],
      "text/plain": [
       "<IPython.core.display.HTML object>"
      ]
     },
     "metadata": {},
     "output_type": "display_data"
    },
    {
     "data": {
      "text/html": [
       "<pre style='border:solid 1px;padding:3px;margin-left:20px'>@katestarbird Thank you! This is excellent!\n",
       "-- Michelle M. Shafer (@michelleshafer)\n",
       "{&#x27;retweet_count&#x27;: 0, &#x27;reply_count&#x27;: 0, &#x27;like_count&#x27;: 0, &#x27;quote_count&#x27;: 0}</pre>"
      ],
      "text/plain": [
       "<IPython.core.display.HTML object>"
      ]
     },
     "metadata": {},
     "output_type": "display_data"
    },
    {
     "data": {
      "text/html": [
       "<pre style='border:solid 1px;padding:3px;margin-left:20px'>@katestarbird @annkillion Avoid traitorous FOX News\n",
       "-- SCfan in WC (@Gmacwarriors73)\n",
       "{&#x27;retweet_count&#x27;: 0, &#x27;reply_count&#x27;: 0, &#x27;like_count&#x27;: 0, &#x27;quote_count&#x27;: 0}</pre>"
      ],
      "text/plain": [
       "<IPython.core.display.HTML object>"
      ]
     },
     "metadata": {},
     "output_type": "display_data"
    },
    {
     "data": {
      "text/html": [
       "<pre style='border:solid 1px;padding:3px;margin-left:20px'>@katestarbird Valuable thread but seems to minimize US govt’s decades long record of fabricating a pretext for war (both economic/cultural and military), as well as the MSM’s role selling it.\n",
       "-- Demian Godon (@dgodon)\n",
       "{&#x27;retweet_count&#x27;: 1, &#x27;reply_count&#x27;: 1, &#x27;like_count&#x27;: 4, &#x27;quote_count&#x27;: 0}</pre>"
      ],
      "text/plain": [
       "<IPython.core.display.HTML object>"
      ]
     },
     "metadata": {},
     "output_type": "display_data"
    },
    {
     "data": {
      "text/html": [
       "<pre style='border:solid 1px;padding:3px;margin-left:40px'>@katestarbird I’m far from qualified to comment on this current situation but the govt and MSM coverage so far hints of similar tactics.\n",
       "-- Demian Godon (@dgodon)\n",
       "{&#x27;retweet_count&#x27;: 0, &#x27;reply_count&#x27;: 1, &#x27;like_count&#x27;: 1, &#x27;quote_count&#x27;: 0}</pre>"
      ],
      "text/plain": [
       "<IPython.core.display.HTML object>"
      ]
     },
     "metadata": {},
     "output_type": "display_data"
    },
    {
     "data": {
      "text/html": [
       "<pre style='border:solid 1px;padding:3px;margin-left:60px'>@katestarbird This simple story  being propagated of “Russia bad, Ukraine and the west good” strains credulity\n",
       "-- Demian Godon (@dgodon)\n",
       "{&#x27;retweet_count&#x27;: 0, &#x27;reply_count&#x27;: 2, &#x27;like_count&#x27;: 2, &#x27;quote_count&#x27;: 0}</pre>"
      ],
      "text/plain": [
       "<IPython.core.display.HTML object>"
      ]
     },
     "metadata": {},
     "output_type": "display_data"
    },
    {
     "data": {
      "text/html": [
       "<pre style='border:solid 1px;padding:3px;margin-left:80px'>@dgodon @katestarbird War bad, peace good\n",
       "-- Layla Maryam Razavi (@LaylaMRazavi)\n",
       "{&#x27;retweet_count&#x27;: 0, &#x27;reply_count&#x27;: 0, &#x27;like_count&#x27;: 3, &#x27;quote_count&#x27;: 0}</pre>"
      ],
      "text/plain": [
       "<IPython.core.display.HTML object>"
      ]
     },
     "metadata": {},
     "output_type": "display_data"
    },
    {
     "data": {
      "text/html": [
       "<pre style='border:solid 1px;padding:3px;margin-left:80px'>@dgodon https://t.co/S4HBjbvL26\n",
       "-- bethzyaustn385 (@bethzyaustn385)\n",
       "{&#x27;retweet_count&#x27;: 0, &#x27;reply_count&#x27;: 0, &#x27;like_count&#x27;: 0, &#x27;quote_count&#x27;: 0}</pre>"
      ],
      "text/plain": [
       "<IPython.core.display.HTML object>"
      ]
     },
     "metadata": {},
     "output_type": "display_data"
    },
    {
     "data": {
      "text/html": [
       "<pre style='border:solid 1px;padding:3px;margin-left:20px'>@katestarbird Wonderful thread, and great evergreen advice. Thank you! #StandWithUkraine\n",
       "-- 🦋Words Matter🍁 #NoJusticeNoPeace (@autumngirl14)\n",
       "{&#x27;retweet_count&#x27;: 0, &#x27;reply_count&#x27;: 0, &#x27;like_count&#x27;: 1, &#x27;quote_count&#x27;: 0}</pre>"
      ],
      "text/plain": [
       "<IPython.core.display.HTML object>"
      ]
     },
     "metadata": {},
     "output_type": "display_data"
    },
    {
     "data": {
      "text/html": [
       "<pre style='border:solid 1px;padding:3px;margin-left:20px'>@katestarbird @Avi_Bueno So many accounts stirring the pot of division who follow 4 and are followed by even less.  So it’s not only a matter of vetting a source but not engaging with such obvious trolls.\n",
       "-- Molly (@mememoreme)\n",
       "{&#x27;retweet_count&#x27;: 0, &#x27;reply_count&#x27;: 0, &#x27;like_count&#x27;: 1, &#x27;quote_count&#x27;: 0}</pre>"
      ],
      "text/plain": [
       "<IPython.core.display.HTML object>"
      ]
     },
     "metadata": {},
     "output_type": "display_data"
    },
    {
     "data": {
      "text/html": [
       "<pre style='border:solid 1px;padding:3px;margin-left:20px'>@katestarbird bookmarked. Highly recommend pinning this tweet :). @DrEricDing\n",
       "-- Jasper Maynard Lim | #100Devs (@JLMaynardDesign)\n",
       "{&#x27;retweet_count&#x27;: 0, &#x27;reply_count&#x27;: 0, &#x27;like_count&#x27;: 0, &#x27;quote_count&#x27;: 0}</pre>"
      ],
      "text/plain": [
       "<IPython.core.display.HTML object>"
      ]
     },
     "metadata": {},
     "output_type": "display_data"
    },
    {
     "data": {
      "text/html": [
       "<pre style='border:solid 1px;padding:3px;margin-left:20px'>@katestarbird Thank you, Professor Starbird! @threadreaderapp unroll.\n",
       "-- Jasper Maynard Lim | #100Devs (@JLMaynardDesign)\n",
       "{&#x27;retweet_count&#x27;: 0, &#x27;reply_count&#x27;: 1, &#x27;like_count&#x27;: 0, &#x27;quote_count&#x27;: 0}</pre>"
      ],
      "text/plain": [
       "<IPython.core.display.HTML object>"
      ]
     },
     "metadata": {},
     "output_type": "display_data"
    },
    {
     "data": {
      "text/html": [
       "<pre style='border:solid 1px;padding:3px;margin-left:40px'>@JLMaynardDesign Halo! you can read it here: https://t.co/hfk3L6m6hy Talk to you soon. 🤖\n",
       "-- Thread Reader App (@threadreaderapp)\n",
       "{&#x27;retweet_count&#x27;: 1, &#x27;reply_count&#x27;: 0, &#x27;like_count&#x27;: 2, &#x27;quote_count&#x27;: 0}</pre>"
      ],
      "text/plain": [
       "<IPython.core.display.HTML object>"
      ]
     },
     "metadata": {},
     "output_type": "display_data"
    },
    {
     "data": {
      "text/html": [
       "<pre style='border:solid 1px;padding:3px;margin-left:20px'>@katestarbird @conspirator0 I remember where the internet stood with Palestine a few months ago. that made a big difference.\n",
       "-- ☀️⎛⎝Medium Sized Inn Keeper⎠⎞ (@GRIMREEFZ)\n",
       "{&#x27;retweet_count&#x27;: 0, &#x27;reply_count&#x27;: 0, &#x27;like_count&#x27;: 0, &#x27;quote_count&#x27;: 0}</pre>"
      ],
      "text/plain": [
       "<IPython.core.display.HTML object>"
      ]
     },
     "metadata": {},
     "output_type": "display_data"
    },
    {
     "data": {
      "text/html": [
       "<pre style='border:solid 1px;padding:3px;margin-left:20px'>@katestarbird Thx Kate - excellent reminders for all of us\n",
       "-- Donald L. Chi (@donaldLchi)\n",
       "{&#x27;retweet_count&#x27;: 0, &#x27;reply_count&#x27;: 0, &#x27;like_count&#x27;: 2, &#x27;quote_count&#x27;: 0}</pre>"
      ],
      "text/plain": [
       "<IPython.core.display.HTML object>"
      ]
     },
     "metadata": {},
     "output_type": "display_data"
    },
    {
     "data": {
      "text/html": [
       "<pre style='border:solid 1px;padding:3px;margin-left:20px'>@katestarbird How about making the platform responsible for what is true or false ?\n",
       "-- The Converted Southerner 💙 aka Not Full Tonto (@William75409502)\n",
       "{&#x27;retweet_count&#x27;: 0, &#x27;reply_count&#x27;: 0, &#x27;like_count&#x27;: 0, &#x27;quote_count&#x27;: 0}</pre>"
      ],
      "text/plain": [
       "<IPython.core.display.HTML object>"
      ]
     },
     "metadata": {},
     "output_type": "display_data"
    },
    {
     "data": {
      "text/html": [
       "<pre style='border:solid 1px;padding:3px;margin-left:20px'>@katestarbird @GeorgeOsborn Is that a Twitter manual you are writing?\n",
       "-- The Converted Southerner 💙 aka Not Full Tonto (@William75409502)\n",
       "{&#x27;retweet_count&#x27;: 0, &#x27;reply_count&#x27;: 0, &#x27;like_count&#x27;: 2, &#x27;quote_count&#x27;: 0}</pre>"
      ],
      "text/plain": [
       "<IPython.core.display.HTML object>"
      ]
     },
     "metadata": {},
     "output_type": "display_data"
    },
    {
     "data": {
      "text/html": [
       "<pre style='border:solid 1px;padding:3px;margin-left:20px'>@katestarbird I&#x27;m confident that Trump, Fox News and most Republicans are traitors and enemies of the United States. I&#x27;m quite certain their statements are real.\n",
       "-- johndoepublic (@johndoepublic1)\n",
       "{&#x27;retweet_count&#x27;: 0, &#x27;reply_count&#x27;: 0, &#x27;like_count&#x27;: 0, &#x27;quote_count&#x27;: 0}</pre>"
      ],
      "text/plain": [
       "<IPython.core.display.HTML object>"
      ]
     },
     "metadata": {},
     "output_type": "display_data"
    },
    {
     "data": {
      "text/html": [
       "<pre style='border:solid 1px;padding:3px;margin-left:20px'>@katestarbird @t_witteried We aren’t just standing in solidarity, we are paying a cost! I hope Ukrain puts up a good fight or comes to some favorable agreement. The children are who I feel so sad for. None of this is good.\n",
       "-- R S (@hall0ween13)\n",
       "{&#x27;retweet_count&#x27;: 0, &#x27;reply_count&#x27;: 0, &#x27;like_count&#x27;: 0, &#x27;quote_count&#x27;: 0}</pre>"
      ],
      "text/plain": [
       "<IPython.core.display.HTML object>"
      ]
     },
     "metadata": {},
     "output_type": "display_data"
    },
    {
     "data": {
      "text/html": [
       "<pre style='border:solid 1px;padding:3px;margin-left:20px'>@katestarbird Interesting. In my opinion the reason for significant decline in trust of the news media has more to do with the the seemingly continuous contortion of facts to fit a narrative.  e.g., CBS reported yesterday primary driver behind inflation is Ukraine! Months of pre Ukraine data?\n",
       "-- Kevin (@KevinFungbar)\n",
       "{&#x27;retweet_count&#x27;: 0, &#x27;reply_count&#x27;: 0, &#x27;like_count&#x27;: 0, &#x27;quote_count&#x27;: 0}</pre>"
      ],
      "text/plain": [
       "<IPython.core.display.HTML object>"
      ]
     },
     "metadata": {},
     "output_type": "display_data"
    },
    {
     "data": {
      "text/html": [
       "<pre style='border:solid 1px;padding:3px;margin-left:20px'>@katestarbird @UnpaintedMelody Agreed 👍\n",
       "-- Christopher (@guitarded4lyf)\n",
       "{&#x27;retweet_count&#x27;: 0, &#x27;reply_count&#x27;: 0, &#x27;like_count&#x27;: 0, &#x27;quote_count&#x27;: 0}</pre>"
      ],
      "text/plain": [
       "<IPython.core.display.HTML object>"
      ]
     },
     "metadata": {},
     "output_type": "display_data"
    },
    {
     "data": {
      "text/html": [
       "<pre style='border:solid 1px;padding:3px;margin-left:20px'>@katestarbird Wise advice - thanks for these reminders.\n",
       "-- Linda Burbidge 🇨🇦 (@linda_burbidge)\n",
       "{&#x27;retweet_count&#x27;: 1, &#x27;reply_count&#x27;: 0, &#x27;like_count&#x27;: 3, &#x27;quote_count&#x27;: 0}</pre>"
      ],
      "text/plain": [
       "<IPython.core.display.HTML object>"
      ]
     },
     "metadata": {},
     "output_type": "display_data"
    },
    {
     "data": {
      "text/html": [
       "<pre style='border:solid 1px;padding:3px;margin-left:20px'>Be wary of unfamiliar accounts. Check their profile. Are they brand new? Or low follower? What were they tweeting a couple of weeks or months ago. Make sure they are who they say they are. If you’re not sure, it’s okay to not retweet.\n",
       "-- Kate Starbird (@katestarbird)\n",
       "{&#x27;retweet_count&#x27;: 145, &#x27;reply_count&#x27;: 3, &#x27;like_count&#x27;: 598, &#x27;quote_count&#x27;: 8}</pre>"
      ],
      "text/plain": [
       "<IPython.core.display.HTML object>"
      ]
     },
     "metadata": {},
     "output_type": "display_data"
    },
    {
     "data": {
      "text/html": [
       "<pre style='border:solid 1px;padding:3px;margin-left:40px'>@katestarbird Don’t know who you are. Found you via retweet and initial reaction is it feels like you’re a kremlin sponsored account directing people not to believe that russia are the bad guys here. Esp since nobody is saying otherwise…Christ.\n",
       "-- Tom Brim (@TomBrim2)\n",
       "{&#x27;retweet_count&#x27;: 0, &#x27;reply_count&#x27;: 0, &#x27;like_count&#x27;: 1, &#x27;quote_count&#x27;: 0}</pre>"
      ],
      "text/plain": [
       "<IPython.core.display.HTML object>"
      ]
     },
     "metadata": {},
     "output_type": "display_data"
    },
    {
     "data": {
      "text/html": [
       "<pre style='border:solid 1px;padding:3px;margin-left:40px'>@katestarbird I have had an unusual number of people &quot;follow&quot; me in the last couple of days - mostly people who just started a twitter account and look fake.  I block them if they don&#x27;t look real.\n",
       "-- Terry Burke (@TerryBurkeMN)\n",
       "{&#x27;retweet_count&#x27;: 0, &#x27;reply_count&#x27;: 0, &#x27;like_count&#x27;: 1, &#x27;quote_count&#x27;: 0}</pre>"
      ],
      "text/plain": [
       "<IPython.core.display.HTML object>"
      ]
     },
     "metadata": {},
     "output_type": "display_data"
    },
    {
     "data": {
      "text/html": [
       "<pre style='border:solid 1px;padding:3px;margin-left:40px'>Don’t necessarily trust your in-network amplifiers. Other folks are moving fast and maybe not vetting so well. Mistakes happen. Don’t let their mistake be your mistake and cascade through your network.\n",
       "-- Kate Starbird (@katestarbird)\n",
       "{&#x27;retweet_count&#x27;: 115, &#x27;reply_count&#x27;: 3, &#x27;like_count&#x27;: 513, &#x27;quote_count&#x27;: 3}</pre>"
      ],
      "text/plain": [
       "<IPython.core.display.HTML object>"
      ]
     },
     "metadata": {},
     "output_type": "display_data"
    },
    {
     "data": {
      "text/html": [
       "<pre style='border:solid 1px;padding:3px;margin-left:60px'>@katestarbird Your tweet was quoted in an article by niemanlab https://t.co/7vFKzjZmqO\n",
       "-- Recite Social (@ReciteSocial)\n",
       "{&#x27;retweet_count&#x27;: 0, &#x27;reply_count&#x27;: 0, &#x27;like_count&#x27;: 0, &#x27;quote_count&#x27;: 0}</pre>"
      ],
      "text/plain": [
       "<IPython.core.display.HTML object>"
      ]
     },
     "metadata": {},
     "output_type": "display_data"
    },
    {
     "data": {
      "text/html": [
       "<pre style='border:solid 1px;padding:3px;margin-left:60px'>@katestarbird On Twitter I&#x27;ve found it informative to look at the tab of people&#x27;s Likes to get additional insight to what they represent when I do vetting.\n",
       "-- Jim_38976 (@Jim_38976)\n",
       "{&#x27;retweet_count&#x27;: 0, &#x27;reply_count&#x27;: 0, &#x27;like_count&#x27;: 0, &#x27;quote_count&#x27;: 0}</pre>"
      ],
      "text/plain": [
       "<IPython.core.display.HTML object>"
      ]
     },
     "metadata": {},
     "output_type": "display_data"
    },
    {
     "data": {
      "text/html": [
       "<pre style='border:solid 1px;padding:3px;margin-left:60px'>Images. They can be taken out of context. Try to do an image search to see if it’s been posted before — and is being purposefully spread out of context here. (Wish @Twitter had a right-click to check the provenance of images… maybe a future product?)\n",
       "-- Kate Starbird (@katestarbird)\n",
       "{&#x27;retweet_count&#x27;: 77, &#x27;reply_count&#x27;: 4, &#x27;like_count&#x27;: 480, &#x27;quote_count&#x27;: 4}</pre>"
      ],
      "text/plain": [
       "<IPython.core.display.HTML object>"
      ]
     },
     "metadata": {},
     "output_type": "display_data"
    },
    {
     "data": {
      "text/html": [
       "<pre style='border:solid 1px;padding:3px;margin-left:80px'>@katestarbird @Twitter I just learned about this Twitter bot which may sometimes help - depends on Google indexing speed and ranking, but could be useful: @SearchThisImage\n",
       "-- Cameron MacLeod 🇨🇦🏳️‍🌈🚊👨‍👨‍👦 (@c_9)\n",
       "{&#x27;retweet_count&#x27;: 0, &#x27;reply_count&#x27;: 1, &#x27;like_count&#x27;: 0, &#x27;quote_count&#x27;: 0}</pre>"
      ],
      "text/plain": [
       "<IPython.core.display.HTML object>"
      ]
     },
     "metadata": {},
     "output_type": "display_data"
    },
    {
     "data": {
      "text/html": [
       "<pre style='border:solid 1px;padding:3px;margin-left:100px'>@c_9 @Twitter @SearchThisImage This is great. My students tried to build a similar tool for a class project in the Fall. Good to see something like this already out in the world.\n",
       "-- Kate Starbird (@katestarbird)\n",
       "{&#x27;retweet_count&#x27;: 0, &#x27;reply_count&#x27;: 1, &#x27;like_count&#x27;: 0, &#x27;quote_count&#x27;: 0}</pre>"
      ],
      "text/plain": [
       "<IPython.core.display.HTML object>"
      ]
     },
     "metadata": {},
     "output_type": "display_data"
    },
    {
     "data": {
      "text/html": [
       "<pre style='border:solid 1px;padding:3px;margin-left:120px'>@katestarbird @Twitter @SearchThisImage I also tagged @BetterTDeck and @tweetbot in hopes it gets into their roadmaps too.\n",
       "-- Cameron MacLeod 🇨🇦🏳️‍🌈🚊👨‍👨‍👦 (@c_9)\n",
       "{&#x27;retweet_count&#x27;: 0, &#x27;reply_count&#x27;: 0, &#x27;like_count&#x27;: 0, &#x27;quote_count&#x27;: 0}</pre>"
      ],
      "text/plain": [
       "<IPython.core.display.HTML object>"
      ]
     },
     "metadata": {},
     "output_type": "display_data"
    },
    {
     "data": {
      "text/html": [
       "<pre style='border:solid 1px;padding:3px;margin-left:80px'>@katestarbird @SFdirewolf @Twitter I like tineye for this. Very similar to most reverse image search options, but was the first one I came across that worked on my phone.\n",
       "-- 🏳️‍⚧️🏳️‍🌈 Mx. Desi Dunstan-Cooper #BLM #1312 🦄 (@desikitteh)\n",
       "{&#x27;retweet_count&#x27;: 0, &#x27;reply_count&#x27;: 0, &#x27;like_count&#x27;: 1, &#x27;quote_count&#x27;: 0}</pre>"
      ],
      "text/plain": [
       "<IPython.core.display.HTML object>"
      ]
     },
     "metadata": {},
     "output_type": "display_data"
    },
    {
     "data": {
      "text/html": [
       "<pre style='border:solid 1px;padding:3px;margin-left:80px'>@katestarbird @BlakeleyHPayne @Twitter @LeaKissner\n",
       "-- Bulbul Gupta (@bulbulnyc)\n",
       "{&#x27;retweet_count&#x27;: 0, &#x27;reply_count&#x27;: 0, &#x27;like_count&#x27;: 0, &#x27;quote_count&#x27;: 0}</pre>"
      ],
      "text/plain": [
       "<IPython.core.display.HTML object>"
      ]
     },
     "metadata": {},
     "output_type": "display_data"
    },
    {
     "data": {
      "text/html": [
       "<pre style='border:solid 1px;padding:3px;margin-left:80px'>@Twitter Russia is physically attacking Ukraine, but they’re hinting towards other kinds of retribution for countries like ours invoking sanctions. Expect those to have hybrid elements — informational attacks, hacking.\n",
       "-- Kate Starbird (@katestarbird)\n",
       "{&#x27;retweet_count&#x27;: 137, &#x27;reply_count&#x27;: 4, &#x27;like_count&#x27;: 513, &#x27;quote_count&#x27;: 3}</pre>"
      ],
      "text/plain": [
       "<IPython.core.display.HTML object>"
      ]
     },
     "metadata": {},
     "output_type": "display_data"
    },
    {
     "data": {
      "text/html": [
       "<pre style='border:solid 1px;padding:3px;margin-left:100px'>@katestarbird @Twitter These attacks appear to have been going on for some time. Trolling, pitting people against each other. Muddy the waters, subvert their adversaries from within. Much less costly than boots on the ground.\n",
       "-- David Frank (@comgeek25)\n",
       "{&#x27;retweet_count&#x27;: 0, &#x27;reply_count&#x27;: 0, &#x27;like_count&#x27;: 0, &#x27;quote_count&#x27;: 0}</pre>"
      ],
      "text/plain": [
       "<IPython.core.display.HTML object>"
      ]
     },
     "metadata": {},
     "output_type": "display_data"
    },
    {
     "data": {
      "text/html": [
       "<pre style='border:solid 1px;padding:3px;margin-left:100px'>@katestarbird @ZPFleming @Twitter 💯\n",
       "-- Jen GSD Mama (@jennifer_eva)\n",
       "{&#x27;retweet_count&#x27;: 0, &#x27;reply_count&#x27;: 0, &#x27;like_count&#x27;: 2, &#x27;quote_count&#x27;: 0}</pre>"
      ],
      "text/plain": [
       "<IPython.core.display.HTML object>"
      ]
     },
     "metadata": {},
     "output_type": "display_data"
    },
    {
     "data": {
      "text/html": [
       "<pre style='border:solid 1px;padding:3px;margin-left:100px'>@katestarbird @propornot @Twitter Metadata indicates Putin&#x27;s declaration of war tonight was recorded on Monday giving plenty of time for anything his aggrieved mind  can imagine.\n",
       "-- (((Dan Webster))) (@Webster69Dw)\n",
       "{&#x27;retweet_count&#x27;: 1, &#x27;reply_count&#x27;: 0, &#x27;like_count&#x27;: 3, &#x27;quote_count&#x27;: 0}</pre>"
      ],
      "text/plain": [
       "<IPython.core.display.HTML object>"
      ]
     },
     "metadata": {},
     "output_type": "display_data"
    },
    {
     "data": {
      "text/html": [
       "<pre style='border:solid 1px;padding:3px;margin-left:100px'>@Twitter It’s likely that they’ve already laid the groundwork for information operations — that they’ve already infiltrated some of our trusted social networks. If an old Twitter friend starts acting strangely, make a note, and double check that they are who you think they are.\n",
       "-- Kate Starbird (@katestarbird)\n",
       "{&#x27;retweet_count&#x27;: 108, &#x27;reply_count&#x27;: 3, &#x27;like_count&#x27;: 457, &#x27;quote_count&#x27;: 5}</pre>"
      ],
      "text/plain": [
       "<IPython.core.display.HTML object>"
      ]
     },
     "metadata": {},
     "output_type": "display_data"
    },
    {
     "data": {
      "text/html": [
       "<pre style='border:solid 1px;padding:3px;margin-left:120px'>@katestarbird @Twitter They&#x27;re sending messages like this... https://t.co/sbFikzxpee\n",
       "-- Ms. Imani Does The Art &amp; Makes Happy Trees (@ImaniKushan)\n",
       "{&#x27;retweet_count&#x27;: 1, &#x27;reply_count&#x27;: 0, &#x27;like_count&#x27;: 1, &#x27;quote_count&#x27;: 0}</pre>"
      ],
      "text/plain": [
       "<IPython.core.display.HTML object>"
      ]
     },
     "metadata": {},
     "output_type": "display_data"
    },
    {
     "data": {
      "text/html": [
       "<pre style='border:solid 1px;padding:3px;margin-left:120px'>@katestarbird @Twitter I’ve blocked several for misinformation.\n",
       "-- Brian Johns (@TheBrianEJohns)\n",
       "{&#x27;retweet_count&#x27;: 0, &#x27;reply_count&#x27;: 0, &#x27;like_count&#x27;: 1, &#x27;quote_count&#x27;: 0}</pre>"
      ],
      "text/plain": [
       "<IPython.core.display.HTML object>"
      ]
     },
     "metadata": {},
     "output_type": "display_data"
    },
    {
     "data": {
      "text/html": [
       "<pre style='border:solid 1px;padding:3px;margin-left:120px'>@Twitter Check in w/ your own mental health. Real-time participation in real-world crises/conflict can take a heavy toll. We want to be informed and we don’t want to look away while people are suffering. But do take breaks. Avoid images and videos as much as you can. Talk to people.\n",
       "-- Kate Starbird (@katestarbird)\n",
       "{&#x27;retweet_count&#x27;: 180, &#x27;reply_count&#x27;: 7, &#x27;like_count&#x27;: 595, &#x27;quote_count&#x27;: 9}</pre>"
      ],
      "text/plain": [
       "<IPython.core.display.HTML object>"
      ]
     },
     "metadata": {},
     "output_type": "display_data"
    },
    {
     "data": {
      "text/html": [
       "<pre style='border:solid 1px;padding:3px;margin-left:140px'>@katestarbird @Twitter I finally had to turn my TV off today. 😭\n",
       "-- Teresa 🇺🇸 ੯*໒꒱❤︎ (@TexasFlatlander)\n",
       "{&#x27;retweet_count&#x27;: 0, &#x27;reply_count&#x27;: 0, &#x27;like_count&#x27;: 0, &#x27;quote_count&#x27;: 0}</pre>"
      ],
      "text/plain": [
       "<IPython.core.display.HTML object>"
      ]
     },
     "metadata": {},
     "output_type": "display_data"
    },
    {
     "data": {
      "text/html": [
       "<pre style='border:solid 1px;padding:3px;margin-left:140px'>@katestarbird @Suzyqfit4u I fully agree with you. I’m even wondering why we need to stay informed at all when we’re powerless over the situation. Why shouldn’t we look away when others are suffering if there’s nothing we can do, and it makes us suffer too? (I’m not looking away, just wondering why…)\n",
       "-- TallulahCarolina 🌊 (@TallulahSC)\n",
       "{&#x27;retweet_count&#x27;: 0, &#x27;reply_count&#x27;: 0, &#x27;like_count&#x27;: 0, &#x27;quote_count&#x27;: 0}</pre>"
      ],
      "text/plain": [
       "<IPython.core.display.HTML object>"
      ]
     },
     "metadata": {},
     "output_type": "display_data"
    },
    {
     "data": {
      "text/html": [
       "<pre style='border:solid 1px;padding:3px;margin-left:140px'>@katestarbird @Twitter Great tips, thank you.\n",
       "\n",
       "One potential option to aid in temporarily seeing less photos and videos in your feed automatically is to go and turn “Media Previews” (under Settings and Privacy -&amp;gt; Display and sound) OFF. \n",
       "\n",
       "Then images like this one are a link you must click to view. https://t.co/JWGfnDdQNd\n",
       "-- Dana M. Lewis | #OpenAPS 🤖 (@danamlewis)\n",
       "{&#x27;retweet_count&#x27;: 1, &#x27;reply_count&#x27;: 1, &#x27;like_count&#x27;: 2, &#x27;quote_count&#x27;: 0}</pre>"
      ],
      "text/plain": [
       "<IPython.core.display.HTML object>"
      ]
     },
     "metadata": {},
     "output_type": "display_data"
    },
    {
     "data": {
      "text/html": [
       "<pre style='border:solid 1px;padding:3px;margin-left:160px'>@katestarbird @Twitter The other helpful thing might be to consider making use of the “mute” feature, where you can mute individual accounts, words, phrases, hashtags, and even emojis for different time periods. 24 hours, 7 days, 30 days, forever. \n",
       "\n",
       "This can help filter feeds, too.\n",
       "-- Dana M. Lewis | #OpenAPS 🤖 (@danamlewis)\n",
       "{&#x27;retweet_count&#x27;: 1, &#x27;reply_count&#x27;: 0, &#x27;like_count&#x27;: 3, &#x27;quote_count&#x27;: 0}</pre>"
      ],
      "text/plain": [
       "<IPython.core.display.HTML object>"
      ]
     },
     "metadata": {},
     "output_type": "display_data"
    },
    {
     "data": {
      "text/html": [
       "<pre style='border:solid 1px;padding:3px;margin-left:140px'>@Twitter You’re here, but I bet some your kids are on TikTok. Borrow their feed for a bit to see what they’re seeing. In addition to potentially violent content, check for propaganda. Russia’s network of grey propaganda creators know how to package content up for TikTok and other formats.\n",
       "-- Kate Starbird (@katestarbird)\n",
       "{&#x27;retweet_count&#x27;: 132, &#x27;reply_count&#x27;: 3, &#x27;like_count&#x27;: 411, &#x27;quote_count&#x27;: 1}</pre>"
      ],
      "text/plain": [
       "<IPython.core.display.HTML object>"
      ]
     },
     "metadata": {},
     "output_type": "display_data"
    },
    {
     "data": {
      "text/html": [
       "<pre style='border:solid 1px;padding:3px;margin-left:160px'>@katestarbird @map_maker @Twitter My gf just messaged me a minute or two ago about reporting a bunch of pro-russia propaganda accounts\n",
       "-- Steven Montgomery (he/him) (@PNWbibliophile)\n",
       "{&#x27;retweet_count&#x27;: 0, &#x27;reply_count&#x27;: 1, &#x27;like_count&#x27;: 1, &#x27;quote_count&#x27;: 0}</pre>"
      ],
      "text/plain": [
       "<IPython.core.display.HTML object>"
      ]
     },
     "metadata": {},
     "output_type": "display_data"
    },
    {
     "data": {
      "text/html": [
       "<pre style='border:solid 1px;padding:3px;margin-left:180px'>@PNWbibliophile @katestarbird @Twitter There is a lot out there, I&#x27;m sure.\n",
       "-- Teresa 💉💉💉 (@map_maker)\n",
       "{&#x27;retweet_count&#x27;: 0, &#x27;reply_count&#x27;: 0, &#x27;like_count&#x27;: 0, &#x27;quote_count&#x27;: 0}</pre>"
      ],
      "text/plain": [
       "<IPython.core.display.HTML object>"
      ]
     },
     "metadata": {},
     "output_type": "display_data"
    },
    {
     "data": {
      "text/html": [
       "<pre style='border:solid 1px;padding:3px;margin-left:160px'>@Twitter It’s going to be tempting to try to score some domestic political points. Resist that urge. There will be time for that later. (We’re especially vulnerable to spreading propaganda/disinformation when we’re engaging from within our partisan political identities.)\n",
       "-- Kate Starbird (@katestarbird)\n",
       "{&#x27;retweet_count&#x27;: 52, &#x27;reply_count&#x27;: 2, &#x27;like_count&#x27;: 296, &#x27;quote_count&#x27;: 1}</pre>"
      ],
      "text/plain": [
       "<IPython.core.display.HTML object>"
      ]
     },
     "metadata": {},
     "output_type": "display_data"
    },
    {
     "data": {
      "text/html": [
       "<pre style='border:solid 1px;padding:3px;margin-left:180px'>@Twitter “Fog of war” conditions mean that our understanding of what’s happening is going to change over time as we gain more information. Media and political leaders may have to correct themselves. That doesn’t mean that they’re lying. That’s how information works in crisis contexts.\n",
       "-- Kate Starbird (@katestarbird)\n",
       "{&#x27;retweet_count&#x27;: 96, &#x27;reply_count&#x27;: 3, &#x27;like_count&#x27;: 460, &#x27;quote_count&#x27;: 9}</pre>"
      ],
      "text/plain": [
       "<IPython.core.display.HTML object>"
      ]
     },
     "metadata": {},
     "output_type": "display_data"
    },
    {
     "data": {
      "text/html": [
       "<pre style='border:solid 1px;padding:3px;margin-left:200px'>@katestarbird @Twitter Kate, so appreciative of this entire thread, thank you.\n",
       "-- Sean Rioux (@seanrioux)\n",
       "{&#x27;retweet_count&#x27;: 0, &#x27;reply_count&#x27;: 0, &#x27;like_count&#x27;: 1, &#x27;quote_count&#x27;: 0}</pre>"
      ],
      "text/plain": [
       "<IPython.core.display.HTML object>"
      ]
     },
     "metadata": {},
     "output_type": "display_data"
    },
    {
     "data": {
      "text/html": [
       "<pre style='border:solid 1px;padding:3px;margin-left:200px'>@Twitter Take responsibility. If you do make a mistake, make sure to correct yourself. Don’t just delete. If it’s a Facebook post, update it with correct info. If it’s a tweet, delete if it’s still spreading. Then post a clear correction. (Wish we had a retraction button @Twitter).\n",
       "-- Kate Starbird (@katestarbird)\n",
       "{&#x27;retweet_count&#x27;: 49, &#x27;reply_count&#x27;: 2, &#x27;like_count&#x27;: 317, &#x27;quote_count&#x27;: 0}</pre>"
      ],
      "text/plain": [
       "<IPython.core.display.HTML object>"
      ]
     },
     "metadata": {},
     "output_type": "display_data"
    },
    {
     "data": {
      "text/html": [
       "<pre style='border:solid 1px;padding:3px;margin-left:220px'>@katestarbird @Twitter So no edit button?\n",
       "-- Arman Noroozian 🇪🇺 آرمان نوروزیان (@anoroozian)\n",
       "{&#x27;retweet_count&#x27;: 0, &#x27;reply_count&#x27;: 0, &#x27;like_count&#x27;: 0, &#x27;quote_count&#x27;: 0}</pre>"
      ],
      "text/plain": [
       "<IPython.core.display.HTML object>"
      ]
     },
     "metadata": {},
     "output_type": "display_data"
    },
    {
     "data": {
      "text/html": [
       "<pre style='border:solid 1px;padding:3px;margin-left:220px'>@Twitter Correcting others can be useful. If it’s someone you care about, do it quietly (a DM). If you don’t know the person well, post a public correction, but recognize you probably won’t change their mind, but you may help their audience.\n",
       "-- Kate Starbird (@katestarbird)\n",
       "{&#x27;retweet_count&#x27;: 29, &#x27;reply_count&#x27;: 1, &#x27;like_count&#x27;: 232, &#x27;quote_count&#x27;: 0}</pre>"
      ],
      "text/plain": [
       "<IPython.core.display.HTML object>"
      ]
     },
     "metadata": {},
     "output_type": "display_data"
    },
    {
     "data": {
      "text/html": [
       "<pre style='border:solid 1px;padding:3px;margin-left:240px'>Tune into places where people aren’t trying to inform, but are purposefully building (rather than trying to reduce) uncertainty, muddying the waters. Mute those voices for awhile. At best, they’re unhelpful. At worse, adversarial.\n",
       "-- Kate Starbird (@katestarbird)\n",
       "{&#x27;retweet_count&#x27;: 17, &#x27;reply_count&#x27;: 4, &#x27;like_count&#x27;: 242, &#x27;quote_count&#x27;: 2}</pre>"
      ],
      "text/plain": [
       "<IPython.core.display.HTML object>"
      ]
     },
     "metadata": {},
     "output_type": "display_data"
    },
    {
     "data": {
      "text/html": [
       "<pre style='border:solid 1px;padding:3px;margin-left:260px'>For newsrooms, but should apply to academics, political leaders, social media all-stars, and everyone who might play a role, even a small one, in communicating about this conflict. https://t.co/JRBUavcl8T\n",
       "-- Kate Starbird (@katestarbird)\n",
       "{&#x27;retweet_count&#x27;: 63, &#x27;reply_count&#x27;: 4, &#x27;like_count&#x27;: 168, &#x27;quote_count&#x27;: 0}</pre>"
      ],
      "text/plain": [
       "<IPython.core.display.HTML object>"
      ]
     },
     "metadata": {},
     "output_type": "display_data"
    },
    {
     "data": {
      "text/html": [
       "<pre style='border:solid 1px;padding:3px;margin-left:280px'>@katestarbird @DanaHoule https://t.co/Ck0i1qB4lk\n",
       "-- Young Blue Star (@Glitchy40047067)\n",
       "{&#x27;retweet_count&#x27;: 0, &#x27;reply_count&#x27;: 0, &#x27;like_count&#x27;: 0, &#x27;quote_count&#x27;: 0}</pre>"
      ],
      "text/plain": [
       "<IPython.core.display.HTML object>"
      ]
     },
     "metadata": {},
     "output_type": "display_data"
    },
    {
     "data": {
      "text/html": [
       "<pre style='border:solid 1px;padding:3px;margin-left:280px'>@katestarbird @JaneLytv Because there is a democratic government there, not an autocratic regime that uses its people as hostages. IMHO.\n",
       "-- Marco Comelli (@MarcoComelli1)\n",
       "{&#x27;retweet_count&#x27;: 0, &#x27;reply_count&#x27;: 0, &#x27;like_count&#x27;: 0, &#x27;quote_count&#x27;: 0}</pre>"
      ],
      "text/plain": [
       "<IPython.core.display.HTML object>"
      ]
     },
     "metadata": {},
     "output_type": "display_data"
    },
    {
     "data": {
      "text/html": [
       "<pre style='border:solid 1px;padding:3px;margin-left:280px'>Another reminder on visual content. People are going to repurpose old content to get attention, gain followers, and manipulate the information space. Be skeptical. https://t.co/jtY2jwR95H\n",
       "-- Kate Starbird (@katestarbird)\n",
       "{&#x27;retweet_count&#x27;: 35, &#x27;reply_count&#x27;: 3, &#x27;like_count&#x27;: 91, &#x27;quote_count&#x27;: 0}</pre>"
      ],
      "text/plain": [
       "<IPython.core.display.HTML object>"
      ]
     },
     "metadata": {},
     "output_type": "display_data"
    },
    {
     "data": {
      "text/html": [
       "<pre style='border:solid 1px;padding:3px;margin-left:300px'>@katestarbird Fabulous. Thank you. Unroll @threadreaderapp\n",
       "-- Moana Maniapoto (@moanatribe)\n",
       "{&#x27;retweet_count&#x27;: 0, &#x27;reply_count&#x27;: 0, &#x27;like_count&#x27;: 0, &#x27;quote_count&#x27;: 0}</pre>"
      ],
      "text/plain": [
       "<IPython.core.display.HTML object>"
      ]
     },
     "metadata": {},
     "output_type": "display_data"
    },
    {
     "data": {
      "text/html": [
       "<pre style='border:solid 1px;padding:3px;margin-left:300px'>@katestarbird What source or sources do you suggest? Is the BBC still largely non-biased? I don&#x27;t know of any U.S. sources I can trust.\n",
       "-- Fake Meows 🇺🇸🇬🇧🇩🇪🏴󠁧󠁢󠁳󠁣󠁴󠁿🇳🇴🇸🇪🇨🇩 (@NewsOu812)\n",
       "{&#x27;retweet_count&#x27;: 0, &#x27;reply_count&#x27;: 0, &#x27;like_count&#x27;: 0, &#x27;quote_count&#x27;: 0}</pre>"
      ],
      "text/plain": [
       "<IPython.core.display.HTML object>"
      ]
     },
     "metadata": {},
     "output_type": "display_data"
    },
    {
     "data": {
      "text/html": [
       "<pre style='border:solid 1px;padding:3px;margin-left:300px'>@katestarbird Finally, if this is all too much for you, take a break from social media.\n",
       "-- Kristina Lerman (@KristinaLerman)\n",
       "{&#x27;retweet_count&#x27;: 0, &#x27;reply_count&#x27;: 0, &#x27;like_count&#x27;: 2, &#x27;quote_count&#x27;: 0}</pre>"
      ],
      "text/plain": [
       "<IPython.core.display.HTML object>"
      ]
     },
     "metadata": {},
     "output_type": "display_data"
    },
    {
     "data": {
      "text/html": [
       "<pre style='border:solid 1px;padding:3px;margin-left:280px'>@katestarbird Today is going to be a difficult day on campus. Sigh. 🙏🇺🇦 Have a good day your going to have your work cut out around Social media manipulation this week, casual scrapes show incredible work “framing context” already\n",
       "-- Millennial Primal 🏳️‍🌈 (@MillennialPriml)\n",
       "{&#x27;retweet_count&#x27;: 0, &#x27;reply_count&#x27;: 0, &#x27;like_count&#x27;: 0, &#x27;quote_count&#x27;: 0}</pre>"
      ],
      "text/plain": [
       "<IPython.core.display.HTML object>"
      ]
     },
     "metadata": {},
     "output_type": "display_data"
    },
    {
     "data": {
      "text/html": [
       "<pre style='border:solid 1px;padding:3px;margin-left:260px'>@katestarbird @threadreaderapp Please unroll\n",
       "-- Mandy Gratz (@MandyGratz)\n",
       "{&#x27;retweet_count&#x27;: 0, &#x27;reply_count&#x27;: 1, &#x27;like_count&#x27;: 0, &#x27;quote_count&#x27;: 0}</pre>"
      ],
      "text/plain": [
       "<IPython.core.display.HTML object>"
      ]
     },
     "metadata": {},
     "output_type": "display_data"
    },
    {
     "data": {
      "text/html": [
       "<pre style='border:solid 1px;padding:3px;margin-left:280px'>@MandyGratz Sorry an unexpected error occurred while unrolling: &#x27;Twitter is over capacity. Try again later.&#x27; 🤖\n",
       "-- Thread Reader App (@threadreaderapp)\n",
       "{&#x27;retweet_count&#x27;: 0, &#x27;reply_count&#x27;: 0, &#x27;like_count&#x27;: 1, &#x27;quote_count&#x27;: 0}</pre>"
      ],
      "text/plain": [
       "<IPython.core.display.HTML object>"
      ]
     },
     "metadata": {},
     "output_type": "display_data"
    },
    {
     "data": {
      "text/html": [
       "<pre style='border:solid 1px;padding:3px;margin-left:260px'>@katestarbird fyi your approach to this kind of chaotic situation is always really helpful. Thank you!\n",
       "-- Davy Wybiral (@davywtf)\n",
       "{&#x27;retweet_count&#x27;: 0, &#x27;reply_count&#x27;: 0, &#x27;like_count&#x27;: 0, &#x27;quote_count&#x27;: 0}</pre>"
      ],
      "text/plain": [
       "<IPython.core.display.HTML object>"
      ]
     },
     "metadata": {},
     "output_type": "display_data"
    },
    {
     "data": {
      "text/html": [
       "<pre style='border:solid 1px;padding:3px;margin-left:260px'>@katestarbird I have a friend who gets ALL of her news from TikTok. 🙁\n",
       "-- ⚡️Kathy E Gill |vaxed, masked, fighting #TheBigLie (@kegill)\n",
       "{&#x27;retweet_count&#x27;: 0, &#x27;reply_count&#x27;: 0, &#x27;like_count&#x27;: 0, &#x27;quote_count&#x27;: 0}</pre>"
      ],
      "text/plain": [
       "<IPython.core.display.HTML object>"
      ]
     },
     "metadata": {},
     "output_type": "display_data"
    },
    {
     "data": {
      "text/html": [
       "<pre style='border:solid 1px;padding:3px;margin-left:200px'>@katestarbird This is true about the pandemic with a new disease nobody had seen that has spanned 2 years now. But that hasn&#x27;t stopped people from ignoring medical professionals.\n",
       "-- Matt Ortega (@MattOrtega)\n",
       "{&#x27;retweet_count&#x27;: 0, &#x27;reply_count&#x27;: 0, &#x27;like_count&#x27;: 2, &#x27;quote_count&#x27;: 0}</pre>"
      ],
      "text/plain": [
       "<IPython.core.display.HTML object>"
      ]
     },
     "metadata": {},
     "output_type": "display_data"
    },
    {
     "data": {
      "text/html": [
       "<pre style='border:solid 1px;padding:3px;margin-left:180px'>@katestarbird @Twitter Wise advice.\n",
       "-- Nancy (@DutchessBrasch)\n",
       "{&#x27;retweet_count&#x27;: 0, &#x27;reply_count&#x27;: 0, &#x27;like_count&#x27;: 0, &#x27;quote_count&#x27;: 0}</pre>"
      ],
      "text/plain": [
       "<IPython.core.display.HTML object>"
      ]
     },
     "metadata": {},
     "output_type": "display_data"
    },
    {
     "data": {
      "text/html": [
       "<pre style='border:solid 1px;padding:3px;margin-left:160px'>@katestarbird @Twitter I agree with you. But it&#x27;s not exactly a break, right?\n",
       "-- N Silv (@nsilverman)\n",
       "{&#x27;retweet_count&#x27;: 0, &#x27;reply_count&#x27;: 0, &#x27;like_count&#x27;: 0, &#x27;quote_count&#x27;: 0}</pre>"
      ],
      "text/plain": [
       "<IPython.core.display.HTML object>"
      ]
     },
     "metadata": {},
     "output_type": "display_data"
    },
    {
     "data": {
      "text/html": [
       "<pre style='border:solid 1px;padding:3px;margin-left:140px'>@katestarbird @Twitter It&#x27;s very stressful to me seeing friends post and repost what is explicit propaganda without realizing it.  Luckily I haven&#x27;t seen much yet on this stuff, but I&#x27;m sure we will.\n",
       "-- Rawrbomb, Alchemist of the Hinterlands (@Hamsterstyle)\n",
       "{&#x27;retweet_count&#x27;: 0, &#x27;reply_count&#x27;: 0, &#x27;like_count&#x27;: 0, &#x27;quote_count&#x27;: 0}</pre>"
      ],
      "text/plain": [
       "<IPython.core.display.HTML object>"
      ]
     },
     "metadata": {},
     "output_type": "display_data"
    },
    {
     "data": {
      "text/html": [
       "<pre style='border:solid 1px;padding:3px;margin-left:140px'>@katestarbird @Twitter Thanks for this thread. I was thinking of posting about it as I hear people trying to sort out fact from misinfo, but you said it better than I could!\n",
       "-- Bob (Moderna #3) Kerns (@BobKerns)\n",
       "{&#x27;retweet_count&#x27;: 0, &#x27;reply_count&#x27;: 0, &#x27;like_count&#x27;: 0, &#x27;quote_count&#x27;: 0}</pre>"
      ],
      "text/plain": [
       "<IPython.core.display.HTML object>"
      ]
     },
     "metadata": {},
     "output_type": "display_data"
    },
    {
     "data": {
      "text/html": [
       "<pre style='border:solid 1px;padding:3px;margin-left:140px'>@katestarbird @Twitter So important, all of this. Thank you for posting.\n",
       "-- Torey McMurdo (@tormcmurdo)\n",
       "{&#x27;retweet_count&#x27;: 0, &#x27;reply_count&#x27;: 0, &#x27;like_count&#x27;: 0, &#x27;quote_count&#x27;: 0}</pre>"
      ],
      "text/plain": [
       "<IPython.core.display.HTML object>"
      ]
     },
     "metadata": {},
     "output_type": "display_data"
    },
    {
     "data": {
      "text/html": [
       "<pre style='border:solid 1px;padding:3px;margin-left:20px'>@katestarbird It will be messy and wish the full set of tweets and metadata were used to amplify the support vs and be false flags. Realize more and more how easy we allow amplifiers\n",
       "-- Jonathan Reichhold (@jreichhold)\n",
       "{&#x27;retweet_count&#x27;: 0, &#x27;reply_count&#x27;: 0, &#x27;like_count&#x27;: 1, &#x27;quote_count&#x27;: 0}</pre>"
      ],
      "text/plain": [
       "<IPython.core.display.HTML object>"
      ]
     },
     "metadata": {},
     "output_type": "display_data"
    }
   ],
   "source": [
    "print_tweet_and_replies(misinfo_tweet_with_replies)"
   ]
  },
  {
   "cell_type": "code",
   "execution_count": null,
   "id": "3f072b12-d9b9-4018-9d9b-67139b6ef24b",
   "metadata": {
    "jupyter": {
     "source_hidden": true
    },
    "tags": []
   },
   "outputs": [],
   "source": [
    "# sexist offer letter tweet: '1496219652057358336'\n",
    "# Ukrain misinfo warning tweet: '1496714317651083266'"
   ]
  },
  {
   "cell_type": "markdown",
   "id": "091cf3ee-615d-45c9-a1c6-ab515a3bc408",
   "metadata": {},
   "source": [
    "### Rewrite function to only show tweets that got at least 1 like"
   ]
  },
  {
   "cell_type": "code",
   "execution_count": 32,
   "id": "834c5a0d-77c8-4388-abd8-332808445c7c",
   "metadata": {},
   "outputs": [],
   "source": [
    "def print_tweet_and_replies(tweet_with_replies, num_indents=0):\n",
    "    tweet_info = tweet_with_replies[\"tweet_info\"]\n",
    "    replies = tweet_with_replies[\"replies\"]\n",
    "    author_info = tweet_with_replies[\"author\"]\n",
    "    public_metrics = tweet_info[\"public_metrics\"]\n",
    "\n",
    "    display_text = (\n",
    "        tweet_info['text'] + \"\\n\" +\n",
    "        \"-- \" + author_info[\"name\"] + \" (@\" + author_info[\"username\"] + \")\" + \"\\n\" +\n",
    "        str(public_metrics)\n",
    "    )\n",
    "    \n",
    "    if public_metrics[\"like_count\"] > 1:\n",
    "        display_indented(display_text, num_indents*20)\n",
    "\n",
    "        #print replies (and the replies of those, etc.)\n",
    "        for reply in replies:\n",
    "            print_tweet_and_replies(reply, num_indents = num_indents + 1)"
   ]
  },
  {
   "cell_type": "code",
   "execution_count": 33,
   "id": "e36ccf9a-3b90-458e-910c-e31b3178e8a0",
   "metadata": {},
   "outputs": [
    {
     "data": {
      "text/html": [
       "<pre style='border:solid 1px;padding:3px;margin-left:0px'>Horribly sad to see news of what’s unfolding in Ukraine. Standing in solidarity with Ukrainians here and there. As we turn to social media for information, let’s be extra careful that we don’t become unwitting agents in the spread of disinformation. Go slow. Vet your sources.\n",
       "-- Kate Starbird (@katestarbird)\n",
       "{&#x27;retweet_count&#x27;: 2444, &#x27;reply_count&#x27;: 45, &#x27;like_count&#x27;: 6200, &#x27;quote_count&#x27;: 235}</pre>"
      ],
      "text/plain": [
       "<IPython.core.display.HTML object>"
      ]
     },
     "metadata": {},
     "output_type": "display_data"
    },
    {
     "data": {
      "text/html": [
       "<pre style='border:solid 1px;padding:3px;margin-left:20px'>@katestarbird @wheelahhh An always-helpful resource from @onthemedia: https://t.co/upoviZ147R\n",
       "-- Wayde Grinstead (@WaydeVoice)\n",
       "{&#x27;retweet_count&#x27;: 4, &#x27;reply_count&#x27;: 1, &#x27;like_count&#x27;: 10, &#x27;quote_count&#x27;: 0}</pre>"
      ],
      "text/plain": [
       "<IPython.core.display.HTML object>"
      ]
     },
     "metadata": {},
     "output_type": "display_data"
    },
    {
     "data": {
      "text/html": [
       "<pre style='border:solid 1px;padding:3px;margin-left:20px'>@katestarbird Valuable thread but seems to minimize US govt’s decades long record of fabricating a pretext for war (both economic/cultural and military), as well as the MSM’s role selling it.\n",
       "-- Demian Godon (@dgodon)\n",
       "{&#x27;retweet_count&#x27;: 1, &#x27;reply_count&#x27;: 1, &#x27;like_count&#x27;: 4, &#x27;quote_count&#x27;: 0}</pre>"
      ],
      "text/plain": [
       "<IPython.core.display.HTML object>"
      ]
     },
     "metadata": {},
     "output_type": "display_data"
    },
    {
     "data": {
      "text/html": [
       "<pre style='border:solid 1px;padding:3px;margin-left:20px'>@katestarbird Thx Kate - excellent reminders for all of us\n",
       "-- Donald L. Chi (@donaldLchi)\n",
       "{&#x27;retweet_count&#x27;: 0, &#x27;reply_count&#x27;: 0, &#x27;like_count&#x27;: 2, &#x27;quote_count&#x27;: 0}</pre>"
      ],
      "text/plain": [
       "<IPython.core.display.HTML object>"
      ]
     },
     "metadata": {},
     "output_type": "display_data"
    },
    {
     "data": {
      "text/html": [
       "<pre style='border:solid 1px;padding:3px;margin-left:20px'>@katestarbird @GeorgeOsborn Is that a Twitter manual you are writing?\n",
       "-- The Converted Southerner 💙 aka Not Full Tonto (@William75409502)\n",
       "{&#x27;retweet_count&#x27;: 0, &#x27;reply_count&#x27;: 0, &#x27;like_count&#x27;: 2, &#x27;quote_count&#x27;: 0}</pre>"
      ],
      "text/plain": [
       "<IPython.core.display.HTML object>"
      ]
     },
     "metadata": {},
     "output_type": "display_data"
    },
    {
     "data": {
      "text/html": [
       "<pre style='border:solid 1px;padding:3px;margin-left:20px'>@katestarbird Wise advice - thanks for these reminders.\n",
       "-- Linda Burbidge 🇨🇦 (@linda_burbidge)\n",
       "{&#x27;retweet_count&#x27;: 1, &#x27;reply_count&#x27;: 0, &#x27;like_count&#x27;: 3, &#x27;quote_count&#x27;: 0}</pre>"
      ],
      "text/plain": [
       "<IPython.core.display.HTML object>"
      ]
     },
     "metadata": {},
     "output_type": "display_data"
    },
    {
     "data": {
      "text/html": [
       "<pre style='border:solid 1px;padding:3px;margin-left:20px'>Be wary of unfamiliar accounts. Check their profile. Are they brand new? Or low follower? What were they tweeting a couple of weeks or months ago. Make sure they are who they say they are. If you’re not sure, it’s okay to not retweet.\n",
       "-- Kate Starbird (@katestarbird)\n",
       "{&#x27;retweet_count&#x27;: 145, &#x27;reply_count&#x27;: 3, &#x27;like_count&#x27;: 598, &#x27;quote_count&#x27;: 8}</pre>"
      ],
      "text/plain": [
       "<IPython.core.display.HTML object>"
      ]
     },
     "metadata": {},
     "output_type": "display_data"
    },
    {
     "data": {
      "text/html": [
       "<pre style='border:solid 1px;padding:3px;margin-left:40px'>Don’t necessarily trust your in-network amplifiers. Other folks are moving fast and maybe not vetting so well. Mistakes happen. Don’t let their mistake be your mistake and cascade through your network.\n",
       "-- Kate Starbird (@katestarbird)\n",
       "{&#x27;retweet_count&#x27;: 115, &#x27;reply_count&#x27;: 3, &#x27;like_count&#x27;: 513, &#x27;quote_count&#x27;: 3}</pre>"
      ],
      "text/plain": [
       "<IPython.core.display.HTML object>"
      ]
     },
     "metadata": {},
     "output_type": "display_data"
    },
    {
     "data": {
      "text/html": [
       "<pre style='border:solid 1px;padding:3px;margin-left:60px'>Images. They can be taken out of context. Try to do an image search to see if it’s been posted before — and is being purposefully spread out of context here. (Wish @Twitter had a right-click to check the provenance of images… maybe a future product?)\n",
       "-- Kate Starbird (@katestarbird)\n",
       "{&#x27;retweet_count&#x27;: 77, &#x27;reply_count&#x27;: 4, &#x27;like_count&#x27;: 480, &#x27;quote_count&#x27;: 4}</pre>"
      ],
      "text/plain": [
       "<IPython.core.display.HTML object>"
      ]
     },
     "metadata": {},
     "output_type": "display_data"
    },
    {
     "data": {
      "text/html": [
       "<pre style='border:solid 1px;padding:3px;margin-left:80px'>@Twitter Russia is physically attacking Ukraine, but they’re hinting towards other kinds of retribution for countries like ours invoking sanctions. Expect those to have hybrid elements — informational attacks, hacking.\n",
       "-- Kate Starbird (@katestarbird)\n",
       "{&#x27;retweet_count&#x27;: 137, &#x27;reply_count&#x27;: 4, &#x27;like_count&#x27;: 513, &#x27;quote_count&#x27;: 3}</pre>"
      ],
      "text/plain": [
       "<IPython.core.display.HTML object>"
      ]
     },
     "metadata": {},
     "output_type": "display_data"
    },
    {
     "data": {
      "text/html": [
       "<pre style='border:solid 1px;padding:3px;margin-left:100px'>@katestarbird @ZPFleming @Twitter 💯\n",
       "-- Jen GSD Mama (@jennifer_eva)\n",
       "{&#x27;retweet_count&#x27;: 0, &#x27;reply_count&#x27;: 0, &#x27;like_count&#x27;: 2, &#x27;quote_count&#x27;: 0}</pre>"
      ],
      "text/plain": [
       "<IPython.core.display.HTML object>"
      ]
     },
     "metadata": {},
     "output_type": "display_data"
    },
    {
     "data": {
      "text/html": [
       "<pre style='border:solid 1px;padding:3px;margin-left:100px'>@katestarbird @propornot @Twitter Metadata indicates Putin&#x27;s declaration of war tonight was recorded on Monday giving plenty of time for anything his aggrieved mind  can imagine.\n",
       "-- (((Dan Webster))) (@Webster69Dw)\n",
       "{&#x27;retweet_count&#x27;: 1, &#x27;reply_count&#x27;: 0, &#x27;like_count&#x27;: 3, &#x27;quote_count&#x27;: 0}</pre>"
      ],
      "text/plain": [
       "<IPython.core.display.HTML object>"
      ]
     },
     "metadata": {},
     "output_type": "display_data"
    },
    {
     "data": {
      "text/html": [
       "<pre style='border:solid 1px;padding:3px;margin-left:100px'>@Twitter It’s likely that they’ve already laid the groundwork for information operations — that they’ve already infiltrated some of our trusted social networks. If an old Twitter friend starts acting strangely, make a note, and double check that they are who you think they are.\n",
       "-- Kate Starbird (@katestarbird)\n",
       "{&#x27;retweet_count&#x27;: 108, &#x27;reply_count&#x27;: 3, &#x27;like_count&#x27;: 457, &#x27;quote_count&#x27;: 5}</pre>"
      ],
      "text/plain": [
       "<IPython.core.display.HTML object>"
      ]
     },
     "metadata": {},
     "output_type": "display_data"
    },
    {
     "data": {
      "text/html": [
       "<pre style='border:solid 1px;padding:3px;margin-left:120px'>@Twitter Check in w/ your own mental health. Real-time participation in real-world crises/conflict can take a heavy toll. We want to be informed and we don’t want to look away while people are suffering. But do take breaks. Avoid images and videos as much as you can. Talk to people.\n",
       "-- Kate Starbird (@katestarbird)\n",
       "{&#x27;retweet_count&#x27;: 180, &#x27;reply_count&#x27;: 7, &#x27;like_count&#x27;: 595, &#x27;quote_count&#x27;: 9}</pre>"
      ],
      "text/plain": [
       "<IPython.core.display.HTML object>"
      ]
     },
     "metadata": {},
     "output_type": "display_data"
    },
    {
     "data": {
      "text/html": [
       "<pre style='border:solid 1px;padding:3px;margin-left:140px'>@katestarbird @Twitter Great tips, thank you.\n",
       "\n",
       "One potential option to aid in temporarily seeing less photos and videos in your feed automatically is to go and turn “Media Previews” (under Settings and Privacy -&amp;gt; Display and sound) OFF. \n",
       "\n",
       "Then images like this one are a link you must click to view. https://t.co/JWGfnDdQNd\n",
       "-- Dana M. Lewis | #OpenAPS 🤖 (@danamlewis)\n",
       "{&#x27;retweet_count&#x27;: 1, &#x27;reply_count&#x27;: 1, &#x27;like_count&#x27;: 2, &#x27;quote_count&#x27;: 0}</pre>"
      ],
      "text/plain": [
       "<IPython.core.display.HTML object>"
      ]
     },
     "metadata": {},
     "output_type": "display_data"
    },
    {
     "data": {
      "text/html": [
       "<pre style='border:solid 1px;padding:3px;margin-left:160px'>@katestarbird @Twitter The other helpful thing might be to consider making use of the “mute” feature, where you can mute individual accounts, words, phrases, hashtags, and even emojis for different time periods. 24 hours, 7 days, 30 days, forever. \n",
       "\n",
       "This can help filter feeds, too.\n",
       "-- Dana M. Lewis | #OpenAPS 🤖 (@danamlewis)\n",
       "{&#x27;retweet_count&#x27;: 1, &#x27;reply_count&#x27;: 0, &#x27;like_count&#x27;: 3, &#x27;quote_count&#x27;: 0}</pre>"
      ],
      "text/plain": [
       "<IPython.core.display.HTML object>"
      ]
     },
     "metadata": {},
     "output_type": "display_data"
    },
    {
     "data": {
      "text/html": [
       "<pre style='border:solid 1px;padding:3px;margin-left:140px'>@Twitter You’re here, but I bet some your kids are on TikTok. Borrow their feed for a bit to see what they’re seeing. In addition to potentially violent content, check for propaganda. Russia’s network of grey propaganda creators know how to package content up for TikTok and other formats.\n",
       "-- Kate Starbird (@katestarbird)\n",
       "{&#x27;retweet_count&#x27;: 132, &#x27;reply_count&#x27;: 3, &#x27;like_count&#x27;: 411, &#x27;quote_count&#x27;: 1}</pre>"
      ],
      "text/plain": [
       "<IPython.core.display.HTML object>"
      ]
     },
     "metadata": {},
     "output_type": "display_data"
    },
    {
     "data": {
      "text/html": [
       "<pre style='border:solid 1px;padding:3px;margin-left:160px'>@Twitter It’s going to be tempting to try to score some domestic political points. Resist that urge. There will be time for that later. (We’re especially vulnerable to spreading propaganda/disinformation when we’re engaging from within our partisan political identities.)\n",
       "-- Kate Starbird (@katestarbird)\n",
       "{&#x27;retweet_count&#x27;: 52, &#x27;reply_count&#x27;: 2, &#x27;like_count&#x27;: 296, &#x27;quote_count&#x27;: 1}</pre>"
      ],
      "text/plain": [
       "<IPython.core.display.HTML object>"
      ]
     },
     "metadata": {},
     "output_type": "display_data"
    },
    {
     "data": {
      "text/html": [
       "<pre style='border:solid 1px;padding:3px;margin-left:180px'>@Twitter “Fog of war” conditions mean that our understanding of what’s happening is going to change over time as we gain more information. Media and political leaders may have to correct themselves. That doesn’t mean that they’re lying. That’s how information works in crisis contexts.\n",
       "-- Kate Starbird (@katestarbird)\n",
       "{&#x27;retweet_count&#x27;: 96, &#x27;reply_count&#x27;: 3, &#x27;like_count&#x27;: 460, &#x27;quote_count&#x27;: 9}</pre>"
      ],
      "text/plain": [
       "<IPython.core.display.HTML object>"
      ]
     },
     "metadata": {},
     "output_type": "display_data"
    },
    {
     "data": {
      "text/html": [
       "<pre style='border:solid 1px;padding:3px;margin-left:200px'>@Twitter Take responsibility. If you do make a mistake, make sure to correct yourself. Don’t just delete. If it’s a Facebook post, update it with correct info. If it’s a tweet, delete if it’s still spreading. Then post a clear correction. (Wish we had a retraction button @Twitter).\n",
       "-- Kate Starbird (@katestarbird)\n",
       "{&#x27;retweet_count&#x27;: 49, &#x27;reply_count&#x27;: 2, &#x27;like_count&#x27;: 317, &#x27;quote_count&#x27;: 0}</pre>"
      ],
      "text/plain": [
       "<IPython.core.display.HTML object>"
      ]
     },
     "metadata": {},
     "output_type": "display_data"
    },
    {
     "data": {
      "text/html": [
       "<pre style='border:solid 1px;padding:3px;margin-left:220px'>@Twitter Correcting others can be useful. If it’s someone you care about, do it quietly (a DM). If you don’t know the person well, post a public correction, but recognize you probably won’t change their mind, but you may help their audience.\n",
       "-- Kate Starbird (@katestarbird)\n",
       "{&#x27;retweet_count&#x27;: 29, &#x27;reply_count&#x27;: 1, &#x27;like_count&#x27;: 232, &#x27;quote_count&#x27;: 0}</pre>"
      ],
      "text/plain": [
       "<IPython.core.display.HTML object>"
      ]
     },
     "metadata": {},
     "output_type": "display_data"
    },
    {
     "data": {
      "text/html": [
       "<pre style='border:solid 1px;padding:3px;margin-left:240px'>Tune into places where people aren’t trying to inform, but are purposefully building (rather than trying to reduce) uncertainty, muddying the waters. Mute those voices for awhile. At best, they’re unhelpful. At worse, adversarial.\n",
       "-- Kate Starbird (@katestarbird)\n",
       "{&#x27;retweet_count&#x27;: 17, &#x27;reply_count&#x27;: 4, &#x27;like_count&#x27;: 242, &#x27;quote_count&#x27;: 2}</pre>"
      ],
      "text/plain": [
       "<IPython.core.display.HTML object>"
      ]
     },
     "metadata": {},
     "output_type": "display_data"
    },
    {
     "data": {
      "text/html": [
       "<pre style='border:solid 1px;padding:3px;margin-left:260px'>For newsrooms, but should apply to academics, political leaders, social media all-stars, and everyone who might play a role, even a small one, in communicating about this conflict. https://t.co/JRBUavcl8T\n",
       "-- Kate Starbird (@katestarbird)\n",
       "{&#x27;retweet_count&#x27;: 63, &#x27;reply_count&#x27;: 4, &#x27;like_count&#x27;: 168, &#x27;quote_count&#x27;: 0}</pre>"
      ],
      "text/plain": [
       "<IPython.core.display.HTML object>"
      ]
     },
     "metadata": {},
     "output_type": "display_data"
    },
    {
     "data": {
      "text/html": [
       "<pre style='border:solid 1px;padding:3px;margin-left:280px'>Another reminder on visual content. People are going to repurpose old content to get attention, gain followers, and manipulate the information space. Be skeptical. https://t.co/jtY2jwR95H\n",
       "-- Kate Starbird (@katestarbird)\n",
       "{&#x27;retweet_count&#x27;: 35, &#x27;reply_count&#x27;: 3, &#x27;like_count&#x27;: 91, &#x27;quote_count&#x27;: 0}</pre>"
      ],
      "text/plain": [
       "<IPython.core.display.HTML object>"
      ]
     },
     "metadata": {},
     "output_type": "display_data"
    },
    {
     "data": {
      "text/html": [
       "<pre style='border:solid 1px;padding:3px;margin-left:300px'>@katestarbird Finally, if this is all too much for you, take a break from social media.\n",
       "-- Kristina Lerman (@KristinaLerman)\n",
       "{&#x27;retweet_count&#x27;: 0, &#x27;reply_count&#x27;: 0, &#x27;like_count&#x27;: 2, &#x27;quote_count&#x27;: 0}</pre>"
      ],
      "text/plain": [
       "<IPython.core.display.HTML object>"
      ]
     },
     "metadata": {},
     "output_type": "display_data"
    },
    {
     "data": {
      "text/html": [
       "<pre style='border:solid 1px;padding:3px;margin-left:200px'>@katestarbird This is true about the pandemic with a new disease nobody had seen that has spanned 2 years now. But that hasn&#x27;t stopped people from ignoring medical professionals.\n",
       "-- Matt Ortega (@MattOrtega)\n",
       "{&#x27;retweet_count&#x27;: 0, &#x27;reply_count&#x27;: 0, &#x27;like_count&#x27;: 2, &#x27;quote_count&#x27;: 0}</pre>"
      ],
      "text/plain": [
       "<IPython.core.display.HTML object>"
      ]
     },
     "metadata": {},
     "output_type": "display_data"
    }
   ],
   "source": [
    "print_tweet_and_replies(misinfo_tweet_with_replies)"
   ]
  },
  {
   "cell_type": "code",
   "execution_count": null,
   "id": "39d874da-9fb8-46e6-9a0e-81801dc9fc4c",
   "metadata": {},
   "outputs": [],
   "source": [
    "# look for users who get a lot of engagement, like the reddit Am I the Asshole:\n",
    "# https://twitter.com/AITA_online\n",
    "# '1496516355931217926'"
   ]
  },
  {
   "cell_type": "code",
   "execution_count": null,
   "id": "25e7f23e-7700-4b66-9c6e-249d440f6abf",
   "metadata": {},
   "outputs": [],
   "source": []
  }
 ],
 "metadata": {
  "kernelspec": {
   "display_name": "Python 3 (ipykernel)",
   "language": "python",
   "name": "python3"
  },
  "language_info": {
   "codemirror_mode": {
    "name": "ipython",
    "version": 3
   },
   "file_extension": ".py",
   "mimetype": "text/x-python",
   "name": "python",
   "nbconvert_exporter": "python",
   "pygments_lexer": "ipython3",
   "version": "3.10.4"
  }
 },
 "nbformat": 4,
 "nbformat_minor": 5
}
