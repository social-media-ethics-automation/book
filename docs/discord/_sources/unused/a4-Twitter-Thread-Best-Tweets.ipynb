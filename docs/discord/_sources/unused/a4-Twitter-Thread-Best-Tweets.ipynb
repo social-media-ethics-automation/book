{
 "cells": [
  {
   "cell_type": "markdown",
   "id": "0cd4388e-b71c-4bd1-a60e-d2ef3933f3de",
   "metadata": {},
   "source": [
    "# A4: Twitter Thread Best Tweets"
   ]
  },
  {
   "cell_type": "markdown",
   "id": "5fdfe7cf-3641-4919-9d56-f3b8c74b7b96",
   "metadata": {},
   "source": [
    "In this assignment you will be modifying a recursive function that prints a twitter thread. Your goal will be to only show the best tweets in the thread. It will be up to you to decide what rules you use to decide which tweets are the best tweets."
   ]
  },
  {
   "cell_type": "markdown",
   "id": "cb900b5a-c199-47b8-95a9-417d44a786ab",
   "metadata": {
    "tags": []
   },
   "source": [
    "### normal tweepy set-up code"
   ]
  },
  {
   "cell_type": "code",
   "execution_count": null,
   "id": "883641dc-a5a4-47d7-ba9c-3532e9df58d8",
   "metadata": {},
   "outputs": [],
   "source": [
    "# make sure tweepy library is installed\n",
    "import tweepy"
   ]
  },
  {
   "cell_type": "code",
   "execution_count": null,
   "id": "d42b7010-2690-4efb-b404-02682e39b559",
   "metadata": {},
   "outputs": [],
   "source": [
    "# load my twitter keys\n",
    "import my_bot_keys"
   ]
  },
  {
   "cell_type": "code",
   "execution_count": null,
   "id": "9c7a1f06-fb4d-4ce6-bd0b-de421420a198",
   "metadata": {},
   "outputs": [],
   "source": [
    "# log into tweepy\n",
    "client = tweepy.Client(\n",
    "    bearer_token=my_bot_keys.bearer_token,\n",
    "    consumer_key=my_bot_keys.consumer_key, consumer_secret=my_bot_keys.consumer_secret,                   \n",
    "    access_token=my_bot_keys.access_token, access_token_secret=my_bot_keys.access_token_secret\n",
    ")"
   ]
  },
  {
   "cell_type": "markdown",
   "id": "da45bc67-b72b-45ef-8f70-7eedf9261945",
   "metadata": {},
   "source": [
    "### Helper function to display text in an indented box"
   ]
  },
  {
   "cell_type": "code",
   "execution_count": null,
   "id": "98574fd2-9380-4653-8b42-d5f00fd634c3",
   "metadata": {},
   "outputs": [],
   "source": [
    "from IPython.display import HTML, Image, display\n",
    "import html\n",
    "def display_indented(text, left_margin=0, color=\"white\"):\n",
    "    display(\n",
    "        HTML(\n",
    "            \"<pre style='border:solid 1px;padding:3px;margin-left:\"+str(left_margin)+\"px;background-color:\"+color+\"'>\" + \n",
    "            html.escape(text) + \n",
    "            \"</pre>\"\n",
    "        )\n",
    "    )"
   ]
  },
  {
   "cell_type": "markdown",
   "id": "7e240033-1a67-4f5e-a2cb-eaa7aea96d45",
   "metadata": {},
   "source": [
    "### Demo of using the display_with_left_margin function"
   ]
  },
  {
   "cell_type": "code",
   "execution_count": null,
   "id": "2388f9e7-2d19-44e1-8ed4-6403c7b3cdf8",
   "metadata": {},
   "outputs": [],
   "source": [
    "display_indented(\"A no indent text\")\n",
    "display_indented(\"A 10px indent text\", left_margin=10)\n",
    "display_indented(\"A 20px indent text \\n with a newline!\", left_margin=20)\n",
    "display_indented(\"You can change the 'color' of the box too, like make it red\", color='red', left_margin=10)"
   ]
  },
  {
   "cell_type": "markdown",
   "id": "d37b46e5-c941-4ac9-a95f-a16061ecf7cf",
   "metadata": {},
   "source": [
    "### Helper code for getting a twitter conversation (that is a tweet and a bunch of its replies)\n",
    "You don't need to know how this code works, but you can look through it if you want.\n",
    "\n",
    "Also, if you want to use more includes or something, you can add them to the client.get_tweet() call and the client.search_recent_tweets() call. You might also need to do extra work to include them like I did with the author/users info"
   ]
  },
  {
   "cell_type": "code",
   "execution_count": null,
   "id": "b4305e18-f3ec-4ab9-8fff-d5f8da43dbfd",
   "metadata": {},
   "outputs": [],
   "source": [
    "# Given a tweetId, create a datastructure with the tweet and replies\n",
    "# Each \"tweet\" is dictionary with keys for:\n",
    "#    \"tweet_info\" (from the tweet.data), \"author\", \"replies\", \"previous_tweet\", and \"first_tweet\"\n",
    "#\n",
    "# When searching for tweets in the conversation, it looks for groups of 100\n",
    "# tweets at a time. You can set how many groups of 100 tweets it looks for with\n",
    "# max_conversation_searches\n",
    "def get_tweets_with_replies(tweetId, max_conversation_searches=1):\n",
    "    (starting_tweet, all_conversation_tweets, users_lookup) = get_tweet_and_conversation(tweetId, max_conversation_searches)\n",
    "    tweets_by_referenced_tweet = organize_tweets_by_referenced_tweets(all_conversation_tweets)\n",
    "    tweet_with_replies = organize_tweets_with_replies(starting_tweet, tweets_by_referenced_tweet, users_lookup)\n",
    "    return tweet_with_replies\n",
    "\n",
    "# the function above uses the helper functions below\n",
    "\n",
    "# Given a tweet id, find the tweet and other tweets in the same conversation\n",
    "def get_tweet_and_conversation(tweetId, max_conversation_searches=1):\n",
    "    starting_tweet = client.get_tweet(tweetId, tweet_fields=['conversation_id', 'public_metrics'], expansions=['author_id'])\n",
    "    conversation_id = starting_tweet.data.conversation_id\n",
    "    \n",
    "    all_conversation_tweets = get_conversation_tweets(conversation_id, max_conversation_searches)\n",
    "    all_users = starting_tweet.includes['users']\n",
    "    for conversation_tweets in all_conversation_tweets:\n",
    "        all_users += conversation_tweets.includes['users']\n",
    "    users_lookup = {str(u[\"id\"]): u for u in all_users}\n",
    "    return (starting_tweet, all_conversation_tweets, users_lookup)\n",
    "\n",
    "# Get tweets in a conversation (given the conversation id)\n",
    "def get_conversation_tweets(conversation_id, max_conversation_searches):\n",
    "    query = \"conversation_id:\" + str(conversation_id)\n",
    "    all_conversation_tweets = []\n",
    "    num_searches=0\n",
    "    is_done = False\n",
    "    next_token = None\n",
    "    while not is_done and num_searches < max_conversation_searches:\n",
    "        conversation_tweets = client.search_recent_tweets(query=query, next_token=next_token, tweet_fields = 'public_metrics', expansions=['referenced_tweets.id','author_id'], max_results=100)\n",
    "        num_searches += 1\n",
    "        all_conversation_tweets.append(conversation_tweets)\n",
    "        print(\"loaded a set of tweets: \" + str(conversation_tweets.meta))\n",
    "        if 'next_token' in conversation_tweets.meta:\n",
    "            next_token = conversation_tweets.meta['next_token']\n",
    "        else:\n",
    "            is_done = True\n",
    "    return all_conversation_tweets\n",
    "\n",
    "# Given a list of tweets, group them all based on what tweet they are replying to\n",
    "def organize_tweets_by_referenced_tweets(list_of_tweet_results):\n",
    "    tweets_by_referenced_tweet = {}\n",
    "    for tweets in list_of_tweet_results:\n",
    "        for tweet in tweets.data:\n",
    "            for referenced_tweet in tweet.referenced_tweets:\n",
    "                if(referenced_tweet.type == \"replied_to\"):\n",
    "                    referenced_tweet_id = str(referenced_tweet.id)\n",
    "                    if(referenced_tweet_id not in tweets_by_referenced_tweet):\n",
    "                        tweets_by_referenced_tweet[referenced_tweet_id] = []\n",
    "                    tweets_by_referenced_tweet[referenced_tweet_id].append(tweet)\n",
    "                    break\n",
    "\n",
    "    return tweets_by_referenced_tweet\n",
    "\n",
    "# organize the tweets so that author info and replies to tweets are included\n",
    "# with it in a convenient data structure\n",
    "def organize_tweets_with_replies(tweet, tweets_by_referenced_tweet, users_lookup, previous_tweet=None, first_tweet=None):\n",
    "    tweet_with_replies = {\n",
    "        \"tweet_info\": tweet.data,\n",
    "        \"author\": users_lookup[str(tweet.data[\"author_id\"])].data,\n",
    "        \"replies\": [],\n",
    "        \"previous_tweet\": previous_tweet\n",
    "    }\n",
    "    if first_tweet == None:\n",
    "        first_tweet = tweet_with_replies\n",
    "    tweet_with_replies[\"first_tweet\"] = first_tweet\n",
    "\n",
    "    tweet_id = str(tweet.data[\"id\"])\n",
    "    if tweet_id in tweets_by_referenced_tweet:\n",
    "        reply_tweets = tweets_by_referenced_tweet[tweet_id]\n",
    "        for reply_tweet in reply_tweets:\n",
    "            tweet_with_replies[\"replies\"].append(\n",
    "                organize_tweets_with_replies(reply_tweet, tweets_by_referenced_tweet, users_lookup, previous_tweet=tweet_with_replies, first_tweet=first_tweet)\n",
    "            )\n",
    "    return tweet_with_replies\n",
    "\n"
   ]
  },
  {
   "cell_type": "markdown",
   "id": "b595fa47-39bb-4617-a64b-d08c1bfb20c8",
   "metadata": {},
   "source": [
    "### Code to print all tweets and replies\n",
    "I am providing this function that prints all tweets and replies with nothing hidder. You can use this to compare with what your function will print"
   ]
  },
  {
   "cell_type": "code",
   "execution_count": null,
   "id": "31e87f41-e66c-48cf-a661-1566c69046bd",
   "metadata": {},
   "outputs": [],
   "source": [
    "def print_all_tweet_and_replies(tweet_with_replies, num_indents=0):\n",
    "    tweet_info = tweet_with_replies[\"tweet_info\"]\n",
    "    replies = tweet_with_replies[\"replies\"]\n",
    "    author_info = tweet_with_replies[\"author\"]\n",
    "    public_metrics = tweet_info[\"public_metrics\"]\n",
    "\n",
    "    display_text = (\n",
    "        tweet_info['text'] + \"\\n\" +\n",
    "        \"-- \" + author_info[\"name\"] + \" (@\" + author_info[\"username\"] + \")\" + \"\\n\" +\n",
    "        str(public_metrics)\n",
    "    )\n",
    "    \n",
    "    display_indented(display_text, num_indents*20)\n",
    "\n",
    "    #print replies (and the replies of those, etc.)\n",
    "    for reply in replies:\n",
    "        print_all_tweet_and_replies(reply, num_indents = num_indents + 1)"
   ]
  },
  {
   "cell_type": "markdown",
   "id": "49616573-d834-4fca-8a56-7bcb7fe16078",
   "metadata": {},
   "source": [
    "# Your Code!"
   ]
  },
  {
   "cell_type": "markdown",
   "id": "6e9f250e-c023-44f4-8d40-7e67a5898e16",
   "metadata": {
    "tags": []
   },
   "source": [
    "### TODO: Modify this function to include your own rule for displaying best tweets\n",
    "\n",
    "The `print_best_tweet_and_replies()` function below currently prints all tweets and replies that have at least 1 like. (For more information on this, see the code demo and lecture for lecture 16.)\n",
    "\n",
    "Your job is to invent and implement your own rule for what tweets count as the \"best tweets\" and therefore should be displayed. The rule can be complicated or simple, it just can't be the same as the current rule. You can aim for focusing on removing a few tweets that you judge are bad, or for only showing a few tweets you judge are the very best, or a combination of those.\n",
    "\n",
    "When you are making your rule you may want to use different comparison operators (like == for equals, > for greater than, etc.) and different logical operators (like `and` for both things must be true, `or` for at least one thing must be true, etc.). See a list of operators here: https://www.w3schools.com/python/python_operators.asp\n",
    "\n",
    "Some things you can use when you are deciding whether to display a tweet or not:\n",
    "\n",
    "* The text of the tweet: `tweet_info['text']`\n",
    "* The author info of the tweet: saved in `author_info`\n",
    "* The public metrics of the tweet (likes, replies, etc.): saved in `public_metrics`\n",
    "* Information from the initial tweet: saved in `tweet_with_replies[\"first_tweet\"]`\n",
    "   * To get the public metrics of the initial tweet, you can use \n",
    "      * `tweet_with_replies[\"first_tweet\"][\"tweet_info\"][\"public_metrics\"]`. \n",
    "   *For example you could decide your rule is, it must have at least 1/10th the likes of the initial tweet.\n",
    "* Information from the previous tweet (that this tweet is in reply to): saved in `tweet_with_replies[\"previous_tweet\"]`\n",
    "   * Note, for the initial tweet, `tweet_with_replies[\"previous_tweet\"]` will be `None`\n",
    "   * To get the public metrics of the previous tweet, you can use\n",
    "      * `tweet_with_replies[\"previous_tweet\"][\"tweet_info\"][\"public_metrics\"]`\n",
    "* You can use any other information you can figure out about the tweet as well, such as the sentiment analysis that was demoed in lecture 12.\n",
    "\n",
    "#### Testing:\n",
    "You'll probably want to test out different versions of your rule with different twitter threads (which you'll be adding below) to see what you like best.\n",
    "\n",
    "Also, if you want to see what tweets you are hiding, you can make an else to go with your if statement, and in there for tweets that you would be hiding, you can instead display them the color set to \"red\"."
   ]
  },
  {
   "cell_type": "code",
   "execution_count": null,
   "id": "c0a87574-0e75-43af-97ff-795653323e66",
   "metadata": {},
   "outputs": [],
   "source": [
    "def print_best_tweet_and_replies(tweet_with_replies, num_indents=0):\n",
    "    tweet_info = tweet_with_replies[\"tweet_info\"]\n",
    "    replies = tweet_with_replies[\"replies\"]\n",
    "    author_info = tweet_with_replies[\"author\"]\n",
    "    public_metrics = tweet_info[\"public_metrics\"]\n",
    "\n",
    "    display_text = (\n",
    "        tweet_info['text'] + \"\\n\" +\n",
    "        \"-- \" + author_info[\"name\"] + \" (@\" + author_info[\"username\"] + \")\" + \"\\n\" +\n",
    "        str(public_metrics)\n",
    "    )\n",
    "    \n",
    "    if public_metrics[\"like_count\"] > 1:\n",
    "        display_indented(display_text, num_indents*20)\n",
    "\n",
    "        #print replies (and the replies of those, etc.)\n",
    "        for reply in replies:\n",
    "            print_best_tweet_and_replies(reply, num_indents = num_indents + 1)"
   ]
  },
  {
   "cell_type": "markdown",
   "id": "2e397284-9566-4299-ba32-7ce196d2f184",
   "metadata": {},
   "source": [
    "### Test your code with a KSeattleWeather tweet"
   ]
  },
  {
   "cell_type": "code",
   "execution_count": null,
   "id": "874fbd04-3c59-41c8-b21f-426a73071832",
   "metadata": {},
   "outputs": [],
   "source": [
    "# Get tweets and replies from a tweet by KSeattleWeather (https://twitter.com/KSeattleWeather)\n",
    "# Feel free to look up a new tweet id if the search doesn't work well anymore, since it only searches\n",
    "# for tweets from the last seven days (see lab 15.5 for how to find a tweet id).\n",
    "weather_tweets_and_replies = get_tweets_with_replies(1496559168702099456)"
   ]
  },
  {
   "cell_type": "code",
   "execution_count": null,
   "id": "34c94ffa-8255-4ffa-85a3-db03b4fa64c4",
   "metadata": {
    "tags": []
   },
   "outputs": [],
   "source": [
    "# print the weather_tweets_and_replies tweets found above\n",
    "print_best_tweet_and_replies(weather_tweets_and_replies)"
   ]
  },
  {
   "cell_type": "markdown",
   "id": "46c8f415-b653-4933-b75b-6b0c14bfa15f",
   "metadata": {},
   "source": [
    "# Your Code! Test it with 3 tweet threads"
   ]
  },
  {
   "cell_type": "markdown",
   "id": "f8419612-935a-4859-9b4e-82d741dcd56b",
   "metadata": {},
   "source": [
    "Now you will find your own three tweets that start a twitter thread and test out your function on those (no need to copy the function again, just replace the `?????`s in the code below with a tweet id (see lab 15.5 for getting the id of a tweet):\n",
    "\n",
    "To find tweets with lots of replies, you can search trending topics, look at news organization, or look for users/organizations that get a lot of feedback, like the reddit \"Am I the Asshole?\": https://twitter.com/AITA_online, \"web3 is going just great\" https://twitter.com/web3isgreat, or anyone on this list: https://en.wikipedia.org/wiki/List_of_most-followed_Twitter_accounts\n",
    "\n",
    "Note: I've started these all with `max_conversation_searches = 10` in order to load very large twitter threads (up to 1000 tweets), though you can modify this to get more or less"
   ]
  },
  {
   "cell_type": "markdown",
   "id": "69877681-4afb-4507-be52-a31faefa85e0",
   "metadata": {},
   "source": [
    "### TODO: Print twitter thread 1"
   ]
  },
  {
   "cell_type": "code",
   "execution_count": null,
   "id": "3de1ec85-99e5-4528-8b43-e321e21ed8b6",
   "metadata": {},
   "outputs": [],
   "source": [
    "tweet_with_replies_1 = get_tweets_with_replies(?????, max_conversation_searches = 10)"
   ]
  },
  {
   "cell_type": "code",
   "execution_count": null,
   "id": "33cac30c-a84e-4d2b-8104-8d542bd95207",
   "metadata": {},
   "outputs": [],
   "source": [
    "print_all_tweet_and_replies(tweet_with_replies_1)"
   ]
  },
  {
   "cell_type": "code",
   "execution_count": null,
   "id": "d5b80018-84bd-4782-a93b-b01a8eeecc4c",
   "metadata": {
    "tags": []
   },
   "outputs": [],
   "source": [
    "print_best_tweet_and_replies(tweet_with_replies_1)"
   ]
  },
  {
   "cell_type": "markdown",
   "id": "4e7b91ea-89b7-481e-9412-8f63f14443e1",
   "metadata": {},
   "source": [
    "### Twitter thread 1 follow-up questions\n",
    "Write an answer in response to each of these questions (you can edit this text by double clicking it):\n",
    "\n",
    "Look through the output of printing all tweets (`print_all_tweet_and_replies()`) and your version of printing the best tweets (`print_best_tweet_and_replies()`). \n",
    "\n",
    "* Did your function tend to keep most tweets or tend to hide most tweets?\n",
    "\n",
    "* Do you see any pattern to the contents of the tweets you showed versus hid (e.g., did it actually select better quality or more interesting tweets)?"
   ]
  },
  {
   "cell_type": "markdown",
   "id": "d36cf784-7cda-48d6-9d31-5bf9e3626c2d",
   "metadata": {
    "tags": []
   },
   "source": [
    "### TODO: Print twitter thread 2"
   ]
  },
  {
   "cell_type": "code",
   "execution_count": null,
   "id": "e36ccf9a-3b90-458e-910c-e31b3178e8a0",
   "metadata": {
    "tags": []
   },
   "outputs": [],
   "source": [
    "tweet_with_replies_2 = get_tweets_with_replies(?????, max_conversation_searches = 10)"
   ]
  },
  {
   "cell_type": "code",
   "execution_count": null,
   "id": "39d874da-9fb8-46e6-9a0e-81801dc9fc4c",
   "metadata": {},
   "outputs": [],
   "source": [
    "print_all_tweet_and_replies(tweet_with_replies_2)"
   ]
  },
  {
   "cell_type": "code",
   "execution_count": null,
   "id": "2e94c07d-f68c-4633-8a70-8f0636b735db",
   "metadata": {},
   "outputs": [],
   "source": [
    "print_best_tweet_and_replies(tweet_with_replies_2)"
   ]
  },
  {
   "cell_type": "markdown",
   "id": "365d34f2-f551-432b-bc07-b9dc3778997b",
   "metadata": {},
   "source": [
    "### Twitter thread 2 follow-up questions\n",
    "Write an answer in response to each of these questions (you can edit this text by double clicking it):\n",
    "\n",
    "Look through the output of printing all tweets (`print_all_tweet_and_replies()`) and your version of printing the best tweets (`print_best_tweet_and_replies()`). \n",
    "\n",
    "* Did your function tend to keep most tweets or tend to hide most tweets?\n",
    "\n",
    "* Do you see any pattern to the contents of the tweets you showed versus hid (e.g., did it actually select better quality or more interesting tweets)?"
   ]
  },
  {
   "cell_type": "markdown",
   "id": "80d362fd-9f12-45ab-ad49-c7e5a8e21646",
   "metadata": {},
   "source": [
    "### TODO: Print twitter thread 3"
   ]
  },
  {
   "cell_type": "code",
   "execution_count": null,
   "id": "72e4afd2-9ae3-4e8e-bd8c-200d31246dae",
   "metadata": {},
   "outputs": [],
   "source": [
    "tweet_with_replies_3 = get_tweets_with_replies(?????, max_conversation_searches = 10)"
   ]
  },
  {
   "cell_type": "code",
   "execution_count": null,
   "id": "4ac958cc-b374-4803-96ba-200fab5f5938",
   "metadata": {},
   "outputs": [],
   "source": [
    "print_all_tweet_and_replies(tweet_with_replies_3)"
   ]
  },
  {
   "cell_type": "code",
   "execution_count": null,
   "id": "d236b954-ad96-4d25-8d07-97889b2eeda9",
   "metadata": {},
   "outputs": [],
   "source": [
    "print_best_tweet_and_replies(tweet_with_replies_3)"
   ]
  },
  {
   "cell_type": "markdown",
   "id": "920bca9c-b111-4fd1-8067-def9e97088c8",
   "metadata": {},
   "source": [
    "### Twitter thread 3 follow-up questions\n",
    "Write an answer in response in response to each of these questions (you can edit this text by double clicking it):\n",
    "\n",
    "Look through the output of printing all tweets (`print_all_tweet_and_replies()`) and your version of printing the best tweets (`print_best_tweet_and_replies()`). \n",
    "\n",
    "* Did your function tend to keep most tweets or tend to hide most tweets?\n",
    "\n",
    "* Do you see any pattern to the contents of the tweets you showed versus hid (e.g., did it actually select better quality or more interesting tweets)?"
   ]
  },
  {
   "cell_type": "markdown",
   "id": "07014041-40af-4ed7-92a7-69ad85ac9f4b",
   "metadata": {},
   "source": [
    "# TODO: Final Reflection questions"
   ]
  },
  {
   "cell_type": "markdown",
   "id": "57dfd460-4ef4-45c2-868a-6c2317996811",
   "metadata": {},
   "source": [
    "Write an answer in response in response to each of these questions (you can edit this by double clicking it):\n",
    "\n",
    "* Explain why you chose the rules you did for selecting the best tweets?\n",
    "\n",
    "* What was most challenging about coming up with your rules?\n",
    "\n",
    "* What additional information or rules do you wish you could have used?\n",
    "\n",
    "* If someone or some group wanted to make sure their tweets was shown by your function, what would they do? How hard would this be?\n",
    "\n",
    "* If someone or some group wanted to make sure someone else's tweets were NOT shown by your function, what would they do? How hard would this be?\n",
    "\n",
    "* If Twitter adopted this rule as a universal rule for which tweets to display, what do you think would happen (e.g., in the initial \"at least one like\" rule I provided, maybe no tweets would ever get shown since they start with no likes, and no one else would see it to like it)?\n"
   ]
  }
 ],
 "metadata": {
  "kernelspec": {
   "display_name": "Python 3 (ipykernel)",
   "language": "python",
   "name": "python3"
  },
  "language_info": {
   "codemirror_mode": {
    "name": "ipython",
    "version": 3
   },
   "file_extension": ".py",
   "mimetype": "text/x-python",
   "name": "python",
   "nbconvert_exporter": "python",
   "pygments_lexer": "ipython3",
   "version": "3.10.4"
  }
 },
 "nbformat": 4,
 "nbformat_minor": 5
}
