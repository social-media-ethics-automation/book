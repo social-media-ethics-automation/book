{
 "cells": [
  {
   "cell_type": "markdown",
   "id": "a779ca3a-c174-4e88-93ac-2124c7ea049a",
   "metadata": {},
   "source": [
    "# Pandas Intro"
   ]
  },
  {
   "cell_type": "markdown",
   "id": "d4052f85-d832-4348-b9c3-acd48b3199e2",
   "metadata": {},
   "source": [
    "## User-Defined Functions VS Built-In Functions\n",
    "\n",
    "In all programming and scripting language, a function is a block of code which can be used repetitively in a program.\n",
    "\n",
    "#### Built-In Functions:\n",
    "\n",
    "```\n",
    "len()\n",
    "append()\n",
    "range()\n",
    "print()\n",
    "```\n",
    "\n",
    "\n",
    "\n",
    "\n",
    "#### User-Defined Functions (UDFs):\n",
    "\n",
    "A user-defined function is a function you create that can be used repetitively. In Python a function is defined using the 'def' keyword.\n",
    "\n",
    "Creating a User-Defined Function:\n",
    "\n",
    "```\n",
    "def function_name(argument1, argument2):\n",
    "    STATEMENT\n",
    "    STATEMENT\n",
    "    STATEMENT\n",
    "```\n",
    "\n",
    "Using a Used-Defined Function that you previously made:\n",
    "\n",
    "```\n",
    "function_name(argument1, argument2)\n",
    "```"
   ]
  },
  {
   "cell_type": "code",
   "execution_count": 1,
   "id": "df2e92dd-1175-4f3c-bea5-d28951f310ec",
   "metadata": {},
   "outputs": [],
   "source": [
    "# Try out the following example:\n",
    "\n",
    "import time\n",
    "\n",
    "def counter():\n",
    "    for i in range(10):\n",
    "        print(i)\n",
    "        time.sleep(1)"
   ]
  },
  {
   "cell_type": "code",
   "execution_count": 2,
   "id": "5a722a07-f316-4155-b46e-e157c4068687",
   "metadata": {},
   "outputs": [
    {
     "name": "stdout",
     "output_type": "stream",
     "text": [
      "0\n",
      "1\n",
      "2\n",
      "3\n",
      "4\n",
      "5\n",
      "6\n",
      "7\n",
      "8\n",
      "9\n"
     ]
    }
   ],
   "source": [
    "# Using the previously made UDF. Try out the following example:\n",
    "\n",
    "counter()"
   ]
  },
  {
   "cell_type": "markdown",
   "id": "9a2d7ebb-19c6-4827-9daf-ad44cdcd1790",
   "metadata": {},
   "source": [
    "## Parameters"
   ]
  },
  {
   "cell_type": "markdown",
   "id": "ee004831-c639-4cf5-89aa-60004216a117",
   "metadata": {},
   "source": [
    "#### A parameter is the variable listed inside the parentheses of the function definition."
   ]
  },
  {
   "cell_type": "code",
   "execution_count": 3,
   "id": "617dd1d1-9e4a-4317-b29d-774756f522eb",
   "metadata": {},
   "outputs": [],
   "source": [
    "# You can also include parameters. Try out the following example:\n",
    "\n",
    "def counter_advanced(x):            # includes parameter 'x'\n",
    "    for i in range(x):\n",
    "        print(i)\n",
    "        time.sleep(1)"
   ]
  },
  {
   "cell_type": "code",
   "execution_count": 4,
   "id": "a0e4a5ec-72a2-464a-99c5-7aed8a8890a5",
   "metadata": {},
   "outputs": [
    {
     "name": "stdout",
     "output_type": "stream",
     "text": [
      "0\n",
      "1\n",
      "2\n",
      "3\n",
      "4\n"
     ]
    }
   ],
   "source": [
    "# Calling the function & specifying a value in place of the paramter.\n",
    "# Try out the following example:\n",
    "\n",
    "counter_advanced(5)"
   ]
  },
  {
   "cell_type": "code",
   "execution_count": 5,
   "id": "83d01df6-fc9a-42ca-98e8-47c52a7d2607",
   "metadata": {
    "tags": []
   },
   "outputs": [],
   "source": [
    "# Try out the following example:\n",
    "\n",
    "def addition_machine(x, y):\n",
    "    print(x + y)"
   ]
  },
  {
   "cell_type": "code",
   "execution_count": 6,
   "id": "21daddf8-895f-4a76-a51f-08faf561b286",
   "metadata": {},
   "outputs": [
    {
     "name": "stdout",
     "output_type": "stream",
     "text": [
      "53146\n"
     ]
    }
   ],
   "source": [
    "# Try calling the function:\n",
    "\n",
    "addition_machine(52846, 300)"
   ]
  },
  {
   "cell_type": "markdown",
   "id": "32cf8c7d-719a-4837-b31a-e3c1e6986cfd",
   "metadata": {},
   "source": [
    "#### 1. Create a function that does NOT include a parameter (the function name should be followed by an exmpty parenthesis)."
   ]
  },
  {
   "cell_type": "code",
   "execution_count": 7,
   "id": "925633a5-5bc5-41ee-98d6-c588ee8cd162",
   "metadata": {},
   "outputs": [],
   "source": [
    "def example_function():\n",
    "    x = 254\n",
    "    y = 123\n",
    "    print(254 % 123)"
   ]
  },
  {
   "cell_type": "markdown",
   "id": "8fbe386a-099d-4f5e-9164-eef6936dec63",
   "metadata": {},
   "source": [
    "#### 2. Call that funtion."
   ]
  },
  {
   "cell_type": "code",
   "execution_count": 8,
   "id": "8ae1ff1a-fdca-4e81-80a3-735a1e2a1a99",
   "metadata": {},
   "outputs": [
    {
     "name": "stdout",
     "output_type": "stream",
     "text": [
      "8\n"
     ]
    }
   ],
   "source": [
    "example_function()"
   ]
  },
  {
   "cell_type": "markdown",
   "id": "caf5dcdb-975e-4173-a5be-bbf1dff7c092",
   "metadata": {},
   "source": [
    "#### 3. Create a function called `multiplier` that takes in two parameters and prints out the product of the two."
   ]
  },
  {
   "cell_type": "code",
   "execution_count": 9,
   "id": "3d3b3c2d-3500-448a-a9f4-9d500977b792",
   "metadata": {},
   "outputs": [],
   "source": [
    "def multiplier(x, y):\n",
    "    print(x * y)"
   ]
  },
  {
   "cell_type": "markdown",
   "id": "63400d09-6c97-471f-8b25-d7eb10da002a",
   "metadata": {},
   "source": [
    "#### 4. Call the `multiplier` function."
   ]
  },
  {
   "cell_type": "code",
   "execution_count": 10,
   "id": "4652addb-023c-45e5-bb0c-2d27cf3c8564",
   "metadata": {},
   "outputs": [
    {
     "name": "stdout",
     "output_type": "stream",
     "text": [
      "300\n"
     ]
    }
   ],
   "source": [
    "multiplier(15,20)"
   ]
  },
  {
   "cell_type": "markdown",
   "id": "f0e96f34-106d-4095-b3be-02630c1c95ac",
   "metadata": {},
   "source": [
    "## Pandas"
   ]
  },
  {
   "cell_type": "markdown",
   "id": "872cec9c-ddbd-4802-b74f-ca23ba56d977",
   "metadata": {},
   "source": [
    "Pandas is an extremely useful library used for large data anlysis. Pandas makes it very easy to perform certain tasks quickly and easily."
   ]
  },
  {
   "cell_type": "markdown",
   "id": "eea36e50-9dcf-419d-939d-0c4e4366a269",
   "metadata": {},
   "source": [
    "#### \"pandas\" is the name of the library. When we include \"as pd\", we're nicknaming the library in order to shorten the name when we reference it. This is standard practice in data science. \n",
    "\n",
    "#### Run the following code block to load in the pandas library: "
   ]
  },
  {
   "cell_type": "code",
   "execution_count": 11,
   "id": "4b9ac3d7-bd2b-4860-a414-5ceddcd28135",
   "metadata": {},
   "outputs": [],
   "source": [
    "import pandas as pd"
   ]
  },
  {
   "cell_type": "markdown",
   "id": "5da87a0f-792e-4bf6-8588-321eb7cbad65",
   "metadata": {},
   "source": [
    "#### Load in data using function `read_csv`"
   ]
  },
  {
   "cell_type": "code",
   "execution_count": 12,
   "id": "3beb9e4f-24f6-435d-bd6f-9c533903533b",
   "metadata": {},
   "outputs": [
    {
     "data": {
      "text/html": [
       "<div>\n",
       "<style scoped>\n",
       "    .dataframe tbody tr th:only-of-type {\n",
       "        vertical-align: middle;\n",
       "    }\n",
       "\n",
       "    .dataframe tbody tr th {\n",
       "        vertical-align: top;\n",
       "    }\n",
       "\n",
       "    .dataframe thead th {\n",
       "        text-align: right;\n",
       "    }\n",
       "</style>\n",
       "<table border=\"1\" class=\"dataframe\">\n",
       "  <thead>\n",
       "    <tr style=\"text-align: right;\">\n",
       "      <th></th>\n",
       "      <th>name</th>\n",
       "      <th>salary</th>\n",
       "    </tr>\n",
       "  </thead>\n",
       "  <tbody>\n",
       "    <tr>\n",
       "      <th>0</th>\n",
       "      <td>Emily</td>\n",
       "      <td>5</td>\n",
       "    </tr>\n",
       "    <tr>\n",
       "      <th>1</th>\n",
       "      <td>Kyle</td>\n",
       "      <td>10</td>\n",
       "    </tr>\n",
       "    <tr>\n",
       "      <th>2</th>\n",
       "      <td>Bob</td>\n",
       "      <td>8</td>\n",
       "    </tr>\n",
       "    <tr>\n",
       "      <th>3</th>\n",
       "      <td>Jenny</td>\n",
       "      <td>9</td>\n",
       "    </tr>\n",
       "  </tbody>\n",
       "</table>\n",
       "</div>"
      ],
      "text/plain": [
       "    name  salary\n",
       "0  Emily       5\n",
       "1   Kyle      10\n",
       "2    Bob       8\n",
       "3  Jenny       9"
      ]
     },
     "execution_count": 12,
     "metadata": {},
     "output_type": "execute_result"
    }
   ],
   "source": [
    "df = pd.read_csv('../INFO-198-content/faculty.csv')\n",
    "df"
   ]
  },
  {
   "cell_type": "markdown",
   "id": "c3ab22b7-efcd-453a-886f-edb7f7e450ab",
   "metadata": {},
   "source": [
    "What is df? It's a pandas object called a DataFrame which stores a table of values, similar to aan Excel table.\n",
    "\n",
    "Notice on the top row, it shows the name of the columns (Name and Salary) and on the left-most side, it shows an index for each row (0, 1, and 2).\n",
    "\n",
    "DataFrames are powerful because they provide lots of ways to access and perform computations on your data without you having to write much code!"
   ]
  },
  {
   "cell_type": "markdown",
   "id": "7e976f7d-e19f-46d6-a13d-02ca9575a4b0",
   "metadata": {},
   "source": [
    "## Accessing a Column"
   ]
  },
  {
   "cell_type": "code",
   "execution_count": 13,
   "id": "9e68be4d-90d5-426a-8d8b-aac3a9943b67",
   "metadata": {},
   "outputs": [
    {
     "data": {
      "text/plain": [
       "0    Emily\n",
       "1     Kyle\n",
       "2      Bob\n",
       "3    Jenny\n",
       "Name: name, dtype: object"
      ]
     },
     "execution_count": 13,
     "metadata": {},
     "output_type": "execute_result"
    }
   ],
   "source": [
    "# Try running the following example:\n",
    "\n",
    "df['name']"
   ]
  },
  {
   "cell_type": "markdown",
   "id": "fba808fa-c6b8-4396-ba29-dad6477accf5",
   "metadata": {},
   "source": [
    "#### 5. TRY IT YOURSELF: Access the 'salary' column."
   ]
  },
  {
   "cell_type": "code",
   "execution_count": 14,
   "id": "8b555d55-ec1d-4eb0-990e-2a56ae84e768",
   "metadata": {
    "tags": []
   },
   "outputs": [
    {
     "data": {
      "text/plain": [
       "0     5\n",
       "1    10\n",
       "2     8\n",
       "3     9\n",
       "Name: salary, dtype: int64"
      ]
     },
     "execution_count": 14,
     "metadata": {},
     "output_type": "execute_result"
    }
   ],
   "source": [
    "df['salary']"
   ]
  },
  {
   "cell_type": "markdown",
   "id": "6f939fef-c80a-4e1e-aaa9-ce3ea19ff08a",
   "metadata": {},
   "source": [
    "### Series\n",
    "A series is essentially one column of a DataFrame.The previous two code blocks are examples of Series."
   ]
  },
  {
   "cell_type": "markdown",
   "id": "d84fb4c2-5879-4a12-987c-c9a3fcd78ba0",
   "metadata": {},
   "source": [
    "#### pandas isn't useful just because it not only lets you access this data conveniently, but also perform computations on them.\n",
    "\n",
    "A Series object has many methods you can call on them to perform computation. Here is a list of some of the most useful ones:\n",
    "\n",
    "```\n",
    "mean: Calculates the average value of the Series\n",
    "min: Calculates the minimum value of the Series\n",
    "max: Calculates the maximum value of the Series\n",
    "count: Calculates the number values in the Series\n",
    "unique: Returns a new Series with all the unique values from the Series.\n",
    "And many more!\n",
    "```"
   ]
  },
  {
   "cell_type": "code",
   "execution_count": 15,
   "id": "036a97ab-58d3-49c2-9292-6e901be889bb",
   "metadata": {},
   "outputs": [
    {
     "data": {
      "text/plain": [
       "8.0"
      ]
     },
     "execution_count": 15,
     "metadata": {},
     "output_type": "execute_result"
    }
   ],
   "source": [
    "# Try running the following example to compute the average Salary of the names:\n",
    "\n",
    "average_salary = df['salary'].mean()\n",
    "average_salary"
   ]
  },
  {
   "cell_type": "code",
   "execution_count": 16,
   "id": "46e0a396-a0ca-4b44-ba7b-397196f71bae",
   "metadata": {},
   "outputs": [
    {
     "data": {
      "text/html": [
       "<div>\n",
       "<style scoped>\n",
       "    .dataframe tbody tr th:only-of-type {\n",
       "        vertical-align: middle;\n",
       "    }\n",
       "\n",
       "    .dataframe tbody tr th {\n",
       "        vertical-align: top;\n",
       "    }\n",
       "\n",
       "    .dataframe thead th {\n",
       "        text-align: right;\n",
       "    }\n",
       "</style>\n",
       "<table border=\"1\" class=\"dataframe\">\n",
       "  <thead>\n",
       "    <tr style=\"text-align: right;\">\n",
       "      <th></th>\n",
       "      <th>City</th>\n",
       "      <th>Country</th>\n",
       "      <th>Emissions</th>\n",
       "      <th>Population</th>\n",
       "    </tr>\n",
       "  </thead>\n",
       "  <tbody>\n",
       "    <tr>\n",
       "      <th>0</th>\n",
       "      <td>New York</td>\n",
       "      <td>U.S.A.</td>\n",
       "      <td>200</td>\n",
       "      <td>800000</td>\n",
       "    </tr>\n",
       "    <tr>\n",
       "      <th>1</th>\n",
       "      <td>Paris</td>\n",
       "      <td>France</td>\n",
       "      <td>50</td>\n",
       "      <td>25000</td>\n",
       "    </tr>\n",
       "    <tr>\n",
       "      <th>2</th>\n",
       "      <td>Bejing</td>\n",
       "      <td>China</td>\n",
       "      <td>300</td>\n",
       "      <td>90000</td>\n",
       "    </tr>\n",
       "    <tr>\n",
       "      <th>3</th>\n",
       "      <td>Seattle</td>\n",
       "      <td>U.S.A.</td>\n",
       "      <td>40</td>\n",
       "      <td>50000</td>\n",
       "    </tr>\n",
       "    <tr>\n",
       "      <th>4</th>\n",
       "      <td>Nice</td>\n",
       "      <td>France</td>\n",
       "      <td>100</td>\n",
       "      <td>10000</td>\n",
       "    </tr>\n",
       "  </tbody>\n",
       "</table>\n",
       "</div>"
      ],
      "text/plain": [
       "       City Country  Emissions  Population\n",
       "0  New York  U.S.A.        200      800000\n",
       "1     Paris  France         50       25000\n",
       "2    Bejing   China        300       90000\n",
       "3   Seattle  U.S.A.         40       50000\n",
       "4      Nice  France        100       10000"
      ]
     },
     "execution_count": 16,
     "metadata": {},
     "output_type": "execute_result"
    }
   ],
   "source": [
    "df2 = pd.read_csv('../INFO-198-content/emissions.csv')\n",
    "df2"
   ]
  },
  {
   "cell_type": "markdown",
   "id": "ea012a46-2573-470f-aa4d-061d7fbeafe6",
   "metadata": {},
   "source": [
    "#### One useful feature of pandas is it lets you combine values from different Series. For example, if we wanted to, we could add the values of the salary column and the bonus column."
   ]
  },
  {
   "cell_type": "code",
   "execution_count": 17,
   "id": "edfc6f78-7c7c-4da4-b8cd-cbed67b1e9df",
   "metadata": {},
   "outputs": [
    {
     "data": {
      "text/plain": [
       "0    800200\n",
       "1     25050\n",
       "2     90300\n",
       "3     50040\n",
       "4     10100\n",
       "dtype: int64"
      ]
     },
     "execution_count": 17,
     "metadata": {},
     "output_type": "execute_result"
    }
   ],
   "source": [
    "# Try out the following example:\n",
    "\n",
    "df2['Emissions'] + df2['Population']"
   ]
  },
  {
   "cell_type": "markdown",
   "id": "2bfd7b39-e73e-4c73-bb5e-272b1f009427",
   "metadata": {},
   "source": [
    "This returns a new Series that represents the sum of those two columns. The first value in the Series is the sum of the first values in the two that were added, the second is the sum of the second two, etc. \n",
    "\n",
    "*Note: this does NOT change the dataframe."
   ]
  },
  {
   "cell_type": "markdown",
   "id": "3716ba61-fda7-413d-a974-b715fe6f5294",
   "metadata": {
    "tags": []
   },
   "source": [
    "#### 6. TRY IT YOURSELF: In the cell below, find the maximum \"emissions per capita\" (emissions divided by population). Start by computing this value for each city and then find the maximum value of that Series (using one of the Series methods shown above). \n",
    "\n",
    "#### Save the result in a variable called `max_emissions`.\n",
    "\n",
    "#### Hint: You can save a Series in a variable! It's just like any other Python value!"
   ]
  },
  {
   "cell_type": "code",
   "execution_count": 18,
   "id": "d07b8772-c848-4e22-a6f4-2a28bc2fa675",
   "metadata": {},
   "outputs": [
    {
     "data": {
      "text/plain": [
       "0.01"
      ]
     },
     "execution_count": 18,
     "metadata": {},
     "output_type": "execute_result"
    }
   ],
   "source": [
    "max_emissions = df2['Emissions'] / df2['Population']\n",
    "max_emissions = max_emissions.max()\n",
    "max_emissions"
   ]
  },
  {
   "cell_type": "markdown",
   "id": "931f164d-a468-440e-9d12-d988acbc48cb",
   "metadata": {},
   "source": [
    "#### These computations also work if one of the values is a single value rather than a Series. For example, the following cell adds 10 to each of the populations."
   ]
  },
  {
   "cell_type": "code",
   "execution_count": 19,
   "id": "ef97118f-278d-40b7-82b0-9737a95a66ae",
   "metadata": {},
   "outputs": [
    {
     "data": {
      "text/plain": [
       "0    800010\n",
       "1     25010\n",
       "2     90010\n",
       "3     50010\n",
       "4     10010\n",
       "Name: Population, dtype: int64"
      ]
     },
     "execution_count": 19,
     "metadata": {},
     "output_type": "execute_result"
    }
   ],
   "source": [
    "# Try out this example:\n",
    "\n",
    "df2['Population'] + 10"
   ]
  },
  {
   "cell_type": "markdown",
   "id": "2af6cab2-5aa0-42f0-88c0-00a0bbcafba1",
   "metadata": {
    "tags": []
   },
   "source": [
    "#### 7. TRY IT YOURSELF: Divide each emission by 3"
   ]
  },
  {
   "cell_type": "code",
   "execution_count": 20,
   "id": "47d64486-2f29-4d44-86a2-78b4e0ec5656",
   "metadata": {},
   "outputs": [
    {
     "data": {
      "text/plain": [
       "0     66.666667\n",
       "1     16.666667\n",
       "2    100.000000\n",
       "3     13.333333\n",
       "4     33.333333\n",
       "Name: Emissions, dtype: float64"
      ]
     },
     "execution_count": 20,
     "metadata": {},
     "output_type": "execute_result"
    }
   ],
   "source": [
    "df2['Emissions'] / 3"
   ]
  },
  {
   "cell_type": "markdown",
   "id": "d1166a62-3ae0-4fe4-ae51-1e3760abcb2b",
   "metadata": {
    "tags": []
   },
   "source": [
    "#### Another useful case for something like this is to compare the values of a column to a value. For example, the following cell computes which cities have an emissions value of 200 or more. Notice that the datatype of the output is boolean since the condition is checking whether or not each row in the column meets the condition or not."
   ]
  },
  {
   "cell_type": "code",
   "execution_count": 21,
   "id": "0f04b307-c0df-4362-9ba8-09aba140ae55",
   "metadata": {},
   "outputs": [
    {
     "data": {
      "text/plain": [
       "0     True\n",
       "1    False\n",
       "2     True\n",
       "3    False\n",
       "4    False\n",
       "Name: Emissions, dtype: bool"
      ]
     },
     "execution_count": 21,
     "metadata": {},
     "output_type": "execute_result"
    }
   ],
   "source": [
    "df2['Emissions'] >= 200"
   ]
  },
  {
   "cell_type": "markdown",
   "id": "34894d56-e613-4188-9c0a-a367b6b56b3e",
   "metadata": {},
   "source": [
    "#### 8. TRY IT YOURSELF: Check whether each population is less than or equal to 50000."
   ]
  },
  {
   "cell_type": "code",
   "execution_count": 22,
   "id": "95f0feb1-b44c-4147-9f54-3018c5bca78a",
   "metadata": {},
   "outputs": [
    {
     "data": {
      "text/plain": [
       "0    False\n",
       "1     True\n",
       "2    False\n",
       "3     True\n",
       "4     True\n",
       "Name: Population, dtype: bool"
      ]
     },
     "execution_count": 22,
     "metadata": {},
     "output_type": "execute_result"
    }
   ],
   "source": [
    "df2['Population'] <= 50000"
   ]
  },
  {
   "cell_type": "markdown",
   "id": "2d386d80-f14a-4db6-bc09-d663cca114fc",
   "metadata": {},
   "source": [
    "## Filtering Data"
   ]
  },
  {
   "cell_type": "markdown",
   "id": "b3417ffb-b4a5-4af9-ace3-8ff90faa489e",
   "metadata": {},
   "source": [
    "#### You might have wondered why would it be useful to compare a Series to some random value? The power comes from using this bool Series to <b>filter</b> the DataFrame to the rows you want.\n",
    "\n",
    "#### For example, what if I wanted to print the names of the cities that have an emissions of 200 or more? I can use this bool Series to filter which rows I want!"
   ]
  },
  {
   "cell_type": "code",
   "execution_count": 23,
   "id": "83e804f9-8275-4a6f-80dd-a092fe47a8df",
   "metadata": {},
   "outputs": [
    {
     "data": {
      "text/html": [
       "<div>\n",
       "<style scoped>\n",
       "    .dataframe tbody tr th:only-of-type {\n",
       "        vertical-align: middle;\n",
       "    }\n",
       "\n",
       "    .dataframe tbody tr th {\n",
       "        vertical-align: top;\n",
       "    }\n",
       "\n",
       "    .dataframe thead th {\n",
       "        text-align: right;\n",
       "    }\n",
       "</style>\n",
       "<table border=\"1\" class=\"dataframe\">\n",
       "  <thead>\n",
       "    <tr style=\"text-align: right;\">\n",
       "      <th></th>\n",
       "      <th>City</th>\n",
       "      <th>Country</th>\n",
       "      <th>Emissions</th>\n",
       "      <th>Population</th>\n",
       "    </tr>\n",
       "  </thead>\n",
       "  <tbody>\n",
       "    <tr>\n",
       "      <th>0</th>\n",
       "      <td>New York</td>\n",
       "      <td>U.S.A.</td>\n",
       "      <td>200</td>\n",
       "      <td>800000</td>\n",
       "    </tr>\n",
       "    <tr>\n",
       "      <th>2</th>\n",
       "      <td>Bejing</td>\n",
       "      <td>China</td>\n",
       "      <td>300</td>\n",
       "      <td>90000</td>\n",
       "    </tr>\n",
       "  </tbody>\n",
       "</table>\n",
       "</div>"
      ],
      "text/plain": [
       "       City Country  Emissions  Population\n",
       "0  New York  U.S.A.        200      800000\n",
       "2    Bejing   China        300       90000"
      ]
     },
     "execution_count": 23,
     "metadata": {},
     "output_type": "execute_result"
    }
   ],
   "source": [
    "# Here's what the syntax looks like to filter rows with 'Emissions' of 200 or greater.:\n",
    "\n",
    "df3 = df2[df2['Emissions'] >= 200]\n",
    "df3"
   ]
  },
  {
   "cell_type": "code",
   "execution_count": 24,
   "id": "4cdfe685-91ce-4917-a092-3483ec89e7d9",
   "metadata": {},
   "outputs": [
    {
     "data": {
      "text/plain": [
       "0    New York\n",
       "2      Bejing\n",
       "Name: City, dtype: object"
      ]
     },
     "execution_count": 24,
     "metadata": {},
     "output_type": "execute_result"
    }
   ],
   "source": [
    "# Now let's return only the city names:\n",
    "\n",
    "df3['City']"
   ]
  },
  {
   "cell_type": "markdown",
   "id": "e7e38ca1-e66e-40e1-8918-4fa8e950412b",
   "metadata": {},
   "source": [
    "#### We recommend splitting up the code into many variables. This makes the code more readable and often easieir to work with:"
   ]
  },
  {
   "cell_type": "code",
   "execution_count": 25,
   "id": "c2e5f246-1f68-4bc7-ac97-1a23442eb497",
   "metadata": {},
   "outputs": [
    {
     "data": {
      "text/plain": [
       "0    New York\n",
       "2      Bejing\n",
       "Name: City, dtype: object"
      ]
     },
     "execution_count": 25,
     "metadata": {},
     "output_type": "execute_result"
    }
   ],
   "source": [
    "# Here's the previous code blocks rewritten (the output should be the same):\n",
    "\n",
    "emissions = df2['Emissions'] >= 200\n",
    "df3 = df2[emissions]\n",
    "cities = df3['City']\n",
    "cities"
   ]
  },
  {
   "cell_type": "markdown",
   "id": "023aeb25-12f5-473d-8266-0e003b43c565",
   "metadata": {},
   "source": [
    "Notice how we can get this result without having to write any loops!"
   ]
  },
  {
   "cell_type": "markdown",
   "id": "3203311d-7a98-4d81-a31a-643a66ec32b8",
   "metadata": {},
   "source": [
    "#### 9. TRY IT YOURSELF: Return the Countries that have populations of less than or equal to 50000."
   ]
  },
  {
   "cell_type": "code",
   "execution_count": 26,
   "id": "4889fe1a-24c6-4c54-8d18-518b8d9d7592",
   "metadata": {},
   "outputs": [
    {
     "data": {
      "text/plain": [
       "1    France\n",
       "3    U.S.A.\n",
       "4    France\n",
       "Name: Country, dtype: object"
      ]
     },
     "execution_count": 26,
     "metadata": {},
     "output_type": "execute_result"
    }
   ],
   "source": [
    "populations = df2['Population'] <= 50000\n",
    "df3 = df2[populations]\n",
    "country = df3['Country']\n",
    "country"
   ]
  },
  {
   "cell_type": "markdown",
   "id": "8983604d-1d24-445e-85f4-167663336675",
   "metadata": {},
   "source": [
    "## Filtering on Multiple Conditions"
   ]
  },
  {
   "cell_type": "markdown",
   "id": "bf381927-0432-48b4-a343-a7ee3fdebe42",
   "metadata": {},
   "source": [
    "#### Last week we went over 'or' and 'and' opperators. padas has a different syntax for these operators:\n",
    "\n",
    "```\n",
    "| = or\n",
    "& = and\n",
    "```"
   ]
  },
  {
   "cell_type": "markdown",
   "id": "5fc24f43-aaa9-4f89-bce6-3b1184d97dc7",
   "metadata": {
    "tags": []
   },
   "source": [
    "#### If you want to find all cities that have high emissions OR are in the US, you would write this:"
   ]
  },
  {
   "cell_type": "code",
   "execution_count": 27,
   "id": "6afbedac-3e7f-48b1-b122-0fc6ffa34a85",
   "metadata": {},
   "outputs": [
    {
     "data": {
      "text/html": [
       "<div>\n",
       "<style scoped>\n",
       "    .dataframe tbody tr th:only-of-type {\n",
       "        vertical-align: middle;\n",
       "    }\n",
       "\n",
       "    .dataframe tbody tr th {\n",
       "        vertical-align: top;\n",
       "    }\n",
       "\n",
       "    .dataframe thead th {\n",
       "        text-align: right;\n",
       "    }\n",
       "</style>\n",
       "<table border=\"1\" class=\"dataframe\">\n",
       "  <thead>\n",
       "    <tr style=\"text-align: right;\">\n",
       "      <th></th>\n",
       "      <th>City</th>\n",
       "      <th>Country</th>\n",
       "      <th>Emissions</th>\n",
       "      <th>Population</th>\n",
       "    </tr>\n",
       "  </thead>\n",
       "  <tbody>\n",
       "    <tr>\n",
       "      <th>0</th>\n",
       "      <td>New York</td>\n",
       "      <td>U.S.A.</td>\n",
       "      <td>200</td>\n",
       "      <td>800000</td>\n",
       "    </tr>\n",
       "    <tr>\n",
       "      <th>2</th>\n",
       "      <td>Bejing</td>\n",
       "      <td>China</td>\n",
       "      <td>300</td>\n",
       "      <td>90000</td>\n",
       "    </tr>\n",
       "    <tr>\n",
       "      <th>3</th>\n",
       "      <td>Seattle</td>\n",
       "      <td>U.S.A.</td>\n",
       "      <td>40</td>\n",
       "      <td>50000</td>\n",
       "    </tr>\n",
       "  </tbody>\n",
       "</table>\n",
       "</div>"
      ],
      "text/plain": [
       "       City Country  Emissions  Population\n",
       "0  New York  U.S.A.        200      800000\n",
       "2    Bejing   China        300       90000\n",
       "3   Seattle  U.S.A.         40       50000"
      ]
     },
     "execution_count": 27,
     "metadata": {},
     "output_type": "execute_result"
    }
   ],
   "source": [
    "# Try out the following example:\n",
    "df2[(df2['Emissions'] >= 200) | (df2['Country'] == 'U.S.A.')]"
   ]
  },
  {
   "cell_type": "markdown",
   "id": "400fce8e-b322-48c8-b989-2852c6c05046",
   "metadata": {},
   "source": [
    "### What about cities that have high emissions AND are in the US?"
   ]
  },
  {
   "cell_type": "code",
   "execution_count": 28,
   "id": "763b07d4-8f2f-4fac-9bd0-81d7d22c46de",
   "metadata": {
    "tags": []
   },
   "outputs": [
    {
     "data": {
      "text/html": [
       "<div>\n",
       "<style scoped>\n",
       "    .dataframe tbody tr th:only-of-type {\n",
       "        vertical-align: middle;\n",
       "    }\n",
       "\n",
       "    .dataframe tbody tr th {\n",
       "        vertical-align: top;\n",
       "    }\n",
       "\n",
       "    .dataframe thead th {\n",
       "        text-align: right;\n",
       "    }\n",
       "</style>\n",
       "<table border=\"1\" class=\"dataframe\">\n",
       "  <thead>\n",
       "    <tr style=\"text-align: right;\">\n",
       "      <th></th>\n",
       "      <th>City</th>\n",
       "      <th>Country</th>\n",
       "      <th>Emissions</th>\n",
       "      <th>Population</th>\n",
       "    </tr>\n",
       "  </thead>\n",
       "  <tbody>\n",
       "    <tr>\n",
       "      <th>0</th>\n",
       "      <td>New York</td>\n",
       "      <td>U.S.A.</td>\n",
       "      <td>200</td>\n",
       "      <td>800000</td>\n",
       "    </tr>\n",
       "  </tbody>\n",
       "</table>\n",
       "</div>"
      ],
      "text/plain": [
       "       City Country  Emissions  Population\n",
       "0  New York  U.S.A.        200      800000"
      ]
     },
     "execution_count": 28,
     "metadata": {},
     "output_type": "execute_result"
    }
   ],
   "source": [
    "# Try out the following example:\n",
    "df2[(df2['Emissions'] >= 200) & (df2['Country'] == 'U.S.A.')]"
   ]
  },
  {
   "cell_type": "code",
   "execution_count": 29,
   "id": "b53bfab3-b9d5-451a-835c-3e9b342740d2",
   "metadata": {},
   "outputs": [
    {
     "data": {
      "text/html": [
       "<div>\n",
       "<style scoped>\n",
       "    .dataframe tbody tr th:only-of-type {\n",
       "        vertical-align: middle;\n",
       "    }\n",
       "\n",
       "    .dataframe tbody tr th {\n",
       "        vertical-align: top;\n",
       "    }\n",
       "\n",
       "    .dataframe thead th {\n",
       "        text-align: right;\n",
       "    }\n",
       "</style>\n",
       "<table border=\"1\" class=\"dataframe\">\n",
       "  <thead>\n",
       "    <tr style=\"text-align: right;\">\n",
       "      <th></th>\n",
       "      <th>City</th>\n",
       "      <th>Country</th>\n",
       "      <th>Emissions</th>\n",
       "      <th>Population</th>\n",
       "    </tr>\n",
       "  </thead>\n",
       "  <tbody>\n",
       "    <tr>\n",
       "      <th>0</th>\n",
       "      <td>New York</td>\n",
       "      <td>U.S.A.</td>\n",
       "      <td>200</td>\n",
       "      <td>800000</td>\n",
       "    </tr>\n",
       "  </tbody>\n",
       "</table>\n",
       "</div>"
      ],
      "text/plain": [
       "       City Country  Emissions  Population\n",
       "0  New York  U.S.A.        200      800000"
      ]
     },
     "execution_count": 29,
     "metadata": {},
     "output_type": "execute_result"
    }
   ],
   "source": [
    "# A much more readable version of the previous code:\n",
    "emissions = df2['Emissions'] >= 200\n",
    "country = df2['Country'] == 'U.S.A.'\n",
    "high_usa = df2[emissions & country]\n",
    "high_usa"
   ]
  },
  {
   "cell_type": "markdown",
   "id": "e3b773c1-ff3f-40d6-a7fb-38d3af53c8aa",
   "metadata": {},
   "source": [
    "#### 10. TRY IT YOURSELF: write code to select all rows from the dataset that are in France OR have a population greater than 50000. \n",
    "\n",
    "#### Save the result in a variable called `pop_or_france`."
   ]
  },
  {
   "cell_type": "code",
   "execution_count": 30,
   "id": "5786d246-7811-4567-95b2-68878d376dbf",
   "metadata": {},
   "outputs": [
    {
     "data": {
      "text/html": [
       "<div>\n",
       "<style scoped>\n",
       "    .dataframe tbody tr th:only-of-type {\n",
       "        vertical-align: middle;\n",
       "    }\n",
       "\n",
       "    .dataframe tbody tr th {\n",
       "        vertical-align: top;\n",
       "    }\n",
       "\n",
       "    .dataframe thead th {\n",
       "        text-align: right;\n",
       "    }\n",
       "</style>\n",
       "<table border=\"1\" class=\"dataframe\">\n",
       "  <thead>\n",
       "    <tr style=\"text-align: right;\">\n",
       "      <th></th>\n",
       "      <th>City</th>\n",
       "      <th>Country</th>\n",
       "      <th>Emissions</th>\n",
       "      <th>Population</th>\n",
       "    </tr>\n",
       "  </thead>\n",
       "  <tbody>\n",
       "    <tr>\n",
       "      <th>1</th>\n",
       "      <td>Paris</td>\n",
       "      <td>France</td>\n",
       "      <td>50</td>\n",
       "      <td>25000</td>\n",
       "    </tr>\n",
       "    <tr>\n",
       "      <th>3</th>\n",
       "      <td>Seattle</td>\n",
       "      <td>U.S.A.</td>\n",
       "      <td>40</td>\n",
       "      <td>50000</td>\n",
       "    </tr>\n",
       "    <tr>\n",
       "      <th>4</th>\n",
       "      <td>Nice</td>\n",
       "      <td>France</td>\n",
       "      <td>100</td>\n",
       "      <td>10000</td>\n",
       "    </tr>\n",
       "  </tbody>\n",
       "</table>\n",
       "</div>"
      ],
      "text/plain": [
       "      City Country  Emissions  Population\n",
       "1    Paris  France         50       25000\n",
       "3  Seattle  U.S.A.         40       50000\n",
       "4     Nice  France        100       10000"
      ]
     },
     "execution_count": 30,
     "metadata": {},
     "output_type": "execute_result"
    }
   ],
   "source": [
    "populations = df2['Population'] <= 50000\n",
    "country = df2['Country'] == 'France'\n",
    "pop_or_france = df2[populations | country] \n",
    "pop_or_france"
   ]
  },
  {
   "cell_type": "markdown",
   "id": "05886e59-ffa3-42fc-a095-e739d653a2f0",
   "metadata": {},
   "source": [
    "#### 11. TRY IT YOURSELF: write code to select all rows from the dataset that are in France OR have a population greater than 50000. \n",
    "\n",
    "#### Save the result in a variable called `pop_and_france`."
   ]
  },
  {
   "cell_type": "code",
   "execution_count": 31,
   "id": "c8b386ef-2ee1-4342-961a-0dc231c8767a",
   "metadata": {},
   "outputs": [
    {
     "data": {
      "text/html": [
       "<div>\n",
       "<style scoped>\n",
       "    .dataframe tbody tr th:only-of-type {\n",
       "        vertical-align: middle;\n",
       "    }\n",
       "\n",
       "    .dataframe tbody tr th {\n",
       "        vertical-align: top;\n",
       "    }\n",
       "\n",
       "    .dataframe thead th {\n",
       "        text-align: right;\n",
       "    }\n",
       "</style>\n",
       "<table border=\"1\" class=\"dataframe\">\n",
       "  <thead>\n",
       "    <tr style=\"text-align: right;\">\n",
       "      <th></th>\n",
       "      <th>City</th>\n",
       "      <th>Country</th>\n",
       "      <th>Emissions</th>\n",
       "      <th>Population</th>\n",
       "    </tr>\n",
       "  </thead>\n",
       "  <tbody>\n",
       "    <tr>\n",
       "      <th>1</th>\n",
       "      <td>Paris</td>\n",
       "      <td>France</td>\n",
       "      <td>50</td>\n",
       "      <td>25000</td>\n",
       "    </tr>\n",
       "    <tr>\n",
       "      <th>4</th>\n",
       "      <td>Nice</td>\n",
       "      <td>France</td>\n",
       "      <td>100</td>\n",
       "      <td>10000</td>\n",
       "    </tr>\n",
       "  </tbody>\n",
       "</table>\n",
       "</div>"
      ],
      "text/plain": [
       "    City Country  Emissions  Population\n",
       "1  Paris  France         50       25000\n",
       "4   Nice  France        100       10000"
      ]
     },
     "execution_count": 31,
     "metadata": {},
     "output_type": "execute_result"
    }
   ],
   "source": [
    "populations = df2['Population'] <= 50000\n",
    "country = df2['Country'] == 'France'\n",
    "pop_or_france = df2[populations & country] \n",
    "pop_or_france"
   ]
  },
  {
   "cell_type": "markdown",
   "id": "f28723e9-1c7a-4cd6-a6df-2b1f4d9d725c",
   "metadata": {},
   "source": [
    "#### 12. Create a function called `max_machine` that takes in one parameter, the name of a column `col_name`, and prints the `max()` value from the column"
   ]
  },
  {
   "cell_type": "code",
   "execution_count": 32,
   "id": "6d28dcd2-4dc7-450f-9bc3-d6ada2443f0a",
   "metadata": {},
   "outputs": [],
   "source": [
    "def max_machine(col_name):\n",
    "    print(df2[col_name].max())"
   ]
  },
  {
   "cell_type": "markdown",
   "id": "01276ded-7810-4559-90ea-c71cc18948ae",
   "metadata": {},
   "source": [
    "#### 13. Call the `max_machine` function you just made with the parameter 'Population'"
   ]
  },
  {
   "cell_type": "code",
   "execution_count": 33,
   "id": "e5203107-ae87-4ffe-8fd7-8f43f8a65827",
   "metadata": {},
   "outputs": [
    {
     "name": "stdout",
     "output_type": "stream",
     "text": [
      "800000\n"
     ]
    }
   ],
   "source": [
    "max_machine('Population')"
   ]
  },
  {
   "cell_type": "markdown",
   "id": "86d111b7-a12d-4a7c-83ac-66d1e7079fc9",
   "metadata": {},
   "source": [
    "#### 14. Create a function called `average_machine` that takes in two parameters: a dataframe, `df`, and a column, `col`. The function should print the average of the specified column of the specified dataframe."
   ]
  },
  {
   "cell_type": "code",
   "execution_count": 34,
   "id": "2ef4cf80-744d-4708-965f-0656c37a301d",
   "metadata": {},
   "outputs": [],
   "source": [
    "def average_machine(df, col):\n",
    "    print(df[col].mean())"
   ]
  },
  {
   "cell_type": "markdown",
   "id": "42ba9049-524e-4bfa-9366-4ddff3d54ba8",
   "metadata": {},
   "source": [
    "#### 15. Call the `average_machine` function you just made with parameters, \"df\" and \"'salary'\"."
   ]
  },
  {
   "cell_type": "code",
   "execution_count": 35,
   "id": "21db303e-aa2e-4abf-bc29-7e38c284856b",
   "metadata": {
    "tags": []
   },
   "outputs": [
    {
     "name": "stdout",
     "output_type": "stream",
     "text": [
      "8.0\n"
     ]
    }
   ],
   "source": [
    "average_machine(df, 'salary')"
   ]
  },
  {
   "cell_type": "markdown",
   "id": "ec95025c-65b9-4686-af18-db19d5ab0d38",
   "metadata": {},
   "source": [
    "#### 16. Call the `average_machine` function you just made with parameters, \"df2\" and \"'Emissions'\"."
   ]
  },
  {
   "cell_type": "code",
   "execution_count": 36,
   "id": "213bb28e-eb15-4967-a479-fb97e9ca650a",
   "metadata": {},
   "outputs": [
    {
     "name": "stdout",
     "output_type": "stream",
     "text": [
      "138.0\n"
     ]
    }
   ],
   "source": [
    "average_machine(df2, 'Emissions')"
   ]
  },
  {
   "cell_type": "markdown",
   "id": "88cc19c3-bc45-4d2b-97a8-2451b1a86872",
   "metadata": {},
   "source": [
    "#### CHALLENGE: Create a function called `emissions_per_capita` that PRINTS out the sentence \"CITY has NUM emissions per capita.\" for each city in the dataframe."
   ]
  },
  {
   "cell_type": "code",
   "execution_count": 37,
   "id": "5e4ea5ae-4bfc-4aec-87f7-ddbe029da0bb",
   "metadata": {},
   "outputs": [
    {
     "name": "stdout",
     "output_type": "stream",
     "text": [
      "New York has 0.00025 emissions per capita.\n",
      "Paris has 0.002 emissions per capita.\n",
      "Bejing has 0.0033333333333333335 emissions per capita.\n",
      "Seattle has 0.0008 emissions per capita.\n",
      "Nice has 0.01 emissions per capita.\n"
     ]
    }
   ],
   "source": [
    "def emissions_per_capita():\n",
    "    names = df2['City']\n",
    "    epc = df2['Emissions'] / df2['Population']\n",
    "    for i in range(len(names)):\n",
    "        print(str(names[i]) + \" has \" + str(epc[i]) + \" emissions per capita.\")\n",
    "        \n",
    "emissions_per_capita()"
   ]
  },
  {
   "cell_type": "code",
   "execution_count": null,
   "id": "f45f93b5-62e9-4040-afcc-2e96c7f23bb8",
   "metadata": {},
   "outputs": [],
   "source": []
  }
 ],
 "metadata": {
  "kernelspec": {
   "display_name": "Python 3 (ipykernel)",
   "language": "python",
   "name": "python3"
  },
  "language_info": {
   "codemirror_mode": {
    "name": "ipython",
    "version": 3
   },
   "file_extension": ".py",
   "mimetype": "text/x-python",
   "name": "python",
   "nbconvert_exporter": "python",
   "pygments_lexer": "ipython3",
   "version": "3.9.7"
  }
 },
 "nbformat": 4,
 "nbformat_minor": 5
}
