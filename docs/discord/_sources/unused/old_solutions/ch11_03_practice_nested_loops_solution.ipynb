{
 "cells": [
  {
   "cell_type": "markdown",
   "id": "686800d1-5135-4f6c-a127-18a1912a7c07",
   "metadata": {},
   "source": [
    "## Nested Loops Review"
   ]
  },
  {
   "cell_type": "markdown",
   "id": "d751e86d-43da-4193-ae59-a40dff01bfbf",
   "metadata": {},
   "source": [
    "#### 1. Use single for loop to access each LIST\n",
    "\n",
    "Below we have a list of lists. Use a single for loop to go through the main list and print out each of the lists inside of it.\n",
    "\n",
    "Your output should look like this: \n",
    "\n",
    "```\n",
    "['fish', 'squid', 'starfish']\n",
    "['shark', 'whale', 'turtle']\n",
    "```"
   ]
  },
  {
   "cell_type": "code",
   "execution_count": 1,
   "id": "5c035a4a-151c-4c8d-a688-70e5082e7c4c",
   "metadata": {},
   "outputs": [
    {
     "name": "stdout",
     "output_type": "stream",
     "text": [
      "['fish', 'squid', 'starfish']\n",
      "['shark', 'whale', 'turtle']\n"
     ]
    }
   ],
   "source": [
    "ocean_animals = [['fish', 'squid', 'starfish'], ['shark', 'whale', 'turtle']]\n",
    "# your code goes here \n",
    "\n",
    "for animal_list in ocean_animals:\n",
    "    print(animal_list)"
   ]
  },
  {
   "cell_type": "markdown",
   "id": "797ec2f7-a5ea-4e75-8d82-7911096cc800",
   "metadata": {},
   "source": [
    "#### 2. Use nested loops to access each ANIMAL\n",
    "\n",
    "Below we have the same list of lists. Use one for loop to go through the main list and then have inside of that another for loop to go through all the inside list and print out each animal\n",
    "\n",
    "Your output should look like this:\n",
    "\n",
    "```\n",
    "fish\n",
    "squid\n",
    "starfish\n",
    "shark\n",
    "whale\n",
    "turtle\n",
    "```"
   ]
  },
  {
   "cell_type": "code",
   "execution_count": 2,
   "id": "eb13f52e-a331-4240-909e-2716dcd9a184",
   "metadata": {},
   "outputs": [
    {
     "name": "stdout",
     "output_type": "stream",
     "text": [
      "fish\n",
      "squid\n",
      "starfish\n",
      "shark\n",
      "whale\n",
      "turtle\n"
     ]
    }
   ],
   "source": [
    "ocean_animals = [['fish', 'squid', 'starfish'], ['shark', 'whale', 'turtle']]\n",
    "# your code goes here \n",
    "\n",
    "for animal_list in ocean_animals:\n",
    "    for animal in animal_list:\n",
    "        print(animal)"
   ]
  },
  {
   "cell_type": "markdown",
   "id": "f6fe0ce2-77b1-400b-809e-2491c809198a",
   "metadata": {
    "tags": []
   },
   "source": [
    "#### 3. Print the following output:\n",
    "\n",
    "```\n",
    "1\n",
    "22\n",
    "333\n",
    "4444\n",
    "55555\n",
    "```\n",
    "Hints: \n",
    " * you can print a character without it going to the next line by setting end='': print(\"test\", end=' ')\n",
    " * Use one for loop to choose a number 1-6, and another for loop to print the number the right number of times\n",
    " * refer to the previous lab for help"
   ]
  },
  {
   "cell_type": "code",
   "execution_count": 3,
   "id": "371cc597-77ec-4d49-b864-6392c2af4187",
   "metadata": {},
   "outputs": [
    {
     "name": "stdout",
     "output_type": "stream",
     "text": [
      "1 \n",
      "2 2 \n",
      "3 3 3 \n",
      "4 4 4 4 \n",
      "5 5 5 5 5 \n"
     ]
    }
   ],
   "source": [
    "# your code goes here \n",
    "for i in range(1,6):\n",
    "    for j in range(i):\n",
    "        print(i, end=' ')\n",
    "    print()"
   ]
  },
  {
   "cell_type": "markdown",
   "id": "2ac559bf-f7c6-46da-bf62-6dc8f35e3206",
   "metadata": {},
   "source": [
    "#### 4. Create a function called `read`. Your goal is to read out the novel one word at a time until you find the word \"Waldo\".\n",
    "\n",
    "The `novel` is a list of strings, where each string is a sentence\n",
    "\n",
    "In the `read` function, go through each sentence and in each sentence print each word, waiting one second in between each print. If the word you printed was \"Waldo\", return the string, \"Waldo found!\" (note: the `return` will stop the function from reading any more of the novel).\n",
    "\n",
    "#### Make sure to call the function to check the result."
   ]
  },
  {
   "cell_type": "code",
   "execution_count": 2,
   "id": "fd0c35c3-a497-4ada-a101-0050734df1a8",
   "metadata": {},
   "outputs": [
    {
     "name": "stdout",
     "output_type": "stream",
     "text": [
      "There\n",
      "once\n",
      "was\n",
      "a\n",
      "boy.\n",
      "He\n",
      "had\n",
      "a\n",
      "particular\n",
      "style\n",
      "A\n",
      "red\n",
      "and\n",
      "white\n",
      "shirt\n",
      "Waldo\n",
      "wore\n",
      "Can't\n",
      "forget\n",
      "the\n",
      "glasses\n"
     ]
    }
   ],
   "source": [
    "import time\n",
    "\n",
    "novel = ['There once was a boy.', 'He had a particular style',\n",
    "         'A red and white shirt Waldo wore', 'Can\\'t forget the glasses']\n",
    "\n",
    "# your code goes here\n",
    "def read(novel):\n",
    "    for sentence in novel:\n",
    "        sentence_split = sentence.split()\n",
    "        for word in sentence_split:\n",
    "            print(word)\n",
    "            time.sleep(1)\n",
    "            if word == 'Waldo':\n",
    "                return 'Waldo found!'\n",
    "\n",
    "read(novel)"
   ]
  },
  {
   "cell_type": "markdown",
   "id": "e9c52df4-d8c6-40e3-ba6d-bfa9366b1a34",
   "metadata": {},
   "source": [
    "## Code Structures for replies"
   ]
  },
  {
   "cell_type": "markdown",
   "id": "19aacb19-6c59-40b0-b84c-880b32984faa",
   "metadata": {},
   "source": [
    "#### Comments and replies\n",
    "\n",
    "Let's imagine I made a post on a social media site and people were able to make comments on it, and people were also able to make replies to those comments.\n",
    "\n",
    "Below is code to save some comments and replies in a variable `post_comments`. The posta nd comments are saved as a list of dictionaries (where each dictionary has a 'text\"'and a list of 'replies')."
   ]
  },
  {
   "cell_type": "code",
   "execution_count": 9,
   "id": "e7e04914-6fad-43cb-8521-f4b480a94275",
   "metadata": {},
   "outputs": [
    {
     "data": {
      "text/plain": [
       "[{'text': 'Great article!', 'replies': ['Thanks!']},\n",
       " {'text': 'I actually preferred the 1994 Little Women movie',\n",
       "  'replies': ['Really? Why is that?',\n",
       "   'Because they had an actual kid playing young Amy']},\n",
       " {'text': 'I really liked the ending of the new one too!', 'replies': []}]"
      ]
     },
     "metadata": {},
     "output_type": "display_data"
    }
   ],
   "source": [
    "post_comments = [\n",
    "    { \n",
    "        'text': 'Great article!',\n",
    "        'replies': ['Thanks!']\n",
    "    }, { \n",
    "        'text': 'I actually preferred the 1994 Little Women movie',\n",
    "        'replies': [\n",
    "            'Really? Why is that?',\n",
    "            \"Because they had an actual kid playing young Amy\"\n",
    "        ]\n",
    "    }, { \n",
    "        'text': 'I really liked the ending of the new one too!',\n",
    "        'replies': []\n",
    "    }\n",
    "]\n",
    "\n",
    "display(post_comments)"
   ]
  },
  {
   "cell_type": "markdown",
   "id": "a911f06e-dc91-49be-8613-da2faf0875da",
   "metadata": {},
   "source": [
    "#### 5. Print out all comments. Write a for loop to go through all the post_comments and just print out the 'text' for each one\n",
    "\n",
    "Your output should look like this:\n",
    "\n",
    "```\n",
    "Great article!\n",
    "I actually preferred the 1994 Little Women movie\n",
    "I really liked the ending of the new one too!\n",
    "```"
   ]
  },
  {
   "cell_type": "code",
   "execution_count": 11,
   "id": "d85b9f0b-57d4-4c18-b10b-52bd0f5f5a9a",
   "metadata": {},
   "outputs": [
    {
     "name": "stdout",
     "output_type": "stream",
     "text": [
      "Great article!\n",
      "I actually preferred the 1994 Little Women movie\n",
      "I really liked the ending of the new one too!\n"
     ]
    }
   ],
   "source": [
    "for comment in post_comments:\n",
    "    print(comment['text'])"
   ]
  },
  {
   "cell_type": "markdown",
   "id": "7048b0cb-f1b4-4f0f-8deb-e3ac53c73a48",
   "metadata": {},
   "source": [
    "#### 6. Print out all comments and replies. Copy the for loop above, but add a for loop inside to loop over each of the replies and print those out too.\n",
    "\n",
    "Your output should look like this:\n",
    "\n",
    "```\n",
    "Great article!\n",
    "Thanks!\n",
    "I actually preferred the 1994 Little Women movie\n",
    "Really? Why is that?\n",
    "Because they had an actual kid playing young Amy\n",
    "I really liked the ending of the new one too!\n",
    "```"
   ]
  },
  {
   "cell_type": "code",
   "execution_count": 12,
   "id": "35a315f6-5569-4376-bd10-94c8be9d2ad2",
   "metadata": {},
   "outputs": [
    {
     "name": "stdout",
     "output_type": "stream",
     "text": [
      "Great article!\n",
      "Thanks!\n",
      "I actually preferred the 1994 Little Women movie\n",
      "Really? Why is that?\n",
      "Because they had an actual kid playing young Amy\n",
      "I really liked the ending of the new one too!\n"
     ]
    }
   ],
   "source": [
    "for comment in post_comments:\n",
    "    print(comment['text'])\n",
    "    for reply in comment['replies']:\n",
    "        print(reply)"
   ]
  },
  {
   "cell_type": "markdown",
   "id": "c58fcf5f-009f-4132-bfef-27e72e5d58de",
   "metadata": {},
   "source": [
    "#### 7. Print out comments and replies, but add 3 spaces and a dash (\"   -\") to the start of each reply\n",
    "\n",
    "Your output should look like this:\n",
    "```\n",
    "Great article!\n",
    "   - Thanks!\n",
    "I actually preferred the 1994 Little Women movie\n",
    "   - Really? Why is that?\n",
    "   - Because they had an actual kid playing young Amy\n",
    "I really liked the ending of the new one too!\n",
    "```"
   ]
  },
  {
   "cell_type": "code",
   "execution_count": 13,
   "id": "68f5bc43-c8b6-4ee3-a46b-29435be707fe",
   "metadata": {},
   "outputs": [
    {
     "name": "stdout",
     "output_type": "stream",
     "text": [
      "Great article!\n",
      "   - Thanks!\n",
      "I actually preferred the 1994 Little Women movie\n",
      "   - Really? Why is that?\n",
      "   - Because they had an actual kid playing young Amy\n",
      "I really liked the ending of the new one too!\n"
     ]
    }
   ],
   "source": [
    "for comment in post_comments:\n",
    "    print(comment['text'])\n",
    "    for reply in comment['replies']:\n",
    "        print(\"   - \" + reply)"
   ]
  },
  {
   "cell_type": "markdown",
   "id": "f1436704-32bb-423c-97ce-7d764a33e91e",
   "metadata": {},
   "source": [
    "## Structure of Tweets & Replies"
   ]
  },
  {
   "cell_type": "markdown",
   "id": "dfb244bf-b0bd-46af-bf50-fd645644563b",
   "metadata": {},
   "source": [
    "Lets say we want to search through the replies of tweets. Visualized, the structure may look something like this:\n",
    "\n",
    "```\n",
    "                            TWEET #1                         LAYER #1\n",
    "                          /          \\\n",
    "                         /            \\\n",
    "                 TWEET #2           TWEET #3                  LAYER #2\n",
    "               /         \\        /         \\\n",
    "              /           \\      /           \\\n",
    "       TWEET #4     TWEET #5    TWEET #6     TWEET #7         LAYER #3\n",
    "      /       \\     /      \\    /      \\     /      \\\n",
    "     /         \\   /        \\  /        \\   /        \\\n",
    "    \n",
    "    ...                                                     \n",
    "                 \n",
    "```"
   ]
  },
  {
   "cell_type": "markdown",
   "id": "0665bc8d-0d39-4bf5-b362-9ae4ec4f677c",
   "metadata": {},
   "source": [
    "#### Breaking it down:\n",
    "    \n",
    "- TWEET #1 is the original tweet tweet. It is NOT a reply to any tweet. In programming terms, we call it the \"root.\"\n",
    "- TWEET #2 AND TWEET #3 are both replies to TWEET #1\n",
    "- TWEET #4 AND TWEET #5 are both replies to TWEET #2\n",
    "- TWEET #6 AND TWEET #7 are both replies to TWEET #3\n",
    "- The ellipsis means that there might be an infinite number of layers with replies to tweets & replies to replies\n",
    "\n",
    "The pseudo-code below (not real code to run) shows one way we might try to go through all of the tweets:"
   ]
  },
  {
   "cell_type": "code",
   "execution_count": null,
   "id": "7cfe7024-928b-4ac5-a43c-181a5e9b71e3",
   "metadata": {},
   "outputs": [],
   "source": [
    "# pseudo-code \n",
    "# do not run this code block:\n",
    "\n",
    "for each_reply in TWEET_1:                    # represents going through layer #1\n",
    "    for next_replies1 in each_reply:              # layer #2\n",
    "        for next_replies2 in next_replies1:          # layer #3\n",
    "            for next_replies3 in next_replies2:         # layer 4\n",
    "                for next_replies3 in next_replies2:        \n",
    "                    etc..........\n",
    "                    \n",
    "                    print(The text of the tweet)"
   ]
  },
  {
   "cell_type": "markdown",
   "id": "7de8ceba-c319-46a0-9280-ed90e73f4b3e",
   "metadata": {},
   "source": [
    "#### 8. Reflect on the psuedo-code above. How practical is it going to be to write code like this for large twitter threads?"
   ]
  },
  {
   "cell_type": "code",
   "execution_count": null,
   "id": "cf5e1f74-02db-4ddf-a453-cb1f5a026bc5",
   "metadata": {},
   "outputs": [],
   "source": [
    "# your own reflection"
   ]
  }
 ],
 "metadata": {
  "kernelspec": {
   "display_name": "Python 3 (ipykernel)",
   "language": "python",
   "name": "python3"
  },
  "language_info": {
   "codemirror_mode": {
    "name": "ipython",
    "version": 3
   },
   "file_extension": ".py",
   "mimetype": "text/x-python",
   "name": "python",
   "nbconvert_exporter": "python",
   "pygments_lexer": "ipython3",
   "version": "3.9.7"
  }
 },
 "nbformat": 4,
 "nbformat_minor": 5
}
