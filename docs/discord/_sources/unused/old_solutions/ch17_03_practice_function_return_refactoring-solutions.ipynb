{
 "cells": [
  {
   "cell_type": "markdown",
   "id": "da98fd1f-2e31-491b-a67b-307df7269395",
   "metadata": {},
   "source": [
    "# Functions"
   ]
  },
  {
   "cell_type": "markdown",
   "id": "256848e5-cc26-450f-8a56-56542e986223",
   "metadata": {},
   "source": [
    "### PRINT vs RETURN"
   ]
  },
  {
   "cell_type": "markdown",
   "id": "d0512e58-ed7b-4a43-a737-50267c31d65f",
   "metadata": {},
   "source": [
    "#### `print` shows a string representing what is going on inside the computer. The computer cannot make use of that printing. `return` is how a function gives back a value. This value is often unseen by the human user, but it can be used by the computer in further functions."
   ]
  },
  {
   "cell_type": "markdown",
   "id": "dbe0eec5-1a26-4513-ae77-cb819dd9ce16",
   "metadata": {},
   "source": [
    "### Let's first go over print"
   ]
  },
  {
   "cell_type": "code",
   "execution_count": 40,
   "id": "a9c2a2d8-e9bf-4485-bd3d-63b10b190a81",
   "metadata": {},
   "outputs": [
    {
     "name": "stdout",
     "output_type": "stream",
     "text": [
      "hello world\n"
     ]
    }
   ],
   "source": [
    "# example of print:\n",
    "\n",
    "# defining the function\n",
    "def hello_world1():\n",
    "    print('hello world')\n",
    "    \n",
    "# calling a function\n",
    "hello_world1()"
   ]
  },
  {
   "cell_type": "code",
   "execution_count": 41,
   "id": "f4ddb2db-2194-46b3-a4b8-bed4b597bc5a",
   "metadata": {},
   "outputs": [
    {
     "name": "stdout",
     "output_type": "stream",
     "text": [
      "50625\n",
      "\n",
      "ODD\n"
     ]
    }
   ],
   "source": [
    "# another example of print:\n",
    "\n",
    "# defining the function\n",
    "def function_example2(a,b):\n",
    "    print(15 ** a)\n",
    "    print()\n",
    "    if b % 2 == 0:\n",
    "        print('EVEN')\n",
    "    else:\n",
    "        print('ODD')\n",
    "        \n",
    "# calling a function        \n",
    "function_example2(4,15)"
   ]
  },
  {
   "cell_type": "code",
   "execution_count": 42,
   "id": "5ba5ef75-ee98-4a2c-a182-1f6e73f30217",
   "metadata": {},
   "outputs": [],
   "source": [
    "# another example of print (using default arguments):\n",
    "\n",
    "# defining the function\n",
    "def function_example3(a=5,b=3):\n",
    "    print(a * b)\n"
   ]
  },
  {
   "cell_type": "code",
   "execution_count": 43,
   "id": "a971a0f0-7547-49a2-bf42-4ce9fb87c707",
   "metadata": {
    "tags": []
   },
   "outputs": [
    {
     "name": "stdout",
     "output_type": "stream",
     "text": [
      "1050\n"
     ]
    }
   ],
   "source": [
    "# calling the function, specifying the parameters\n",
    "\n",
    "function_example3(15, 70)"
   ]
  },
  {
   "cell_type": "code",
   "execution_count": 44,
   "id": "c75e79ac-bc8e-469f-aefc-9fbe60c8e577",
   "metadata": {},
   "outputs": [
    {
     "name": "stdout",
     "output_type": "stream",
     "text": [
      "15\n"
     ]
    }
   ],
   "source": [
    "# calling the function, NOT specifying the parameters\n",
    "\n",
    "function_example3()"
   ]
  },
  {
   "cell_type": "markdown",
   "id": "138140a9-176b-43e1-8f2a-05aa5529a75e",
   "metadata": {},
   "source": [
    "#### Printing can be super useful visually, but functions are most often used to get values and use them with other code which you can't do wth printing"
   ]
  },
  {
   "cell_type": "code",
   "execution_count": 45,
   "id": "a4acff3c-f690-444a-b868-038f94321a10",
   "metadata": {},
   "outputs": [
    {
     "name": "stdout",
     "output_type": "stream",
     "text": [
      "15\n"
     ]
    },
    {
     "ename": "TypeError",
     "evalue": "unsupported operand type(s) for +: 'NoneType' and 'int'",
     "output_type": "error",
     "traceback": [
      "\u001b[0;31m---------------------------------------------------------------------------\u001b[0m",
      "\u001b[0;31mTypeError\u001b[0m                                 Traceback (most recent call last)",
      "\u001b[0;32m/tmp/ipykernel_107/1611019659.py\u001b[0m in \u001b[0;36m<module>\u001b[0;34m\u001b[0m\n\u001b[1;32m      8\u001b[0m \u001b[0;34m\u001b[0m\u001b[0m\n\u001b[1;32m      9\u001b[0m \u001b[0;31m# calling the function & trying to add 30 to the output\u001b[0m\u001b[0;34m\u001b[0m\u001b[0;34m\u001b[0m\u001b[0m\n\u001b[0;32m---> 10\u001b[0;31m \u001b[0mfunction_example4\u001b[0m\u001b[0;34m(\u001b[0m\u001b[0;36m5\u001b[0m\u001b[0;34m,\u001b[0m\u001b[0;36m10\u001b[0m\u001b[0;34m)\u001b[0m \u001b[0;34m+\u001b[0m \u001b[0;36m30\u001b[0m\u001b[0;34m\u001b[0m\u001b[0;34m\u001b[0m\u001b[0m\n\u001b[0m",
      "\u001b[0;31mTypeError\u001b[0m: unsupported operand type(s) for +: 'NoneType' and 'int'"
     ]
    }
   ],
   "source": [
    "# try out the following example where we try adding 30 to the output of the function\n",
    "# ... you should get an error!\n",
    "\n",
    "#defining the function\n",
    "def function_example4(a,b):\n",
    "    print(a + b)\n",
    "    \n",
    "    \n",
    "# calling the function & trying to add 30 to the output\n",
    "function_example4(5,10) + 30   "
   ]
  },
  {
   "cell_type": "markdown",
   "id": "be45b452-854e-4948-a27a-8e2dff563c40",
   "metadata": {},
   "source": [
    "##### ^Notice how the output still gets printed, but the error occurs when we try to add 30."
   ]
  },
  {
   "cell_type": "markdown",
   "id": "3b05e248-45a3-43e5-8184-2ca771a8af88",
   "metadata": {},
   "source": [
    "### Before we move on, let's do some function practice."
   ]
  },
  {
   "cell_type": "markdown",
   "id": "ff166fdd-fa50-4156-85a5-ea07077ef6c8",
   "metadata": {},
   "source": [
    "#### 1. Create a function of your choice without a parameter."
   ]
  },
  {
   "cell_type": "code",
   "execution_count": 46,
   "id": "24e0cf94-6014-40ca-ab9b-ce3ab93ad3cc",
   "metadata": {},
   "outputs": [],
   "source": [
    "def name():\n",
    "    first_name = 'Bob'\n",
    "    last_name = 'Smith'\n",
    "    full_name = first_name + ' ' + last_name\n",
    "    print(full_name)"
   ]
  },
  {
   "cell_type": "markdown",
   "id": "5b890410-9d74-4d76-a7cd-0506516ee7ca",
   "metadata": {},
   "source": [
    "#### 2. Call that function."
   ]
  },
  {
   "cell_type": "code",
   "execution_count": 47,
   "id": "d362cb91-e43a-4ba1-b09f-5bf4c50a8f7b",
   "metadata": {},
   "outputs": [
    {
     "name": "stdout",
     "output_type": "stream",
     "text": [
      "Bob Smith\n"
     ]
    }
   ],
   "source": [
    "name()"
   ]
  },
  {
   "cell_type": "markdown",
   "id": "83207f1e-d4e8-4786-9ee3-1343ad6f8f57",
   "metadata": {},
   "source": [
    "#### 3. Create a function of your choice WITH a parameter."
   ]
  },
  {
   "cell_type": "code",
   "execution_count": 54,
   "id": "562e7769-ec0e-442d-8cb6-b18e5135f26e",
   "metadata": {},
   "outputs": [],
   "source": [
    "def name(fname, lname):\n",
    "    first_name = fname\n",
    "    last_name = lname\n",
    "    full_name = first_name + ' ' + last_name + ' loves pizza.'\n",
    "    print(full_name)"
   ]
  },
  {
   "cell_type": "markdown",
   "id": "643c224c-fe28-4192-9aee-00f839574be7",
   "metadata": {},
   "source": [
    "#### 4. Call that function"
   ]
  },
  {
   "cell_type": "code",
   "execution_count": 55,
   "id": "0cf3ab64-fb16-4fa0-a258-e6a1cbf39c16",
   "metadata": {},
   "outputs": [
    {
     "name": "stdout",
     "output_type": "stream",
     "text": [
      "Kim Kardashian loves pizza.\n"
     ]
    }
   ],
   "source": [
    "name('Kim', 'Kardashian')"
   ]
  },
  {
   "cell_type": "markdown",
   "id": "332c9adc-c909-434e-a36b-93f0943a96ba",
   "metadata": {},
   "source": [
    "#### 5. Create a function with 3 parameters AND specifying default values for each one."
   ]
  },
  {
   "cell_type": "code",
   "execution_count": 56,
   "id": "f262b1ac-a168-4901-8c6e-389f16aaa843",
   "metadata": {},
   "outputs": [],
   "source": [
    "def calculations(num1=5, num2=10, num3=25):\n",
    "    output = num1 + num2\n",
    "    output = output * num3\n",
    "    output = output ** num1\n",
    "    print(output)"
   ]
  },
  {
   "cell_type": "markdown",
   "id": "d88ffa04-dcb3-45be-91c2-ca1ad2053a16",
   "metadata": {},
   "source": [
    "#### 6. Call that function, specifying all 3 parameters."
   ]
  },
  {
   "cell_type": "code",
   "execution_count": 57,
   "id": "1a722d02-3fed-4e29-aaf9-135175842baf",
   "metadata": {},
   "outputs": [
    {
     "name": "stdout",
     "output_type": "stream",
     "text": [
      "175616\n"
     ]
    }
   ],
   "source": [
    "calculations(3,5,7)"
   ]
  },
  {
   "cell_type": "markdown",
   "id": "28c2c105-cf2a-4500-a3cc-36c4b9fc7f3b",
   "metadata": {},
   "source": [
    "#### 7. Call that function again. This time, leave the parenthesis empty."
   ]
  },
  {
   "cell_type": "code",
   "execution_count": 58,
   "id": "4e4087b2-0956-4c36-a0e1-e07ec4e8be48",
   "metadata": {},
   "outputs": [
    {
     "name": "stdout",
     "output_type": "stream",
     "text": [
      "7415771484375\n"
     ]
    }
   ],
   "source": [
    "calculations()"
   ]
  },
  {
   "cell_type": "markdown",
   "id": "a86dd902-aeda-46f5-b556-c140b7f11803",
   "metadata": {},
   "source": [
    "### Now let's go over Returns"
   ]
  },
  {
   "cell_type": "markdown",
   "id": "ab6a9170-3b96-4157-a14b-21f65192a91c",
   "metadata": {},
   "source": [
    "A return statement is used to end the execution of the function call and “returns” the result to the caller. The statements after the return are NOT executed.\n",
    "\n",
    "Example:\n",
    "\n",
    "```\n",
    "def fun():\n",
    "    STATEMENT\n",
    "    STATEMENT\n",
    "    STATEMENT\n",
    "    return [expression]\n",
    "```"
   ]
  },
  {
   "cell_type": "markdown",
   "id": "0dea17cc-215e-4b24-9cb7-f35287d730d1",
   "metadata": {},
   "source": [
    "#### The following example is based on the previous hello_world example. Instead of printing hello world, we RETURN it."
   ]
  },
  {
   "cell_type": "code",
   "execution_count": 59,
   "id": "07cdafa8-fe63-4872-868c-3d9d60b3e41a",
   "metadata": {},
   "outputs": [],
   "source": [
    "# Try out this example:\n",
    "\n",
    "def hello_world2():\n",
    "    return 'Hello World'"
   ]
  },
  {
   "cell_type": "code",
   "execution_count": 60,
   "id": "34a79a9d-8cb6-4bdd-94ac-d92002c54a50",
   "metadata": {},
   "outputs": [
    {
     "data": {
      "text/plain": [
       "'Hello World'"
      ]
     },
     "execution_count": 60,
     "metadata": {},
     "output_type": "execute_result"
    }
   ],
   "source": [
    "# Try calling the function and see what happens.\n",
    "hello_world2()"
   ]
  },
  {
   "cell_type": "code",
   "execution_count": 61,
   "id": "7aae2bc5-68b0-499f-b5a2-faa154656d27",
   "metadata": {},
   "outputs": [
    {
     "name": "stdout",
     "output_type": "stream",
     "text": [
      "Hello World\n"
     ]
    }
   ],
   "source": [
    "# Try running this code block and see what happens.\n",
    "print(hello_world2())"
   ]
  },
  {
   "cell_type": "markdown",
   "id": "1dc2b9e1-8444-4aa9-914b-dad77f5c5477",
   "metadata": {},
   "source": [
    "#### 8. Describe the difference between the previous two code blocks in the markdown block below."
   ]
  },
  {
   "cell_type": "code",
   "execution_count": null,
   "id": "3e8a378e-6cfd-4f80-bf76-85d6eef6b7ed",
   "metadata": {},
   "outputs": [],
   "source": [
    "# your own observation"
   ]
  },
  {
   "cell_type": "markdown",
   "id": "02e4fa92-81ee-4e67-9e1a-e4f5972c88c7",
   "metadata": {},
   "source": [
    "#### We can store function calls in variables"
   ]
  },
  {
   "cell_type": "code",
   "execution_count": 62,
   "id": "985cb85c-92f6-42a1-9d7a-df6518e33dd9",
   "metadata": {},
   "outputs": [
    {
     "name": "stdout",
     "output_type": "stream",
     "text": [
      "Hello World\n",
      "\n",
      "Hello World! It's a beautiful day.\n"
     ]
    }
   ],
   "source": [
    "# try out this example\n",
    "\n",
    "# storing hello_world2() in a variable, and printing that variable\n",
    "hello_variable = hello_world2()\n",
    "print(hello_variable)\n",
    "\n",
    "print()\n",
    "\n",
    "# adding onto the \"hello_variable\" variable & printing it out\n",
    "hello_variable = hello_variable + \"! It's a beautiful day.\"\n",
    "print(hello_variable)"
   ]
  },
  {
   "cell_type": "markdown",
   "id": "e4eab2fd-86fe-4b22-b35e-40e31a94aad3",
   "metadata": {},
   "source": [
    "#### The following code block demonstrates the same example, except with the original print function"
   ]
  },
  {
   "cell_type": "code",
   "execution_count": 63,
   "id": "26c45611-7385-4129-822f-3ae4b67957ca",
   "metadata": {},
   "outputs": [
    {
     "name": "stdout",
     "output_type": "stream",
     "text": [
      "hello world\n",
      "None\n"
     ]
    }
   ],
   "source": [
    "# try out this example using PRINT\n",
    "\n",
    "def hello_world1():\n",
    "    print('hello world')\n",
    "\n",
    "# storing hello_world1() in a variable, and printing that variable\n",
    "hello_variable = hello_world1()\n",
    "print(hello_variable)"
   ]
  },
  {
   "cell_type": "markdown",
   "id": "4093d357-c315-46fa-95bc-007baeb38e1c",
   "metadata": {},
   "source": [
    "##### ^Note how the `hello_world1()` runs and prints \"hello world\", but it doesn't get saved into the `hello_variable`. Therefore, when we try to print out the variable, we get \"None\"."
   ]
  },
  {
   "cell_type": "code",
   "execution_count": 64,
   "id": "ec1a1783-7b37-424c-99af-0b2bf3898e54",
   "metadata": {},
   "outputs": [
    {
     "data": {
      "text/plain": [
       "5.0"
      ]
     },
     "execution_count": 64,
     "metadata": {},
     "output_type": "execute_result"
    }
   ],
   "source": [
    "# try out this example:\n",
    "\n",
    "def divide_func(a, b):\n",
    "    return a / b\n",
    "\n",
    "# ----------------------------------\n",
    "\n",
    "var_a = 35\n",
    "var_b = 7\n",
    "divided = divide_func(var_a, var_b)\n",
    "divided"
   ]
  },
  {
   "cell_type": "code",
   "execution_count": 66,
   "id": "8c470616-811a-4867-ba66-f223fa0c10ba",
   "metadata": {},
   "outputs": [
    {
     "name": "stdout",
     "output_type": "stream",
     "text": [
      "70\n",
      "-30\n"
     ]
    }
   ],
   "source": [
    "# Try out this example:\n",
    "\n",
    "def add_func(a, b):\n",
    "    return a + b\n",
    "\n",
    "\n",
    "def sub_func(a, b):\n",
    "    return a - b\n",
    "\n",
    "# ----------------------------------\n",
    "\n",
    "var_a = 50\n",
    "var_b = 20\n",
    "output = add_func(var_a, var_b)\n",
    "print(output)\n",
    "\n",
    "var_c = 100\n",
    "updated_output = sub_func(output, var_c)\n",
    "print(updated_output)"
   ]
  },
  {
   "cell_type": "markdown",
   "id": "f2f7c081-2b37-40a7-ab3c-ab4f5a5eb2d1",
   "metadata": {},
   "source": [
    "#### 9. Create a function that takes in a list of integers and returns the sum of all the numbers.\n",
    "\n",
    "#### *Hints: use a variable to keep track of the \"sum\", loop through the list to access each number."
   ]
  },
  {
   "cell_type": "code",
   "execution_count": 67,
   "id": "c3affeda-82a5-4fae-a9b7-baf5c73cd218",
   "metadata": {},
   "outputs": [],
   "source": [
    "def sum_func(num_list):\n",
    "    sum_var = 0\n",
    "    for i in num_list:\n",
    "        sum_var += i\n",
    "    return sum_var"
   ]
  },
  {
   "cell_type": "markdown",
   "id": "c86c445a-ff55-429d-9f32-888a31086346",
   "metadata": {},
   "source": [
    "#### 10. Call the function and assign it to the variable `summed`. Print out the variable."
   ]
  },
  {
   "cell_type": "code",
   "execution_count": 73,
   "id": "a8f3aa5d-1130-42ee-8d28-4418bd185746",
   "metadata": {},
   "outputs": [
    {
     "name": "stdout",
     "output_type": "stream",
     "text": [
      "219\n"
     ]
    }
   ],
   "source": [
    "summed = sum_func([14,64,23,19,99])\n",
    "print(summed)"
   ]
  },
  {
   "cell_type": "markdown",
   "id": "4f4d23c3-3b5b-4f51-aace-1c474238c7e4",
   "metadata": {},
   "source": [
    "#### 11. Add 55 to the `summed` variable and reassign it back to the same variable. Print out the variable."
   ]
  },
  {
   "cell_type": "code",
   "execution_count": 74,
   "id": "928bebb3-50ce-4e9f-96de-0d18c8560715",
   "metadata": {},
   "outputs": [
    {
     "name": "stdout",
     "output_type": "stream",
     "text": [
      "274\n"
     ]
    }
   ],
   "source": [
    "summed = summed + 55\n",
    "print(summed)"
   ]
  },
  {
   "cell_type": "markdown",
   "id": "441f78f0-b206-4c82-8dd8-b565fed91593",
   "metadata": {},
   "source": [
    "## Refactoring"
   ]
  },
  {
   "cell_type": "markdown",
   "id": "8852c63b-7f66-45d5-b957-65d79b93d1a1",
   "metadata": {},
   "source": [
    "Refactoring is the technique of changing an application so that it behaves the same way on the outside (output), but INTERNALLY (code) has improved. We often do this by creating functions to avoid repetitive actions, improve efficiency in our code, and prevent human error."
   ]
  },
  {
   "cell_type": "markdown",
   "id": "e801eb33-d0b3-4efe-a5d4-cccf1aa6ec19",
   "metadata": {},
   "source": [
    "#### Check out the example below where the program prints out a pattern"
   ]
  },
  {
   "cell_type": "code",
   "execution_count": 56,
   "id": "76eccc10-1065-400f-9cf4-91cba9003946",
   "metadata": {},
   "outputs": [
    {
     "name": "stdout",
     "output_type": "stream",
     "text": [
      "* \n",
      "* * \n",
      "* * * \n",
      "* * * * \n",
      "* * * * * \n",
      "|*~ |*~ |*~ |*~ |*~ \n",
      "|*~ |*~ |*~ |*~ |*~ \n",
      "|*~ |*~ |*~ |*~ |*~ \n",
      "|*~ |*~ |*~ |*~ |*~ \n",
      "|*~ |*~ |*~ |*~ |*~ \n",
      "|*~ |*~ |*~ |*~ |*~ \n",
      "|*~ |*~ |*~ |*~ |*~ \n",
      "|*~ |*~ |*~ |*~ |*~ \n",
      "|*~ |*~ |*~ |*~ |*~ \n",
      "|*~ |*~ |*~ |*~ |*~ \n",
      "<> \n",
      "<> <> \n",
      "<> <> <> \n",
      "<> <> <> <> \n",
      "<> <> <> <> <> \n",
      "<> <> <> <> <> <> \n",
      "<> <> <> <> <> <> <> \n",
      "<> <> <> <> <> <> <> <> \n",
      "* \n",
      "* * \n",
      "* * * \n",
      "* * * * \n",
      "* * * * * \n",
      "<> \n",
      "<> <> \n",
      "<> <> <> \n",
      "<> <> <> <> \n",
      "<> <> <> <> <> \n",
      "<> <> <> <> <> <> \n",
      "<> <> <> <> <> <> <> \n",
      "<> <> <> <> <> <> <> <> \n",
      "-------------------------\n",
      "|X|X|X|X|X|X|X|X|X|X|X|X|\n",
      "-------------------------\n",
      "-------------------------\n",
      "|X|X|X|X|X|X|X|X|X|X|X|X|\n",
      "-------------------------\n",
      "* \n",
      "* * \n",
      "* * * \n",
      "* * * * \n",
      "* * * * * \n",
      "<> \n",
      "<> <> \n",
      "<> <> <> \n",
      "<> <> <> <> \n",
      "<> <> <> <> <> \n",
      "<> <> <> <> <> <> \n",
      "<> <> <> <> <> <> <> \n",
      "<> <> <> <> <> <> <> <> \n",
      "|*~ |*~ |*~ |*~ |*~ \n",
      "|*~ |*~ |*~ |*~ |*~ \n",
      "|*~ |*~ |*~ |*~ |*~ \n",
      "|*~ |*~ |*~ |*~ |*~ \n",
      "|*~ |*~ |*~ |*~ |*~ \n",
      "|*~ |*~ |*~ |*~ |*~ \n",
      "|*~ |*~ |*~ |*~ |*~ \n",
      "|*~ |*~ |*~ |*~ |*~ \n",
      "|*~ |*~ |*~ |*~ |*~ \n",
      "|*~ |*~ |*~ |*~ |*~ \n",
      "* \n",
      "* * \n",
      "* * * \n",
      "* * * * \n",
      "* * * * * \n"
     ]
    }
   ],
   "source": [
    "# run this code block\n",
    "\n",
    "\n",
    "# stars\n",
    "for i in range(0,5):\n",
    "    for j in range(0, i+1):\n",
    "        print(\"* \",end=\"\")\n",
    "    print(\"\\r\")\n",
    "\n",
    "# squiggles\n",
    "for i in range(0,10):\n",
    "    for j in range(0, 5):\n",
    "        print(\"|*~ \",end=\"\")\n",
    "    print(\"\\r\")\n",
    "\n",
    "# diamonds\n",
    "for i in range(0,8):\n",
    "    for j in range(0, i+1):\n",
    "        print(\"<> \",end=\"\")\n",
    "    print(\"\\r\")    \n",
    "\n",
    "# stars\n",
    "for i in range(0,5):\n",
    "    for j in range(0, i+1):\n",
    "        print(\"* \",end=\"\")\n",
    "    print(\"\\r\")\n",
    "    \n",
    "# diamonds\n",
    "for i in range(0,8):\n",
    "    for j in range(0, i+1):\n",
    "        print(\"<> \",end=\"\")\n",
    "    print(\"\\r\")\n",
    "\n",
    "# line division\n",
    "for i in range(2):\n",
    "    for j in range(25):\n",
    "        print(\"-\",end=\"\")\n",
    "    print(\"\\r\")\n",
    "    for k in range(12):\n",
    "        print(\"|X\",end=\"\")\n",
    "    print(\"|\")\n",
    "    for l in range(25):\n",
    "        print(\"-\",end=\"\")\n",
    "    print(\"\\r\")\n",
    "    \n",
    "# stars    \n",
    "for i in range(0,5):\n",
    "    for j in range(0, i+1):\n",
    "        print(\"* \",end=\"\")\n",
    "    print(\"\\r\")\n",
    "    \n",
    "# diamonds\n",
    "for i in range(0,8):\n",
    "    for j in range(0, i+1):\n",
    "        print(\"<> \",end=\"\")\n",
    "    print(\"\\r\")\n",
    "\n",
    "# squiggles\n",
    "for i in range(0,10):\n",
    "    for j in range(0, 5):\n",
    "        print(\"|*~ \",end=\"\")\n",
    "    print(\"\\r\")\n",
    "    \n",
    "# stars    \n",
    "for i in range(0,5):\n",
    "    for j in range(0, i+1):\n",
    "        print(\"* \",end=\"\")\n",
    "    print(\"\\r\")\n"
   ]
  },
  {
   "cell_type": "markdown",
   "id": "5d4e22c4-3dad-49f5-8626-5e598ccb34f7",
   "metadata": {},
   "source": [
    "#### 12. Look over the code and the output. Explain some repetitive patterns you notice."
   ]
  },
  {
   "cell_type": "code",
   "execution_count": 76,
   "id": "53f4b649-d461-4370-be7c-d64a7b0dfb62",
   "metadata": {},
   "outputs": [],
   "source": [
    "# write whatever you notice, we're not looking for a particular answer"
   ]
  },
  {
   "cell_type": "markdown",
   "id": "52d1ea27-9d03-4ae8-ad2d-481fce05c7ec",
   "metadata": {},
   "source": [
    "#### Check out the code block below, where we refactor the previous code block."
   ]
  },
  {
   "cell_type": "code",
   "execution_count": 59,
   "id": "1a4ffe21-1ac0-4027-bf81-b37568b2f49b",
   "metadata": {},
   "outputs": [
    {
     "name": "stdout",
     "output_type": "stream",
     "text": [
      "* \n",
      "* * \n",
      "* * * \n",
      "* * * * \n",
      "* * * * * \n",
      "|*~ |*~ |*~ |*~ |*~ \n",
      "|*~ |*~ |*~ |*~ |*~ \n",
      "|*~ |*~ |*~ |*~ |*~ \n",
      "|*~ |*~ |*~ |*~ |*~ \n",
      "|*~ |*~ |*~ |*~ |*~ \n",
      "|*~ |*~ |*~ |*~ |*~ \n",
      "|*~ |*~ |*~ |*~ |*~ \n",
      "|*~ |*~ |*~ |*~ |*~ \n",
      "|*~ |*~ |*~ |*~ |*~ \n",
      "|*~ |*~ |*~ |*~ |*~ \n",
      "<> \n",
      "<> <> \n",
      "<> <> <> \n",
      "<> <> <> <> \n",
      "<> <> <> <> <> \n",
      "<> <> <> <> <> <> \n",
      "<> <> <> <> <> <> <> \n",
      "<> <> <> <> <> <> <> <> \n",
      "* \n",
      "* * \n",
      "* * * \n",
      "* * * * \n",
      "* * * * * \n",
      "<> \n",
      "<> <> \n",
      "<> <> <> \n",
      "<> <> <> <> \n",
      "<> <> <> <> <> \n",
      "<> <> <> <> <> <> \n",
      "<> <> <> <> <> <> <> \n",
      "<> <> <> <> <> <> <> <> \n",
      "-------------------------\n",
      "|X|X|X|X|X|X|X|X|X|X|X|X|\n",
      "-------------------------\n",
      "-------------------------\n",
      "|X|X|X|X|X|X|X|X|X|X|X|X|\n",
      "-------------------------\n",
      "* \n",
      "* * \n",
      "* * * \n",
      "* * * * \n",
      "* * * * * \n",
      "<> \n",
      "<> <> \n",
      "<> <> <> \n",
      "<> <> <> <> \n",
      "<> <> <> <> <> \n",
      "<> <> <> <> <> <> \n",
      "<> <> <> <> <> <> <> \n",
      "<> <> <> <> <> <> <> <> \n",
      "|*~ |*~ |*~ |*~ |*~ \n",
      "|*~ |*~ |*~ |*~ |*~ \n",
      "|*~ |*~ |*~ |*~ |*~ \n",
      "|*~ |*~ |*~ |*~ |*~ \n",
      "|*~ |*~ |*~ |*~ |*~ \n",
      "|*~ |*~ |*~ |*~ |*~ \n",
      "|*~ |*~ |*~ |*~ |*~ \n",
      "|*~ |*~ |*~ |*~ |*~ \n",
      "|*~ |*~ |*~ |*~ |*~ \n",
      "|*~ |*~ |*~ |*~ |*~ \n"
     ]
    }
   ],
   "source": [
    "# refactored version:\n",
    "\n",
    "# run this code block\n",
    "\n",
    "size = 5\n",
    "\n",
    "\n",
    "def squiggles():\n",
    "    for i in range(0,10):\n",
    "        for j in range(0, 5):\n",
    "            print(\"|*~ \",end=\"\")\n",
    "        print(\"\\r\")\n",
    "\n",
    "def stars():\n",
    "    for i in range(0,5):\n",
    "        for j in range(0, i+1):\n",
    "            print(\"* \",end=\"\")\n",
    "        print(\"\\r\")\n",
    "\n",
    "def line_division():\n",
    "    for i in range(2):\n",
    "        for j in range(25):\n",
    "            print(\"-\",end=\"\")\n",
    "        print(\"\\r\")\n",
    "        for k in range(12):\n",
    "            print(\"|X\",end=\"\")\n",
    "        print(\"|\")\n",
    "        for l in range(25):\n",
    "            print(\"-\",end=\"\")\n",
    "        print(\"\\r\")\n",
    "    \n",
    "def diamonds():\n",
    "    for i in range(0,8):\n",
    "        for j in range(0, i+1):\n",
    "            print(\"<> \",end=\"\")\n",
    "        print(\"\\r\")\n",
    "        \n",
    "def pattern():\n",
    "    stars()\n",
    "    squiggles()\n",
    "    diamonds()\n",
    "    stars()\n",
    "    diamonds()\n",
    "    line_division()\n",
    "    stars()\n",
    "    diamonds()\n",
    "    squiggles()\n",
    "    \n",
    "    \n",
    "pattern()    # the output should look exactle the same"
   ]
  },
  {
   "cell_type": "markdown",
   "id": "cd229e07-87a5-4100-b336-ef7e9f2eac6b",
   "metadata": {},
   "source": [
    "##### ^ Notice how the output is exactly the same as above. \n",
    "\n",
    "##### We simplified the code: Instead of writing out the same code and printing out repetitive patterns, we put the code that repeats in <b>functions</b> and just called those functions whenever we wanted to print the same pattern."
   ]
  },
  {
   "cell_type": "markdown",
   "id": "ad35c2a1-17ec-441f-94f2-e203026e4597",
   "metadata": {},
   "source": [
    "### 13. YOU TRY: Create your own image using various keyboard symbols. Make sure to include at least three functions for the different parts of your image and include one main function, putting everything together (4 functions in total)."
   ]
  },
  {
   "cell_type": "code",
   "execution_count": null,
   "id": "c947d9b3-7dc1-4aa5-b26d-50f3c10e60b8",
   "metadata": {
    "tags": []
   },
   "outputs": [],
   "source": [
    "# get creative, there's no wrong answer as long as you have 4 functions and some sort of output\n",
    "\n",
    "# general structure:\n",
    "\n",
    "def part1():\n",
    "    STATEMENT\n",
    "    STATEMENT\n",
    "    STATEMENT\n",
    "\n",
    "def part2():\n",
    "    STATEMENT\n",
    "    STATEMENT\n",
    "    STATEMENT\n",
    "    \n",
    "def part3():\n",
    "    STATEMENT\n",
    "    STATEMENT\n",
    "    STATEMENT\n",
    "\n",
    "def image():\n",
    "    part1()\n",
    "    part2()\n",
    "    part3()\n",
    "    part3()\n",
    "    part3()\n",
    "    part1()"
   ]
  },
  {
   "cell_type": "markdown",
   "id": "e277e2f5-90a0-447b-aebc-0fc90daee8af",
   "metadata": {},
   "source": [
    "## Refactoring & Returns"
   ]
  },
  {
   "cell_type": "markdown",
   "id": "5285436a-d719-4eb2-824d-31f8bffb162d",
   "metadata": {},
   "source": [
    "Sometimes there is a line of code or a set of lines of code whose purpose is to produce a specific result. You can take those lines of code and make them a new function that returns that specific result. For example, look at the function below:"
   ]
  },
  {
   "cell_type": "code",
   "execution_count": 1,
   "id": "ba2ebea7-0144-4f61-ac78-f1f4641e2321",
   "metadata": {},
   "outputs": [
    {
     "name": "stdout",
     "output_type": "stream",
     "text": [
      "Hi Kyle Thayer, welcome to Info 198!\n"
     ]
    }
   ],
   "source": [
    "# try running this code:\n",
    "\n",
    "def create_welcome_message(first_name, last_name, class_name):\n",
    "    # combine first and last names into the full name\n",
    "    full_name = first_name + \" \" + last_name\n",
    "    \n",
    "    # make a welcom message with the full name and class name\n",
    "    message = \"Hi \" + full_name + \", welcome to \" + class_name + \"!\"\n",
    "    return message\n",
    "    \n",
    "print(create_welcome_message(\"Kyle\", \"Thayer\", \"Info 198\"))"
   ]
  },
  {
   "cell_type": "markdown",
   "id": "2145ba06-b3ae-4983-8afb-6c5028d0447b",
   "metadata": {},
   "source": [
    "##### In that function, the line `full_name = first_name + \" \" + last_name` is a line that produces a specific result, which makes it a candidate to refactor into its own function (placed earlier in the code block, so it is defined when the create_welcome_message function tries to use it)."
   ]
  },
  {
   "cell_type": "code",
   "execution_count": 2,
   "id": "1c73028c-09e8-44b7-b299-d95199477ede",
   "metadata": {},
   "outputs": [
    {
     "name": "stdout",
     "output_type": "stream",
     "text": [
      "Hi Kyle Thayer, welcome to Info 198!\n"
     ]
    }
   ],
   "source": [
    "# try running this code:\n",
    "\n",
    "def get_full_name(first_name, last_name):\n",
    "    # combine first and last names into the full name\n",
    "    full_name = first_name + \" \" + last_name\n",
    "    return full_name\n",
    "\n",
    "def create_welcome_message(first_name, last_name, class_name):\n",
    "    full_name = get_full_name(first_name, last_name)\n",
    "    \n",
    "    # make a welcom message with the full name and class name\n",
    "    message = \"Hi \" + full_name + \", welcome to \" + class_name + \"!\"\n",
    "    return message\n",
    "    \n",
    "print(create_welcome_message(\"Kyle\", \"Thayer\", \"Info 198\"))"
   ]
  },
  {
   "cell_type": "markdown",
   "id": "13eda463-fe73-44ca-8f14-180d9b231fb1",
   "metadata": {},
   "source": [
    "##### ^The code does the same thing, but we now have a reusable function called `get_full_name()`"
   ]
  },
  {
   "cell_type": "markdown",
   "id": "17379167-2352-492b-8758-2623cbd7aa1b",
   "metadata": {},
   "source": [
    "#### Another example of a function that could be refactored using returns:"
   ]
  },
  {
   "cell_type": "code",
   "execution_count": 3,
   "id": "b829c6b1-7905-48e3-b869-d91dd1ac67d9",
   "metadata": {},
   "outputs": [
    {
     "data": {
      "text/plain": [
       "\"Let's See What Happens To This Example Sentence.\""
      ]
     },
     "execution_count": 3,
     "metadata": {},
     "output_type": "execute_result"
    }
   ],
   "source": [
    "# try running this code:\n",
    "\n",
    "def make_first_letters_uppercase(text):\n",
    "    # use spaces to separate text into a list of words\n",
    "    words = text.split(\" \")\n",
    "    \n",
    "    #start a new list of what will be the capitalized words\n",
    "    capitalized_words = [] \n",
    "    \n",
    "    for word in words:\n",
    "        # Separate the first letter and rest of word\n",
    "        # then recombine them with the first letter capitalized\n",
    "        first_letter = word[0]\n",
    "        rest_of_word = word[1:]\n",
    "        capitalized_word = first_letter.upper() + rest_of_word\n",
    "        \n",
    "        # take our newly capitalized word, and add it to the list of all the capitalized words\n",
    "        capitalized_words.append(capitalized_word)\n",
    "    \n",
    "    # now that all words are capitalized, recombine the list \n",
    "    # of words with a space between each one\n",
    "    new_sentence = \" \".join(capitalized_words)\n",
    "    \n",
    "    #return our newly capitalized word\n",
    "    return new_sentence\n",
    "    \n",
    "make_first_letters_uppercase(\"Let's see what happens to this example sentence.\")"
   ]
  },
  {
   "cell_type": "markdown",
   "id": "d093eb80-bda2-41d4-9b7c-92db4f182be8",
   "metadata": {},
   "source": [
    "#### 14. YOU TRY: Take the first set of lines of code in the for loop and make a new function at the top of the code block called `capitalize_word()` which takes in a word as an argument, and returns a capitalized version of that word. \n",
    "\n",
    "#### THEN have the `make_first_letters_uppercase()` function call your new capitalize_word function, passing it the argument word and saving the result in the `capitalized_word()` variable."
   ]
  },
  {
   "cell_type": "code",
   "execution_count": 4,
   "id": "358fabbd-dc4d-4871-abc1-231958cdfe2b",
   "metadata": {},
   "outputs": [
    {
     "data": {
      "text/plain": [
       "\"Let's See What Happens To This Example Sentence.\""
      ]
     },
     "execution_count": 4,
     "metadata": {},
     "output_type": "execute_result"
    }
   ],
   "source": [
    "def capitalize_word(word):\n",
    "    # Separate the first letter and rest of word\n",
    "    # then recombine them with the first letter capitalized\n",
    "    first_letter = word[0]\n",
    "    rest_of_word = word[1:]\n",
    "    capitalized_word = first_letter.upper() + rest_of_word\n",
    "    return capitalized_word\n",
    "\n",
    "def make_first_letters_uppercase(text):\n",
    "    # use spaces to separate text into a list of words\n",
    "    words = text.split(\" \")\n",
    "    \n",
    "    #start a new list of what will be the capitalized words\n",
    "    capitalized_words = [] \n",
    "    \n",
    "    for word in words:\n",
    "        capitalized_word = capitalize_word(word)\n",
    "        \n",
    "        # take our newly capitalized word, and add it to the list of all the capitalized words\n",
    "        capitalized_words.append(capitalized_word)\n",
    "    \n",
    "    # now that all words are capitalized, recombine the list \n",
    "    # of words with a space between each one\n",
    "    new_sentence = \" \".join(capitalized_words)\n",
    "    \n",
    "    #return our newly capitalized word\n",
    "    return new_sentence\n",
    "    \n",
    "make_first_letters_uppercase(\"Let's see what happens to this example sentence.\")"
   ]
  },
  {
   "cell_type": "markdown",
   "id": "c79e3ebe-f30d-4681-9076-9d0d2508bedf",
   "metadata": {},
   "source": [
    "#### 17. Finally, think back to your previous ps2 homework assignment. How might refactoring have saved you time and space in your JupyterNotebook for the code section? \n",
    "\n",
    "#### Please answer your question in the markdown block below."
   ]
  },
  {
   "cell_type": "code",
   "execution_count": null,
   "id": "742aced5-674c-4cae-8302-4890bf7f9cde",
   "metadata": {},
   "outputs": [],
   "source": [
    "# no wrong answer"
   ]
  }
 ],
 "metadata": {
  "kernelspec": {
   "display_name": "Python 3 (ipykernel)",
   "language": "python",
   "name": "python3"
  },
  "language_info": {
   "codemirror_mode": {
    "name": "ipython",
    "version": 3
   },
   "file_extension": ".py",
   "mimetype": "text/x-python",
   "name": "python",
   "nbconvert_exporter": "python",
   "pygments_lexer": "ipython3",
   "version": "3.9.7"
  }
 },
 "nbformat": 4,
 "nbformat_minor": 5
}
