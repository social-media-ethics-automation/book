{
 "cells": [
  {
   "cell_type": "markdown",
   "id": "67feb625-3cf4-40ef-b357-d95f159d6015",
   "metadata": {},
   "source": [
    "# Test Twitter Bot Keys\n",
    "This is to test and make sure your twitter keys are working correctly.\n",
    "\n",
    "Just run the code here one section at a time, and make sure you don't get errors (red) and that you get the expected output."
   ]
  },
  {
   "cell_type": "markdown",
   "id": "1e806986-0ec6-4e92-aa5f-81119daa9ba9",
   "metadata": {},
   "source": [
    "### Install and import tweepy\n",
    "First, make sure the tweepy library is installed and loaded"
   ]
  },
  {
   "cell_type": "code",
   "execution_count": null,
   "id": "0be1dffa-b193-448b-9dd0-fdc42e04171a",
   "metadata": {},
   "outputs": [],
   "source": [
    "!pip install tweepy \n",
    "import tweepy"
   ]
  },
  {
   "cell_type": "markdown",
   "id": "d5fcbcf3-03b3-416d-b6f0-864dec256246",
   "metadata": {},
   "source": [
    "### Load your keys\n",
    "\n",
    "Now try loading your keys from the my_bot_keys.py file"
   ]
  },
  {
   "cell_type": "code",
   "execution_count": null,
   "id": "a5843a19-4262-452d-aaeb-bfa2a19726a8",
   "metadata": {},
   "outputs": [],
   "source": [
    "import my_bot_keys"
   ]
  },
  {
   "cell_type": "markdown",
   "id": "7c09bbe4-4976-4890-9cce-b1115581fcdb",
   "metadata": {},
   "source": [
    "### Provide the tweepy library with the keys from your my_bot_keys.py file"
   ]
  },
  {
   "cell_type": "code",
   "execution_count": null,
   "id": "8620bb89-afe0-4db8-9a42-ff9be87e4d4a",
   "metadata": {},
   "outputs": [],
   "source": [
    "client = tweepy.Client(\n",
    "    bearer_token=my_bot_keys.bearer_token,\n",
    "    consumer_key=my_bot_keys.consumer_key, consumer_secret=my_bot_keys.consumer_secret,                   \n",
    "    access_token=my_bot_keys.access_token, access_token_secret=my_bot_keys.access_token_secret\n",
    ")"
   ]
  },
  {
   "cell_type": "markdown",
   "id": "89cb3c77-2f24-46bb-abb0-8b9f4dee4037",
   "metadata": {},
   "source": [
    "### Test loading info for a user\n",
    "If this works, it should display the user info for @KSeattleWeather. It should look like this:\n",
    "```\n",
    "Response(data=<User id=34379755 name=Seattle Weather Blog username=KSeattleWeather>, includes={}, errors=[], meta={})\n",
    "```"
   ]
  },
  {
   "cell_type": "code",
   "execution_count": null,
   "id": "fc658571-a9f3-4636-ad64-946c15cc0310",
   "metadata": {},
   "outputs": [],
   "source": [
    "userInfo = client.get_user(username=\"KSeattleWeather\")\n",
    "display(userInfo)\n"
   ]
  },
  {
   "cell_type": "markdown",
   "id": "f1f42c56-2a56-45ef-97de-58bc8d19af53",
   "metadata": {},
   "source": [
    "### Test posting a tweet\n",
    "If this works, it should post a tweet with your account (you can go to the twitter page for your account and make sure the tweet shows up)\n",
    "\n",
    "**Note: You can't post the same tweet twice, so change the text inside the double quote marks each time you try running this. If you try posting the same tweet again, you'll get an error message that says \"Forbidden\"**"
   ]
  },
  {
   "cell_type": "code",
   "execution_count": null,
   "id": "e0684179-f0cc-4420-866e-4108d1673b06",
   "metadata": {},
   "outputs": [],
   "source": [
    "client.create_tweet(text=\"Posting a tweet from a computer program worked!\")"
   ]
  }
 ],
 "metadata": {
  "kernelspec": {
   "display_name": "Python 3 (ipykernel)",
   "language": "python",
   "name": "python3"
  },
  "language_info": {
   "codemirror_mode": {
    "name": "ipython",
    "version": 3
   },
   "file_extension": ".py",
   "mimetype": "text/x-python",
   "name": "python",
   "nbconvert_exporter": "python",
   "pygments_lexer": "ipython3",
   "version": "3.9.7"
  }
 },
 "nbformat": 4,
 "nbformat_minor": 5
}
