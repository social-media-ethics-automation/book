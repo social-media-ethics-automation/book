{
 "cells": [
  {
   "cell_type": "markdown",
   "id": "0cd4388e-b71c-4bd1-a60e-d2ef3933f3de",
   "metadata": {},
   "source": [
    "# Ch14 Demo: recursion with real tweets"
   ]
  },
  {
   "cell_type": "markdown",
   "id": "cb900b5a-c199-47b8-95a9-417d44a786ab",
   "metadata": {
    "tags": []
   },
   "source": [
    "## Normal Tweepy Set-Up"
   ]
  },
  {
   "cell_type": "code",
   "execution_count": 13,
   "id": "883641dc-a5a4-47d7-ba9c-3532e9df58d8",
   "metadata": {},
   "outputs": [],
   "source": [
    "# make sure tweepy library is installed\n",
    "import tweepy"
   ]
  },
  {
   "cell_type": "markdown",
   "id": "b3e36108-1f26-4d5c-a80e-cbd908108646",
   "metadata": {},
   "source": [
    "(optional) use the fake version of tweepy, so you don’t have to use real twitter developer access passwords"
   ]
  },
  {
   "cell_type": "code",
   "execution_count": 14,
   "id": "1da71241-f059-4865-9f34-84bdbf983605",
   "metadata": {},
   "outputs": [
    {
     "data": {
      "text/html": [
       "<strong style='color:darkred'>Fake tweepy is replacing the tweepy library. Fake Tweepy doesn&#x27;t need real passwords, and prevents you from accessing real twitter</strong>"
      ],
      "text/plain": [
       "<IPython.core.display.HTML object>"
      ]
     },
     "metadata": {},
     "output_type": "display_data"
    }
   ],
   "source": [
    "%run ../../fake_tweepy/fake_tweepy.ipynb"
   ]
  },
  {
   "cell_type": "code",
   "execution_count": 15,
   "id": "d42b7010-2690-4efb-b404-02682e39b559",
   "metadata": {},
   "outputs": [],
   "source": [
    "# Load all your developer access passwords into Python\n",
    "# TODO: Put your twitter account's special developer access passwords below:\n",
    "bearer_token = \"n4tossfgsafs_fake_bearer_token_isa53#$%$\"\n",
    "consumer_key = \"sa@#4@fdfdsa_fake_consumer_key_$%DSG#%DG\"\n",
    "consumer_secret = \"45adf$T$A_fake_consumer_secret_JESdsg\"\n",
    "access_token = \"56sd5Ss4tsea_fake_access_token_%YE%hDsdr\"\n",
    "access_token_secret = \"j^$dr_fake_consumer_key_^A5s#DR5s\""
   ]
  },
  {
   "cell_type": "code",
   "execution_count": 16,
   "id": "9c7a1f06-fb4d-4ce6-bd0b-de421420a198",
   "metadata": {},
   "outputs": [
    {
     "data": {
      "text/html": [
       "<strong style='color:darkred'>Fake Tweepy is pretending to log in to twitter</strong>"
      ],
      "text/plain": [
       "<IPython.core.display.HTML object>"
      ]
     },
     "metadata": {},
     "output_type": "display_data"
    }
   ],
   "source": [
    "# Give the tweepy code your developer access passwords so\n",
    "# it can perform twitter actions\n",
    "client = tweepy.Client(\n",
    "   bearer_token=bearer_token,\n",
    "   consumer_key=consumer_key, consumer_secret=consumer_secret,\n",
    "   access_token=access_token, access_token_secret=access_token_secret\n",
    ")"
   ]
  },
  {
   "cell_type": "markdown",
   "id": "da45bc67-b72b-45ef-8f70-7eedf9261945",
   "metadata": {},
   "source": [
    "## (Just Run): Helper function to display text in an indented box"
   ]
  },
  {
   "cell_type": "code",
   "execution_count": 17,
   "id": "98574fd2-9380-4653-8b42-d5f00fd634c3",
   "metadata": {},
   "outputs": [],
   "source": [
    "from IPython.display import HTML, Image, display\n",
    "import html\n",
    "def display_indented(text, left_margin=0, color=\"white\"):\n",
    "    display(\n",
    "        HTML(\n",
    "            \"<pre style='border:solid 1px;padding:3px;margin-left:\"+str(left_margin)+\"px;background-color:\"+color+\"'>\" + \n",
    "            html.escape(text) + \n",
    "            \"</pre>\"\n",
    "        )\n",
    "    )"
   ]
  },
  {
   "cell_type": "markdown",
   "id": "7e240033-1a67-4f5e-a2cb-eaa7aea96d45",
   "metadata": {},
   "source": [
    "### Demo of using the display_with_left_margin function"
   ]
  },
  {
   "cell_type": "code",
   "execution_count": 18,
   "id": "2388f9e7-2d19-44e1-8ed4-6403c7b3cdf8",
   "metadata": {},
   "outputs": [
    {
     "data": {
      "text/html": [
       "<pre style='border:solid 1px;padding:3px;margin-left:0px;background-color:white'>A no indent text</pre>"
      ],
      "text/plain": [
       "<IPython.core.display.HTML object>"
      ]
     },
     "metadata": {},
     "output_type": "display_data"
    },
    {
     "data": {
      "text/html": [
       "<pre style='border:solid 1px;padding:3px;margin-left:10px;background-color:white'>A 10px indent text</pre>"
      ],
      "text/plain": [
       "<IPython.core.display.HTML object>"
      ]
     },
     "metadata": {},
     "output_type": "display_data"
    },
    {
     "data": {
      "text/html": [
       "<pre style='border:solid 1px;padding:3px;margin-left:20px;background-color:white'>A 20px indent text \n",
       " with a newline!</pre>"
      ],
      "text/plain": [
       "<IPython.core.display.HTML object>"
      ]
     },
     "metadata": {},
     "output_type": "display_data"
    },
    {
     "data": {
      "text/html": [
       "<pre style='border:solid 1px;padding:3px;margin-left:10px;background-color:LightCoral'>You can change the &#x27;color&#x27; of the box too, like make it LightCoral</pre>"
      ],
      "text/plain": [
       "<IPython.core.display.HTML object>"
      ]
     },
     "metadata": {},
     "output_type": "display_data"
    }
   ],
   "source": [
    "display_indented(\"A no indent text\")\n",
    "display_indented(\"A 10px indent text\", left_margin=10)\n",
    "display_indented(\"A 20px indent text \\n with a newline!\", left_margin=20)\n",
    "display_indented(\"You can change the 'color' of the box too, like make it LightCoral\", color='LightCoral', left_margin=10)"
   ]
  },
  {
   "cell_type": "markdown",
   "id": "d37b46e5-c941-4ac9-a95f-a16061ecf7cf",
   "metadata": {},
   "source": [
    "## (Just Run): Helper code for getting a twitter conversation (that is a tweet and a bunch of its replies)\n",
    "You don't need to know how this code works, but you can look through it if you want.\n",
    "\n",
    "Also, if you want to use more includes or something, you can add them to the client.get_tweet() call and the client.search_recent_tweets() call. You might also need to do extra work to include them like I did with the author/users info"
   ]
  },
  {
   "cell_type": "code",
   "execution_count": 25,
   "id": "b4305e18-f3ec-4ab9-8fff-d5f8da43dbfd",
   "metadata": {},
   "outputs": [],
   "source": [
    "# Given a tweetId, create a datastructure with the tweet and replies\n",
    "# Each \"tweet\" is dictionary with keys for:\n",
    "#    \"tweet_info\" (from the tweet.data), \"author\", \"replies\", \"previous_tweet\", and \"first_tweet\"\n",
    "#\n",
    "# When searching for tweets in the conversation, it looks for groups of 100\n",
    "# tweets at a time. You can set how many groups of 100 tweets it looks for with\n",
    "# max_conversation_searches\n",
    "def get_tweets_with_replies(tweetId, max_conversation_searches=1):\n",
    "    (starting_tweet, all_conversation_tweets, users_lookup) = get_tweet_and_conversation(tweetId, max_conversation_searches)\n",
    "    tweets_by_referenced_tweet = organize_tweets_by_referenced_tweets(all_conversation_tweets)\n",
    "    tweet_with_replies = organize_tweets_with_replies(starting_tweet, tweets_by_referenced_tweet, users_lookup)\n",
    "    return tweet_with_replies\n",
    "\n",
    "# the function above uses the helper functions below\n",
    "\n",
    "# Given a tweet id, find the tweet and other tweets in the same conversation\n",
    "def get_tweet_and_conversation(tweetId, max_conversation_searches=1):\n",
    "    starting_tweet = client.get_tweet(tweetId, tweet_fields=['conversation_id', 'public_metrics'], expansions=['author_id'])\n",
    "    conversation_id = starting_tweet.data.conversation_id\n",
    "    \n",
    "    all_conversation_tweets = get_conversation_tweets(conversation_id, max_conversation_searches)\n",
    "    all_users = starting_tweet.includes['users']\n",
    "    for conversation_tweets in all_conversation_tweets:\n",
    "        all_users += conversation_tweets.includes['users']\n",
    "    users_lookup = {str(u[\"id\"]): u for u in all_users}\n",
    "    return (starting_tweet, all_conversation_tweets, users_lookup)\n",
    "\n",
    "# Get tweets in a conversation (given the conversation id)\n",
    "def get_conversation_tweets(conversation_id, max_conversation_searches):\n",
    "    query = \"conversation_id:\" + str(conversation_id)\n",
    "    all_conversation_tweets = []\n",
    "    num_searches=0\n",
    "    is_done = False\n",
    "    next_token = None\n",
    "    while not is_done and num_searches < max_conversation_searches:\n",
    "        conversation_tweets = client.search_recent_tweets(query=query, next_token=next_token, tweet_fields = 'public_metrics', expansions=['referenced_tweets.id','author_id'], max_results=100)\n",
    "        num_searches += 1\n",
    "        all_conversation_tweets.append(conversation_tweets)\n",
    "        print(\"loaded a set of tweets: \" + str(conversation_tweets.meta))\n",
    "        if 'next_token' in conversation_tweets.meta:\n",
    "            next_token = conversation_tweets.meta['next_token']\n",
    "        else:\n",
    "            is_done = True\n",
    "    return all_conversation_tweets\n",
    "\n",
    "# Given a list of tweets, group them all based on what tweet they are replying to\n",
    "def organize_tweets_by_referenced_tweets(list_of_tweet_results):\n",
    "    tweets_by_referenced_tweet = {}\n",
    "    for tweets in list_of_tweet_results:\n",
    "        for tweet in tweets.data:\n",
    "            for referenced_tweet in tweet.referenced_tweets:\n",
    "                if(referenced_tweet.type == \"replied_to\"):\n",
    "                    referenced_tweet_id = str(referenced_tweet.id)\n",
    "                    if(referenced_tweet_id not in tweets_by_referenced_tweet):\n",
    "                        tweets_by_referenced_tweet[referenced_tweet_id] = []\n",
    "                    tweets_by_referenced_tweet[referenced_tweet_id].append(tweet)\n",
    "                    break\n",
    "\n",
    "    return tweets_by_referenced_tweet\n",
    "\n",
    "# organize the tweets so that author info and replies to tweets are included\n",
    "# with it in a convenient data structure\n",
    "def organize_tweets_with_replies(tweet, tweets_by_referenced_tweet, users_lookup, previous_tweet=None, first_tweet=None):\n",
    "    tweet_with_replies = {\n",
    "        \"tweet_info\": tweet.data,\n",
    "        \"author\": users_lookup[str(tweet.data[\"author_id\"])].data,\n",
    "        \"replies\": [],\n",
    "        \"previous_tweet\": previous_tweet\n",
    "    }\n",
    "    if first_tweet == None:\n",
    "        first_tweet = tweet_with_replies\n",
    "    tweet_with_replies[\"first_tweet\"] = first_tweet\n",
    "\n",
    "    tweet_id = str(tweet.data[\"id\"])\n",
    "    if tweet_id in tweets_by_referenced_tweet:\n",
    "        reply_tweets = tweets_by_referenced_tweet[tweet_id]\n",
    "        for reply_tweet in reply_tweets:\n",
    "            tweet_with_replies[\"replies\"].append(\n",
    "                organize_tweets_with_replies(reply_tweet, tweets_by_referenced_tweet, users_lookup, previous_tweet=tweet_with_replies, first_tweet=first_tweet)\n",
    "            )\n",
    "    return tweet_with_replies\n"
   ]
  },
  {
   "cell_type": "markdown",
   "id": "6e9f250e-c023-44f4-8d40-7e67a5898e16",
   "metadata": {
    "tags": []
   },
   "source": [
    "## Recursively printing the tweets and replies"
   ]
  },
  {
   "cell_type": "code",
   "execution_count": 26,
   "id": "c0a87574-0e75-43af-97ff-795653323e66",
   "metadata": {},
   "outputs": [],
   "source": [
    "def print_tweet_and_replies(tweet_with_replies, num_indents=0):\n",
    "    tweet_info = tweet_with_replies[\"tweet_info\"]\n",
    "    replies = tweet_with_replies[\"replies\"]\n",
    "\n",
    "    display_indented(tweet_info['text'], num_indents*20)\n",
    "    \n",
    "    #print replies (and the replies of those, etc.)\n",
    "    for reply in replies:\n",
    "        print_tweet_and_replies(reply, num_indents = num_indents + 1)"
   ]
  },
  {
   "cell_type": "code",
   "execution_count": 27,
   "id": "874fbd04-3c59-41c8-b21f-426a73071832",
   "metadata": {},
   "outputs": [
    {
     "data": {
      "text/html": [
       "<strong style='color:darkred'>Fake Tweepy is pretending to search for &#x27;conversation_id:1234567&#x27; and is returning some fake tweets.</strong>"
      ],
      "text/plain": [
       "<IPython.core.display.HTML object>"
      ]
     },
     "metadata": {},
     "output_type": "display_data"
    },
    {
     "name": "stdout",
     "output_type": "stream",
     "text": [
      "loaded a set of tweets: {}\n"
     ]
    }
   ],
   "source": [
    "loaded_tweets_and_replies = get_tweets_with_replies(98778587)"
   ]
  },
  {
   "cell_type": "code",
   "execution_count": 28,
   "id": "34c94ffa-8255-4ffa-85a3-db03b4fa64c4",
   "metadata": {
    "tags": []
   },
   "outputs": [
    {
     "data": {
      "text/html": [
       "<pre style='border:solid 1px;padding:3px;margin-left:0px;background-color:white'>That last exam in sure was hard!</pre>"
      ],
      "text/plain": [
       "<IPython.core.display.HTML object>"
      ]
     },
     "metadata": {},
     "output_type": "display_data"
    },
    {
     "data": {
      "text/html": [
       "<pre style='border:solid 1px;padding:3px;margin-left:20px;background-color:white'>It sure was hard, what score did you get?</pre>"
      ],
      "text/plain": [
       "<IPython.core.display.HTML object>"
      ]
     },
     "metadata": {},
     "output_type": "display_data"
    },
    {
     "data": {
      "text/html": [
       "<pre style='border:solid 1px;padding:3px;margin-left:40px;background-color:white'>I got a 67% :(</pre>"
      ],
      "text/plain": [
       "<IPython.core.display.HTML object>"
      ]
     },
     "metadata": {},
     "output_type": "display_data"
    },
    {
     "data": {
      "text/html": [
       "<pre style='border:solid 1px;padding:3px;margin-left:40px;background-color:white'>I got a 73%</pre>"
      ],
      "text/plain": [
       "<IPython.core.display.HTML object>"
      ]
     },
     "metadata": {},
     "output_type": "display_data"
    },
    {
     "data": {
      "text/html": [
       "<pre style='border:solid 1px;padding:3px;margin-left:20px;background-color:white'>I didn&#x27;t think it was that bad</pre>"
      ],
      "text/plain": [
       "<IPython.core.display.HTML object>"
      ]
     },
     "metadata": {},
     "output_type": "display_data"
    },
    {
     "data": {
      "text/html": [
       "<pre style='border:solid 1px;padding:3px;margin-left:40px;background-color:white'>how was that not a super hard exam?</pre>"
      ],
      "text/plain": [
       "<IPython.core.display.HTML object>"
      ]
     },
     "metadata": {},
     "output_type": "display_data"
    },
    {
     "data": {
      "text/html": [
       "<pre style='border:solid 1px;padding:3px;margin-left:40px;background-color:white'>of coure you didn&#x27;t</pre>"
      ],
      "text/plain": [
       "<IPython.core.display.HTML object>"
      ]
     },
     "metadata": {},
     "output_type": "display_data"
    },
    {
     "data": {
      "text/html": [
       "<pre style='border:solid 1px;padding:3px;margin-left:60px;background-color:white'>what&#x27;s that supposed to mean?</pre>"
      ],
      "text/plain": [
       "<IPython.core.display.HTML object>"
      ]
     },
     "metadata": {},
     "output_type": "display_data"
    },
    {
     "data": {
      "text/html": [
       "<pre style='border:solid 1px;padding:3px;margin-left:80px;background-color:white'>you&#x27;re an overachiever</pre>"
      ],
      "text/plain": [
       "<IPython.core.display.HTML object>"
      ]
     },
     "metadata": {},
     "output_type": "display_data"
    },
    {
     "data": {
      "text/html": [
       "<pre style='border:solid 1px;padding:3px;margin-left:100px;background-color:white'>and that&#x27;s bad how?</pre>"
      ],
      "text/plain": [
       "<IPython.core.display.HTML object>"
      ]
     },
     "metadata": {},
     "output_type": "display_data"
    }
   ],
   "source": [
    "print_tweet_and_replies(loaded_tweets_and_replies)"
   ]
  },
  {
   "cell_type": "markdown",
   "id": "af43539a-ec47-4b34-9ab5-a3c08d34c78b",
   "metadata": {},
   "source": [
    "## Improved recursive print tweets and replies (more info)"
   ]
  },
  {
   "cell_type": "code",
   "execution_count": 23,
   "id": "620cc54f-2bc9-4f6d-9d61-91a9e629b42a",
   "metadata": {},
   "outputs": [],
   "source": [
    "def print_tweet_and_replies(tweet_with_replies, num_indents=0):\n",
    "    tweet_info = tweet_with_replies[\"tweet_info\"]\n",
    "    replies = tweet_with_replies[\"replies\"]\n",
    "    author_info = tweet_with_replies[\"author\"]\n",
    "    public_metrics = tweet_info[\"public_metrics\"]\n",
    "\n",
    "    display_text = (\n",
    "        tweet_info['text'] + \"\\n\" +\n",
    "        \"-- \" + author_info[\"name\"] + \" (@\" + author_info[\"username\"] + \")\" + \"\\n\" +\n",
    "        str(public_metrics)\n",
    "    )\n",
    "    \n",
    "    display_indented(display_text, num_indents*20)\n",
    "    \n",
    "    #print replies (and the replies of those, etc.)\n",
    "    for reply in replies:\n",
    "        print_tweet_and_replies(reply, num_indents = num_indents + 1)"
   ]
  },
  {
   "cell_type": "code",
   "execution_count": 24,
   "id": "132e49b3-afa5-4ef1-bfb5-aef7b691170c",
   "metadata": {
    "tags": []
   },
   "outputs": [
    {
     "data": {
      "text/html": [
       "<pre style='border:solid 1px;padding:3px;margin-left:0px;background-color:white'>That last exam in sure was hard!\n",
       "-- Fake User (@fake_user)\n",
       "{&#x27;retweet_count&#x27;: 10, &#x27;reply_count&#x27;: 2, &#x27;like_count&#x27;: 8, &#x27;quote_count&#x27;: 4}</pre>"
      ],
      "text/plain": [
       "<IPython.core.display.HTML object>"
      ]
     },
     "metadata": {},
     "output_type": "display_data"
    },
    {
     "data": {
      "text/html": [
       "<pre style='border:solid 1px;padding:3px;margin-left:20px;background-color:white'>It sure was hard, what score did you get?\n",
       "-- Unreal User (@unreal_user)\n",
       "{&#x27;retweet_count&#x27;: 4, &#x27;reply_count&#x27;: 2, &#x27;like_count&#x27;: 3, &#x27;quote_count&#x27;: 2}</pre>"
      ],
      "text/plain": [
       "<IPython.core.display.HTML object>"
      ]
     },
     "metadata": {},
     "output_type": "display_data"
    },
    {
     "data": {
      "text/html": [
       "<pre style='border:solid 1px;padding:3px;margin-left:40px;background-color:white'>I got a 67% :(\n",
       "-- Fake User (@fake_user)\n",
       "{&#x27;retweet_count&#x27;: 0, &#x27;reply_count&#x27;: 0, &#x27;like_count&#x27;: 2, &#x27;quote_count&#x27;: 0}</pre>"
      ],
      "text/plain": [
       "<IPython.core.display.HTML object>"
      ]
     },
     "metadata": {},
     "output_type": "display_data"
    },
    {
     "data": {
      "text/html": [
       "<pre style='border:solid 1px;padding:3px;margin-left:40px;background-color:white'>I got a 73%\n",
       "-- Imaginary User (@imaginary_user)\n",
       "{&#x27;retweet_count&#x27;: 0, &#x27;reply_count&#x27;: 0, &#x27;like_count&#x27;: 3, &#x27;quote_count&#x27;: 0}</pre>"
      ],
      "text/plain": [
       "<IPython.core.display.HTML object>"
      ]
     },
     "metadata": {},
     "output_type": "display_data"
    },
    {
     "data": {
      "text/html": [
       "<pre style='border:solid 1px;padding:3px;margin-left:20px;background-color:white'>I didn&#x27;t think it was that bad\n",
       "-- Pretend User (@pretend_user)\n",
       "{&#x27;retweet_count&#x27;: 1, &#x27;reply_count&#x27;: 2, &#x27;like_count&#x27;: 1, &#x27;quote_count&#x27;: 6}</pre>"
      ],
      "text/plain": [
       "<IPython.core.display.HTML object>"
      ]
     },
     "metadata": {},
     "output_type": "display_data"
    },
    {
     "data": {
      "text/html": [
       "<pre style='border:solid 1px;padding:3px;margin-left:40px;background-color:white'>how was that not a super hard exam?\n",
       "-- False User (@false_user)\n",
       "{&#x27;retweet_count&#x27;: 2, &#x27;reply_count&#x27;: 0, &#x27;like_count&#x27;: 8, &#x27;quote_count&#x27;: 2}</pre>"
      ],
      "text/plain": [
       "<IPython.core.display.HTML object>"
      ]
     },
     "metadata": {},
     "output_type": "display_data"
    },
    {
     "data": {
      "text/html": [
       "<pre style='border:solid 1px;padding:3px;margin-left:40px;background-color:white'>of coure you didn&#x27;t\n",
       "-- Fake User (@fake_user)\n",
       "{&#x27;retweet_count&#x27;: 1, &#x27;reply_count&#x27;: 1, &#x27;like_count&#x27;: 6, &#x27;quote_count&#x27;: 1}</pre>"
      ],
      "text/plain": [
       "<IPython.core.display.HTML object>"
      ]
     },
     "metadata": {},
     "output_type": "display_data"
    },
    {
     "data": {
      "text/html": [
       "<pre style='border:solid 1px;padding:3px;margin-left:60px;background-color:white'>what&#x27;s that supposed to mean?\n",
       "-- Pretend User (@pretend_user)\n",
       "{&#x27;retweet_count&#x27;: 0, &#x27;reply_count&#x27;: 1, &#x27;like_count&#x27;: 1, &#x27;quote_count&#x27;: 0}</pre>"
      ],
      "text/plain": [
       "<IPython.core.display.HTML object>"
      ]
     },
     "metadata": {},
     "output_type": "display_data"
    },
    {
     "data": {
      "text/html": [
       "<pre style='border:solid 1px;padding:3px;margin-left:80px;background-color:white'>you&#x27;re an overachiever\n",
       "-- Fake User (@fake_user)\n",
       "{&#x27;retweet_count&#x27;: 0, &#x27;reply_count&#x27;: 1, &#x27;like_count&#x27;: 3, &#x27;quote_count&#x27;: 0}</pre>"
      ],
      "text/plain": [
       "<IPython.core.display.HTML object>"
      ]
     },
     "metadata": {},
     "output_type": "display_data"
    },
    {
     "data": {
      "text/html": [
       "<pre style='border:solid 1px;padding:3px;margin-left:100px;background-color:white'>and that&#x27;s bad how?\n",
       "-- Pretend User (@pretend_user)\n",
       "{&#x27;retweet_count&#x27;: 0, &#x27;reply_count&#x27;: 0, &#x27;like_count&#x27;: 0, &#x27;quote_count&#x27;: 0}</pre>"
      ],
      "text/plain": [
       "<IPython.core.display.HTML object>"
      ]
     },
     "metadata": {},
     "output_type": "display_data"
    }
   ],
   "source": [
    "print_tweet_and_replies(loaded_tweets_and_replies)"
   ]
  },
  {
   "cell_type": "code",
   "execution_count": null,
   "id": "39d874da-9fb8-46e6-9a0e-81801dc9fc4c",
   "metadata": {},
   "outputs": [],
   "source": [
    "# Note: to test for real, look for users who get a lot of engagement, \n",
    "#   like the reddit Am I the Asshole:\n",
    "# https://twitter.com/AITA_online\n",
    "# '1496516355931217926'"
   ]
  }
 ],
 "metadata": {
  "kernelspec": {
   "display_name": "Python 3 (ipykernel)",
   "language": "python",
   "name": "python3"
  },
  "language_info": {
   "codemirror_mode": {
    "name": "ipython",
    "version": 3
   },
   "file_extension": ".py",
   "mimetype": "text/x-python",
   "name": "python",
   "nbconvert_exporter": "python",
   "pygments_lexer": "ipython3",
   "version": "3.10.4"
  }
 },
 "nbformat": 4,
 "nbformat_minor": 5
}
