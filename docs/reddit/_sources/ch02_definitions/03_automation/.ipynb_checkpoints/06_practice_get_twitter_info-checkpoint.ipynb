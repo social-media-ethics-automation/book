{
 "cells": [
  {
   "cell_type": "markdown",
   "id": "8e8b04f7-3262-427e-b125-ec9e4284d0d9",
   "metadata": {
    "tags": []
   },
   "source": [
    "# Exercise: Get twitter info"
   ]
  },
  {
   "cell_type": "markdown",
   "id": "9abb2840-ec42-4597-9a62-8b652300f9ae",
   "metadata": {
    "tags": []
   },
   "source": [
    "### Install and Load the \"Tweepy\" library of code\n",
    "This installs and pre-loads a library of code called `tweepy` that will help us program with twitter"
   ]
  },
  {
   "cell_type": "code",
   "execution_count": null,
   "id": "d93d5346-7256-48dd-9687-5919aabf6f74",
   "metadata": {},
   "outputs": [],
   "source": [
    "!pip install tweepy \n",
    "import tweepy"
   ]
  },
  {
   "cell_type": "markdown",
   "id": "29e14e71-46f5-4094-b100-8fc5cbb58ee7",
   "metadata": {},
   "source": [
    "### Load the special \"keys\" for connecting to uw_class_bot00\n",
    "These keys are a set of passwords that let my computer program log into the twitter account https://twitter.com/uw_class_bot00. I have these saved into a separate file (`bot_keys.py`) so you can't see them and use them to mess with my twitter account.\n",
    "\n",
    "Since you don't have the file with my twitter account keys, you won't be able to run the rest of this program. Later you will set up your own twitter account and get your own keys so you can do this too."
   ]
  },
  {
   "cell_type": "code",
   "execution_count": null,
   "id": "6c17ccfc-269d-4d21-80f8-d7dbe0576423",
   "metadata": {},
   "outputs": [],
   "source": [
    "import bot_keys"
   ]
  },
  {
   "cell_type": "markdown",
   "id": "23555e4e-19c7-481a-bc9e-dde12cb7994d",
   "metadata": {},
   "source": [
    "### Connect to twitter using the keys I just loaded\n",
    "After I run this line of code, the twitter `client` is now logged in to twitter as uw_class_bot00."
   ]
  },
  {
   "cell_type": "code",
   "execution_count": null,
   "id": "f2bcdc6b-b6e7-4348-9b9a-231aed259ed1",
   "metadata": {},
   "outputs": [],
   "source": [
    "client = tweepy.Client(consumer_key=bot_keys.consumer_key, consumer_secret=bot_keys.consumer_secret,\n",
    "                       access_token=bot_keys.access_token, access_token_secret=bot_keys.access_token_secret)"
   ]
  },
  {
   "cell_type": "markdown",
   "id": "8189772f-a8cd-49ca-8e62-bcf98ddfce26",
   "metadata": {},
   "source": [
    "### Post a tweet\n",
    "Now that I am logged in with the twitter `client`, I can ask the client post a tweet (`create_tweet`)"
   ]
  },
  {
   "cell_type": "code",
   "execution_count": null,
   "id": "b44dafab-9d25-4620-b6bd-bd4149400eca",
   "metadata": {},
   "outputs": [],
   "source": [
    "client.create_tweet(text=\"This tweet was posted by a computer program!\")"
   ]
  },
  {
   "cell_type": "markdown",
   "id": "aac61e64-5f1c-4b4e-ad05-33ba19b0e0c4",
   "metadata": {},
   "source": [
    "### Post 10 tweets\n",
    "I can post 10 tweets by writing a `for` loop. This loop will go through 10 numbers (0 through 9) and for each of those numbers it will ask the `client` to `create_tweet`."
   ]
  },
  {
   "cell_type": "code",
   "execution_count": null,
   "id": "9c3b4c1b-b6e1-4af8-92e8-f6fa9b6f96d9",
   "metadata": {},
   "outputs": [],
   "source": [
    "for x in range(10):\n",
    "      client.create_tweet(text=\"test Computer program posting tweet \" + str(x))"
   ]
  },
  {
   "cell_type": "markdown",
   "id": "a9471cb2-c7ef-48da-88c4-0d09da02d550",
   "metadata": {},
   "source": [
    "### All the code above, but without the explanations"
   ]
  },
  {
   "cell_type": "code",
   "execution_count": null,
   "id": "1c1bacbb-3c6d-4a13-ac64-aae40c738856",
   "metadata": {},
   "outputs": [],
   "source": [
    "!pip install tweepy\n",
    "import tweepy\n",
    "import bot_keys\n",
    "\n",
    "client = tweepy.Client(consumer_key=bot_keys.consumer_key, consumer_secret=bot_keys.consumer_secret,\n",
    "                       access_token=bot_keys.access_token, access_token_secret=bot_keys.access_token_secret)\n",
    "\n",
    "client.create_tweet(text=\"This tweet was posted by a computer program!\")\n",
    "\n",
    "for x in range(10):\n",
    "      client.create_tweet(text=\"test Computer program posting tweet \" + str(x))"
   ]
  }
 ],
 "metadata": {
  "kernelspec": {
   "display_name": "Python 3 (ipykernel)",
   "language": "python",
   "name": "python3"
  },
  "language_info": {
   "codemirror_mode": {
    "name": "ipython",
    "version": 3
   },
   "file_extension": ".py",
   "mimetype": "text/x-python",
   "name": "python",
   "nbconvert_exporter": "python",
   "pygments_lexer": "ipython3",
   "version": "3.10.4"
  }
 },
 "nbformat": 4,
 "nbformat_minor": 5
}
