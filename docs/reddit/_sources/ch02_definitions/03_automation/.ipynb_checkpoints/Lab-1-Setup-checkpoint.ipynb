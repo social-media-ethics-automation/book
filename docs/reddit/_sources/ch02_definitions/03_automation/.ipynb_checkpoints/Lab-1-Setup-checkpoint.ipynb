{
 "cells": [
  {
   "cell_type": "markdown",
   "id": "62d9cd26-13e3-4df0-99e5-bcfa7fbfad4a",
   "metadata": {},
   "source": [
    "# 01.5 Lab: Setup"
   ]
  },
  {
   "cell_type": "markdown",
   "id": "525c319b-bd5f-4343-bd3e-bd73f4936fb4",
   "metadata": {},
   "source": [
    "The purpose of this lab is to try running a program yourself and get an idea of things you can do with twitter, we aren't going to explain each detail of the code today, that will be covered in the future"
   ]
  },
  {
   "cell_type": "markdown",
   "id": "186630d1-f971-4674-9df7-263fb65770c0",
   "metadata": {},
   "source": [
    "## Install and import the \"tweepy\" library of code that gives us twitter functions"
   ]
  },
  {
   "cell_type": "code",
   "execution_count": null,
   "id": "5eac50ac-6d95-4fad-917d-fa10eb9b86a1",
   "metadata": {},
   "outputs": [],
   "source": [
    "!pip install tweepy \n",
    "import tweepy"
   ]
  },
  {
   "cell_type": "markdown",
   "id": "7eb7f2d4-eaa7-4081-941b-f8831c13b039",
   "metadata": {
    "tags": []
   },
   "source": [
    "## Log into the Instructors' twitter with read only access"
   ]
  },
  {
   "cell_type": "code",
   "execution_count": null,
   "id": "f7f330a5-0fd3-4e74-9c1b-17c042ae9870",
   "metadata": {},
   "outputs": [],
   "source": [
    "import teacher_bot_read_keys\n",
    "client = tweepy.Client(teacher_bot_read_keys.bearer_token)"
   ]
  },
  {
   "cell_type": "markdown",
   "id": "648c97c2-312c-48af-9a97-2edaac1ab276",
   "metadata": {},
   "source": [
    "## You can't post tweets (since you have read only access)\n",
    "If you try to run the command to post a tweet, it will have a long error message in a red box, ending with:\n",
    "> TypeError: Consumer key must be string or bytes, not NoneType\n",
    "\n",
    "This means that in order to post a tweet, it needs the twitter accounts' \"Consumer Key.\" But since we didn't provide it with the login info above, it showed up as \"NoneType\" which means the code to post a tweet couldn't continue.\n",
    "\n",
    "_Note: You can get rid of the long error message by right-clicking on the red error message box and selecting \"Clear Outputs\"_"
   ]
  },
  {
   "cell_type": "code",
   "execution_count": null,
   "id": "90150239-5061-4d2a-aecf-dd4596106af4",
   "metadata": {},
   "outputs": [],
   "source": [
    "client.create_tweet(text=\"Trying to post this tweet won't work\")"
   ]
  },
  {
   "cell_type": "markdown",
   "id": "b69feda2-7122-4487-b924-c7a98a2dea4d",
   "metadata": {},
   "source": [
    "## You can search for tweets"
   ]
  },
  {
   "cell_type": "code",
   "execution_count": null,
   "id": "2f2616c7-4c67-45c8-9788-9cf9b8ea2ace",
   "metadata": {},
   "outputs": [],
   "source": [
    "query = 'from:KSeattleWeather'\n",
    "\n",
    "tweets = client.search_recent_tweets(query=query)\n",
    "\n",
    "display(tweets.data)"
   ]
  },
  {
   "cell_type": "markdown",
   "id": "e1888563-2a93-4e01-bd1b-1028b5452cd2",
   "metadata": {},
   "source": [
    "## You can get user IDs from usernames "
   ]
  },
  {
   "cell_type": "code",
   "execution_count": null,
   "id": "a8a6e541-712c-49c3-a6e0-a8c2d7ecab01",
   "metadata": {},
   "outputs": [],
   "source": [
    "username = \"BillNye\"\n",
    "user_id = client.get_user(username=username).data.id\n",
    "user_id"
   ]
  },
  {
   "cell_type": "markdown",
   "id": "125a4045-0986-4d3e-a44d-6abe0dfaf0a7",
   "metadata": {},
   "source": [
    "## You can get user mentions from ID"
   ]
  },
  {
   "cell_type": "code",
   "execution_count": null,
   "id": "9d490158-5672-4af6-b3b6-4c7893841024",
   "metadata": {},
   "outputs": [],
   "source": [
    "client.get_users_mentions(id=user_id).data"
   ]
  },
  {
   "cell_type": "markdown",
   "id": "4a87dcf3-23cc-42f3-8acd-c0dacda1682e",
   "metadata": {
    "tags": []
   },
   "source": [
    "# You can get who the user follows from the ID"
   ]
  },
  {
   "cell_type": "code",
   "execution_count": null,
   "id": "9258345e-0659-4c89-ab84-ed22d50215e7",
   "metadata": {},
   "outputs": [],
   "source": [
    "following = client.get_users_following(user_id).data\n",
    "following"
   ]
  },
  {
   "cell_type": "markdown",
   "id": "87fcd995-677f-4cd4-9381-a41954a0b12e",
   "metadata": {},
   "source": [
    "# You can manipulate the output"
   ]
  },
  {
   "cell_type": "code",
   "execution_count": null,
   "id": "87c9d9b7-7a06-481b-8053-1c951ba1edb4",
   "metadata": {},
   "outputs": [],
   "source": [
    "for user in following:\n",
    "    print('Bill Nye the Science Guy follows ' + user.name + '!')"
   ]
  },
  {
   "cell_type": "markdown",
   "id": "0b7d5787-ec6f-4050-9c77-e02d4eed0a74",
   "metadata": {},
   "source": [
    "# YOU TRY:"
   ]
  },
  {
   "cell_type": "markdown",
   "id": "d6669084-cd25-4475-9cbe-2bbba0e8c95a",
   "metadata": {
    "tags": []
   },
   "source": [
    "## 1) Modify the \"query\" variable to search for someone else's tweets."
   ]
  },
  {
   "cell_type": "code",
   "execution_count": null,
   "id": "45f967cc-1387-4542-94c4-a7182f40d8ef",
   "metadata": {},
   "outputs": [],
   "source": [
    "query = 'from:???'    # replace the \"???\" with the username of the account you want\n",
    "\n",
    "tweets = client.search_recent_tweets(query=query)\n",
    "\n",
    "display(tweets.data)"
   ]
  },
  {
   "cell_type": "markdown",
   "id": "b7b52387-c961-45e7-9e62-3a5b4e76fd0a",
   "metadata": {},
   "source": [
    "## 2) Modify the username to get the ID from a twitter user of your choice"
   ]
  },
  {
   "cell_type": "code",
   "execution_count": null,
   "id": "908d179d-ba71-4edf-8e1e-7014d0581d31",
   "metadata": {},
   "outputs": [],
   "source": [
    "username = \"???\"\n",
    "user_id = client.get_user(username=username).data.id\n",
    "user_id"
   ]
  },
  {
   "cell_type": "markdown",
   "id": "61f6735c-d1aa-4d6e-ab42-f13fb05c1606",
   "metadata": {},
   "source": [
    "## 3) Get user mentions from the ID"
   ]
  },
  {
   "cell_type": "code",
   "execution_count": null,
   "id": "84cd6d58-88bf-4fad-a882-4a0cb5ec7333",
   "metadata": {},
   "outputs": [],
   "source": [
    "# Try it yourself by copying code from above and pasting it here:\n"
   ]
  },
  {
   "cell_type": "markdown",
   "id": "d46abf8c-db3f-4c2b-9cc5-abfdc7577465",
   "metadata": {
    "tags": []
   },
   "source": [
    "## 4) Get who the user follows from the ID"
   ]
  },
  {
   "cell_type": "code",
   "execution_count": null,
   "id": "bad790c5-3177-441b-8813-4a2894be9a56",
   "metadata": {},
   "outputs": [],
   "source": [
    "# Try it yourself by copying code from above and pasting it here:\n"
   ]
  },
  {
   "cell_type": "markdown",
   "id": "a172a1cd-7006-4bfe-a5ff-7bcf72152a58",
   "metadata": {},
   "source": [
    "## Optional bonus challenge (not for credit): \n",
    "\n",
    "Try using a method we haven't tried in the demos! Refer to: https://docs.tweepy.org/en/stable/client.html#"
   ]
  },
  {
   "cell_type": "code",
   "execution_count": null,
   "id": "d377f5f0-0b9b-4e2f-bed2-8dc8b8251e9d",
   "metadata": {},
   "outputs": [],
   "source": [
    "# Write your answer here:\n"
   ]
  }
 ],
 "metadata": {
  "kernelspec": {
   "display_name": "Python 3 (ipykernel)",
   "language": "python",
   "name": "python3"
  },
  "language_info": {
   "codemirror_mode": {
    "name": "ipython",
    "version": 3
   },
   "file_extension": ".py",
   "mimetype": "text/x-python",
   "name": "python",
   "nbconvert_exporter": "python",
   "pygments_lexer": "ipython3",
   "version": "3.9.7"
  }
 },
 "nbformat": 4,
 "nbformat_minor": 5
}
