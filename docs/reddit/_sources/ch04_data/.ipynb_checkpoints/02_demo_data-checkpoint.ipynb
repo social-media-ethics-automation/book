{
 "cells": [
  {
   "cell_type": "markdown",
   "id": "08148b7c-867a-4e97-b12a-93c1f6924586",
   "metadata": {},
   "source": [
    "# Demo: Data Types"
   ]
  },
  {
   "cell_type": "markdown",
   "id": "cbda191d-76d5-4fd6-87d0-ead71751a39b",
   "metadata": {},
   "source": [
    "## Data types\n",
    "Python automatically handles many different types of data, including:\n",
    "\n",
    "For text:\n",
    "* str - a String of characters\n",
    "\n",
    "For numbers:\n",
    "* int - an integer (whole number)\n",
    "* float - a floating point number (one with decimals)\n",
    "\n",
    "True/False:\n",
    "* bool - a true/false value\n",
    "\n",
    "\n",
    "See more here: https://www.w3schools.com/python/python_datatypes.asp"
   ]
  },
  {
   "cell_type": "code",
   "execution_count": null,
   "id": "b9be6d9b-b7c7-437c-9f55-6aa59473476b",
   "metadata": {},
   "outputs": [],
   "source": [
    "# TODO: Demo data types\n",
    "message = \"Hello World!\"\n",
    "my_name = \"Kyle\"\n",
    "\n",
    "pi = 3.141592653\n",
    "\n",
    "is_kyle_at_home = True\n",
    "is_kyle_at_uw_now = False"
   ]
  },
  {
   "cell_type": "markdown",
   "id": "3195d5f7-cdda-402f-a75d-84be49b93894",
   "metadata": {},
   "source": [
    "## Dictionary (mapping)\n",
    "Python also lets you have a variable that has multiple named pieces (it's like your variable has its own variables). The type of this is \"dict\"\n",
    "\n",
    "We won't go into details here, but if you have a variable that is type \"dict\", you can access the different components by using a dot. \n",
    "\n",
    "For example, if I have a variable `book` which is a type \"dict\" and it has components `pages` and `author`, I can get the value of the pages and author like this:\n",
    "```\n",
    "book.pages\n",
    "book.author\n",
    "```"
   ]
  },
  {
   "cell_type": "markdown",
   "id": "61f67c56-f1c1-4443-b212-4f053950fba4",
   "metadata": {},
   "source": [
    "## Error demos"
   ]
  },
  {
   "cell_type": "code",
   "execution_count": 2,
   "id": "91f87cb0-c4fa-4b16-ab5a-4eb41c7ee239",
   "metadata": {},
   "outputs": [
    {
     "ename": "TypeError",
     "evalue": "can only concatenate str (not \"int\") to str",
     "output_type": "error",
     "traceback": [
      "\u001b[1;31m---------------------------------------------------------------------------\u001b[0m",
      "\u001b[1;31mTypeError\u001b[0m                                 Traceback (most recent call last)",
      "Input \u001b[1;32mIn [2]\u001b[0m, in \u001b[0;36m<cell line: 2>\u001b[1;34m()\u001b[0m\n\u001b[0;32m      1\u001b[0m \u001b[38;5;66;03m# error when I put a number in a string\u001b[39;00m\n\u001b[1;32m----> 2\u001b[0m example_text \u001b[38;5;241m=\u001b[39m \u001b[38;5;124;43m\"\u001b[39;49m\u001b[38;5;124;43mhow old are you? I am \u001b[39;49m\u001b[38;5;124;43m\"\u001b[39;49m\u001b[43m \u001b[49m\u001b[38;5;241;43m+\u001b[39;49m\u001b[43m \u001b[49m\u001b[38;5;241;43m3\u001b[39;49m\n",
      "\u001b[1;31mTypeError\u001b[0m: can only concatenate str (not \"int\") to str"
     ]
    }
   ],
   "source": [
    "# error when I put a number in a string\n",
    "example_text = \"how old are you? I am \" + 3"
   ]
  }
 ],
 "metadata": {
  "kernelspec": {
   "display_name": "Python 3 (ipykernel)",
   "language": "python",
   "name": "python3"
  },
  "language_info": {
   "codemirror_mode": {
    "name": "ipython",
    "version": 3
   },
   "file_extension": ".py",
   "mimetype": "text/x-python",
   "name": "python",
   "nbconvert_exporter": "python",
   "pygments_lexer": "ipython3",
   "version": "3.10.4"
  }
 },
 "nbformat": 4,
 "nbformat_minor": 5
}
