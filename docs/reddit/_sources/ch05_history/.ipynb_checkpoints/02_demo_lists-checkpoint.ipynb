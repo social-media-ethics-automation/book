{
 "cells": [
  {
   "cell_type": "markdown",
   "id": "faf79779-95ad-498f-8c19-9a6766d205a4",
   "metadata": {},
   "source": [
    "# Demo: Lists"
   ]
  },
  {
   "cell_type": "markdown",
   "id": "5e2c424c-3ff7-4319-86de-f9bdec2e2ed5",
   "metadata": {},
   "source": [
    "# Install helpful library\n",
    "Before we begin, run the code below to install a helpful library, then refresh your browser tab.\n",
    "\n",
    "Once you've done that, when you right click here, one of the bottom options should be \"Variable Inspector.\" Open that and then drag it to the side to make two divided tabs (as I'll demonstrate). \n"
   ]
  },
  {
   "cell_type": "code",
   "execution_count": null,
   "id": "05961c0e-3f6d-4e6b-9a64-6316c0c692aa",
   "metadata": {
    "tags": []
   },
   "outputs": [],
   "source": [
    "!pip install lckr-jupyterlab-variableinspector"
   ]
  },
  {
   "cell_type": "markdown",
   "id": "e0ba5540-5133-416e-a052-b3619d4a6a41",
   "metadata": {},
   "source": [
    "## for loops with lists\n",
    "For loops allow you to repeat an action multiple times.\n",
    "\n",
    "```\n",
    "for loop_value in things_to_loop_over:\n",
    "    # Put actions to repeat here\n",
    "```\n",
    "\n",
    "For loops have to have something to loop over, which goes after \"in\".\n",
    "* You can use it with the function range to repeat an action a given number of times.\n",
    "* You can use it on a list, though we'll cover that more later.\n",
    "\n",
    "As the loop goes, it saves the current thing it is looking at in the temporary variable you list before the in.\n",
    "\n",
    "The commands you want to repeat need to be tabbed in one more level than the for statement to indicate they go inside the for loop."
   ]
  },
  {
   "cell_type": "code",
   "execution_count": 10,
   "id": "782cba83-46f2-4b48-99b9-1c3de9c86e9e",
   "metadata": {
    "tags": []
   },
   "outputs": [
    {
     "name": "stdout",
     "output_type": "stream",
     "text": [
      "0\n",
      "1\n",
      "2\n",
      "3\n",
      "4\n",
      "5\n",
      "6\n",
      "7\n",
      "8\n",
      "9\n"
     ]
    }
   ],
   "source": [
    "for num in range(10):\n",
    "    print(num)"
   ]
  },
  {
   "cell_type": "code",
   "execution_count": 11,
   "id": "9c03515d-73f8-43a7-b075-c60cf4ff2d79",
   "metadata": {},
   "outputs": [
    {
     "name": "stdout",
     "output_type": "stream",
     "text": [
      "Kyle\n",
      "Emily\n",
      "Another Person\n"
     ]
    }
   ],
   "source": [
    "for text in [\"Kyle\", \"Emily\", \"Another Person\"]:\n",
    "    print(text)"
   ]
  },
  {
   "cell_type": "code",
   "execution_count": 13,
   "id": "5d43cc61-d6b9-4ba8-94c3-9a9688fcde6f",
   "metadata": {},
   "outputs": [
    {
     "name": "stdout",
     "output_type": "stream",
     "text": [
      "Kyle is awesome!\n",
      "Emily is awesome!\n",
      "Another Person is awesome!\n"
     ]
    }
   ],
   "source": [
    "for text in [\"Kyle\", \"Emily\", \"Another Person\"]:\n",
    "    print(text + \" is awesome!\")"
   ]
  },
  {
   "cell_type": "code",
   "execution_count": 14,
   "id": "b82d591f-ee12-454e-89ea-191aab1a099c",
   "metadata": {},
   "outputs": [
    {
     "name": "stdout",
     "output_type": "stream",
     "text": [
      "KYLE IS AWESOME!\n",
      "EMILY IS AWESOME!\n",
      "ANOTHER PERSON IS AWESOME!\n"
     ]
    }
   ],
   "source": [
    "for text in [\"Kyle\", \"Emily\", \"Another Person\"]:\n",
    "    sentence = text + \" is awesome!\"\n",
    "    upper_sentence = sentence.upper()\n",
    "    print(upper_sentence)"
   ]
  },
  {
   "cell_type": "code",
   "execution_count": 15,
   "id": "39a89427-b5f0-42e7-a922-71f244016f52",
   "metadata": {},
   "outputs": [
    {
     "ename": "IndentationError",
     "evalue": "expected an indented block (2398561931.py, line 3)",
     "output_type": "error",
     "traceback": [
      "\u001b[0;36m  File \u001b[0;32m\"/tmp/ipykernel_187/2398561931.py\"\u001b[0;36m, line \u001b[0;32m3\u001b[0m\n\u001b[0;31m    print(text + \" is awesome!\")\u001b[0m\n\u001b[0m    ^\u001b[0m\n\u001b[0;31mIndentationError\u001b[0m\u001b[0;31m:\u001b[0m expected an indented block\n"
     ]
    }
   ],
   "source": [
    "#Error if inside is not spaced over\n",
    "# for loops need sonmething inside, which is signaled\n",
    "# by the spaced over line after it\n",
    "# if there is no spaced over line, it thinks you forgot\n",
    "for text in [\"Kyle\", \"Emily\", \"Another Person\"]:\n",
    "print(text + \" is awesome!\")"
   ]
  },
  {
   "cell_type": "code",
   "execution_count": 16,
   "id": "8692c01e-3033-4772-b597-708ef42a029f",
   "metadata": {},
   "outputs": [
    {
     "name": "stdout",
     "output_type": "stream",
     "text": [
      "<<<<< 1/40\n",
      "^^^^^ 2/40\n",
      ">>>>> 3/40\n",
      "vvvvv 4/40\n",
      "<<<<< 5/40\n",
      "^^^^^ 6/40\n",
      ">>>>> 7/40\n",
      "vvvvv 8/40\n",
      "<<<<< 9/40\n",
      "^^^^^ 10/40\n",
      ">>>>> 11/40\n",
      "vvvvv 12/40\n",
      "<<<<< 13/40\n",
      "^^^^^ 14/40\n",
      ">>>>> 15/40\n",
      "vvvvv 16/40\n",
      "<<<<< 17/40\n",
      "^^^^^ 18/40\n",
      ">>>>> 19/40\n",
      "vvvvv 20/40\n",
      "<<<<< 21/40\n",
      "^^^^^ 22/40\n",
      ">>>>> 23/40\n",
      "vvvvv 24/40\n",
      "<<<<< 25/40\n",
      "^^^^^ 26/40\n",
      ">>>>> 27/40\n",
      "vvvvv 28/40\n",
      "<<<<< 29/40\n",
      "^^^^^ 30/40\n",
      ">>>>> 31/40\n",
      "vvvvv 32/40\n",
      "<<<<< 33/40\n",
      "^^^^^ 34/40\n",
      ">>>>> 35/40\n",
      "vvvvv 36/40\n",
      "<<<<< 37/40\n",
      "^^^^^ 38/40\n",
      ">>>>> 39/40\n",
      "vvvvv 40/40\n"
     ]
    }
   ],
   "source": [
    "for x in range(10):\n",
    "    print(\"<<<<< \" + str(x*4 + 1) + \"/40\")\n",
    "    print(\"^^^^^ \" + str(x*4 + 2) + \"/40\")\n",
    "    print(\">>>>> \" + str(x*4 + 3) + \"/40\")\n",
    "    print(\"vvvvv \" + str(x*4 + 4) + \"/40\")"
   ]
  }
 ],
 "metadata": {
  "kernelspec": {
   "display_name": "Python 3 (ipykernel)",
   "language": "python",
   "name": "python3"
  },
  "language_info": {
   "codemirror_mode": {
    "name": "ipython",
    "version": 3
   },
   "file_extension": ".py",
   "mimetype": "text/x-python",
   "name": "python",
   "nbconvert_exporter": "python",
   "pygments_lexer": "ipython3",
   "version": "3.10.4"
  }
 },
 "nbformat": 4,
 "nbformat_minor": 5
}
