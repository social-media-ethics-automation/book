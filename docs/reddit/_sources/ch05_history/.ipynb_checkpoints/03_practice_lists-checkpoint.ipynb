{
 "cells": [
  {
   "cell_type": "markdown",
   "id": "e48c9d68-e85e-4a46-9f52-472192bdfd18",
   "metadata": {},
   "source": [
    "# Lab: Twitter Bot Practice"
   ]
  },
  {
   "cell_type": "markdown",
   "id": "8b1864e4-8fc5-4c48-a513-da19ed8cecf7",
   "metadata": {},
   "source": [
    "## Install and import the \"tweepy\" library of code that gives us twitter functions"
   ]
  },
  {
   "cell_type": "code",
   "execution_count": null,
   "id": "b4a2f30a-b67e-456f-ad6e-0251d1777751",
   "metadata": {},
   "outputs": [],
   "source": [
    "!pip install tweepy \n",
    "import tweepy"
   ]
  },
  {
   "cell_type": "markdown",
   "id": "bcfc5b90-db9a-420f-9e70-4fd004381332",
   "metadata": {
    "tags": []
   },
   "source": [
    "## Log in"
   ]
  },
  {
   "cell_type": "code",
   "execution_count": null,
   "id": "24a7149b-a1e7-42f2-aae4-eea1c641404c",
   "metadata": {
    "tags": []
   },
   "outputs": [],
   "source": [
    "# copy in the code from test_twitter_bot_keys.ipynb\n"
   ]
  },
  {
   "cell_type": "markdown",
   "id": "bebdbf83-4e5b-4550-a844-f507d9de1389",
   "metadata": {},
   "source": [
    "## Tweepy Review (refer to lab 1.5, but do NOT use the same answers)"
   ]
  },
  {
   "cell_type": "markdown",
   "id": "74c72fe3-4c79-46b5-9f95-0d5385fecb12",
   "metadata": {},
   "source": [
    "1) Search for a tweet that includes the phrase \"happy wednesday\""
   ]
  },
  {
   "cell_type": "code",
   "execution_count": null,
   "id": "74d8769e-9b23-461f-a18a-a846b1084204",
   "metadata": {},
   "outputs": [],
   "source": []
  },
  {
   "cell_type": "markdown",
   "id": "bee05c85-fd27-454d-b4c9-4f5ad4e7df2d",
   "metadata": {},
   "source": [
    "2. Create a variable called `username` and assign it to a username of an account of your choice."
   ]
  },
  {
   "cell_type": "code",
   "execution_count": null,
   "id": "e18a3107-cce0-4016-99be-1a1f98da3db4",
   "metadata": {},
   "outputs": [],
   "source": []
  },
  {
   "cell_type": "markdown",
   "id": "8fd96654-35be-4e1d-b738-a7821e6bbe70",
   "metadata": {},
   "source": [
    "3. Get the user ID of the same account as above using the `username` variable. Store the user ID in the variable `user_id`. Show the output of the variable using the `display()` function."
   ]
  },
  {
   "cell_type": "code",
   "execution_count": null,
   "id": "32bc91ba-bca7-4528-bddf-a7868f80cf12",
   "metadata": {},
   "outputs": [],
   "source": []
  },
  {
   "cell_type": "markdown",
   "id": "c0fd810e-2aad-425f-b08d-ed8383b33fd7",
   "metadata": {},
   "source": [
    "4. Get the user mentions using the `user_id` variable."
   ]
  },
  {
   "cell_type": "code",
   "execution_count": null,
   "id": "c036f3d3-e822-4f5d-9c50-6088cf49ebcc",
   "metadata": {},
   "outputs": [],
   "source": []
  },
  {
   "cell_type": "markdown",
   "id": "f0d6d920-0207-46f1-bb33-73fe33c60f2b",
   "metadata": {},
   "source": [
    "5. Get who the user follow using the `user_id` variable."
   ]
  },
  {
   "cell_type": "code",
   "execution_count": null,
   "id": "c3618915-1341-4023-9451-83c1188c505f",
   "metadata": {},
   "outputs": [],
   "source": []
  },
  {
   "cell_type": "markdown",
   "id": "650f77ba-2ab8-4283-a7f8-6885856da0cf",
   "metadata": {},
   "source": [
    "## Tweeting"
   ]
  },
  {
   "cell_type": "markdown",
   "id": "641e5fc1-6634-41bf-a499-21381be6b1e6",
   "metadata": {},
   "source": [
    "### Writing and posting a tweet"
   ]
  },
  {
   "cell_type": "code",
   "execution_count": null,
   "id": "5f971a63-0e44-4a99-ba28-e9660d9bce28",
   "metadata": {},
   "outputs": [],
   "source": [
    "# before tweeting, we recommend you display the output first:\n",
    "\n",
    "display(\"This tweet was posted by a computer program!\")\n",
    "\n",
    "\n",
    "# this is the basic structure to post a tweet. if you want, try running this code block and\n",
    "# check your twitter account to see if it worked!\n",
    "\n",
    "client.create_tweet(text=\"This tweet was posted by a computer program!\")"
   ]
  },
  {
   "cell_type": "markdown",
   "id": "79541534-4ac2-43a0-ae86-c02817c43e97",
   "metadata": {},
   "source": [
    "6. Display something you learned in the class so far."
   ]
  },
  {
   "cell_type": "code",
   "execution_count": null,
   "id": "af5757f6-c84a-4b1c-ac0a-d2062cc0f8e5",
   "metadata": {},
   "outputs": [],
   "source": []
  },
  {
   "cell_type": "markdown",
   "id": "07f43d76-8804-44bb-abff-f5b5c8ef87d8",
   "metadata": {},
   "source": [
    "7. Now, tweet the sentence you displayed in question #6."
   ]
  },
  {
   "cell_type": "code",
   "execution_count": null,
   "id": "c2d7e657-dbc7-4fe0-8141-5d562499f7df",
   "metadata": {},
   "outputs": [],
   "source": []
  },
  {
   "cell_type": "markdown",
   "id": "1353f3c9-2ae3-42e0-ac9d-653f382ebdc5",
   "metadata": {},
   "source": [
    "8. Display 5 tweets of your choice at least 20 seconds apart."
   ]
  },
  {
   "cell_type": "code",
   "execution_count": null,
   "id": "92846e3d-1247-4fc5-adb5-68c2641268c3",
   "metadata": {},
   "outputs": [],
   "source": []
  },
  {
   "cell_type": "markdown",
   "id": "68858621-c911-4f9f-b636-f16f81b6e3fa",
   "metadata": {},
   "source": [
    "9. Now, post the tweets in question #8."
   ]
  },
  {
   "cell_type": "code",
   "execution_count": null,
   "id": "f2bcd437-8c3e-41a1-9ed6-e00eec0a9b1a",
   "metadata": {},
   "outputs": [],
   "source": []
  },
  {
   "cell_type": "markdown",
   "id": "ad092213-814c-4572-875d-23c7271a352a",
   "metadata": {},
   "source": [
    "10. Look up tweets that include the phrase \"hello world\" and store it in a variable called `test_list`. "
   ]
  },
  {
   "cell_type": "code",
   "execution_count": null,
   "id": "bcd99eef-28b9-4b41-bacc-e1b39c53997d",
   "metadata": {},
   "outputs": [],
   "source": []
  },
  {
   "cell_type": "markdown",
   "id": "d6103326-2c1e-4e0c-9cbc-62b9c3dceb2d",
   "metadata": {},
   "source": [
    "### Looping through lists"
   ]
  },
  {
   "cell_type": "markdown",
   "id": "0a112e0d-cc2a-48ca-a7d5-5f1ae7507e72",
   "metadata": {},
   "source": [
    "There are two main ways to loop through lists.\n",
    "\n",
    "#1) using the values as indexes:\n",
    "\n",
    "```\n",
    "senses = ['touch', 'smell', 'taste']\n",
    "\n",
    "for sense in senses:\n",
    "    print(sense)\n",
    "    \n",
    "    \n",
    "'touch'\n",
    "'smell'\n",
    "'taste'\n",
    "\n",
    "```\n",
    "\n",
    "\n",
    "\n",
    "#2) Accessing values through their associated index:\n",
    "\n",
    "```\n",
    "senses = ['touch', 'smell', 'taste']\n",
    "\n",
    "for i in range(3):\n",
    "    print(senses[i])\n",
    "    \n",
    "    \n",
    "'touch'\n",
    "'smell'\n",
    "'taste'\n",
    "\n",
    "```"
   ]
  },
  {
   "cell_type": "markdown",
   "id": "cc675390-1381-4068-b26f-457c09d07f7a",
   "metadata": {},
   "source": [
    "11. Create a loop. Loop through the list `test_list`. Display the first 5 tweets in the list."
   ]
  },
  {
   "cell_type": "code",
   "execution_count": null,
   "id": "241beed4-97ff-4da2-9d94-18accd4e176a",
   "metadata": {},
   "outputs": [],
   "source": []
  },
  {
   "cell_type": "markdown",
   "id": "1eb4dcd3-22d0-49b1-b7dc-d05fb389249b",
   "metadata": {},
   "source": [
    "## More Python!"
   ]
  },
  {
   "cell_type": "markdown",
   "id": "48c1f048-04d7-4e52-ab6b-70ed56c26b0f",
   "metadata": {
    "tags": []
   },
   "source": [
    "### String Manipulation"
   ]
  },
  {
   "cell_type": "markdown",
   "id": "8e7b5d78-acae-45af-8c6e-3a77e7a97f2e",
   "metadata": {},
   "source": [
    "*Some notes: A string is a list of characters in order. An empty string is a string that has 0 characters. Python recognize as strings everything inside quotation marks\n",
    "(” ” or ‘ ‘)."
   ]
  },
  {
   "cell_type": "markdown",
   "id": "810b4195-bb2f-4c13-b1df-dcb07d7be89e",
   "metadata": {},
   "source": [
    "### String Review!"
   ]
  },
  {
   "cell_type": "markdown",
   "id": "49f5188f-8aec-4726-834f-0fe874601369",
   "metadata": {},
   "source": [
    "12. Create a variable that stores the string \"Hello World\". Return only the second word using indexing."
   ]
  },
  {
   "cell_type": "code",
   "execution_count": null,
   "id": "b0487b50-b16f-40df-ac5b-2e14490bb1ca",
   "metadata": {},
   "outputs": [],
   "source": []
  },
  {
   "cell_type": "markdown",
   "id": "05a69a1c-1b2e-4e60-a625-6c089b99ed53",
   "metadata": {},
   "source": [
    "13. Using the variable you made in question #12, store the first letters of both words in a new variable called `first_characters`."
   ]
  },
  {
   "cell_type": "code",
   "execution_count": null,
   "id": "6b5ba2a9-ac0f-4476-a0a8-d87c6163b5af",
   "metadata": {},
   "outputs": [],
   "source": []
  },
  {
   "cell_type": "markdown",
   "id": "deea9921-b290-4d09-b963-b46ae25a1a68",
   "metadata": {},
   "source": [
    "14. Return the length of the variable you made in question #12."
   ]
  },
  {
   "cell_type": "code",
   "execution_count": null,
   "id": "c3fdf0b0-5401-44ed-be88-c527f3893789",
   "metadata": {},
   "outputs": [],
   "source": []
  },
  {
   "cell_type": "markdown",
   "id": "9fc0d784-c21f-40e2-bd51-806936be32be",
   "metadata": {},
   "source": [
    "### count()"
   ]
  },
  {
   "cell_type": "markdown",
   "id": "d59876e9-2ac0-4a8c-a274-5a9114175b48",
   "metadata": {},
   "source": [
    "The `count()` function returns the number of times a specified character is in a string."
   ]
  },
  {
   "cell_type": "code",
   "execution_count": null,
   "id": "1c1d5944-2924-4808-a8e5-59d8e0bd30b2",
   "metadata": {},
   "outputs": [],
   "source": [
    "# try out the following example:\n",
    "\n",
    "weather = \"Seattle has a slight drizzle\"\n",
    "weather.count('t')"
   ]
  },
  {
   "cell_type": "markdown",
   "id": "7c8d5a01-8153-4f31-a0d4-f6584140567b",
   "metadata": {},
   "source": [
    "15. Return the number of times the character 'l' is in \"Hello World\" using `count()`"
   ]
  },
  {
   "cell_type": "code",
   "execution_count": null,
   "id": "3641fa02-a33a-45a5-9ad4-3925cbc2fa8c",
   "metadata": {},
   "outputs": [],
   "source": []
  },
  {
   "cell_type": "markdown",
   "id": "805a75c6-d293-48db-9dd8-fe4da41a1fd1",
   "metadata": {},
   "source": [
    "### index()"
   ]
  },
  {
   "cell_type": "markdown",
   "id": "a8902561-fb26-4187-a8f7-350dbb55a8f0",
   "metadata": {},
   "source": [
    "The `index()` function finds the first occurrence of the specified value. It raises an exception if the value is not found."
   ]
  },
  {
   "cell_type": "code",
   "execution_count": null,
   "id": "8aab951a-ea12-4604-a037-f1f915142fd9",
   "metadata": {},
   "outputs": [],
   "source": [
    "# try out the following example:\n",
    "\n",
    "weather.index('t')"
   ]
  },
  {
   "cell_type": "code",
   "execution_count": null,
   "id": "74468482-d188-4d5a-9c52-3def63c6588e",
   "metadata": {
    "tags": []
   },
   "outputs": [],
   "source": [
    "# try out the following example:\n",
    "\n",
    "weather.index('drizzle')"
   ]
  },
  {
   "cell_type": "code",
   "execution_count": null,
   "id": "a8b1a27b-e048-46f6-a2ad-78df9568a3b6",
   "metadata": {},
   "outputs": [],
   "source": [
    "# try out the following example:\n",
    "\n",
    "weather.index('p')      # it should return an error!"
   ]
  },
  {
   "cell_type": "markdown",
   "id": "b930523a-3d2c-4bda-918d-ff9dcfe37bcd",
   "metadata": {},
   "source": [
    "16. Return the index of the word, \"World\" in \"Hello World\"."
   ]
  },
  {
   "cell_type": "code",
   "execution_count": null,
   "id": "ae073adc-ec13-4963-9c7d-3717222cf3d7",
   "metadata": {},
   "outputs": [],
   "source": []
  },
  {
   "cell_type": "markdown",
   "id": "ab1ba753-7e80-4151-9287-ea8bc9bf542e",
   "metadata": {},
   "source": [
    "### upper() & lower()"
   ]
  },
  {
   "cell_type": "markdown",
   "id": "89d26dda-0a86-4903-81aa-4722a0f31ccb",
   "metadata": {},
   "source": [
    "These functions change upper and lower case strings"
   ]
  },
  {
   "cell_type": "code",
   "execution_count": null,
   "id": "4ab67ac8-1192-45f0-814d-0069ccc6bcd4",
   "metadata": {},
   "outputs": [],
   "source": [
    "# Try out the following example:\n",
    "\n",
    "weather = weather.upper()\n",
    "weather"
   ]
  },
  {
   "cell_type": "code",
   "execution_count": null,
   "id": "ed369359-c9d0-486b-8302-786116474d98",
   "metadata": {},
   "outputs": [],
   "source": [
    "# Try out the following example:\n",
    "\n",
    "weather = weather.lower()\n",
    "weather"
   ]
  },
  {
   "cell_type": "markdown",
   "id": "e8f043ad-12f4-48bb-9e11-2301ed0b6bfb",
   "metadata": {
    "tags": []
   },
   "source": [
    "17. Change your \"Hello World\" string to all upper case letters."
   ]
  },
  {
   "cell_type": "code",
   "execution_count": null,
   "id": "65884b87-c007-4333-932d-2ea7b63fa1b8",
   "metadata": {},
   "outputs": [],
   "source": []
  },
  {
   "cell_type": "markdown",
   "id": "b5c06476-1881-4ac0-9c45-23b75e0db5a8",
   "metadata": {},
   "source": [
    "### quotes"
   ]
  },
  {
   "cell_type": "markdown",
   "id": "7da60114-6574-4325-99b9-644ff4ecb62a",
   "metadata": {},
   "source": [
    "What if you want to include the quote character \" inside of a string? You can put a backslash character followed by a quote (\\\" or \\'). This is called an escape sequence. Python will remove the backslash, and put just the quote in the string.\n",
    "\n",
    "It looks like this:\n",
    "\n",
    "```\n",
    "print('Bob\\'s favorite language is Python')\n",
    "```"
   ]
  },
  {
   "cell_type": "code",
   "execution_count": null,
   "id": "55fa4e48-85f0-42a3-9a40-1e6a534e8f94",
   "metadata": {},
   "outputs": [],
   "source": [
    "# try it out:\n",
    "\n",
    "print('Bob\\'s favorite language is Python')"
   ]
  },
  {
   "cell_type": "code",
   "execution_count": null,
   "id": "8a0c6ca5-86d5-4ba7-8005-ae90108cebdb",
   "metadata": {},
   "outputs": [],
   "source": [
    "# again with double quotes:\n",
    "\n",
    "print(\"Bob once said, \\\"Coding is so fun!\\\"\")"
   ]
  },
  {
   "cell_type": "markdown",
   "id": "4d433b44-a9ba-4072-bcf6-69722fb91902",
   "metadata": {},
   "source": [
    "18. Print your own sentence with quotes!"
   ]
  },
  {
   "cell_type": "code",
   "execution_count": null,
   "id": "92e002eb-e289-4bd5-8b24-9d02d11fafe6",
   "metadata": {},
   "outputs": [],
   "source": []
  },
  {
   "cell_type": "markdown",
   "id": "744db08f-1ec5-4fda-b479-b2f30a1e0bcf",
   "metadata": {},
   "source": [
    "### the 'in' operator"
   ]
  },
  {
   "cell_type": "markdown",
   "id": "90d9545d-0574-4758-9d05-e313e6140bc9",
   "metadata": {},
   "source": [
    "The 'in' operator is the best way to check if a python string contains a substring.\n",
    "\n",
    "Here's what it looks like:\n",
    "\n",
    "```\n",
    "\n",
    "if \"Seattle\" in \"Seattle has a slight drizzle\":\n",
    "    print(\"Exists\")\n",
    "```"
   ]
  },
  {
   "cell_type": "code",
   "execution_count": null,
   "id": "e3954895-bc12-4907-a5d7-caa7d2916661",
   "metadata": {},
   "outputs": [],
   "source": [
    "# try it out:\n",
    "\n",
    "if \"Seattle\" in \"Seattle has a slight drizzle\":\n",
    "    print(\"Exists\")"
   ]
  },
  {
   "cell_type": "code",
   "execution_count": null,
   "id": "92f058b6-d536-4e4b-ab00-3a439d9e8de5",
   "metadata": {},
   "outputs": [],
   "source": [
    "# similar example:\n",
    "\n",
    "if \"Seattle\" in \"San Francisco has a slight drizzle\":\n",
    "    print(\"Exists\")\n",
    "else:\n",
    "    print(\"Does not exist\")"
   ]
  },
  {
   "cell_type": "code",
   "execution_count": null,
   "id": "e1a43374-ec75-45f1-9e42-707578494bc3",
   "metadata": {},
   "outputs": [],
   "source": [
    "# you can also use variables:\n",
    "\n",
    "if \"seattle\" in weather:\n",
    "    print(\"Exists\")"
   ]
  },
  {
   "cell_type": "markdown",
   "id": "b6ac3cce-d46b-4f70-8874-ed0c48a5826f",
   "metadata": {},
   "source": [
    "19. Find out if \"hey\" is in \"Hello World\" using the 'in' operator."
   ]
  },
  {
   "cell_type": "code",
   "execution_count": null,
   "id": "0ec5a545-2922-437a-8fa7-f4a6fec09c7a",
   "metadata": {},
   "outputs": [],
   "source": []
  },
  {
   "cell_type": "markdown",
   "id": "7e76ec43-5feb-409c-aac6-324f5843ea21",
   "metadata": {},
   "source": [
    "### split() function"
   ]
  },
  {
   "cell_type": "markdown",
   "id": "21d30f35-a61b-4b24-bb60-3e2db7301296",
   "metadata": {},
   "source": [
    "The `split()` function splits a string into a list."
   ]
  },
  {
   "cell_type": "code",
   "execution_count": null,
   "id": "73abfb42-b269-4dd2-a564-013d2bd95cc1",
   "metadata": {},
   "outputs": [],
   "source": [
    "# try out the following example:\n",
    "\n",
    "hello_example = \"Hello world! Who's ready to code?\"\n",
    "\n",
    "hello_example = hello_example.split()\n",
    "\n",
    "print(hello_example)"
   ]
  },
  {
   "cell_type": "code",
   "execution_count": null,
   "id": "821b06d5-328a-4fa1-80e5-2663c780fe02",
   "metadata": {},
   "outputs": [],
   "source": [
    "# try out this example:\n",
    "\n",
    "weather_example = \"it was a gloomy, rainy, brisk Wednesday morning.\"\n",
    "\n",
    "weather_example = weather_example.split(\", \")\n",
    "\n",
    "print(weather_example)"
   ]
  },
  {
   "cell_type": "markdown",
   "id": "cc46d606-6dc9-4f20-b5ac-f2d65ebe0953",
   "metadata": {},
   "source": [
    "20. Split a sentence of your choice based on spaces:"
   ]
  },
  {
   "cell_type": "code",
   "execution_count": null,
   "id": "6e12fe0f-1cd6-4662-a3be-6d309cd285b7",
   "metadata": {},
   "outputs": [],
   "source": []
  },
  {
   "cell_type": "markdown",
   "id": "25834af5-ec34-42a2-877a-687ca777e7a9",
   "metadata": {},
   "source": [
    "21. Split your UW email based on the \"@\" symbol:"
   ]
  },
  {
   "cell_type": "code",
   "execution_count": null,
   "id": "a9de36de-74f8-4db5-b06c-be72a7ba8f37",
   "metadata": {},
   "outputs": [],
   "source": []
  }
 ],
 "metadata": {
  "kernelspec": {
   "display_name": "Python 3 (ipykernel)",
   "language": "python",
   "name": "python3"
  },
  "language_info": {
   "codemirror_mode": {
    "name": "ipython",
    "version": 3
   },
   "file_extension": ".py",
   "mimetype": "text/x-python",
   "name": "python",
   "nbconvert_exporter": "python",
   "pygments_lexer": "ipython3",
   "version": "3.9.7"
  }
 },
 "nbformat": 4,
 "nbformat_minor": 5
}
