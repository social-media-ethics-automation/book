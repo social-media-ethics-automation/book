{
 "cells": [
  {
   "cell_type": "markdown",
   "id": "6c6e5562-c2d5-475d-9115-588d0c18f3b3",
   "metadata": {},
   "source": [
    "## Scheduling Tasks Demo"
   ]
  },
  {
   "cell_type": "markdown",
   "id": "3d200762-98f7-4efc-8be8-05961e96222c",
   "metadata": {},
   "source": [
    "This lab focuses on scheduling tasks. We're giving you some examples of python library features you could use for your project if you choose to."
   ]
  },
  {
   "cell_type": "markdown",
   "id": "1d9943ff-7e95-4f18-b9a0-9ab3f15faa09",
   "metadata": {},
   "source": [
    "#### Run this code block to install the 'schedule' package"
   ]
  },
  {
   "cell_type": "code",
   "execution_count": null,
   "id": "a1d8fd67-50ad-4b51-a303-6ef983794186",
   "metadata": {},
   "outputs": [],
   "source": [
    "! pip install schedule"
   ]
  },
  {
   "cell_type": "markdown",
   "id": "61ec1fb6-9e83-4ffa-91de-e59c3ad0bce5",
   "metadata": {},
   "source": [
    "#### Run this code block to import schedule and time libraries."
   ]
  },
  {
   "cell_type": "code",
   "execution_count": null,
   "id": "a0a57ab1-9872-40c2-ba64-83a5da60c87e",
   "metadata": {},
   "outputs": [],
   "source": [
    "import schedule\n",
    "import time"
   ]
  },
  {
   "cell_type": "markdown",
   "id": "530f9945-3979-41da-8297-fc529b681a5e",
   "metadata": {},
   "source": [
    "#### Run this code block to define a function called `job`."
   ]
  },
  {
   "cell_type": "code",
   "execution_count": null,
   "id": "ed95c7d1-23bb-43f5-9b26-ec2d7e616e7a",
   "metadata": {},
   "outputs": [],
   "source": [
    "def job():\n",
    "    print(\"I'm working...\")"
   ]
  },
  {
   "cell_type": "markdown",
   "id": "286b8c00-4714-4055-bab2-a928a2b7c2cc",
   "metadata": {},
   "source": [
    "### You can schedule a task to run periodically using `schedule.every()`"
   ]
  },
  {
   "cell_type": "markdown",
   "id": "0501812d-1f7f-4d33-a363-468402ddfa2c",
   "metadata": {},
   "source": [
    "schedule is a simple library used to schedule the of running functions. You can create bots for automated processes that enable programs to run without human interaction. We'll be going through some examples of how you could do this."
   ]
  },
  {
   "cell_type": "markdown",
   "id": "c03d4a5b-0e65-4947-a388-94b737b68360",
   "metadata": {},
   "source": [
    "### Before we go over some examples, let talk about how to Interrupt the Kernel & why this matters."
   ]
  },
  {
   "cell_type": "markdown",
   "id": "6ca0d2cb-f419-4987-8332-d029467d9a56",
   "metadata": {},
   "source": [
    "##### The task of scheduling, especially in this lab, usually creates an infinite loop. An infinite loop is a sequence of instructions that will continue endlessly, unless an external intervention occurs.\n",
    "\n",
    "##### To stop a code block from continuing to run, you can use the stop kernel button at the top of your JupyterHub Notebook:\n",
    "\n",
    "&nbsp; &nbsp; &nbsp; <img src=\"stop_kernel.png\" alt=\"a screenshot of the top bar of JupyterHub wiith an arrow pointing ar the 'stop kernel'\" width=\"500\" />"
   ]
  },
  {
   "cell_type": "markdown",
   "id": "0057daf4-0787-4404-b63c-5a48b1bca30a",
   "metadata": {},
   "source": [
    "### Try out the following example:"
   ]
  },
  {
   "cell_type": "code",
   "execution_count": null,
   "id": "847eebed-9e9e-42fa-b30e-960610ae16ca",
   "metadata": {},
   "outputs": [],
   "source": [
    "# This line of code runs the \"job\" function every 10 seconds.\n",
    "# Note: If you want to run the next code block, press the stop kernel button\n",
    "\n",
    "schedule.every(10).seconds.do(job)\n",
    "\n",
    "# Loop so that the scheduling task keeps on running forever.\n",
    "while True:\n",
    "    schedule.run_pending()\n",
    "    time.sleep(1)"
   ]
  },
  {
   "cell_type": "markdown",
   "id": "77346eeb-359b-469a-ab27-d2c201ab62d6",
   "metadata": {},
   "source": [
    "### Try out the following example with minutes:"
   ]
  },
  {
   "cell_type": "code",
   "execution_count": null,
   "id": "58f731ca-302d-4f58-84fd-193c5e96b3e1",
   "metadata": {},
   "outputs": [],
   "source": [
    "# This line of code runs the \"job\" function every 2 minutes.\n",
    "# Note: If you want to run the next code block, press the stop kernel button\n",
    "\n",
    "schedule.every(2).minutes.do(job)\n",
    "\n",
    "# Loop so that the scheduling task keeps on running forever.\n",
    "while True:\n",
    "    schedule.run_pending()\n",
    "    time.sleep(1)"
   ]
  },
  {
   "cell_type": "markdown",
   "id": "5aa278be-1d1a-4134-aca9-37a47f769e3e",
   "metadata": {},
   "source": [
    "### These are a few more examples you could use in your projects (you probably don't want to run this code block right now): "
   ]
  },
  {
   "cell_type": "code",
   "execution_count": null,
   "id": "9f492eec-31d0-40e9-b3a9-a58e7ef90c31",
   "metadata": {},
   "outputs": [],
   "source": [
    "# runs a task every 10 minutes\n",
    "schedule.every(10).minutes.do(job)\n",
    "\n",
    "# runs a task every x hours\n",
    "schedule.every().hour.do(job)\n",
    "\n",
    "# runs a task at a specific time of day\n",
    "schedule.every().day.at(\"10:30\").do(job)\n",
    "\n",
    "# runs a task every 5 to 10 minutes\n",
    "schedule.every(5).to(10).minutes.do(job)\n",
    "\n",
    "# runs a rask every monday\n",
    "schedule.every().monday.do(job)\n",
    "\n",
    "# runs a task every wednesday at 1:15pm\n",
    "schedule.every().wednesday.at(\"13:15\").do(job)\n",
    "\n",
    "# runs a task every \n",
    "schedule.every().minute.at(\":17\").do(job)\n",
    "\n",
    "# Loop so that the scheduling task keeps on running forever.\n",
    "while True:\n",
    "    schedule.run_pending()\n",
    "    time.sleep(1)"
   ]
  },
  {
   "cell_type": "markdown",
   "id": "575d68dc-1c35-4078-8cd7-d060f0febf86",
   "metadata": {},
   "source": [
    "#### 1. YOU TRY: Create a function of your choice."
   ]
  },
  {
   "cell_type": "code",
   "execution_count": null,
   "id": "ce3de24a-fc48-4b3e-bcb2-9e96475dac53",
   "metadata": {},
   "outputs": [],
   "source": []
  },
  {
   "cell_type": "markdown",
   "id": "fcd5cf50-542e-4d2d-9cb2-089160ba9f5f",
   "metadata": {},
   "source": [
    "#### 2. Implement a scheduling task to run your function every 3 seconds. "
   ]
  },
  {
   "cell_type": "code",
   "execution_count": null,
   "id": "8c493bae-539f-4d31-b8f0-3d5b49935418",
   "metadata": {},
   "outputs": [],
   "source": []
  },
  {
   "cell_type": "markdown",
   "id": "3abf98ed-03ec-44f0-814b-c6760b333125",
   "metadata": {},
   "source": [
    "#### CHALLENGE: Check out the documentation and implement a scheduling task not shown in any of the previous examples: \n",
    "\n",
    "https://schedule.readthedocs.io/en/stable/\n",
    "\n",
    "https://schedule.readthedocs.io/en/stable/examples.html"
   ]
  },
  {
   "cell_type": "code",
   "execution_count": null,
   "id": "6c271e55-0e1c-41fe-aacb-4dcccbfa4b16",
   "metadata": {},
   "outputs": [],
   "source": []
  }
 ],
 "metadata": {
  "kernelspec": {
   "display_name": "Python 3 (ipykernel)",
   "language": "python",
   "name": "python3"
  },
  "language_info": {
   "codemirror_mode": {
    "name": "ipython",
    "version": 3
   },
   "file_extension": ".py",
   "mimetype": "text/x-python",
   "name": "python",
   "nbconvert_exporter": "python",
   "pygments_lexer": "ipython3",
   "version": "3.9.7"
  }
 },
 "nbformat": 4,
 "nbformat_minor": 5
}
