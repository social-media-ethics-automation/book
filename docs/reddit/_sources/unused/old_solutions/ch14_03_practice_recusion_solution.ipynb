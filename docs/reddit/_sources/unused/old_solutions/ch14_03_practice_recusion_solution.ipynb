{
 "cells": [
  {
   "cell_type": "markdown",
   "id": "708ff3e9-f84c-4631-8297-493da4da76dc",
   "metadata": {},
   "source": [
    "# Recursion"
   ]
  },
  {
   "cell_type": "markdown",
   "id": "61dcb860-55c7-4d4e-9bc9-7630b42124aa",
   "metadata": {},
   "source": [
    "## Twitter Practice"
   ]
  },
  {
   "cell_type": "markdown",
   "id": "e1806b73-1393-4792-8f51-1a2c0f7405c0",
   "metadata": {},
   "source": [
    "#### Normal set up: run the following code block"
   ]
  },
  {
   "cell_type": "code",
   "execution_count": 1,
   "id": "1a3bee5c-fb68-4daf-9bee-72d34bb53cb6",
   "metadata": {
    "tags": []
   },
   "outputs": [
    {
     "name": "stdout",
     "output_type": "stream",
     "text": [
      "Collecting lckr-jupyterlab-variableinspector\n",
      "  Using cached lckr_jupyterlab_variableinspector-3.0.9-py3-none-any.whl\n",
      "Requirement already satisfied: jupyterlab==3.*,>=3.0.0rc13 in /opt/conda/lib/python3.9/site-packages (from lckr-jupyterlab-variableinspector) (3.2.3)\n",
      "Requirement already satisfied: jinja2>=2.1 in /opt/conda/lib/python3.9/site-packages (from jupyterlab==3.*,>=3.0.0rc13->lckr-jupyterlab-variableinspector) (3.0.2)\n",
      "Requirement already satisfied: jupyterlab-server~=2.3 in /opt/conda/lib/python3.9/site-packages (from jupyterlab==3.*,>=3.0.0rc13->lckr-jupyterlab-variableinspector) (2.8.2)\n",
      "Requirement already satisfied: ipython in /opt/conda/lib/python3.9/site-packages (from jupyterlab==3.*,>=3.0.0rc13->lckr-jupyterlab-variableinspector) (7.29.0)\n",
      "Requirement already satisfied: jupyter-server~=1.4 in /opt/conda/lib/python3.9/site-packages (from jupyterlab==3.*,>=3.0.0rc13->lckr-jupyterlab-variableinspector) (1.11.2)\n",
      "Requirement already satisfied: packaging in /opt/conda/lib/python3.9/site-packages (from jupyterlab==3.*,>=3.0.0rc13->lckr-jupyterlab-variableinspector) (21.2)\n",
      "Requirement already satisfied: jupyter-core in /opt/conda/lib/python3.9/site-packages (from jupyterlab==3.*,>=3.0.0rc13->lckr-jupyterlab-variableinspector) (4.9.1)\n",
      "Requirement already satisfied: nbclassic~=0.2 in /opt/conda/lib/python3.9/site-packages (from jupyterlab==3.*,>=3.0.0rc13->lckr-jupyterlab-variableinspector) (0.2.8)\n",
      "Requirement already satisfied: tornado>=6.1.0 in /opt/conda/lib/python3.9/site-packages (from jupyterlab==3.*,>=3.0.0rc13->lckr-jupyterlab-variableinspector) (6.1)\n",
      "Requirement already satisfied: MarkupSafe>=2.0 in /opt/conda/lib/python3.9/site-packages (from jinja2>=2.1->jupyterlab==3.*,>=3.0.0rc13->lckr-jupyterlab-variableinspector) (2.0.1)\n",
      "Requirement already satisfied: ipython-genutils in /opt/conda/lib/python3.9/site-packages (from jupyter-server~=1.4->jupyterlab==3.*,>=3.0.0rc13->lckr-jupyterlab-variableinspector) (0.2.0)\n",
      "Requirement already satisfied: pyzmq>=17 in /opt/conda/lib/python3.9/site-packages (from jupyter-server~=1.4->jupyterlab==3.*,>=3.0.0rc13->lckr-jupyterlab-variableinspector) (22.3.0)\n",
      "Requirement already satisfied: jupyter-client>=6.1.1 in /opt/conda/lib/python3.9/site-packages (from jupyter-server~=1.4->jupyterlab==3.*,>=3.0.0rc13->lckr-jupyterlab-variableinspector) (7.0.6)\n",
      "Requirement already satisfied: anyio<4,>=3.1.0 in /opt/conda/lib/python3.9/site-packages (from jupyter-server~=1.4->jupyterlab==3.*,>=3.0.0rc13->lckr-jupyterlab-variableinspector) (3.3.4)\n",
      "Requirement already satisfied: argon2-cffi in /opt/conda/lib/python3.9/site-packages (from jupyter-server~=1.4->jupyterlab==3.*,>=3.0.0rc13->lckr-jupyterlab-variableinspector) (21.1.0)\n",
      "Requirement already satisfied: traitlets>=4.2.1 in /opt/conda/lib/python3.9/site-packages (from jupyter-server~=1.4->jupyterlab==3.*,>=3.0.0rc13->lckr-jupyterlab-variableinspector) (5.1.1)\n",
      "Requirement already satisfied: prometheus-client in /opt/conda/lib/python3.9/site-packages (from jupyter-server~=1.4->jupyterlab==3.*,>=3.0.0rc13->lckr-jupyterlab-variableinspector) (0.12.0)\n",
      "Requirement already satisfied: websocket-client in /opt/conda/lib/python3.9/site-packages (from jupyter-server~=1.4->jupyterlab==3.*,>=3.0.0rc13->lckr-jupyterlab-variableinspector) (0.57.0)\n",
      "Requirement already satisfied: Send2Trash in /opt/conda/lib/python3.9/site-packages (from jupyter-server~=1.4->jupyterlab==3.*,>=3.0.0rc13->lckr-jupyterlab-variableinspector) (1.8.0)\n",
      "Requirement already satisfied: nbformat in /opt/conda/lib/python3.9/site-packages (from jupyter-server~=1.4->jupyterlab==3.*,>=3.0.0rc13->lckr-jupyterlab-variableinspector) (5.1.3)\n",
      "Requirement already satisfied: terminado>=0.8.3 in /opt/conda/lib/python3.9/site-packages (from jupyter-server~=1.4->jupyterlab==3.*,>=3.0.0rc13->lckr-jupyterlab-variableinspector) (0.12.1)\n",
      "Requirement already satisfied: nbconvert in /opt/conda/lib/python3.9/site-packages (from jupyter-server~=1.4->jupyterlab==3.*,>=3.0.0rc13->lckr-jupyterlab-variableinspector) (6.2.0)\n",
      "Requirement already satisfied: requests in /opt/conda/lib/python3.9/site-packages (from jupyterlab-server~=2.3->jupyterlab==3.*,>=3.0.0rc13->lckr-jupyterlab-variableinspector) (2.26.0)\n",
      "Requirement already satisfied: entrypoints>=0.2.2 in /opt/conda/lib/python3.9/site-packages (from jupyterlab-server~=2.3->jupyterlab==3.*,>=3.0.0rc13->lckr-jupyterlab-variableinspector) (0.3)\n",
      "Requirement already satisfied: jsonschema>=3.0.1 in /opt/conda/lib/python3.9/site-packages (from jupyterlab-server~=2.3->jupyterlab==3.*,>=3.0.0rc13->lckr-jupyterlab-variableinspector) (4.2.1)\n",
      "Requirement already satisfied: babel in /opt/conda/lib/python3.9/site-packages (from jupyterlab-server~=2.3->jupyterlab==3.*,>=3.0.0rc13->lckr-jupyterlab-variableinspector) (2.9.1)\n",
      "Requirement already satisfied: json5 in /opt/conda/lib/python3.9/site-packages (from jupyterlab-server~=2.3->jupyterlab==3.*,>=3.0.0rc13->lckr-jupyterlab-variableinspector) (0.9.5)\n",
      "Requirement already satisfied: notebook<7 in /opt/conda/lib/python3.9/site-packages (from nbclassic~=0.2->jupyterlab==3.*,>=3.0.0rc13->lckr-jupyterlab-variableinspector) (6.4.5)\n",
      "Requirement already satisfied: decorator in /opt/conda/lib/python3.9/site-packages (from ipython->jupyterlab==3.*,>=3.0.0rc13->lckr-jupyterlab-variableinspector) (5.1.0)\n",
      "Requirement already satisfied: setuptools>=18.5 in /opt/conda/lib/python3.9/site-packages (from ipython->jupyterlab==3.*,>=3.0.0rc13->lckr-jupyterlab-variableinspector) (58.5.3)\n",
      "Requirement already satisfied: matplotlib-inline in /opt/conda/lib/python3.9/site-packages (from ipython->jupyterlab==3.*,>=3.0.0rc13->lckr-jupyterlab-variableinspector) (0.1.3)\n",
      "Requirement already satisfied: pickleshare in /opt/conda/lib/python3.9/site-packages (from ipython->jupyterlab==3.*,>=3.0.0rc13->lckr-jupyterlab-variableinspector) (0.7.5)\n",
      "Requirement already satisfied: backcall in /opt/conda/lib/python3.9/site-packages (from ipython->jupyterlab==3.*,>=3.0.0rc13->lckr-jupyterlab-variableinspector) (0.2.0)\n",
      "Requirement already satisfied: pygments in /opt/conda/lib/python3.9/site-packages (from ipython->jupyterlab==3.*,>=3.0.0rc13->lckr-jupyterlab-variableinspector) (2.10.0)\n",
      "Requirement already satisfied: jedi>=0.16 in /opt/conda/lib/python3.9/site-packages (from ipython->jupyterlab==3.*,>=3.0.0rc13->lckr-jupyterlab-variableinspector) (0.18.0)\n",
      "Requirement already satisfied: prompt-toolkit!=3.0.0,!=3.0.1,<3.1.0,>=2.0.0 in /opt/conda/lib/python3.9/site-packages (from ipython->jupyterlab==3.*,>=3.0.0rc13->lckr-jupyterlab-variableinspector) (3.0.22)\n",
      "Requirement already satisfied: pexpect>4.3 in /opt/conda/lib/python3.9/site-packages (from ipython->jupyterlab==3.*,>=3.0.0rc13->lckr-jupyterlab-variableinspector) (4.8.0)\n",
      "Requirement already satisfied: pyparsing<3,>=2.0.2 in /opt/conda/lib/python3.9/site-packages (from packaging->jupyterlab==3.*,>=3.0.0rc13->lckr-jupyterlab-variableinspector) (2.4.7)\n",
      "Requirement already satisfied: sniffio>=1.1 in /opt/conda/lib/python3.9/site-packages (from anyio<4,>=3.1.0->jupyter-server~=1.4->jupyterlab==3.*,>=3.0.0rc13->lckr-jupyterlab-variableinspector) (1.2.0)\n",
      "Requirement already satisfied: idna>=2.8 in /opt/conda/lib/python3.9/site-packages (from anyio<4,>=3.1.0->jupyter-server~=1.4->jupyterlab==3.*,>=3.0.0rc13->lckr-jupyterlab-variableinspector) (3.1)\n",
      "Requirement already satisfied: parso<0.9.0,>=0.8.0 in /opt/conda/lib/python3.9/site-packages (from jedi>=0.16->ipython->jupyterlab==3.*,>=3.0.0rc13->lckr-jupyterlab-variableinspector) (0.8.2)\n",
      "Requirement already satisfied: pyrsistent!=0.17.0,!=0.17.1,!=0.17.2,>=0.14.0 in /opt/conda/lib/python3.9/site-packages (from jsonschema>=3.0.1->jupyterlab-server~=2.3->jupyterlab==3.*,>=3.0.0rc13->lckr-jupyterlab-variableinspector) (0.18.0)\n",
      "Requirement already satisfied: attrs>=17.4.0 in /opt/conda/lib/python3.9/site-packages (from jsonschema>=3.0.1->jupyterlab-server~=2.3->jupyterlab==3.*,>=3.0.0rc13->lckr-jupyterlab-variableinspector) (21.2.0)\n",
      "Requirement already satisfied: nest-asyncio>=1.5 in /opt/conda/lib/python3.9/site-packages (from jupyter-client>=6.1.1->jupyter-server~=1.4->jupyterlab==3.*,>=3.0.0rc13->lckr-jupyterlab-variableinspector) (1.5.1)\n",
      "Requirement already satisfied: python-dateutil>=2.1 in /opt/conda/lib/python3.9/site-packages (from jupyter-client>=6.1.1->jupyter-server~=1.4->jupyterlab==3.*,>=3.0.0rc13->lckr-jupyterlab-variableinspector) (2.8.2)\n",
      "Requirement already satisfied: ipykernel in /opt/conda/lib/python3.9/site-packages (from notebook<7->nbclassic~=0.2->jupyterlab==3.*,>=3.0.0rc13->lckr-jupyterlab-variableinspector) (6.4.2)\n",
      "Requirement already satisfied: ptyprocess>=0.5 in /opt/conda/lib/python3.9/site-packages (from pexpect>4.3->ipython->jupyterlab==3.*,>=3.0.0rc13->lckr-jupyterlab-variableinspector) (0.7.0)\n",
      "Requirement already satisfied: wcwidth in /opt/conda/lib/python3.9/site-packages (from prompt-toolkit!=3.0.0,!=3.0.1,<3.1.0,>=2.0.0->ipython->jupyterlab==3.*,>=3.0.0rc13->lckr-jupyterlab-variableinspector) (0.2.5)\n",
      "Requirement already satisfied: cffi>=1.0.0 in /opt/conda/lib/python3.9/site-packages (from argon2-cffi->jupyter-server~=1.4->jupyterlab==3.*,>=3.0.0rc13->lckr-jupyterlab-variableinspector) (1.15.0)\n",
      "Requirement already satisfied: pytz>=2015.7 in /opt/conda/lib/python3.9/site-packages (from babel->jupyterlab-server~=2.3->jupyterlab==3.*,>=3.0.0rc13->lckr-jupyterlab-variableinspector) (2021.3)\n",
      "Requirement already satisfied: testpath in /opt/conda/lib/python3.9/site-packages (from nbconvert->jupyter-server~=1.4->jupyterlab==3.*,>=3.0.0rc13->lckr-jupyterlab-variableinspector) (0.5.0)\n",
      "Requirement already satisfied: bleach in /opt/conda/lib/python3.9/site-packages (from nbconvert->jupyter-server~=1.4->jupyterlab==3.*,>=3.0.0rc13->lckr-jupyterlab-variableinspector) (4.1.0)\n",
      "Requirement already satisfied: mistune<2,>=0.8.1 in /opt/conda/lib/python3.9/site-packages (from nbconvert->jupyter-server~=1.4->jupyterlab==3.*,>=3.0.0rc13->lckr-jupyterlab-variableinspector) (0.8.4)\n",
      "Requirement already satisfied: jupyterlab-pygments in /opt/conda/lib/python3.9/site-packages (from nbconvert->jupyter-server~=1.4->jupyterlab==3.*,>=3.0.0rc13->lckr-jupyterlab-variableinspector) (0.1.2)\n",
      "Requirement already satisfied: pandocfilters>=1.4.1 in /opt/conda/lib/python3.9/site-packages (from nbconvert->jupyter-server~=1.4->jupyterlab==3.*,>=3.0.0rc13->lckr-jupyterlab-variableinspector) (1.5.0)\n",
      "Requirement already satisfied: defusedxml in /opt/conda/lib/python3.9/site-packages (from nbconvert->jupyter-server~=1.4->jupyterlab==3.*,>=3.0.0rc13->lckr-jupyterlab-variableinspector) (0.7.1)\n",
      "Requirement already satisfied: nbclient<0.6.0,>=0.5.0 in /opt/conda/lib/python3.9/site-packages (from nbconvert->jupyter-server~=1.4->jupyterlab==3.*,>=3.0.0rc13->lckr-jupyterlab-variableinspector) (0.5.5)\n",
      "Requirement already satisfied: charset-normalizer~=2.0.0 in /opt/conda/lib/python3.9/site-packages (from requests->jupyterlab-server~=2.3->jupyterlab==3.*,>=3.0.0rc13->lckr-jupyterlab-variableinspector) (2.0.0)\n",
      "Requirement already satisfied: urllib3<1.27,>=1.21.1 in /opt/conda/lib/python3.9/site-packages (from requests->jupyterlab-server~=2.3->jupyterlab==3.*,>=3.0.0rc13->lckr-jupyterlab-variableinspector) (1.26.7)\n",
      "Requirement already satisfied: certifi>=2017.4.17 in /opt/conda/lib/python3.9/site-packages (from requests->jupyterlab-server~=2.3->jupyterlab==3.*,>=3.0.0rc13->lckr-jupyterlab-variableinspector) (2021.10.8)\n",
      "Requirement already satisfied: six in /opt/conda/lib/python3.9/site-packages (from websocket-client->jupyter-server~=1.4->jupyterlab==3.*,>=3.0.0rc13->lckr-jupyterlab-variableinspector) (1.16.0)\n",
      "Requirement already satisfied: pycparser in /opt/conda/lib/python3.9/site-packages (from cffi>=1.0.0->argon2-cffi->jupyter-server~=1.4->jupyterlab==3.*,>=3.0.0rc13->lckr-jupyterlab-variableinspector) (2.21)\n",
      "Requirement already satisfied: webencodings in /opt/conda/lib/python3.9/site-packages (from bleach->nbconvert->jupyter-server~=1.4->jupyterlab==3.*,>=3.0.0rc13->lckr-jupyterlab-variableinspector) (0.5.1)\n",
      "Requirement already satisfied: debugpy<2.0,>=1.0.0 in /opt/conda/lib/python3.9/site-packages (from ipykernel->notebook<7->nbclassic~=0.2->jupyterlab==3.*,>=3.0.0rc13->lckr-jupyterlab-variableinspector) (1.5.1)\n",
      "Installing collected packages: lckr-jupyterlab-variableinspector\n",
      "Successfully installed lckr-jupyterlab-variableinspector-3.0.9\n",
      "Collecting tweepy\n",
      "  Using cached tweepy-4.6.0-py2.py3-none-any.whl (69 kB)\n",
      "Collecting oauthlib<4,>=3.2.0\n",
      "  Using cached oauthlib-3.2.0-py3-none-any.whl (151 kB)\n",
      "Collecting requests-oauthlib<2,>=1.2.0\n",
      "  Using cached requests_oauthlib-1.3.1-py2.py3-none-any.whl (23 kB)\n",
      "Collecting requests<3,>=2.27.0\n",
      "  Using cached requests-2.27.1-py2.py3-none-any.whl (63 kB)\n",
      "Requirement already satisfied: idna<4,>=2.5 in /opt/conda/lib/python3.9/site-packages (from requests<3,>=2.27.0->tweepy) (3.1)\n",
      "Requirement already satisfied: charset-normalizer~=2.0.0 in /opt/conda/lib/python3.9/site-packages (from requests<3,>=2.27.0->tweepy) (2.0.0)\n",
      "Requirement already satisfied: urllib3<1.27,>=1.21.1 in /opt/conda/lib/python3.9/site-packages (from requests<3,>=2.27.0->tweepy) (1.26.7)\n",
      "Requirement already satisfied: certifi>=2017.4.17 in /opt/conda/lib/python3.9/site-packages (from requests<3,>=2.27.0->tweepy) (2021.10.8)\n",
      "Installing collected packages: requests, oauthlib, requests-oauthlib, tweepy\n",
      "  Attempting uninstall: requests\n",
      "    Found existing installation: requests 2.26.0\n",
      "    Uninstalling requests-2.26.0:\n",
      "      Successfully uninstalled requests-2.26.0\n",
      "  Attempting uninstall: oauthlib\n",
      "    Found existing installation: oauthlib 3.1.1\n",
      "    Uninstalling oauthlib-3.1.1:\n",
      "      Successfully uninstalled oauthlib-3.1.1\n",
      "Successfully installed oauthlib-3.2.0 requests-2.27.1 requests-oauthlib-1.3.1 tweepy-4.6.0\n"
     ]
    }
   ],
   "source": [
    "# Install variable inspector (then reload browser tab)\n",
    "!pip install lckr-jupyterlab-variableinspector\n",
    "\n",
    "# make sure tweepy library is installed\n",
    "!pip install tweepy \n",
    "import tweepy\n",
    "\n",
    "# load my twitter keys\n",
    "import my_bot_keys\n",
    "\n",
    "# log into tweepy\n",
    "client = tweepy.Client(\n",
    "    bearer_token=my_bot_keys.bearer_token,\n",
    "    consumer_key=my_bot_keys.consumer_key, consumer_secret=my_bot_keys.consumer_secret,                   \n",
    "    access_token=my_bot_keys.access_token, access_token_secret=my_bot_keys.access_token_secret\n",
    ")"
   ]
  },
  {
   "cell_type": "markdown",
   "id": "bc5a3e5d-5809-42ef-88e3-6957ca028789",
   "metadata": {},
   "source": [
    "### Getting Tweet Metrics"
   ]
  },
  {
   "cell_type": "markdown",
   "id": "c17c5b63-2b32-401d-b953-d5fcfd78adb4",
   "metadata": {},
   "source": [
    "Tweet metrics represent public information attached to any given tweet. This information incudes retweet count, reply count, like count, and quote count."
   ]
  },
  {
   "cell_type": "markdown",
   "id": "6ac66c8c-8f47-44e3-8626-f9858fc423bc",
   "metadata": {},
   "source": [
    "#### To find the ID of a tweet:\n",
    "\n",
    "The last number section of a tweet url is the ID of the tweet.\n",
    "\n",
    "If you open a tweet on twitter, you can see the url in the menu bar:\n",
    "\n",
    "&nbsp; &nbsp; &nbsp; <img src=\"tweet_url.jpg\" alt=\"the url of a tweet highlighted, with the last number part circled\" width=\"300\" />\n",
    "\n",
    "\n",
    "or you can copy the link to the tweet and you can paste it in your browser to see the url\n",
    "\n",
    "&nbsp; &nbsp; &nbsp; <img src=\"copy_link_to_tweet.jpg\" alt=\"on a tweet the share button is circled and then the copy link to tweet option is circled\" width=\"300\"/>"
   ]
  },
  {
   "cell_type": "markdown",
   "id": "f3b6b619-c564-4ba5-a505-f7111d6925da",
   "metadata": {},
   "source": [
    "#### You can get tweet metrics by specifying \"public_metrics\" in the tweet_fields parameter:"
   ]
  },
  {
   "cell_type": "code",
   "execution_count": 2,
   "id": "17220144-bb32-4289-94c2-0b5dc8880417",
   "metadata": {},
   "outputs": [
    {
     "name": "stdout",
     "output_type": "stream",
     "text": [
      "{'retweet_count': 13, 'reply_count': 0, 'like_count': 30, 'quote_count': 5}\n"
     ]
    }
   ],
   "source": [
    "# This is the structure. Try running this code block:\n",
    "\n",
    "tweet_id = 1130510065289404416\n",
    "\n",
    "tweet_info = client.get_tweet(tweet_id, tweet_fields = \"public_metrics\")\n",
    "\n",
    "tweet_metrics = tweet_info.data.public_metrics\n",
    "\n",
    "print(tweet_metrics)"
   ]
  },
  {
   "cell_type": "markdown",
   "id": "ac035073-9d31-4e61-81a9-cd5168d7e927",
   "metadata": {},
   "source": [
    "#### 1. YOU TRY: Go on twitter and find your favorite tweet. Print the tweet metrics of that tweet using the structure from the example above. \n",
    "\n",
    "#### *NOTE: for this question, you can hard code the tweet ID"
   ]
  },
  {
   "cell_type": "code",
   "execution_count": 3,
   "id": "07fcd4bd-6ade-4d17-9ba3-7b31f5b22ed2",
   "metadata": {},
   "outputs": [
    {
     "name": "stdout",
     "output_type": "stream",
     "text": [
      "{'retweet_count': 148461, 'reply_count': 2132, 'like_count': 212897, 'quote_count': 10452}\n"
     ]
    }
   ],
   "source": [
    "tweet_id = 35767743634481152\n",
    "\n",
    "tweet_info = client.get_tweet(tweet_id, tweet_fields = \"public_metrics\")\n",
    "\n",
    "tweet_metrics = tweet_info.data.public_metrics\n",
    "\n",
    "print(tweet_metrics)"
   ]
  },
  {
   "cell_type": "markdown",
   "id": "f34e9714-bc01-4146-a632-4352bf099de0",
   "metadata": {},
   "source": [
    "#### 2. Write a function that takes in a tweet ID as a paramter and returns the tweet metrics."
   ]
  },
  {
   "cell_type": "code",
   "execution_count": 4,
   "id": "b7b120e7-1963-4dc1-ba4f-67b0c0185384",
   "metadata": {},
   "outputs": [],
   "source": [
    "def get_tweet_metrics(tweet_ID):\n",
    "    tweet_info = client.get_tweet(tweet_ID, tweet_fields = \"public_metrics\")\n",
    "    tweet_metrics = tweet_info.data.public_metrics\n",
    "    return tweet_metrics"
   ]
  },
  {
   "cell_type": "markdown",
   "id": "6058e256-dd56-4fa5-8ee4-2d617cf363a5",
   "metadata": {},
   "source": [
    "#### 3. Call that function with a tweet ID of your choosing."
   ]
  },
  {
   "cell_type": "code",
   "execution_count": 5,
   "id": "6deb45a7-c9d2-446a-bc86-aa2df1c009e1",
   "metadata": {},
   "outputs": [
    {
     "data": {
      "text/plain": [
       "{'retweet_count': 148461,\n",
       " 'reply_count': 2132,\n",
       " 'like_count': 212897,\n",
       " 'quote_count': 10452}"
      ]
     },
     "execution_count": 5,
     "metadata": {},
     "output_type": "execute_result"
    }
   ],
   "source": [
    "tweet_ID = 35767743634481152\n",
    "get_tweet_metrics(tweet_ID)"
   ]
  },
  {
   "cell_type": "markdown",
   "id": "d858d895-903e-4227-b4f5-e8b67e8a7968",
   "metadata": {},
   "source": [
    "#### 4. Search for recent tweets with the query \"pike place\" and save the list in the variable `pike_tweets`. Loop through the `pike_tweets` & print the text and the metrics of each tweet."
   ]
  },
  {
   "cell_type": "code",
   "execution_count": 6,
   "id": "f8a17261-b554-45f7-a5ad-b917d279d537",
   "metadata": {},
   "outputs": [
    {
     "name": "stdout",
     "output_type": "stream",
     "text": [
      "@TobyLogsdon I used to enjoy going to Pike Place Market or taking in a ballgame. Now the only time I go there is because one of my physicians is at the UW.\n",
      "{'retweet_count': 0, 'reply_count': 0, 'like_count': 1, 'quote_count': 0}\n",
      "\n",
      "RT @NHLBruins: Pike Place, Pearl Jam, Tom Hanks, and that \"building thing\"\n",
      "\n",
      "The boys kind of know a thing or two about Seattle...\n",
      "\n",
      "#NHLBrui…\n",
      "{'retweet_count': 15, 'reply_count': 0, 'like_count': 0, 'quote_count': 0}\n",
      "\n",
      "RT @NHLBruins: Pike Place, Pearl Jam, Tom Hanks, and that \"building thing\"\n",
      "\n",
      "The boys kind of know a thing or two about Seattle...\n",
      "\n",
      "#NHLBrui…\n",
      "{'retweet_count': 15, 'reply_count': 0, 'like_count': 0, 'quote_count': 0}\n",
      "\n",
      "RT @FJAthletics: Your Crusader Bowling team advances to the CHIP with a narrow victory over LaSalle. Championship will take place on Saturd…\n",
      "{'retweet_count': 7, 'reply_count': 0, 'like_count': 0, 'quote_count': 0}\n",
      "\n",
      "@IronGavel @moose57579 @BrandiKruse @pike_place https://t.co/a2vOmYaYbw\n",
      "{'retweet_count': 0, 'reply_count': 0, 'like_count': 0, 'quote_count': 0}\n",
      "\n",
      "@IronGavel @moose57579 @BrandiKruse @pike_place Mmmmmm Seattle..... makes me want to come visit. https://t.co/9pQUbTurDl\n",
      "{'retweet_count': 0, 'reply_count': 0, 'like_count': 0, 'quote_count': 0}\n",
      "\n",
      "RT @publicwritesea: Spot #54: tables off Western Ave in Pike Place Market. View of the Great Wheel and the Olympics, lots of sun (if it’s o…\n",
      "{'retweet_count': 1, 'reply_count': 0, 'like_count': 0, 'quote_count': 0}\n",
      "\n",
      "RT @NHLBruins: Pike Place, Pearl Jam, Tom Hanks, and that \"building thing\"\n",
      "\n",
      "The boys kind of know a thing or two about Seattle...\n",
      "\n",
      "#NHLBrui…\n",
      "{'retweet_count': 15, 'reply_count': 0, 'like_count': 0, 'quote_count': 0}\n",
      "\n",
      "RT @FJAthletics: Your Crusader Bowling team advances to the CHIP with a narrow victory over LaSalle. Championship will take place on Saturd…\n",
      "{'retweet_count': 7, 'reply_count': 0, 'like_count': 0, 'quote_count': 0}\n",
      "\n",
      "Spot #54: tables off Western Ave in Pike Place Market. View of the Great Wheel and the Olympics, lots of sun (if it’s out!). #seattle #WritingCommunity #writing #publicspace #writers #pikeplacemarket https://t.co/yntGinTmq1\n",
      "{'retweet_count': 1, 'reply_count': 1, 'like_count': 3, 'quote_count': 0}\n",
      "\n"
     ]
    }
   ],
   "source": [
    "query = \"pike place\"\n",
    "\n",
    "pike_tweets = client.search_recent_tweets(query=query).data\n",
    "#print(weather_tweets)\n",
    "\n",
    "for tweet in pike_tweets:\n",
    "    print(tweet.text)\n",
    "    tweet_id = tweet.id\n",
    "    metrics = get_tweet_metrics(tweet_id)\n",
    "    print(metrics)\n",
    "    print()"
   ]
  },
  {
   "cell_type": "markdown",
   "id": "50dac790-d9b4-4e33-93bd-cbff15901467",
   "metadata": {},
   "source": [
    "#### 5. Write a function that takes in a tweet ID and returns \"trending\" if it has more than 10 replies, ELSE it returns \"stagnant\"."
   ]
  },
  {
   "cell_type": "code",
   "execution_count": 7,
   "id": "f0987bb4-51ba-47f9-8927-4d94a22d05eb",
   "metadata": {},
   "outputs": [],
   "source": [
    "def trend_machine(tweet_ID):\n",
    "    metrics = get_tweet_metrics(tweet_ID)\n",
    "    if metrics['reply_count'] > 10:\n",
    "        return \"trending\"\n",
    "    else:\n",
    "        return \"stagnant\""
   ]
  },
  {
   "cell_type": "markdown",
   "id": "c9904660-2ae4-4a05-a87f-b21ff02a9e15",
   "metadata": {},
   "source": [
    "#### 6. Call the function with a tweet ID of your chioce."
   ]
  },
  {
   "cell_type": "code",
   "execution_count": 8,
   "id": "0891a5bd-0072-43a9-af6b-afc7f8b14a30",
   "metadata": {},
   "outputs": [
    {
     "data": {
      "text/plain": [
       "'trending'"
      ]
     },
     "execution_count": 8,
     "metadata": {},
     "output_type": "execute_result"
    }
   ],
   "source": [
    "tweet_id = 1234\n",
    "trend_machine(tweet_id)"
   ]
  },
  {
   "cell_type": "markdown",
   "id": "2f9b0a6a-4ae5-4080-afeb-723753beb07c",
   "metadata": {},
   "source": [
    "## Practice with recursion"
   ]
  },
  {
   "cell_type": "markdown",
   "id": "02dfb1a7-5f41-474f-9858-0a72dc39ca6e",
   "metadata": {},
   "source": [
    "First we'll create a simplified tweet and reply structure like was demoed in lecture 14, though this time we'll include username information for each tweet."
   ]
  },
  {
   "cell_type": "code",
   "execution_count": 9,
   "id": "61d29299-d3c3-4f54-a14a-3a6199b72880",
   "metadata": {},
   "outputs": [
    {
     "data": {
      "text/plain": [
       "{'text': 'That last exam in sure was hard!',\n",
       " 'username': 'Emma',\n",
       " 'replies': [{'text': 'It sure was hard, what score did you get? ',\n",
       "   'username': 'Fatima',\n",
       "   'replies': [{'text': 'I got a 67% :(', 'username': 'Kwesi', 'replies': []},\n",
       "    {'text': 'I got a 73%', 'username': 'Ying', 'replies': []}]},\n",
       "  {'text': \"I didn't think it was that bad\",\n",
       "   'username': 'Maria',\n",
       "   'replies': [{'text': 'how was that not a super hard exam?',\n",
       "     'username': 'Dmitri',\n",
       "     'replies': []},\n",
       "    {'text': \"of course you didn't\",\n",
       "     'username': 'Emma',\n",
       "     'replies': [{'text': \"what's that supposed to mean?\",\n",
       "       'username': 'Maria',\n",
       "       'replies': [{'text': \"you're an overacheiver\",\n",
       "         'username': 'Emma',\n",
       "         'replies': [{'text': \"and that's bad how?\",\n",
       "           'username': 'Maria',\n",
       "           'replies': []}]}]}]}]}]}"
      ]
     },
     "metadata": {},
     "output_type": "display_data"
    }
   ],
   "source": [
    "# run this code block\n",
    "tweet_about_exam = {\n",
    "    'text': 'That last exam in sure was hard!',\n",
    "    'username': 'Emma',\n",
    "    'replies':[{\n",
    "        'text': 'It sure was hard, what score did you get? ',\n",
    "        'username': 'Fatima',\n",
    "        'replies': [{\n",
    "            'text': 'I got a 67% :(',\n",
    "            'username': 'Kwesi',\n",
    "            'replies': []\n",
    "        },{\n",
    "            'text': 'I got a 73%',\n",
    "            'username': 'Ying',\n",
    "            'replies': []\n",
    "        }]\n",
    "    }, {\n",
    "        'text': 'I didn\\'t think it was that bad',\n",
    "        'username': 'Maria',\n",
    "        'replies': [{\n",
    "            'text': 'how was that not a super hard exam?',\n",
    "            'username': 'Dmitri',\n",
    "            'replies': []\n",
    "        }, {\n",
    "            'text': 'of course you didn\\'t',\n",
    "            'username': 'Emma',\n",
    "            'replies': [{\n",
    "                'text': 'what\\'s that supposed to mean?',\n",
    "                'username': 'Maria',\n",
    "                'replies': [{\n",
    "                    'text': 'you\\'re an overacheiver',\n",
    "                    'username': 'Emma',\n",
    "                    'replies': [{\n",
    "                        'text': 'and that\\'s bad how?',\n",
    "                        'username': 'Maria',\n",
    "                        'replies': []\n",
    "                    }]\n",
    "                }]\n",
    "            }]\n",
    "        }]\n",
    "    }]\n",
    "}\n",
    "\n",
    "display(tweet_about_exam)"
   ]
  },
  {
   "cell_type": "markdown",
   "id": "087a1fa4-7e57-4b2d-acf4-84e1a537ca48",
   "metadata": {},
   "source": [
    "### This is the code form lecture 14 to print tweets and replies"
   ]
  },
  {
   "cell_type": "code",
   "execution_count": 10,
   "id": "278f906e-9abe-4aae-8e11-b85a3d9d82c0",
   "metadata": {},
   "outputs": [
    {
     "name": "stdout",
     "output_type": "stream",
     "text": [
      "-That last exam in sure was hard!\n",
      "   -It sure was hard, what score did you get? \n",
      "      -I got a 67% :(\n",
      "      -I got a 73%\n",
      "   -I didn't think it was that bad\n",
      "      -how was that not a super hard exam?\n",
      "      -of course you didn't\n",
      "         -what's that supposed to mean?\n",
      "            -you're an overacheiver\n",
      "               -and that's bad how?\n"
     ]
    }
   ],
   "source": [
    "# try running this code block\n",
    "def print_tweet_and_replies(tweet, num_indents=0):\n",
    "    # print indent first\n",
    "    for i in range(num_indents):\n",
    "        print('   ', end='')\n",
    "        \n",
    "    # print tweet\n",
    "    print('-' + tweet['text'])\n",
    "    \n",
    "    #print replies (and the replies of those, etc.)\n",
    "    for reply in tweet['replies']:\n",
    "        print_tweet_and_replies(reply, num_indents = num_indents + 1)\n",
    "\n",
    "print_tweet_and_replies(tweet_about_exam)"
   ]
  },
  {
   "cell_type": "markdown",
   "id": "c3f231cc-e7fc-412c-8eb7-6798aec9671d",
   "metadata": {
    "tags": []
   },
   "source": [
    "### 7. Your turn: Make a copy of the code above and modify it so it also prints out the username of who made the tweet. Your output should have this exact structure:\n",
    "\n",
    "```\n",
    "\"That last exam in sure was hard!\"\n",
    "        -Emma\n",
    "   \"It sure was hard, what score did you get?\"\n",
    "           -Fatima\n",
    "   ...\n",
    "```"
   ]
  },
  {
   "cell_type": "code",
   "execution_count": 11,
   "id": "fd9775ae-ed09-4371-8b28-bf4b43d66a16",
   "metadata": {},
   "outputs": [
    {
     "name": "stdout",
     "output_type": "stream",
     "text": [
      "\"That last exam in sure was hard!\"\n",
      "        -Emma\n",
      "   \"It sure was hard, what score did you get? \"\n",
      "           -Fatima\n",
      "      \"I got a 67% :(\"\n",
      "              -Kwesi\n",
      "      \"I got a 73%\"\n",
      "              -Ying\n",
      "   \"I didn't think it was that bad\"\n",
      "           -Maria\n",
      "      \"how was that not a super hard exam?\"\n",
      "              -Dmitri\n",
      "      \"of course you didn't\"\n",
      "              -Emma\n",
      "         \"what's that supposed to mean?\"\n",
      "                 -Maria\n",
      "            \"you're an overacheiver\"\n",
      "                    -Emma\n",
      "               \"and that's bad how?\"\n",
      "                       -Maria\n"
     ]
    }
   ],
   "source": [
    "def print_tweet_and_replies(tweet, num_indents=0):\n",
    "    # print indent first\n",
    "    for i in range(num_indents):\n",
    "        print('   ', end='')\n",
    "        \n",
    "    # print tweet\n",
    "    print('\"' + tweet['text'] + '\"')\n",
    "    \n",
    "    # print indent before usernmae\n",
    "    for i in range(num_indents):\n",
    "        print('   ', end='')\n",
    "    \n",
    "    #print useraname\n",
    "    print('        -' + tweet['username'])\n",
    "    \n",
    "    #print replies (and the replies of those, etc.)\n",
    "    for reply in tweet['replies']:\n",
    "        print_tweet_and_replies(reply, num_indents = num_indents + 1)\n",
    "\n",
    "print_tweet_and_replies(tweet_about_exam)"
   ]
  },
  {
   "cell_type": "markdown",
   "id": "12032a18-e1d3-4cd8-a712-dbdb94876272",
   "metadata": {},
   "source": [
    "#### 8. Now, make a copy of your code from the previous question and modify it to only print out the tweet / username only if the length of the tweet is greater than 25."
   ]
  },
  {
   "cell_type": "code",
   "execution_count": 12,
   "id": "efb3b561-5d19-4dac-879e-077b3d71e909",
   "metadata": {},
   "outputs": [
    {
     "name": "stdout",
     "output_type": "stream",
     "text": [
      "\"That last exam in sure was hard!\"\n",
      "        -Emma\n",
      "   \"It sure was hard, what score did you get? \"\n",
      "           -Fatima\n",
      "   \"I didn't think it was that bad\"\n",
      "           -Maria\n",
      "      \"how was that not a super hard exam?\"\n",
      "              -Dmitri\n"
     ]
    }
   ],
   "source": [
    "def print_tweet_and_replies(tweet, num_indents=0):\n",
    "    length = len(tweet['text'])\n",
    "    \n",
    "    if length > 25:\n",
    "        # print indent first\n",
    "        for i in range(num_indents):\n",
    "            print('   ', end='')\n",
    "\n",
    "        # print tweet\n",
    "        print('\"' + tweet['text'] + '\"')\n",
    "\n",
    "        # print indent before usernmae\n",
    "        for i in range(num_indents):\n",
    "            print('   ', end='')\n",
    "\n",
    "        #print useraname\n",
    "        print('        -' + tweet['username'])\n",
    "\n",
    "        #print replies (and the replies of those, etc.)\n",
    "        for reply in tweet['replies']:\n",
    "            print_tweet_and_replies(reply, num_indents = num_indents + 1)\n",
    "\n",
    "print_tweet_and_replies(tweet_about_exam)"
   ]
  }
 ],
 "metadata": {
  "kernelspec": {
   "display_name": "Python 3 (ipykernel)",
   "language": "python",
   "name": "python3"
  },
  "language_info": {
   "codemirror_mode": {
    "name": "ipython",
    "version": 3
   },
   "file_extension": ".py",
   "mimetype": "text/x-python",
   "name": "python",
   "nbconvert_exporter": "python",
   "pygments_lexer": "ipython3",
   "version": "3.9.7"
  }
 },
 "nbformat": 4,
 "nbformat_minor": 5
}
